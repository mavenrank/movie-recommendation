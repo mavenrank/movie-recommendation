{
 "cells": [
  {
   "cell_type": "markdown",
   "metadata": {
    "id": "qgTgOi0_27Pj"
   },
   "source": [
    "# Linking drive"
   ]
  },
  {
   "cell_type": "code",
   "execution_count": 210,
   "metadata": {
    "colab": {
     "base_uri": "https://localhost:8080/"
    },
    "id": "1kET9QHA20cj",
    "outputId": "2e8a27c8-b567-4431-ddd2-46f6bf8f3bdd"
   },
   "outputs": [],
   "source": [
    "# from google.colab import drive\n",
    "# drive.mount('/content/drive')"
   ]
  },
  {
   "cell_type": "markdown",
   "metadata": {
    "id": "IZFKDpoK3NrT"
   },
   "source": [
    "# imports"
   ]
  },
  {
   "cell_type": "code",
   "execution_count": 211,
   "metadata": {
    "id": "hk-XS5pS4Lh4"
   },
   "outputs": [],
   "source": [
    "import numpy as np\n",
    "# import seaborn as sns\n",
    "import matplotlib.pyplot as plt\n",
    "import pandas as pd\n",
    "import os"
   ]
  },
  {
   "cell_type": "code",
   "execution_count": 212,
   "metadata": {},
   "outputs": [
    {
     "name": "stdout",
     "output_type": "stream",
     "text": [
      "C:\\Users\\anant\\GitHub\\movie-recommendation\\venv\\Scripts\\python.exe\n"
     ]
    }
   ],
   "source": [
    "import sys\n",
    "print(sys.executable)\n"
   ]
  },
  {
   "cell_type": "markdown",
   "metadata": {
    "id": "vPAZV5n53Zu6"
   },
   "source": [
    "# Loading the dataset"
   ]
  },
  {
   "cell_type": "code",
   "execution_count": 213,
   "metadata": {
    "colab": {
     "base_uri": "https://localhost:8080/"
    },
    "id": "HBLJ91B23cvm",
    "outputId": "6f9a9ae7-cd76-481e-d3ff-89bafb800029"
   },
   "outputs": [
    {
     "name": "stderr",
     "output_type": "stream",
     "text": [
      "C:\\Users\\anant\\AppData\\Local\\Temp\\ipykernel_24364\\1290661711.py:2: DtypeWarning: Columns (10) have mixed types. Specify dtype option on import or set low_memory=False.\n",
      "  movies = pd.read_csv('C:/Users/anant/Downloads/movie-recommendation/movies_metadata.csv')\n"
     ]
    }
   ],
   "source": [
    "ratings = pd.read_csv('C:/Users/anant/Downloads/movie-recommendation/ratings.csv')\n",
    "movies = pd.read_csv('C:/Users/anant/Downloads/movie-recommendation/movies_metadata.csv')\n",
    "keywords = pd.read_csv('C:/Users/anant/Downloads/movie-recommendation/keywords.csv')\n",
    "credits = pd.read_csv('C:/Users/anant/Downloads/movie-recommendation/credits.csv')"
   ]
  },
  {
   "cell_type": "code",
   "execution_count": 214,
   "metadata": {
    "id": "JqhRn-VysccK"
   },
   "outputs": [],
   "source": [
    "# ratings = ratings.head(100000)\n",
    "# movies = movies.head(100000)\n",
    "# keywords = keywords.head(100000)\n",
    "# credits = credits.head(100000)"
   ]
  },
  {
   "cell_type": "markdown",
   "metadata": {
    "id": "xUQWE4QA4ZUt"
   },
   "source": [
    "# EDA"
   ]
  },
  {
   "cell_type": "markdown",
   "metadata": {
    "id": "6hVsty_24kBk"
   },
   "source": [
    "## ratings"
   ]
  },
  {
   "cell_type": "code",
   "execution_count": 215,
   "metadata": {
    "colab": {
     "base_uri": "https://localhost:8080/",
     "height": 0
    },
    "id": "QB-4UfQP4ben",
    "outputId": "fe401275-bb94-4bdb-8ef4-8e5331306ff4"
   },
   "outputs": [
    {
     "data": {
      "text/html": [
       "<div>\n",
       "<style scoped>\n",
       "    .dataframe tbody tr th:only-of-type {\n",
       "        vertical-align: middle;\n",
       "    }\n",
       "\n",
       "    .dataframe tbody tr th {\n",
       "        vertical-align: top;\n",
       "    }\n",
       "\n",
       "    .dataframe thead th {\n",
       "        text-align: right;\n",
       "    }\n",
       "</style>\n",
       "<table border=\"1\" class=\"dataframe\">\n",
       "  <thead>\n",
       "    <tr style=\"text-align: right;\">\n",
       "      <th></th>\n",
       "      <th>userId</th>\n",
       "      <th>movieId</th>\n",
       "      <th>rating</th>\n",
       "      <th>timestamp</th>\n",
       "    </tr>\n",
       "  </thead>\n",
       "  <tbody>\n",
       "    <tr>\n",
       "      <th>0</th>\n",
       "      <td>1</td>\n",
       "      <td>110</td>\n",
       "      <td>1.0</td>\n",
       "      <td>1425941529</td>\n",
       "    </tr>\n",
       "    <tr>\n",
       "      <th>1</th>\n",
       "      <td>1</td>\n",
       "      <td>147</td>\n",
       "      <td>4.5</td>\n",
       "      <td>1425942435</td>\n",
       "    </tr>\n",
       "    <tr>\n",
       "      <th>2</th>\n",
       "      <td>1</td>\n",
       "      <td>858</td>\n",
       "      <td>5.0</td>\n",
       "      <td>1425941523</td>\n",
       "    </tr>\n",
       "    <tr>\n",
       "      <th>3</th>\n",
       "      <td>1</td>\n",
       "      <td>1221</td>\n",
       "      <td>5.0</td>\n",
       "      <td>1425941546</td>\n",
       "    </tr>\n",
       "    <tr>\n",
       "      <th>4</th>\n",
       "      <td>1</td>\n",
       "      <td>1246</td>\n",
       "      <td>5.0</td>\n",
       "      <td>1425941556</td>\n",
       "    </tr>\n",
       "    <tr>\n",
       "      <th>5</th>\n",
       "      <td>1</td>\n",
       "      <td>1968</td>\n",
       "      <td>4.0</td>\n",
       "      <td>1425942148</td>\n",
       "    </tr>\n",
       "    <tr>\n",
       "      <th>6</th>\n",
       "      <td>1</td>\n",
       "      <td>2762</td>\n",
       "      <td>4.5</td>\n",
       "      <td>1425941300</td>\n",
       "    </tr>\n",
       "    <tr>\n",
       "      <th>7</th>\n",
       "      <td>1</td>\n",
       "      <td>2918</td>\n",
       "      <td>5.0</td>\n",
       "      <td>1425941593</td>\n",
       "    </tr>\n",
       "    <tr>\n",
       "      <th>8</th>\n",
       "      <td>1</td>\n",
       "      <td>2959</td>\n",
       "      <td>4.0</td>\n",
       "      <td>1425941601</td>\n",
       "    </tr>\n",
       "    <tr>\n",
       "      <th>9</th>\n",
       "      <td>1</td>\n",
       "      <td>4226</td>\n",
       "      <td>4.0</td>\n",
       "      <td>1425942228</td>\n",
       "    </tr>\n",
       "  </tbody>\n",
       "</table>\n",
       "</div>"
      ],
      "text/plain": [
       "   userId  movieId  rating   timestamp\n",
       "0       1      110     1.0  1425941529\n",
       "1       1      147     4.5  1425942435\n",
       "2       1      858     5.0  1425941523\n",
       "3       1     1221     5.0  1425941546\n",
       "4       1     1246     5.0  1425941556\n",
       "5       1     1968     4.0  1425942148\n",
       "6       1     2762     4.5  1425941300\n",
       "7       1     2918     5.0  1425941593\n",
       "8       1     2959     4.0  1425941601\n",
       "9       1     4226     4.0  1425942228"
      ]
     },
     "execution_count": 215,
     "metadata": {},
     "output_type": "execute_result"
    }
   ],
   "source": [
    "ratings.head(10)"
   ]
  },
  {
   "cell_type": "code",
   "execution_count": 216,
   "metadata": {
    "colab": {
     "base_uri": "https://localhost:8080/"
    },
    "id": "0AFEH8CA4doc",
    "outputId": "5b597403-025e-4cf0-86b7-19b2f0ae5de8"
   },
   "outputs": [
    {
     "name": "stdout",
     "output_type": "stream",
     "text": [
      "<class 'pandas.core.frame.DataFrame'>\n",
      "RangeIndex: 26024289 entries, 0 to 26024288\n",
      "Data columns (total 4 columns):\n",
      " #   Column     Dtype  \n",
      "---  ------     -----  \n",
      " 0   userId     int64  \n",
      " 1   movieId    int64  \n",
      " 2   rating     float64\n",
      " 3   timestamp  int64  \n",
      "dtypes: float64(1), int64(3)\n",
      "memory usage: 794.2 MB\n"
     ]
    }
   ],
   "source": [
    "ratings.info()"
   ]
  },
  {
   "cell_type": "markdown",
   "metadata": {
    "id": "SyXF_VUy2HFr"
   },
   "source": [
    "### Checking for null values in ratings"
   ]
  },
  {
   "cell_type": "code",
   "execution_count": 217,
   "metadata": {
    "colab": {
     "base_uri": "https://localhost:8080/"
    },
    "id": "A2rsZNCM2Kp3",
    "outputId": "93988a81-a77f-4090-ee6c-8ffa7b9e628d"
   },
   "outputs": [
    {
     "name": "stdout",
     "output_type": "stream",
     "text": [
      "userId False\n",
      "movieId False\n",
      "rating False\n",
      "timestamp False\n"
     ]
    }
   ],
   "source": [
    "for i in ratings.columns:\n",
    "  print(i, ratings[i].isnull().any())"
   ]
  },
  {
   "cell_type": "markdown",
   "metadata": {
    "id": "9ZXUpecI2ShC"
   },
   "source": [
    "### checking for duplicate values"
   ]
  },
  {
   "cell_type": "code",
   "execution_count": 218,
   "metadata": {
    "colab": {
     "base_uri": "https://localhost:8080/",
     "height": 0
    },
    "id": "ZQ43Ny7p2V9W",
    "outputId": "80d34469-513c-4fdc-ab1c-2b7234441233"
   },
   "outputs": [
    {
     "data": {
      "text/plain": [
       "userId       0\n",
       "movieId      0\n",
       "rating       0\n",
       "timestamp    0\n",
       "dtype: int64"
      ]
     },
     "execution_count": 218,
     "metadata": {},
     "output_type": "execute_result"
    }
   ],
   "source": [
    "ratings[ratings.duplicated(subset = ['userId', \"movieId\"])].count()"
   ]
  },
  {
   "cell_type": "markdown",
   "metadata": {
    "id": "wxoFXXNbaMiY"
   },
   "source": [
    "## Removing users who have rated less than 50 movies"
   ]
  },
  {
   "cell_type": "code",
   "execution_count": 219,
   "metadata": {},
   "outputs": [
    {
     "data": {
      "text/plain": [
       "270896"
      ]
     },
     "execution_count": 219,
     "metadata": {},
     "output_type": "execute_result"
    }
   ],
   "source": [
    "ratings[\"userId\"].nunique()"
   ]
  },
  {
   "cell_type": "code",
   "execution_count": 220,
   "metadata": {
    "id": "uMMPspifaQj7"
   },
   "outputs": [],
   "source": [
    "df = ratings.groupby(\"userId\")[\"movieId\"].count()\n",
    "\n",
    "df = df[df >= 50]\n",
    "ratings = ratings[ratings[\"userId\"].isin(df.index)]\n",
    "ratings.reset_index(drop = True, inplace = True)"
   ]
  },
  {
   "cell_type": "code",
   "execution_count": 221,
   "metadata": {},
   "outputs": [
    {
     "data": {
      "text/plain": [
       "103839"
      ]
     },
     "execution_count": 221,
     "metadata": {},
     "output_type": "execute_result"
    }
   ],
   "source": [
    "ratings[\"userId\"].nunique()"
   ]
  },
  {
   "cell_type": "code",
   "execution_count": 222,
   "metadata": {
    "colab": {
     "base_uri": "https://localhost:8080/",
     "height": 0
    },
    "id": "UaDTBEBvcJtw",
    "outputId": "2a13fcf1-40b3-439d-95df-d138115b3352"
   },
   "outputs": [
    {
     "data": {
      "text/html": [
       "<div>\n",
       "<style scoped>\n",
       "    .dataframe tbody tr th:only-of-type {\n",
       "        vertical-align: middle;\n",
       "    }\n",
       "\n",
       "    .dataframe tbody tr th {\n",
       "        vertical-align: top;\n",
       "    }\n",
       "\n",
       "    .dataframe thead th {\n",
       "        text-align: right;\n",
       "    }\n",
       "</style>\n",
       "<table border=\"1\" class=\"dataframe\">\n",
       "  <thead>\n",
       "    <tr style=\"text-align: right;\">\n",
       "      <th></th>\n",
       "      <th>userId</th>\n",
       "      <th>movieId</th>\n",
       "      <th>rating</th>\n",
       "      <th>timestamp</th>\n",
       "    </tr>\n",
       "  </thead>\n",
       "  <tbody>\n",
       "    <tr>\n",
       "      <th>0</th>\n",
       "      <td>4</td>\n",
       "      <td>223</td>\n",
       "      <td>4.0</td>\n",
       "      <td>1042668576</td>\n",
       "    </tr>\n",
       "    <tr>\n",
       "      <th>1</th>\n",
       "      <td>4</td>\n",
       "      <td>415</td>\n",
       "      <td>4.0</td>\n",
       "      <td>1042667925</td>\n",
       "    </tr>\n",
       "    <tr>\n",
       "      <th>2</th>\n",
       "      <td>4</td>\n",
       "      <td>648</td>\n",
       "      <td>4.0</td>\n",
       "      <td>1042674800</td>\n",
       "    </tr>\n",
       "    <tr>\n",
       "      <th>3</th>\n",
       "      <td>4</td>\n",
       "      <td>1097</td>\n",
       "      <td>5.0</td>\n",
       "      <td>1042667925</td>\n",
       "    </tr>\n",
       "    <tr>\n",
       "      <th>4</th>\n",
       "      <td>4</td>\n",
       "      <td>1197</td>\n",
       "      <td>4.0</td>\n",
       "      <td>1042667956</td>\n",
       "    </tr>\n",
       "  </tbody>\n",
       "</table>\n",
       "</div>"
      ],
      "text/plain": [
       "   userId  movieId  rating   timestamp\n",
       "0       4      223     4.0  1042668576\n",
       "1       4      415     4.0  1042667925\n",
       "2       4      648     4.0  1042674800\n",
       "3       4     1097     5.0  1042667925\n",
       "4       4     1197     4.0  1042667956"
      ]
     },
     "execution_count": 222,
     "metadata": {},
     "output_type": "execute_result"
    }
   ],
   "source": [
    "ratings.head()"
   ]
  },
  {
   "cell_type": "markdown",
   "metadata": {
    "id": "Nc8EIXSYcRkW"
   },
   "source": [
    "## Droping movies which have been rated by less than 200 users"
   ]
  },
  {
   "cell_type": "code",
   "execution_count": 223,
   "metadata": {},
   "outputs": [
    {
     "data": {
      "text/plain": [
       "44853"
      ]
     },
     "execution_count": 223,
     "metadata": {},
     "output_type": "execute_result"
    }
   ],
   "source": [
    "ratings[\"movieId\"].nunique()"
   ]
  },
  {
   "cell_type": "code",
   "execution_count": 224,
   "metadata": {
    "id": "sZda5uNFcXF1"
   },
   "outputs": [],
   "source": [
    "# df = ratings.groupby(\"movieId\")[\"userId\"].count()\n",
    "# df = df[df >= 50]\n",
    "# ratings = ratings[ratings[\"movieId\"].isin(df.index)]\n",
    "# ratings.reset_index(drop = True, inplace = True)"
   ]
  },
  {
   "cell_type": "code",
   "execution_count": 225,
   "metadata": {},
   "outputs": [
    {
     "data": {
      "text/plain": [
       "44853"
      ]
     },
     "execution_count": 225,
     "metadata": {},
     "output_type": "execute_result"
    }
   ],
   "source": [
    "ratings[\"movieId\"].nunique()"
   ]
  },
  {
   "cell_type": "code",
   "execution_count": 276,
   "metadata": {
    "colab": {
     "base_uri": "https://localhost:8080/",
     "height": 0
    },
    "id": "PHcTzgBbcsGt",
    "outputId": "4e28f81b-45ef-4c6d-a804-63522ffca409"
   },
   "outputs": [
    {
     "data": {
      "text/html": [
       "<div>\n",
       "<style scoped>\n",
       "    .dataframe tbody tr th:only-of-type {\n",
       "        vertical-align: middle;\n",
       "    }\n",
       "\n",
       "    .dataframe tbody tr th {\n",
       "        vertical-align: top;\n",
       "    }\n",
       "\n",
       "    .dataframe thead th {\n",
       "        text-align: right;\n",
       "    }\n",
       "</style>\n",
       "<table border=\"1\" class=\"dataframe\">\n",
       "  <thead>\n",
       "    <tr style=\"text-align: right;\">\n",
       "      <th></th>\n",
       "      <th>userId</th>\n",
       "      <th>movieId</th>\n",
       "      <th>rating</th>\n",
       "      <th>timestamp</th>\n",
       "    </tr>\n",
       "  </thead>\n",
       "  <tbody>\n",
       "    <tr>\n",
       "      <th>163898</th>\n",
       "      <td>1923</td>\n",
       "      <td>862</td>\n",
       "      <td>3.0</td>\n",
       "      <td>858335006</td>\n",
       "    </tr>\n",
       "    <tr>\n",
       "      <th>177960</th>\n",
       "      <td>2103</td>\n",
       "      <td>862</td>\n",
       "      <td>5.0</td>\n",
       "      <td>946044912</td>\n",
       "    </tr>\n",
       "    <tr>\n",
       "      <th>464865</th>\n",
       "      <td>5380</td>\n",
       "      <td>862</td>\n",
       "      <td>1.0</td>\n",
       "      <td>878941641</td>\n",
       "    </tr>\n",
       "    <tr>\n",
       "      <th>542480</th>\n",
       "      <td>6177</td>\n",
       "      <td>862</td>\n",
       "      <td>4.0</td>\n",
       "      <td>859415226</td>\n",
       "    </tr>\n",
       "    <tr>\n",
       "      <th>571603</th>\n",
       "      <td>6525</td>\n",
       "      <td>862</td>\n",
       "      <td>4.0</td>\n",
       "      <td>857388995</td>\n",
       "    </tr>\n",
       "    <tr>\n",
       "      <th>...</th>\n",
       "      <td>...</td>\n",
       "      <td>...</td>\n",
       "      <td>...</td>\n",
       "      <td>...</td>\n",
       "    </tr>\n",
       "    <tr>\n",
       "      <th>22674274</th>\n",
       "      <td>268336</td>\n",
       "      <td>862</td>\n",
       "      <td>4.0</td>\n",
       "      <td>955427492</td>\n",
       "    </tr>\n",
       "    <tr>\n",
       "      <th>22683646</th>\n",
       "      <td>268391</td>\n",
       "      <td>862</td>\n",
       "      <td>3.0</td>\n",
       "      <td>856529977</td>\n",
       "    </tr>\n",
       "    <tr>\n",
       "      <th>22697945</th>\n",
       "      <td>268568</td>\n",
       "      <td>862</td>\n",
       "      <td>2.0</td>\n",
       "      <td>943826734</td>\n",
       "    </tr>\n",
       "    <tr>\n",
       "      <th>22840490</th>\n",
       "      <td>270422</td>\n",
       "      <td>862</td>\n",
       "      <td>4.0</td>\n",
       "      <td>941664133</td>\n",
       "    </tr>\n",
       "    <tr>\n",
       "      <th>22858998</th>\n",
       "      <td>270654</td>\n",
       "      <td>862</td>\n",
       "      <td>4.0</td>\n",
       "      <td>976204090</td>\n",
       "    </tr>\n",
       "  </tbody>\n",
       "</table>\n",
       "<p>349 rows × 4 columns</p>\n",
       "</div>"
      ],
      "text/plain": [
       "          userId  movieId  rating  timestamp\n",
       "163898      1923      862     3.0  858335006\n",
       "177960      2103      862     5.0  946044912\n",
       "464865      5380      862     1.0  878941641\n",
       "542480      6177      862     4.0  859415226\n",
       "571603      6525      862     4.0  857388995\n",
       "...          ...      ...     ...        ...\n",
       "22674274  268336      862     4.0  955427492\n",
       "22683646  268391      862     3.0  856529977\n",
       "22697945  268568      862     2.0  943826734\n",
       "22840490  270422      862     4.0  941664133\n",
       "22858998  270654      862     4.0  976204090\n",
       "\n",
       "[349 rows x 4 columns]"
      ]
     },
     "execution_count": 276,
     "metadata": {},
     "output_type": "execute_result"
    }
   ],
   "source": [
    "ratings[ratings[\"movieId\"]==862]"
   ]
  },
  {
   "cell_type": "markdown",
   "metadata": {
    "id": "ID5ZbuBr4lRF"
   },
   "source": [
    "## movies"
   ]
  },
  {
   "cell_type": "code",
   "execution_count": 227,
   "metadata": {
    "colab": {
     "base_uri": "https://localhost:8080/",
     "height": 0
    },
    "id": "hCvIfEtm4nIC",
    "outputId": "846406e9-eaf0-4521-fa3f-9aae8b3ccfed",
    "scrolled": true
   },
   "outputs": [
    {
     "data": {
      "text/html": [
       "<div>\n",
       "<style scoped>\n",
       "    .dataframe tbody tr th:only-of-type {\n",
       "        vertical-align: middle;\n",
       "    }\n",
       "\n",
       "    .dataframe tbody tr th {\n",
       "        vertical-align: top;\n",
       "    }\n",
       "\n",
       "    .dataframe thead th {\n",
       "        text-align: right;\n",
       "    }\n",
       "</style>\n",
       "<table border=\"1\" class=\"dataframe\">\n",
       "  <thead>\n",
       "    <tr style=\"text-align: right;\">\n",
       "      <th></th>\n",
       "      <th>adult</th>\n",
       "      <th>belongs_to_collection</th>\n",
       "      <th>budget</th>\n",
       "      <th>genres</th>\n",
       "      <th>homepage</th>\n",
       "      <th>id</th>\n",
       "      <th>imdb_id</th>\n",
       "      <th>original_language</th>\n",
       "      <th>original_title</th>\n",
       "      <th>overview</th>\n",
       "      <th>...</th>\n",
       "      <th>release_date</th>\n",
       "      <th>revenue</th>\n",
       "      <th>runtime</th>\n",
       "      <th>spoken_languages</th>\n",
       "      <th>status</th>\n",
       "      <th>tagline</th>\n",
       "      <th>title</th>\n",
       "      <th>video</th>\n",
       "      <th>vote_average</th>\n",
       "      <th>vote_count</th>\n",
       "    </tr>\n",
       "  </thead>\n",
       "  <tbody>\n",
       "    <tr>\n",
       "      <th>0</th>\n",
       "      <td>False</td>\n",
       "      <td>{'id': 10194, 'name': 'Toy Story Collection', ...</td>\n",
       "      <td>30000000</td>\n",
       "      <td>[{'id': 16, 'name': 'Animation'}, {'id': 35, '...</td>\n",
       "      <td>http://toystory.disney.com/toy-story</td>\n",
       "      <td>862</td>\n",
       "      <td>tt0114709</td>\n",
       "      <td>en</td>\n",
       "      <td>Toy Story</td>\n",
       "      <td>Led by Woody, Andy's toys live happily in his ...</td>\n",
       "      <td>...</td>\n",
       "      <td>1995-10-30</td>\n",
       "      <td>373554033.0</td>\n",
       "      <td>81.0</td>\n",
       "      <td>[{'iso_639_1': 'en', 'name': 'English'}]</td>\n",
       "      <td>Released</td>\n",
       "      <td>NaN</td>\n",
       "      <td>Toy Story</td>\n",
       "      <td>False</td>\n",
       "      <td>7.7</td>\n",
       "      <td>5415.0</td>\n",
       "    </tr>\n",
       "    <tr>\n",
       "      <th>1</th>\n",
       "      <td>False</td>\n",
       "      <td>NaN</td>\n",
       "      <td>65000000</td>\n",
       "      <td>[{'id': 12, 'name': 'Adventure'}, {'id': 14, '...</td>\n",
       "      <td>NaN</td>\n",
       "      <td>8844</td>\n",
       "      <td>tt0113497</td>\n",
       "      <td>en</td>\n",
       "      <td>Jumanji</td>\n",
       "      <td>When siblings Judy and Peter discover an encha...</td>\n",
       "      <td>...</td>\n",
       "      <td>1995-12-15</td>\n",
       "      <td>262797249.0</td>\n",
       "      <td>104.0</td>\n",
       "      <td>[{'iso_639_1': 'en', 'name': 'English'}, {'iso...</td>\n",
       "      <td>Released</td>\n",
       "      <td>Roll the dice and unleash the excitement!</td>\n",
       "      <td>Jumanji</td>\n",
       "      <td>False</td>\n",
       "      <td>6.9</td>\n",
       "      <td>2413.0</td>\n",
       "    </tr>\n",
       "    <tr>\n",
       "      <th>2</th>\n",
       "      <td>False</td>\n",
       "      <td>{'id': 119050, 'name': 'Grumpy Old Men Collect...</td>\n",
       "      <td>0</td>\n",
       "      <td>[{'id': 10749, 'name': 'Romance'}, {'id': 35, ...</td>\n",
       "      <td>NaN</td>\n",
       "      <td>15602</td>\n",
       "      <td>tt0113228</td>\n",
       "      <td>en</td>\n",
       "      <td>Grumpier Old Men</td>\n",
       "      <td>A family wedding reignites the ancient feud be...</td>\n",
       "      <td>...</td>\n",
       "      <td>1995-12-22</td>\n",
       "      <td>0.0</td>\n",
       "      <td>101.0</td>\n",
       "      <td>[{'iso_639_1': 'en', 'name': 'English'}]</td>\n",
       "      <td>Released</td>\n",
       "      <td>Still Yelling. Still Fighting. Still Ready for...</td>\n",
       "      <td>Grumpier Old Men</td>\n",
       "      <td>False</td>\n",
       "      <td>6.5</td>\n",
       "      <td>92.0</td>\n",
       "    </tr>\n",
       "    <tr>\n",
       "      <th>3</th>\n",
       "      <td>False</td>\n",
       "      <td>NaN</td>\n",
       "      <td>16000000</td>\n",
       "      <td>[{'id': 35, 'name': 'Comedy'}, {'id': 18, 'nam...</td>\n",
       "      <td>NaN</td>\n",
       "      <td>31357</td>\n",
       "      <td>tt0114885</td>\n",
       "      <td>en</td>\n",
       "      <td>Waiting to Exhale</td>\n",
       "      <td>Cheated on, mistreated and stepped on, the wom...</td>\n",
       "      <td>...</td>\n",
       "      <td>1995-12-22</td>\n",
       "      <td>81452156.0</td>\n",
       "      <td>127.0</td>\n",
       "      <td>[{'iso_639_1': 'en', 'name': 'English'}]</td>\n",
       "      <td>Released</td>\n",
       "      <td>Friends are the people who let you be yourself...</td>\n",
       "      <td>Waiting to Exhale</td>\n",
       "      <td>False</td>\n",
       "      <td>6.1</td>\n",
       "      <td>34.0</td>\n",
       "    </tr>\n",
       "    <tr>\n",
       "      <th>4</th>\n",
       "      <td>False</td>\n",
       "      <td>{'id': 96871, 'name': 'Father of the Bride Col...</td>\n",
       "      <td>0</td>\n",
       "      <td>[{'id': 35, 'name': 'Comedy'}]</td>\n",
       "      <td>NaN</td>\n",
       "      <td>11862</td>\n",
       "      <td>tt0113041</td>\n",
       "      <td>en</td>\n",
       "      <td>Father of the Bride Part II</td>\n",
       "      <td>Just when George Banks has recovered from his ...</td>\n",
       "      <td>...</td>\n",
       "      <td>1995-02-10</td>\n",
       "      <td>76578911.0</td>\n",
       "      <td>106.0</td>\n",
       "      <td>[{'iso_639_1': 'en', 'name': 'English'}]</td>\n",
       "      <td>Released</td>\n",
       "      <td>Just When His World Is Back To Normal... He's ...</td>\n",
       "      <td>Father of the Bride Part II</td>\n",
       "      <td>False</td>\n",
       "      <td>5.7</td>\n",
       "      <td>173.0</td>\n",
       "    </tr>\n",
       "    <tr>\n",
       "      <th>5</th>\n",
       "      <td>False</td>\n",
       "      <td>NaN</td>\n",
       "      <td>60000000</td>\n",
       "      <td>[{'id': 28, 'name': 'Action'}, {'id': 80, 'nam...</td>\n",
       "      <td>NaN</td>\n",
       "      <td>949</td>\n",
       "      <td>tt0113277</td>\n",
       "      <td>en</td>\n",
       "      <td>Heat</td>\n",
       "      <td>Obsessive master thief, Neil McCauley leads a ...</td>\n",
       "      <td>...</td>\n",
       "      <td>1995-12-15</td>\n",
       "      <td>187436818.0</td>\n",
       "      <td>170.0</td>\n",
       "      <td>[{'iso_639_1': 'en', 'name': 'English'}, {'iso...</td>\n",
       "      <td>Released</td>\n",
       "      <td>A Los Angeles Crime Saga</td>\n",
       "      <td>Heat</td>\n",
       "      <td>False</td>\n",
       "      <td>7.7</td>\n",
       "      <td>1886.0</td>\n",
       "    </tr>\n",
       "    <tr>\n",
       "      <th>6</th>\n",
       "      <td>False</td>\n",
       "      <td>NaN</td>\n",
       "      <td>58000000</td>\n",
       "      <td>[{'id': 35, 'name': 'Comedy'}, {'id': 10749, '...</td>\n",
       "      <td>NaN</td>\n",
       "      <td>11860</td>\n",
       "      <td>tt0114319</td>\n",
       "      <td>en</td>\n",
       "      <td>Sabrina</td>\n",
       "      <td>An ugly duckling having undergone a remarkable...</td>\n",
       "      <td>...</td>\n",
       "      <td>1995-12-15</td>\n",
       "      <td>0.0</td>\n",
       "      <td>127.0</td>\n",
       "      <td>[{'iso_639_1': 'fr', 'name': 'Français'}, {'is...</td>\n",
       "      <td>Released</td>\n",
       "      <td>You are cordially invited to the most surprisi...</td>\n",
       "      <td>Sabrina</td>\n",
       "      <td>False</td>\n",
       "      <td>6.2</td>\n",
       "      <td>141.0</td>\n",
       "    </tr>\n",
       "    <tr>\n",
       "      <th>7</th>\n",
       "      <td>False</td>\n",
       "      <td>NaN</td>\n",
       "      <td>0</td>\n",
       "      <td>[{'id': 28, 'name': 'Action'}, {'id': 12, 'nam...</td>\n",
       "      <td>NaN</td>\n",
       "      <td>45325</td>\n",
       "      <td>tt0112302</td>\n",
       "      <td>en</td>\n",
       "      <td>Tom and Huck</td>\n",
       "      <td>A mischievous young boy, Tom Sawyer, witnesses...</td>\n",
       "      <td>...</td>\n",
       "      <td>1995-12-22</td>\n",
       "      <td>0.0</td>\n",
       "      <td>97.0</td>\n",
       "      <td>[{'iso_639_1': 'en', 'name': 'English'}, {'iso...</td>\n",
       "      <td>Released</td>\n",
       "      <td>The Original Bad Boys.</td>\n",
       "      <td>Tom and Huck</td>\n",
       "      <td>False</td>\n",
       "      <td>5.4</td>\n",
       "      <td>45.0</td>\n",
       "    </tr>\n",
       "    <tr>\n",
       "      <th>8</th>\n",
       "      <td>False</td>\n",
       "      <td>NaN</td>\n",
       "      <td>35000000</td>\n",
       "      <td>[{'id': 28, 'name': 'Action'}, {'id': 12, 'nam...</td>\n",
       "      <td>NaN</td>\n",
       "      <td>9091</td>\n",
       "      <td>tt0114576</td>\n",
       "      <td>en</td>\n",
       "      <td>Sudden Death</td>\n",
       "      <td>International action superstar Jean Claude Van...</td>\n",
       "      <td>...</td>\n",
       "      <td>1995-12-22</td>\n",
       "      <td>64350171.0</td>\n",
       "      <td>106.0</td>\n",
       "      <td>[{'iso_639_1': 'en', 'name': 'English'}]</td>\n",
       "      <td>Released</td>\n",
       "      <td>Terror goes into overtime.</td>\n",
       "      <td>Sudden Death</td>\n",
       "      <td>False</td>\n",
       "      <td>5.5</td>\n",
       "      <td>174.0</td>\n",
       "    </tr>\n",
       "    <tr>\n",
       "      <th>9</th>\n",
       "      <td>False</td>\n",
       "      <td>{'id': 645, 'name': 'James Bond Collection', '...</td>\n",
       "      <td>58000000</td>\n",
       "      <td>[{'id': 12, 'name': 'Adventure'}, {'id': 28, '...</td>\n",
       "      <td>http://www.mgm.com/view/movie/757/Goldeneye/</td>\n",
       "      <td>710</td>\n",
       "      <td>tt0113189</td>\n",
       "      <td>en</td>\n",
       "      <td>GoldenEye</td>\n",
       "      <td>James Bond must unmask the mysterious head of ...</td>\n",
       "      <td>...</td>\n",
       "      <td>1995-11-16</td>\n",
       "      <td>352194034.0</td>\n",
       "      <td>130.0</td>\n",
       "      <td>[{'iso_639_1': 'en', 'name': 'English'}, {'iso...</td>\n",
       "      <td>Released</td>\n",
       "      <td>No limits. No fears. No substitutes.</td>\n",
       "      <td>GoldenEye</td>\n",
       "      <td>False</td>\n",
       "      <td>6.6</td>\n",
       "      <td>1194.0</td>\n",
       "    </tr>\n",
       "  </tbody>\n",
       "</table>\n",
       "<p>10 rows × 24 columns</p>\n",
       "</div>"
      ],
      "text/plain": [
       "   adult                              belongs_to_collection    budget  \\\n",
       "0  False  {'id': 10194, 'name': 'Toy Story Collection', ...  30000000   \n",
       "1  False                                                NaN  65000000   \n",
       "2  False  {'id': 119050, 'name': 'Grumpy Old Men Collect...         0   \n",
       "3  False                                                NaN  16000000   \n",
       "4  False  {'id': 96871, 'name': 'Father of the Bride Col...         0   \n",
       "5  False                                                NaN  60000000   \n",
       "6  False                                                NaN  58000000   \n",
       "7  False                                                NaN         0   \n",
       "8  False                                                NaN  35000000   \n",
       "9  False  {'id': 645, 'name': 'James Bond Collection', '...  58000000   \n",
       "\n",
       "                                              genres  \\\n",
       "0  [{'id': 16, 'name': 'Animation'}, {'id': 35, '...   \n",
       "1  [{'id': 12, 'name': 'Adventure'}, {'id': 14, '...   \n",
       "2  [{'id': 10749, 'name': 'Romance'}, {'id': 35, ...   \n",
       "3  [{'id': 35, 'name': 'Comedy'}, {'id': 18, 'nam...   \n",
       "4                     [{'id': 35, 'name': 'Comedy'}]   \n",
       "5  [{'id': 28, 'name': 'Action'}, {'id': 80, 'nam...   \n",
       "6  [{'id': 35, 'name': 'Comedy'}, {'id': 10749, '...   \n",
       "7  [{'id': 28, 'name': 'Action'}, {'id': 12, 'nam...   \n",
       "8  [{'id': 28, 'name': 'Action'}, {'id': 12, 'nam...   \n",
       "9  [{'id': 12, 'name': 'Adventure'}, {'id': 28, '...   \n",
       "\n",
       "                                       homepage     id    imdb_id  \\\n",
       "0          http://toystory.disney.com/toy-story    862  tt0114709   \n",
       "1                                           NaN   8844  tt0113497   \n",
       "2                                           NaN  15602  tt0113228   \n",
       "3                                           NaN  31357  tt0114885   \n",
       "4                                           NaN  11862  tt0113041   \n",
       "5                                           NaN    949  tt0113277   \n",
       "6                                           NaN  11860  tt0114319   \n",
       "7                                           NaN  45325  tt0112302   \n",
       "8                                           NaN   9091  tt0114576   \n",
       "9  http://www.mgm.com/view/movie/757/Goldeneye/    710  tt0113189   \n",
       "\n",
       "  original_language               original_title  \\\n",
       "0                en                    Toy Story   \n",
       "1                en                      Jumanji   \n",
       "2                en             Grumpier Old Men   \n",
       "3                en            Waiting to Exhale   \n",
       "4                en  Father of the Bride Part II   \n",
       "5                en                         Heat   \n",
       "6                en                      Sabrina   \n",
       "7                en                 Tom and Huck   \n",
       "8                en                 Sudden Death   \n",
       "9                en                    GoldenEye   \n",
       "\n",
       "                                            overview  ... release_date  \\\n",
       "0  Led by Woody, Andy's toys live happily in his ...  ...   1995-10-30   \n",
       "1  When siblings Judy and Peter discover an encha...  ...   1995-12-15   \n",
       "2  A family wedding reignites the ancient feud be...  ...   1995-12-22   \n",
       "3  Cheated on, mistreated and stepped on, the wom...  ...   1995-12-22   \n",
       "4  Just when George Banks has recovered from his ...  ...   1995-02-10   \n",
       "5  Obsessive master thief, Neil McCauley leads a ...  ...   1995-12-15   \n",
       "6  An ugly duckling having undergone a remarkable...  ...   1995-12-15   \n",
       "7  A mischievous young boy, Tom Sawyer, witnesses...  ...   1995-12-22   \n",
       "8  International action superstar Jean Claude Van...  ...   1995-12-22   \n",
       "9  James Bond must unmask the mysterious head of ...  ...   1995-11-16   \n",
       "\n",
       "       revenue runtime                                   spoken_languages  \\\n",
       "0  373554033.0    81.0           [{'iso_639_1': 'en', 'name': 'English'}]   \n",
       "1  262797249.0   104.0  [{'iso_639_1': 'en', 'name': 'English'}, {'iso...   \n",
       "2          0.0   101.0           [{'iso_639_1': 'en', 'name': 'English'}]   \n",
       "3   81452156.0   127.0           [{'iso_639_1': 'en', 'name': 'English'}]   \n",
       "4   76578911.0   106.0           [{'iso_639_1': 'en', 'name': 'English'}]   \n",
       "5  187436818.0   170.0  [{'iso_639_1': 'en', 'name': 'English'}, {'iso...   \n",
       "6          0.0   127.0  [{'iso_639_1': 'fr', 'name': 'Français'}, {'is...   \n",
       "7          0.0    97.0  [{'iso_639_1': 'en', 'name': 'English'}, {'iso...   \n",
       "8   64350171.0   106.0           [{'iso_639_1': 'en', 'name': 'English'}]   \n",
       "9  352194034.0   130.0  [{'iso_639_1': 'en', 'name': 'English'}, {'iso...   \n",
       "\n",
       "     status                                            tagline  \\\n",
       "0  Released                                                NaN   \n",
       "1  Released          Roll the dice and unleash the excitement!   \n",
       "2  Released  Still Yelling. Still Fighting. Still Ready for...   \n",
       "3  Released  Friends are the people who let you be yourself...   \n",
       "4  Released  Just When His World Is Back To Normal... He's ...   \n",
       "5  Released                           A Los Angeles Crime Saga   \n",
       "6  Released  You are cordially invited to the most surprisi...   \n",
       "7  Released                             The Original Bad Boys.   \n",
       "8  Released                         Terror goes into overtime.   \n",
       "9  Released               No limits. No fears. No substitutes.   \n",
       "\n",
       "                         title  video vote_average vote_count  \n",
       "0                    Toy Story  False          7.7     5415.0  \n",
       "1                      Jumanji  False          6.9     2413.0  \n",
       "2             Grumpier Old Men  False          6.5       92.0  \n",
       "3            Waiting to Exhale  False          6.1       34.0  \n",
       "4  Father of the Bride Part II  False          5.7      173.0  \n",
       "5                         Heat  False          7.7     1886.0  \n",
       "6                      Sabrina  False          6.2      141.0  \n",
       "7                 Tom and Huck  False          5.4       45.0  \n",
       "8                 Sudden Death  False          5.5      174.0  \n",
       "9                    GoldenEye  False          6.6     1194.0  \n",
       "\n",
       "[10 rows x 24 columns]"
      ]
     },
     "execution_count": 227,
     "metadata": {},
     "output_type": "execute_result"
    }
   ],
   "source": [
    "movies.head(10)"
   ]
  },
  {
   "cell_type": "code",
   "execution_count": 228,
   "metadata": {
    "colab": {
     "base_uri": "https://localhost:8080/"
    },
    "id": "ipI5-QLJ4tsF",
    "outputId": "4c184aee-feeb-406a-fc3f-734f1775c897",
    "scrolled": true
   },
   "outputs": [
    {
     "name": "stdout",
     "output_type": "stream",
     "text": [
      "<class 'pandas.core.frame.DataFrame'>\n",
      "RangeIndex: 45466 entries, 0 to 45465\n",
      "Data columns (total 24 columns):\n",
      " #   Column                 Non-Null Count  Dtype  \n",
      "---  ------                 --------------  -----  \n",
      " 0   adult                  45466 non-null  object \n",
      " 1   belongs_to_collection  4494 non-null   object \n",
      " 2   budget                 45466 non-null  object \n",
      " 3   genres                 45466 non-null  object \n",
      " 4   homepage               7782 non-null   object \n",
      " 5   id                     45466 non-null  object \n",
      " 6   imdb_id                45449 non-null  object \n",
      " 7   original_language      45455 non-null  object \n",
      " 8   original_title         45466 non-null  object \n",
      " 9   overview               44512 non-null  object \n",
      " 10  popularity             45461 non-null  object \n",
      " 11  poster_path            45080 non-null  object \n",
      " 12  production_companies   45463 non-null  object \n",
      " 13  production_countries   45463 non-null  object \n",
      " 14  release_date           45379 non-null  object \n",
      " 15  revenue                45460 non-null  float64\n",
      " 16  runtime                45203 non-null  float64\n",
      " 17  spoken_languages       45460 non-null  object \n",
      " 18  status                 45379 non-null  object \n",
      " 19  tagline                20412 non-null  object \n",
      " 20  title                  45460 non-null  object \n",
      " 21  video                  45460 non-null  object \n",
      " 22  vote_average           45460 non-null  float64\n",
      " 23  vote_count             45460 non-null  float64\n",
      "dtypes: float64(4), object(20)\n",
      "memory usage: 8.3+ MB\n"
     ]
    }
   ],
   "source": [
    "movies.info()"
   ]
  },
  {
   "cell_type": "markdown",
   "metadata": {
    "id": "cmRec1hxdhWw"
   },
   "source": [
    "### Drop irrelevant columns"
   ]
  },
  {
   "cell_type": "code",
   "execution_count": 229,
   "metadata": {
    "id": "AX4AQxjcdWjA"
   },
   "outputs": [],
   "source": [
    "movies.drop(columns = [\"adult\", \"belongs_to_collection\", \"budget\", \"homepage\", \"imdb_id\", \"original_language\", \"original_title\", \"production_companies\", \"production_countries\", \"release_date\",  \"runtime\", \"spoken_languages\", \"status\", \"video\"], inplace = True)"
   ]
  },
  {
   "cell_type": "code",
   "execution_count": 230,
   "metadata": {
    "colab": {
     "base_uri": "https://localhost:8080/"
    },
    "id": "iloVWljddlEq",
    "outputId": "93878c41-f892-4e01-dcc9-73b39e1e8bf3"
   },
   "outputs": [
    {
     "name": "stdout",
     "output_type": "stream",
     "text": [
      "<class 'pandas.core.frame.DataFrame'>\n",
      "RangeIndex: 45466 entries, 0 to 45465\n",
      "Data columns (total 10 columns):\n",
      " #   Column        Non-Null Count  Dtype  \n",
      "---  ------        --------------  -----  \n",
      " 0   genres        45466 non-null  object \n",
      " 1   id            45466 non-null  object \n",
      " 2   overview      44512 non-null  object \n",
      " 3   popularity    45461 non-null  object \n",
      " 4   poster_path   45080 non-null  object \n",
      " 5   revenue       45460 non-null  float64\n",
      " 6   tagline       20412 non-null  object \n",
      " 7   title         45460 non-null  object \n",
      " 8   vote_average  45460 non-null  float64\n",
      " 9   vote_count    45460 non-null  float64\n",
      "dtypes: float64(3), object(7)\n",
      "memory usage: 3.5+ MB\n"
     ]
    }
   ],
   "source": [
    "movies.info()"
   ]
  },
  {
   "cell_type": "markdown",
   "metadata": {
    "id": "DZMIR5lj5dJV",
    "jp-MarkdownHeadingCollapsed": true
   },
   "source": [
    "### Reformating the columns to be of correct types"
   ]
  },
  {
   "cell_type": "code",
   "execution_count": 231,
   "metadata": {
    "id": "9LmU02765hKY"
   },
   "outputs": [],
   "source": [
    "movies['id'] = pd.to_numeric(movies['id'], errors='coerce').astype('Int64')\n",
    "movies['popularity'] = pd.to_numeric(movies['popularity'], errors='coerce').astype('float64')\n",
    "movies[\"poster_path\"] = movies[\"poster_path\"].astype(\"string\")\n",
    "movies[\"tagline\"] = movies[\"tagline\"].astype(\"string\")\n",
    "movies[\"title\"] = movies[\"title\"].astype(\"string\")\n",
    "movies[\"vote_average\"] = movies[\"vote_average\"].astype(\"float64\")\n",
    "movies[\"vote_count\"] = movies[\"vote_count\"].astype(\"float64\")"
   ]
  },
  {
   "cell_type": "code",
   "execution_count": 232,
   "metadata": {
    "colab": {
     "base_uri": "https://localhost:8080/"
    },
    "id": "ablRaKx06Mwe",
    "outputId": "fe254b76-c21d-46e2-d00c-9768a116b78f"
   },
   "outputs": [
    {
     "name": "stdout",
     "output_type": "stream",
     "text": [
      "<class 'pandas.core.frame.DataFrame'>\n",
      "RangeIndex: 45466 entries, 0 to 45465\n",
      "Data columns (total 10 columns):\n",
      " #   Column        Non-Null Count  Dtype  \n",
      "---  ------        --------------  -----  \n",
      " 0   genres        45466 non-null  object \n",
      " 1   id            45463 non-null  Int64  \n",
      " 2   overview      44512 non-null  object \n",
      " 3   popularity    45460 non-null  float64\n",
      " 4   poster_path   45080 non-null  string \n",
      " 5   revenue       45460 non-null  float64\n",
      " 6   tagline       20412 non-null  string \n",
      " 7   title         45460 non-null  string \n",
      " 8   vote_average  45460 non-null  float64\n",
      " 9   vote_count    45460 non-null  float64\n",
      "dtypes: Int64(1), float64(4), object(2), string(3)\n",
      "memory usage: 3.5+ MB\n"
     ]
    }
   ],
   "source": [
    "movies.info()"
   ]
  },
  {
   "cell_type": "markdown",
   "metadata": {},
   "source": [
    "## Keeping only the unique movies as in the ratings df"
   ]
  },
  {
   "cell_type": "code",
   "execution_count": 233,
   "metadata": {},
   "outputs": [],
   "source": [
    "l = movies[movies[\"id\"].isin(ratings[\"movieId\"].unique())]\n"
   ]
  },
  {
   "cell_type": "code",
   "execution_count": 234,
   "metadata": {},
   "outputs": [
    {
     "data": {
      "text/plain": [
       "44853"
      ]
     },
     "execution_count": 234,
     "metadata": {},
     "output_type": "execute_result"
    }
   ],
   "source": [
    "len(ratings[\"movieId\"].unique())"
   ]
  },
  {
   "cell_type": "code",
   "execution_count": 235,
   "metadata": {},
   "outputs": [
    {
     "data": {
      "text/plain": [
       "7553"
      ]
     },
     "execution_count": 235,
     "metadata": {},
     "output_type": "execute_result"
    }
   ],
   "source": [
    "l[\"id\"].nunique()"
   ]
  },
  {
   "cell_type": "code",
   "execution_count": 236,
   "metadata": {},
   "outputs": [
    {
     "data": {
      "text/plain": [
       "45433"
      ]
     },
     "execution_count": 236,
     "metadata": {},
     "output_type": "execute_result"
    }
   ],
   "source": [
    "movies[\"id\"].nunique()"
   ]
  },
  {
   "cell_type": "markdown",
   "metadata": {
    "id": "CXOje6d9SGVS"
   },
   "source": [
    "### Combining overview and tagline as description"
   ]
  },
  {
   "cell_type": "code",
   "execution_count": 237,
   "metadata": {
    "id": "7NZfICxc1oJ1"
   },
   "outputs": [],
   "source": [
    "movies[\"overview\"] = movies[\"overview\"].fillna(\"\")\n",
    "movies[\"tagline\"] = movies[\"tagline\"].fillna(\"\")"
   ]
  },
  {
   "cell_type": "code",
   "execution_count": 238,
   "metadata": {
    "id": "2uh3v3pGSGVT"
   },
   "outputs": [],
   "source": [
    "movies[\"description\"] = movies[\"overview\"] + \" \" + movies[\"tagline\"]"
   ]
  },
  {
   "cell_type": "markdown",
   "metadata": {
    "id": "EAPhqiERz9Px"
   },
   "source": [
    "### splitting genres to make a list"
   ]
  },
  {
   "cell_type": "code",
   "execution_count": 239,
   "metadata": {
    "colab": {
     "base_uri": "https://localhost:8080/",
     "height": 0
    },
    "id": "Ct97oBIGEUX7",
    "outputId": "f506d234-eda5-424c-e3f7-4e561b6aa50e"
   },
   "outputs": [
    {
     "data": {
      "text/html": [
       "<div>\n",
       "<style scoped>\n",
       "    .dataframe tbody tr th:only-of-type {\n",
       "        vertical-align: middle;\n",
       "    }\n",
       "\n",
       "    .dataframe tbody tr th {\n",
       "        vertical-align: top;\n",
       "    }\n",
       "\n",
       "    .dataframe thead th {\n",
       "        text-align: right;\n",
       "    }\n",
       "</style>\n",
       "<table border=\"1\" class=\"dataframe\">\n",
       "  <thead>\n",
       "    <tr style=\"text-align: right;\">\n",
       "      <th></th>\n",
       "      <th>genres</th>\n",
       "      <th>id</th>\n",
       "      <th>overview</th>\n",
       "      <th>popularity</th>\n",
       "      <th>poster_path</th>\n",
       "      <th>revenue</th>\n",
       "      <th>tagline</th>\n",
       "      <th>title</th>\n",
       "      <th>vote_average</th>\n",
       "      <th>vote_count</th>\n",
       "      <th>description</th>\n",
       "    </tr>\n",
       "  </thead>\n",
       "  <tbody>\n",
       "    <tr>\n",
       "      <th>0</th>\n",
       "      <td>[Animation, Comedy, Family]</td>\n",
       "      <td>862</td>\n",
       "      <td>Led by Woody, Andy's toys live happily in his ...</td>\n",
       "      <td>21.946943</td>\n",
       "      <td>/rhIRbceoE9lR4veEXuwCC2wARtG.jpg</td>\n",
       "      <td>373554033.0</td>\n",
       "      <td></td>\n",
       "      <td>Toy Story</td>\n",
       "      <td>7.7</td>\n",
       "      <td>5415.0</td>\n",
       "      <td>Led by Woody, Andy's toys live happily in his ...</td>\n",
       "    </tr>\n",
       "    <tr>\n",
       "      <th>1</th>\n",
       "      <td>[Adventure, Fantasy, Family]</td>\n",
       "      <td>8844</td>\n",
       "      <td>When siblings Judy and Peter discover an encha...</td>\n",
       "      <td>17.015539</td>\n",
       "      <td>/vzmL6fP7aPKNKPRTFnZmiUfciyV.jpg</td>\n",
       "      <td>262797249.0</td>\n",
       "      <td>Roll the dice and unleash the excitement!</td>\n",
       "      <td>Jumanji</td>\n",
       "      <td>6.9</td>\n",
       "      <td>2413.0</td>\n",
       "      <td>When siblings Judy and Peter discover an encha...</td>\n",
       "    </tr>\n",
       "    <tr>\n",
       "      <th>2</th>\n",
       "      <td>[Romance, Comedy]</td>\n",
       "      <td>15602</td>\n",
       "      <td>A family wedding reignites the ancient feud be...</td>\n",
       "      <td>11.712900</td>\n",
       "      <td>/6ksm1sjKMFLbO7UY2i6G1ju9SML.jpg</td>\n",
       "      <td>0.0</td>\n",
       "      <td>Still Yelling. Still Fighting. Still Ready for...</td>\n",
       "      <td>Grumpier Old Men</td>\n",
       "      <td>6.5</td>\n",
       "      <td>92.0</td>\n",
       "      <td>A family wedding reignites the ancient feud be...</td>\n",
       "    </tr>\n",
       "    <tr>\n",
       "      <th>3</th>\n",
       "      <td>[Comedy, Drama, Romance]</td>\n",
       "      <td>31357</td>\n",
       "      <td>Cheated on, mistreated and stepped on, the wom...</td>\n",
       "      <td>3.859495</td>\n",
       "      <td>/16XOMpEaLWkrcPqSQqhTmeJuqQl.jpg</td>\n",
       "      <td>81452156.0</td>\n",
       "      <td>Friends are the people who let you be yourself...</td>\n",
       "      <td>Waiting to Exhale</td>\n",
       "      <td>6.1</td>\n",
       "      <td>34.0</td>\n",
       "      <td>Cheated on, mistreated and stepped on, the wom...</td>\n",
       "    </tr>\n",
       "    <tr>\n",
       "      <th>4</th>\n",
       "      <td>[Comedy]</td>\n",
       "      <td>11862</td>\n",
       "      <td>Just when George Banks has recovered from his ...</td>\n",
       "      <td>8.387519</td>\n",
       "      <td>/e64sOI48hQXyru7naBFyssKFxVd.jpg</td>\n",
       "      <td>76578911.0</td>\n",
       "      <td>Just When His World Is Back To Normal... He's ...</td>\n",
       "      <td>Father of the Bride Part II</td>\n",
       "      <td>5.7</td>\n",
       "      <td>173.0</td>\n",
       "      <td>Just when George Banks has recovered from his ...</td>\n",
       "    </tr>\n",
       "  </tbody>\n",
       "</table>\n",
       "</div>"
      ],
      "text/plain": [
       "                         genres     id  \\\n",
       "0   [Animation, Comedy, Family]    862   \n",
       "1  [Adventure, Fantasy, Family]   8844   \n",
       "2             [Romance, Comedy]  15602   \n",
       "3      [Comedy, Drama, Romance]  31357   \n",
       "4                      [Comedy]  11862   \n",
       "\n",
       "                                            overview  popularity  \\\n",
       "0  Led by Woody, Andy's toys live happily in his ...   21.946943   \n",
       "1  When siblings Judy and Peter discover an encha...   17.015539   \n",
       "2  A family wedding reignites the ancient feud be...   11.712900   \n",
       "3  Cheated on, mistreated and stepped on, the wom...    3.859495   \n",
       "4  Just when George Banks has recovered from his ...    8.387519   \n",
       "\n",
       "                        poster_path      revenue  \\\n",
       "0  /rhIRbceoE9lR4veEXuwCC2wARtG.jpg  373554033.0   \n",
       "1  /vzmL6fP7aPKNKPRTFnZmiUfciyV.jpg  262797249.0   \n",
       "2  /6ksm1sjKMFLbO7UY2i6G1ju9SML.jpg          0.0   \n",
       "3  /16XOMpEaLWkrcPqSQqhTmeJuqQl.jpg   81452156.0   \n",
       "4  /e64sOI48hQXyru7naBFyssKFxVd.jpg   76578911.0   \n",
       "\n",
       "                                             tagline  \\\n",
       "0                                                      \n",
       "1          Roll the dice and unleash the excitement!   \n",
       "2  Still Yelling. Still Fighting. Still Ready for...   \n",
       "3  Friends are the people who let you be yourself...   \n",
       "4  Just When His World Is Back To Normal... He's ...   \n",
       "\n",
       "                         title  vote_average  vote_count  \\\n",
       "0                    Toy Story           7.7      5415.0   \n",
       "1                      Jumanji           6.9      2413.0   \n",
       "2             Grumpier Old Men           6.5        92.0   \n",
       "3            Waiting to Exhale           6.1        34.0   \n",
       "4  Father of the Bride Part II           5.7       173.0   \n",
       "\n",
       "                                         description  \n",
       "0  Led by Woody, Andy's toys live happily in his ...  \n",
       "1  When siblings Judy and Peter discover an encha...  \n",
       "2  A family wedding reignites the ancient feud be...  \n",
       "3  Cheated on, mistreated and stepped on, the wom...  \n",
       "4  Just when George Banks has recovered from his ...  "
      ]
     },
     "execution_count": 239,
     "metadata": {},
     "output_type": "execute_result"
    }
   ],
   "source": [
    "def split_genre(input):\n",
    "  input = eval(input)\n",
    "  genre = []\n",
    "  for i in input:\n",
    "    genre.append(i['name'])\n",
    "  return genre\n",
    "\n",
    "movies['genres'] = movies['genres'].apply(split_genre)\n",
    "movies.head()"
   ]
  },
  {
   "cell_type": "markdown",
   "metadata": {
    "id": "ZeyaDXRcm_LB"
   },
   "source": [
    "### Renaming id to movieId"
   ]
  },
  {
   "cell_type": "code",
   "execution_count": 240,
   "metadata": {
    "id": "Cw5ykmhEnBhm"
   },
   "outputs": [],
   "source": [
    "movies.rename(columns = {\"id\": \"movieId\"}, inplace = True)"
   ]
  },
  {
   "cell_type": "markdown",
   "metadata": {
    "id": "12hxQidogigW"
   },
   "source": [
    "### Removing null values"
   ]
  },
  {
   "cell_type": "code",
   "execution_count": 241,
   "metadata": {
    "id": "8znG5h2vgqKi"
   },
   "outputs": [],
   "source": [
    "movies.dropna(subset = [\"movieId\", \"title\", \"poster_path\"], inplace = True)"
   ]
  },
  {
   "cell_type": "code",
   "execution_count": 242,
   "metadata": {
    "colab": {
     "base_uri": "https://localhost:8080/"
    },
    "id": "Re_lpOLNhD5Q",
    "outputId": "e1906226-b992-4a15-ad78-767215b15599"
   },
   "outputs": [
    {
     "name": "stdout",
     "output_type": "stream",
     "text": [
      "<class 'pandas.core.frame.DataFrame'>\n",
      "Index: 45077 entries, 0 to 45465\n",
      "Data columns (total 11 columns):\n",
      " #   Column        Non-Null Count  Dtype  \n",
      "---  ------        --------------  -----  \n",
      " 0   genres        45077 non-null  object \n",
      " 1   movieId       45077 non-null  Int64  \n",
      " 2   overview      45077 non-null  object \n",
      " 3   popularity    45077 non-null  float64\n",
      " 4   poster_path   45077 non-null  string \n",
      " 5   revenue       45077 non-null  float64\n",
      " 6   tagline       45077 non-null  string \n",
      " 7   title         45077 non-null  string \n",
      " 8   vote_average  45077 non-null  float64\n",
      " 9   vote_count    45077 non-null  float64\n",
      " 10  description   45077 non-null  string \n",
      "dtypes: Int64(1), float64(4), object(2), string(4)\n",
      "memory usage: 4.2+ MB\n"
     ]
    }
   ],
   "source": [
    "movies.info()"
   ]
  },
  {
   "cell_type": "markdown",
   "metadata": {
    "id": "RMgEwRvy0BYJ"
   },
   "source": [
    "### Removing duplicate values"
   ]
  },
  {
   "cell_type": "code",
   "execution_count": 243,
   "metadata": {
    "id": "PtFtAXgW1maW"
   },
   "outputs": [],
   "source": [
    "movies.drop_duplicates(subset=[\"title\"],inplace = True)"
   ]
  },
  {
   "cell_type": "code",
   "execution_count": 244,
   "metadata": {
    "colab": {
     "base_uri": "https://localhost:8080/"
    },
    "id": "lvAjxOyQ2B48",
    "outputId": "c3d4d42f-9b3c-4702-ca4a-40d290a0c314"
   },
   "outputs": [
    {
     "name": "stdout",
     "output_type": "stream",
     "text": [
      "41914\n",
      "41914\n"
     ]
    }
   ],
   "source": [
    "print(movies['title'].nunique())\n",
    "print(movies['movieId'].nunique())"
   ]
  },
  {
   "cell_type": "code",
   "execution_count": 245,
   "metadata": {
    "colab": {
     "base_uri": "https://localhost:8080/"
    },
    "id": "fX4OHCvzgXsH",
    "outputId": "47d2685f-f414-46d3-928f-772bb813fb48"
   },
   "outputs": [
    {
     "name": "stdout",
     "output_type": "stream",
     "text": [
      "<class 'pandas.core.frame.DataFrame'>\n",
      "Index: 41914 entries, 0 to 45465\n",
      "Data columns (total 11 columns):\n",
      " #   Column        Non-Null Count  Dtype  \n",
      "---  ------        --------------  -----  \n",
      " 0   genres        41914 non-null  object \n",
      " 1   movieId       41914 non-null  Int64  \n",
      " 2   overview      41914 non-null  object \n",
      " 3   popularity    41914 non-null  float64\n",
      " 4   poster_path   41914 non-null  string \n",
      " 5   revenue       41914 non-null  float64\n",
      " 6   tagline       41914 non-null  string \n",
      " 7   title         41914 non-null  string \n",
      " 8   vote_average  41914 non-null  float64\n",
      " 9   vote_count    41914 non-null  float64\n",
      " 10  description   41914 non-null  string \n",
      "dtypes: Int64(1), float64(4), object(2), string(4)\n",
      "memory usage: 3.9+ MB\n"
     ]
    }
   ],
   "source": [
    "movies.info()"
   ]
  },
  {
   "cell_type": "markdown",
   "metadata": {
    "id": "OI5FypRZ4nf-"
   },
   "source": [
    "## Keywords"
   ]
  },
  {
   "cell_type": "code",
   "execution_count": 246,
   "metadata": {
    "colab": {
     "base_uri": "https://localhost:8080/",
     "height": 0
    },
    "id": "tgApKMBi4poU",
    "outputId": "d4e42339-ffcf-4187-b873-ca5958c085c8"
   },
   "outputs": [
    {
     "data": {
      "text/html": [
       "<div>\n",
       "<style scoped>\n",
       "    .dataframe tbody tr th:only-of-type {\n",
       "        vertical-align: middle;\n",
       "    }\n",
       "\n",
       "    .dataframe tbody tr th {\n",
       "        vertical-align: top;\n",
       "    }\n",
       "\n",
       "    .dataframe thead th {\n",
       "        text-align: right;\n",
       "    }\n",
       "</style>\n",
       "<table border=\"1\" class=\"dataframe\">\n",
       "  <thead>\n",
       "    <tr style=\"text-align: right;\">\n",
       "      <th></th>\n",
       "      <th>id</th>\n",
       "      <th>keywords</th>\n",
       "    </tr>\n",
       "  </thead>\n",
       "  <tbody>\n",
       "    <tr>\n",
       "      <th>0</th>\n",
       "      <td>862</td>\n",
       "      <td>[{'id': 931, 'name': 'jealousy'}, {'id': 4290,...</td>\n",
       "    </tr>\n",
       "    <tr>\n",
       "      <th>1</th>\n",
       "      <td>8844</td>\n",
       "      <td>[{'id': 10090, 'name': 'board game'}, {'id': 1...</td>\n",
       "    </tr>\n",
       "    <tr>\n",
       "      <th>2</th>\n",
       "      <td>15602</td>\n",
       "      <td>[{'id': 1495, 'name': 'fishing'}, {'id': 12392...</td>\n",
       "    </tr>\n",
       "    <tr>\n",
       "      <th>3</th>\n",
       "      <td>31357</td>\n",
       "      <td>[{'id': 818, 'name': 'based on novel'}, {'id':...</td>\n",
       "    </tr>\n",
       "    <tr>\n",
       "      <th>4</th>\n",
       "      <td>11862</td>\n",
       "      <td>[{'id': 1009, 'name': 'baby'}, {'id': 1599, 'n...</td>\n",
       "    </tr>\n",
       "    <tr>\n",
       "      <th>5</th>\n",
       "      <td>949</td>\n",
       "      <td>[{'id': 642, 'name': 'robbery'}, {'id': 703, '...</td>\n",
       "    </tr>\n",
       "    <tr>\n",
       "      <th>6</th>\n",
       "      <td>11860</td>\n",
       "      <td>[{'id': 90, 'name': 'paris'}, {'id': 380, 'nam...</td>\n",
       "    </tr>\n",
       "    <tr>\n",
       "      <th>7</th>\n",
       "      <td>45325</td>\n",
       "      <td>[]</td>\n",
       "    </tr>\n",
       "    <tr>\n",
       "      <th>8</th>\n",
       "      <td>9091</td>\n",
       "      <td>[{'id': 949, 'name': 'terrorist'}, {'id': 1562...</td>\n",
       "    </tr>\n",
       "    <tr>\n",
       "      <th>9</th>\n",
       "      <td>710</td>\n",
       "      <td>[{'id': 701, 'name': 'cuba'}, {'id': 769, 'nam...</td>\n",
       "    </tr>\n",
       "  </tbody>\n",
       "</table>\n",
       "</div>"
      ],
      "text/plain": [
       "      id                                           keywords\n",
       "0    862  [{'id': 931, 'name': 'jealousy'}, {'id': 4290,...\n",
       "1   8844  [{'id': 10090, 'name': 'board game'}, {'id': 1...\n",
       "2  15602  [{'id': 1495, 'name': 'fishing'}, {'id': 12392...\n",
       "3  31357  [{'id': 818, 'name': 'based on novel'}, {'id':...\n",
       "4  11862  [{'id': 1009, 'name': 'baby'}, {'id': 1599, 'n...\n",
       "5    949  [{'id': 642, 'name': 'robbery'}, {'id': 703, '...\n",
       "6  11860  [{'id': 90, 'name': 'paris'}, {'id': 380, 'nam...\n",
       "7  45325                                                 []\n",
       "8   9091  [{'id': 949, 'name': 'terrorist'}, {'id': 1562...\n",
       "9    710  [{'id': 701, 'name': 'cuba'}, {'id': 769, 'nam..."
      ]
     },
     "execution_count": 246,
     "metadata": {},
     "output_type": "execute_result"
    }
   ],
   "source": [
    "keywords.head(10)"
   ]
  },
  {
   "cell_type": "code",
   "execution_count": 247,
   "metadata": {
    "colab": {
     "base_uri": "https://localhost:8080/"
    },
    "id": "W_u3HeMZ4rhy",
    "outputId": "7961bd74-f18e-4dd3-9840-c03c2a361549"
   },
   "outputs": [
    {
     "name": "stdout",
     "output_type": "stream",
     "text": [
      "<class 'pandas.core.frame.DataFrame'>\n",
      "RangeIndex: 46419 entries, 0 to 46418\n",
      "Data columns (total 2 columns):\n",
      " #   Column    Non-Null Count  Dtype \n",
      "---  ------    --------------  ----- \n",
      " 0   id        46419 non-null  int64 \n",
      " 1   keywords  46419 non-null  object\n",
      "dtypes: int64(1), object(1)\n",
      "memory usage: 725.4+ KB\n"
     ]
    }
   ],
   "source": [
    "keywords.info()"
   ]
  },
  {
   "cell_type": "markdown",
   "metadata": {
    "id": "grHTSNiLnmSg"
   },
   "source": [
    "### Rename id to movieID and convert to integer"
   ]
  },
  {
   "cell_type": "code",
   "execution_count": 248,
   "metadata": {
    "id": "7Le7rqCSnoV_"
   },
   "outputs": [],
   "source": [
    "keywords.rename(columns = {\"id\": \"movieId\"}, inplace = True)"
   ]
  },
  {
   "cell_type": "code",
   "execution_count": 249,
   "metadata": {
    "id": "7mD6uW4Mohun"
   },
   "outputs": [],
   "source": [
    "keywords[\"movieId\"] = keywords[\"movieId\"].astype(\"Int64\")"
   ]
  },
  {
   "cell_type": "markdown",
   "metadata": {
    "id": "RdQI9iQdiJxV"
   },
   "source": [
    "### Dropping null and duplicated values"
   ]
  },
  {
   "cell_type": "code",
   "execution_count": 250,
   "metadata": {
    "id": "NVhNILvbENid"
   },
   "outputs": [],
   "source": [
    "keywords.dropna(subset = [\"movieId\"], inplace = True)"
   ]
  },
  {
   "cell_type": "code",
   "execution_count": 251,
   "metadata": {
    "id": "4IcH90qJh_3A"
   },
   "outputs": [],
   "source": [
    "keywords.drop_duplicates(subset = [\"movieId\"], inplace = True)"
   ]
  },
  {
   "cell_type": "code",
   "execution_count": 252,
   "metadata": {
    "colab": {
     "base_uri": "https://localhost:8080/"
    },
    "id": "ybKhY6qwiC2z",
    "outputId": "65fd0a7a-f7df-48ef-8904-78655e180cf2"
   },
   "outputs": [
    {
     "name": "stdout",
     "output_type": "stream",
     "text": [
      "<class 'pandas.core.frame.DataFrame'>\n",
      "Index: 45432 entries, 0 to 46418\n",
      "Data columns (total 2 columns):\n",
      " #   Column    Non-Null Count  Dtype \n",
      "---  ------    --------------  ----- \n",
      " 0   movieId   45432 non-null  Int64 \n",
      " 1   keywords  45432 non-null  object\n",
      "dtypes: Int64(1), object(1)\n",
      "memory usage: 1.1+ MB\n"
     ]
    }
   ],
   "source": [
    "keywords.info()"
   ]
  },
  {
   "cell_type": "markdown",
   "metadata": {
    "id": "bVgmTz0iiMwP"
   },
   "source": [
    "### Converting keywords into a list"
   ]
  },
  {
   "cell_type": "code",
   "execution_count": 253,
   "metadata": {
    "colab": {
     "base_uri": "https://localhost:8080/",
     "height": 0
    },
    "id": "FhFhLQQ1iS3k",
    "outputId": "3bf87a11-b009-4140-827d-03964b08051b"
   },
   "outputs": [
    {
     "data": {
      "text/html": [
       "<div>\n",
       "<style scoped>\n",
       "    .dataframe tbody tr th:only-of-type {\n",
       "        vertical-align: middle;\n",
       "    }\n",
       "\n",
       "    .dataframe tbody tr th {\n",
       "        vertical-align: top;\n",
       "    }\n",
       "\n",
       "    .dataframe thead th {\n",
       "        text-align: right;\n",
       "    }\n",
       "</style>\n",
       "<table border=\"1\" class=\"dataframe\">\n",
       "  <thead>\n",
       "    <tr style=\"text-align: right;\">\n",
       "      <th></th>\n",
       "      <th>movieId</th>\n",
       "      <th>keywords</th>\n",
       "    </tr>\n",
       "  </thead>\n",
       "  <tbody>\n",
       "    <tr>\n",
       "      <th>0</th>\n",
       "      <td>862</td>\n",
       "      <td>[jealousy, toy, boy, friendship, friends, riva...</td>\n",
       "    </tr>\n",
       "    <tr>\n",
       "      <th>1</th>\n",
       "      <td>8844</td>\n",
       "      <td>[board game, disappearance, based on children'...</td>\n",
       "    </tr>\n",
       "    <tr>\n",
       "      <th>2</th>\n",
       "      <td>15602</td>\n",
       "      <td>[fishing, best friend, duringcreditsstinger, o...</td>\n",
       "    </tr>\n",
       "    <tr>\n",
       "      <th>3</th>\n",
       "      <td>31357</td>\n",
       "      <td>[based on novel, interracial relationship, sin...</td>\n",
       "    </tr>\n",
       "    <tr>\n",
       "      <th>4</th>\n",
       "      <td>11862</td>\n",
       "      <td>[baby, midlife crisis, confidence, aging, daug...</td>\n",
       "    </tr>\n",
       "  </tbody>\n",
       "</table>\n",
       "</div>"
      ],
      "text/plain": [
       "   movieId                                           keywords\n",
       "0      862  [jealousy, toy, boy, friendship, friends, riva...\n",
       "1     8844  [board game, disappearance, based on children'...\n",
       "2    15602  [fishing, best friend, duringcreditsstinger, o...\n",
       "3    31357  [based on novel, interracial relationship, sin...\n",
       "4    11862  [baby, midlife crisis, confidence, aging, daug..."
      ]
     },
     "execution_count": 253,
     "metadata": {},
     "output_type": "execute_result"
    }
   ],
   "source": [
    "def convert_keywords(input):\n",
    "  input = eval(input)\n",
    "  keywords = []\n",
    "  for i in input:\n",
    "    keywords.append(i['name'])\n",
    "  return keywords\n",
    "\n",
    "keywords[\"keywords\"]= keywords['keywords'].apply(convert_keywords)\n",
    "keywords.head()"
   ]
  },
  {
   "cell_type": "markdown",
   "metadata": {
    "id": "8D1-n-kmi7Iw"
   },
   "source": [
    "## credits"
   ]
  },
  {
   "cell_type": "code",
   "execution_count": 254,
   "metadata": {
    "colab": {
     "base_uri": "https://localhost:8080/",
     "height": 0
    },
    "id": "5qPhiCMXi7Ix",
    "outputId": "f4631331-e624-492d-99fe-d4e8a816308a"
   },
   "outputs": [
    {
     "data": {
      "text/html": [
       "<div>\n",
       "<style scoped>\n",
       "    .dataframe tbody tr th:only-of-type {\n",
       "        vertical-align: middle;\n",
       "    }\n",
       "\n",
       "    .dataframe tbody tr th {\n",
       "        vertical-align: top;\n",
       "    }\n",
       "\n",
       "    .dataframe thead th {\n",
       "        text-align: right;\n",
       "    }\n",
       "</style>\n",
       "<table border=\"1\" class=\"dataframe\">\n",
       "  <thead>\n",
       "    <tr style=\"text-align: right;\">\n",
       "      <th></th>\n",
       "      <th>cast</th>\n",
       "      <th>crew</th>\n",
       "      <th>id</th>\n",
       "    </tr>\n",
       "  </thead>\n",
       "  <tbody>\n",
       "    <tr>\n",
       "      <th>0</th>\n",
       "      <td>[{'cast_id': 14, 'character': 'Woody (voice)',...</td>\n",
       "      <td>[{'credit_id': '52fe4284c3a36847f8024f49', 'de...</td>\n",
       "      <td>862</td>\n",
       "    </tr>\n",
       "    <tr>\n",
       "      <th>1</th>\n",
       "      <td>[{'cast_id': 1, 'character': 'Alan Parrish', '...</td>\n",
       "      <td>[{'credit_id': '52fe44bfc3a36847f80a7cd1', 'de...</td>\n",
       "      <td>8844</td>\n",
       "    </tr>\n",
       "    <tr>\n",
       "      <th>2</th>\n",
       "      <td>[{'cast_id': 2, 'character': 'Max Goldman', 'c...</td>\n",
       "      <td>[{'credit_id': '52fe466a9251416c75077a89', 'de...</td>\n",
       "      <td>15602</td>\n",
       "    </tr>\n",
       "    <tr>\n",
       "      <th>3</th>\n",
       "      <td>[{'cast_id': 1, 'character': \"Savannah 'Vannah...</td>\n",
       "      <td>[{'credit_id': '52fe44779251416c91011acb', 'de...</td>\n",
       "      <td>31357</td>\n",
       "    </tr>\n",
       "    <tr>\n",
       "      <th>4</th>\n",
       "      <td>[{'cast_id': 1, 'character': 'George Banks', '...</td>\n",
       "      <td>[{'credit_id': '52fe44959251416c75039ed7', 'de...</td>\n",
       "      <td>11862</td>\n",
       "    </tr>\n",
       "    <tr>\n",
       "      <th>5</th>\n",
       "      <td>[{'cast_id': 25, 'character': 'Lt. Vincent Han...</td>\n",
       "      <td>[{'credit_id': '52fe4292c3a36847f802916d', 'de...</td>\n",
       "      <td>949</td>\n",
       "    </tr>\n",
       "    <tr>\n",
       "      <th>6</th>\n",
       "      <td>[{'cast_id': 1, 'character': 'Linus Larrabee',...</td>\n",
       "      <td>[{'credit_id': '52fe44959251416c75039da9', 'de...</td>\n",
       "      <td>11860</td>\n",
       "    </tr>\n",
       "    <tr>\n",
       "      <th>7</th>\n",
       "      <td>[{'cast_id': 2, 'character': 'Tom Sawyer', 'cr...</td>\n",
       "      <td>[{'credit_id': '52fe46bdc3a36847f810f797', 'de...</td>\n",
       "      <td>45325</td>\n",
       "    </tr>\n",
       "    <tr>\n",
       "      <th>8</th>\n",
       "      <td>[{'cast_id': 1, 'character': 'Darren Francis T...</td>\n",
       "      <td>[{'credit_id': '52fe44dbc3a36847f80ae0f1', 'de...</td>\n",
       "      <td>9091</td>\n",
       "    </tr>\n",
       "    <tr>\n",
       "      <th>9</th>\n",
       "      <td>[{'cast_id': 1, 'character': 'James Bond', 'cr...</td>\n",
       "      <td>[{'credit_id': '52fe426ec3a36847f801e14b', 'de...</td>\n",
       "      <td>710</td>\n",
       "    </tr>\n",
       "  </tbody>\n",
       "</table>\n",
       "</div>"
      ],
      "text/plain": [
       "                                                cast  \\\n",
       "0  [{'cast_id': 14, 'character': 'Woody (voice)',...   \n",
       "1  [{'cast_id': 1, 'character': 'Alan Parrish', '...   \n",
       "2  [{'cast_id': 2, 'character': 'Max Goldman', 'c...   \n",
       "3  [{'cast_id': 1, 'character': \"Savannah 'Vannah...   \n",
       "4  [{'cast_id': 1, 'character': 'George Banks', '...   \n",
       "5  [{'cast_id': 25, 'character': 'Lt. Vincent Han...   \n",
       "6  [{'cast_id': 1, 'character': 'Linus Larrabee',...   \n",
       "7  [{'cast_id': 2, 'character': 'Tom Sawyer', 'cr...   \n",
       "8  [{'cast_id': 1, 'character': 'Darren Francis T...   \n",
       "9  [{'cast_id': 1, 'character': 'James Bond', 'cr...   \n",
       "\n",
       "                                                crew     id  \n",
       "0  [{'credit_id': '52fe4284c3a36847f8024f49', 'de...    862  \n",
       "1  [{'credit_id': '52fe44bfc3a36847f80a7cd1', 'de...   8844  \n",
       "2  [{'credit_id': '52fe466a9251416c75077a89', 'de...  15602  \n",
       "3  [{'credit_id': '52fe44779251416c91011acb', 'de...  31357  \n",
       "4  [{'credit_id': '52fe44959251416c75039ed7', 'de...  11862  \n",
       "5  [{'credit_id': '52fe4292c3a36847f802916d', 'de...    949  \n",
       "6  [{'credit_id': '52fe44959251416c75039da9', 'de...  11860  \n",
       "7  [{'credit_id': '52fe46bdc3a36847f810f797', 'de...  45325  \n",
       "8  [{'credit_id': '52fe44dbc3a36847f80ae0f1', 'de...   9091  \n",
       "9  [{'credit_id': '52fe426ec3a36847f801e14b', 'de...    710  "
      ]
     },
     "execution_count": 254,
     "metadata": {},
     "output_type": "execute_result"
    }
   ],
   "source": [
    "credits.head(10)"
   ]
  },
  {
   "cell_type": "code",
   "execution_count": 255,
   "metadata": {
    "colab": {
     "base_uri": "https://localhost:8080/"
    },
    "id": "yBTklt4Ji7Ix",
    "outputId": "67355c4b-4174-4894-de94-ec67f4bd2f30"
   },
   "outputs": [
    {
     "name": "stdout",
     "output_type": "stream",
     "text": [
      "<class 'pandas.core.frame.DataFrame'>\n",
      "RangeIndex: 45476 entries, 0 to 45475\n",
      "Data columns (total 3 columns):\n",
      " #   Column  Non-Null Count  Dtype \n",
      "---  ------  --------------  ----- \n",
      " 0   cast    45476 non-null  object\n",
      " 1   crew    45476 non-null  object\n",
      " 2   id      45476 non-null  int64 \n",
      "dtypes: int64(1), object(2)\n",
      "memory usage: 1.0+ MB\n"
     ]
    }
   ],
   "source": [
    "credits.info()"
   ]
  },
  {
   "cell_type": "markdown",
   "metadata": {
    "id": "7bMDPluJoCvx"
   },
   "source": [
    "### Rename id to movieId and convert it to int64"
   ]
  },
  {
   "cell_type": "code",
   "execution_count": 256,
   "metadata": {
    "id": "dRm22BxNoFe9"
   },
   "outputs": [],
   "source": [
    "credits.rename(columns = {\"id\" : \"movieId\"}, inplace = True)"
   ]
  },
  {
   "cell_type": "code",
   "execution_count": 257,
   "metadata": {
    "id": "apu88QuyoZds"
   },
   "outputs": [],
   "source": [
    "credits[\"movieId\"] = credits[\"movieId\"].astype(\"int64\")"
   ]
  },
  {
   "cell_type": "markdown",
   "metadata": {
    "id": "qJRXhoari7Iy"
   },
   "source": [
    "### extracting top 5 actors in the cast"
   ]
  },
  {
   "cell_type": "code",
   "execution_count": 258,
   "metadata": {
    "colab": {
     "base_uri": "https://localhost:8080/",
     "height": 0
    },
    "id": "N2M_BNyWi7Iy",
    "outputId": "e09ba5c8-8b10-4760-b346-7866b9b85173"
   },
   "outputs": [
    {
     "data": {
      "text/html": [
       "<div>\n",
       "<style scoped>\n",
       "    .dataframe tbody tr th:only-of-type {\n",
       "        vertical-align: middle;\n",
       "    }\n",
       "\n",
       "    .dataframe tbody tr th {\n",
       "        vertical-align: top;\n",
       "    }\n",
       "\n",
       "    .dataframe thead th {\n",
       "        text-align: right;\n",
       "    }\n",
       "</style>\n",
       "<table border=\"1\" class=\"dataframe\">\n",
       "  <thead>\n",
       "    <tr style=\"text-align: right;\">\n",
       "      <th></th>\n",
       "      <th>cast</th>\n",
       "      <th>crew</th>\n",
       "      <th>movieId</th>\n",
       "    </tr>\n",
       "  </thead>\n",
       "  <tbody>\n",
       "    <tr>\n",
       "      <th>0</th>\n",
       "      <td>[Tom Hanks, Tim Allen, Don Rickles, Jim Varney...</td>\n",
       "      <td>[{'credit_id': '52fe4284c3a36847f8024f49', 'de...</td>\n",
       "      <td>862</td>\n",
       "    </tr>\n",
       "    <tr>\n",
       "      <th>1</th>\n",
       "      <td>[Robin Williams, Jonathan Hyde, Kirsten Dunst,...</td>\n",
       "      <td>[{'credit_id': '52fe44bfc3a36847f80a7cd1', 'de...</td>\n",
       "      <td>8844</td>\n",
       "    </tr>\n",
       "    <tr>\n",
       "      <th>2</th>\n",
       "      <td>[Walter Matthau, Jack Lemmon, Ann-Margret, Sop...</td>\n",
       "      <td>[{'credit_id': '52fe466a9251416c75077a89', 'de...</td>\n",
       "      <td>15602</td>\n",
       "    </tr>\n",
       "    <tr>\n",
       "      <th>3</th>\n",
       "      <td>[Whitney Houston, Angela Bassett, Loretta Devi...</td>\n",
       "      <td>[{'credit_id': '52fe44779251416c91011acb', 'de...</td>\n",
       "      <td>31357</td>\n",
       "    </tr>\n",
       "    <tr>\n",
       "      <th>4</th>\n",
       "      <td>[Steve Martin, Diane Keaton, Martin Short, Kim...</td>\n",
       "      <td>[{'credit_id': '52fe44959251416c75039ed7', 'de...</td>\n",
       "      <td>11862</td>\n",
       "    </tr>\n",
       "  </tbody>\n",
       "</table>\n",
       "</div>"
      ],
      "text/plain": [
       "                                                cast  \\\n",
       "0  [Tom Hanks, Tim Allen, Don Rickles, Jim Varney...   \n",
       "1  [Robin Williams, Jonathan Hyde, Kirsten Dunst,...   \n",
       "2  [Walter Matthau, Jack Lemmon, Ann-Margret, Sop...   \n",
       "3  [Whitney Houston, Angela Bassett, Loretta Devi...   \n",
       "4  [Steve Martin, Diane Keaton, Martin Short, Kim...   \n",
       "\n",
       "                                                crew  movieId  \n",
       "0  [{'credit_id': '52fe4284c3a36847f8024f49', 'de...      862  \n",
       "1  [{'credit_id': '52fe44bfc3a36847f80a7cd1', 'de...     8844  \n",
       "2  [{'credit_id': '52fe466a9251416c75077a89', 'de...    15602  \n",
       "3  [{'credit_id': '52fe44779251416c91011acb', 'de...    31357  \n",
       "4  [{'credit_id': '52fe44959251416c75039ed7', 'de...    11862  "
      ]
     },
     "execution_count": 258,
     "metadata": {},
     "output_type": "execute_result"
    }
   ],
   "source": [
    "def get_cast(input):\n",
    "  input = eval(input)\n",
    "  cast = []\n",
    "  for i in input:\n",
    "    cast.append(i['name'])\n",
    "  return cast[:5]\n",
    "\n",
    "credits[\"cast\"] =  credits['cast'].apply(get_cast)\n",
    "credits.head()"
   ]
  },
  {
   "cell_type": "markdown",
   "metadata": {
    "id": "GrBpYDGokHxo"
   },
   "source": [
    "### Extracting director from the crew"
   ]
  },
  {
   "cell_type": "code",
   "execution_count": 259,
   "metadata": {
    "colab": {
     "base_uri": "https://localhost:8080/",
     "height": 0
    },
    "id": "LBP4jEMqkND3",
    "outputId": "3f916b90-63a6-47fa-a06a-9f7303a2110c"
   },
   "outputs": [
    {
     "data": {
      "text/html": [
       "<div>\n",
       "<style scoped>\n",
       "    .dataframe tbody tr th:only-of-type {\n",
       "        vertical-align: middle;\n",
       "    }\n",
       "\n",
       "    .dataframe tbody tr th {\n",
       "        vertical-align: top;\n",
       "    }\n",
       "\n",
       "    .dataframe thead th {\n",
       "        text-align: right;\n",
       "    }\n",
       "</style>\n",
       "<table border=\"1\" class=\"dataframe\">\n",
       "  <thead>\n",
       "    <tr style=\"text-align: right;\">\n",
       "      <th></th>\n",
       "      <th>cast</th>\n",
       "      <th>crew</th>\n",
       "      <th>movieId</th>\n",
       "      <th>director</th>\n",
       "    </tr>\n",
       "  </thead>\n",
       "  <tbody>\n",
       "    <tr>\n",
       "      <th>0</th>\n",
       "      <td>[Tom Hanks, Tim Allen, Don Rickles, Jim Varney...</td>\n",
       "      <td>[{'credit_id': '52fe4284c3a36847f8024f49', 'de...</td>\n",
       "      <td>862</td>\n",
       "      <td>John Lasseter</td>\n",
       "    </tr>\n",
       "    <tr>\n",
       "      <th>1</th>\n",
       "      <td>[Robin Williams, Jonathan Hyde, Kirsten Dunst,...</td>\n",
       "      <td>[{'credit_id': '52fe44bfc3a36847f80a7cd1', 'de...</td>\n",
       "      <td>8844</td>\n",
       "      <td>Joe Johnston</td>\n",
       "    </tr>\n",
       "    <tr>\n",
       "      <th>2</th>\n",
       "      <td>[Walter Matthau, Jack Lemmon, Ann-Margret, Sop...</td>\n",
       "      <td>[{'credit_id': '52fe466a9251416c75077a89', 'de...</td>\n",
       "      <td>15602</td>\n",
       "      <td>Howard Deutch</td>\n",
       "    </tr>\n",
       "    <tr>\n",
       "      <th>3</th>\n",
       "      <td>[Whitney Houston, Angela Bassett, Loretta Devi...</td>\n",
       "      <td>[{'credit_id': '52fe44779251416c91011acb', 'de...</td>\n",
       "      <td>31357</td>\n",
       "      <td>Forest Whitaker</td>\n",
       "    </tr>\n",
       "    <tr>\n",
       "      <th>4</th>\n",
       "      <td>[Steve Martin, Diane Keaton, Martin Short, Kim...</td>\n",
       "      <td>[{'credit_id': '52fe44959251416c75039ed7', 'de...</td>\n",
       "      <td>11862</td>\n",
       "      <td>Charles Shyer</td>\n",
       "    </tr>\n",
       "  </tbody>\n",
       "</table>\n",
       "</div>"
      ],
      "text/plain": [
       "                                                cast  \\\n",
       "0  [Tom Hanks, Tim Allen, Don Rickles, Jim Varney...   \n",
       "1  [Robin Williams, Jonathan Hyde, Kirsten Dunst,...   \n",
       "2  [Walter Matthau, Jack Lemmon, Ann-Margret, Sop...   \n",
       "3  [Whitney Houston, Angela Bassett, Loretta Devi...   \n",
       "4  [Steve Martin, Diane Keaton, Martin Short, Kim...   \n",
       "\n",
       "                                                crew  movieId         director  \n",
       "0  [{'credit_id': '52fe4284c3a36847f8024f49', 'de...      862    John Lasseter  \n",
       "1  [{'credit_id': '52fe44bfc3a36847f80a7cd1', 'de...     8844     Joe Johnston  \n",
       "2  [{'credit_id': '52fe466a9251416c75077a89', 'de...    15602    Howard Deutch  \n",
       "3  [{'credit_id': '52fe44779251416c91011acb', 'de...    31357  Forest Whitaker  \n",
       "4  [{'credit_id': '52fe44959251416c75039ed7', 'de...    11862    Charles Shyer  "
      ]
     },
     "execution_count": 259,
     "metadata": {},
     "output_type": "execute_result"
    }
   ],
   "source": [
    "def get_director(input):\n",
    "  input = eval(input)\n",
    "  for i in input:\n",
    "    if(i['job'] == 'Director'):\n",
    "      return i['name']\n",
    "  return np.nan\n",
    "\n",
    "credits[\"director\"] =  credits['crew'].apply(get_director)\n",
    "credits.head()"
   ]
  },
  {
   "cell_type": "code",
   "execution_count": 260,
   "metadata": {
    "colab": {
     "base_uri": "https://localhost:8080/"
    },
    "id": "MF77RaNmlZHW",
    "outputId": "b699051c-3edf-41d0-fa8c-c4473a60d215"
   },
   "outputs": [
    {
     "name": "stdout",
     "output_type": "stream",
     "text": [
      "<class 'pandas.core.frame.DataFrame'>\n",
      "RangeIndex: 45476 entries, 0 to 45475\n",
      "Data columns (total 4 columns):\n",
      " #   Column    Non-Null Count  Dtype \n",
      "---  ------    --------------  ----- \n",
      " 0   cast      45476 non-null  object\n",
      " 1   crew      45476 non-null  object\n",
      " 2   movieId   45476 non-null  int64 \n",
      " 3   director  44589 non-null  object\n",
      "dtypes: int64(1), object(3)\n",
      "memory usage: 1.4+ MB\n"
     ]
    }
   ],
   "source": [
    "credits.info()"
   ]
  },
  {
   "cell_type": "markdown",
   "metadata": {
    "id": "jeUNxnZci7Ix"
   },
   "source": [
    "### Dropping null and duplicated values"
   ]
  },
  {
   "cell_type": "code",
   "execution_count": 261,
   "metadata": {
    "id": "2QCIw2jLi7Iy"
   },
   "outputs": [],
   "source": [
    "credits.drop_duplicates(subset = [\"movieId\"], inplace = True)"
   ]
  },
  {
   "cell_type": "code",
   "execution_count": 262,
   "metadata": {
    "id": "siv1dE_SmMwM"
   },
   "outputs": [],
   "source": [
    "credits.dropna(subset = [\"movieId\"], inplace = True)"
   ]
  },
  {
   "cell_type": "code",
   "execution_count": 263,
   "metadata": {
    "colab": {
     "base_uri": "https://localhost:8080/"
    },
    "id": "iHuIzxOti7Iy",
    "outputId": "096a6952-d839-438c-8584-1072ba597340"
   },
   "outputs": [
    {
     "name": "stdout",
     "output_type": "stream",
     "text": [
      "<class 'pandas.core.frame.DataFrame'>\n",
      "Index: 45432 entries, 0 to 45475\n",
      "Data columns (total 4 columns):\n",
      " #   Column    Non-Null Count  Dtype \n",
      "---  ------    --------------  ----- \n",
      " 0   cast      45432 non-null  object\n",
      " 1   crew      45432 non-null  object\n",
      " 2   movieId   45432 non-null  int64 \n",
      " 3   director  44545 non-null  object\n",
      "dtypes: int64(1), object(3)\n",
      "memory usage: 1.7+ MB\n"
     ]
    }
   ],
   "source": [
    "credits.info()"
   ]
  },
  {
   "cell_type": "markdown",
   "metadata": {
    "id": "-F98nBvYXeSQ"
   },
   "source": [
    "## general"
   ]
  },
  {
   "cell_type": "code",
   "execution_count": 264,
   "metadata": {
    "colab": {
     "base_uri": "https://localhost:8080/"
    },
    "id": "OtA84Ay8XgpG",
    "outputId": "6ff06963-7be8-4e5f-bf09-acabd8d73a48"
   },
   "outputs": [
    {
     "name": "stdout",
     "output_type": "stream",
     "text": [
      "Number of unique users: 103839\n",
      "Number of unique movies: 41914\n"
     ]
    }
   ],
   "source": [
    "n_users = ratings[\"userId\"].nunique()\n",
    "n_movies = movies[\"movieId\"].nunique()\n",
    "print(f\"Number of unique users: {n_users}\")\n",
    "print(f\"Number of unique movies: {n_movies}\")"
   ]
  },
  {
   "cell_type": "code",
   "execution_count": 265,
   "metadata": {
    "colab": {
     "base_uri": "https://localhost:8080/"
    },
    "id": "zaO0KmETZyy8",
    "outputId": "8b7a1c25-9bd0-4de2-91f5-3ca8c30d0a94"
   },
   "outputs": [
    {
     "name": "stdout",
     "output_type": "stream",
     "text": [
      "Mean rating given by users: 3.6453254227479768\n",
      "Mean rating of movies: 3.05200945073404\n"
     ]
    }
   ],
   "source": [
    "users_mean_ratings = ratings.groupby(\"userId\")[\"rating\"].mean()\n",
    "movies_mean_ratings = ratings.groupby(\"movieId\")[\"rating\"].mean()\n",
    "print(f\"Mean rating given by users: {users_mean_ratings.mean()}\")\n",
    "print(f\"Mean rating of movies: {movies_mean_ratings.mean()}\")"
   ]
  },
  {
   "cell_type": "code",
   "execution_count": 266,
   "metadata": {
    "id": "Ua2PtAX5cWzc"
   },
   "outputs": [],
   "source": [
    "# fig, axes = plt.subplots(1, 2, figsize=(15, 5))\n",
    "\n",
    "# sns.boxplot(data=users_mean_ratings, ax=axes[0])\n",
    "# axes[0].set_title(\"Boxplot of Mean Ratings given by each users\")\n",
    "\n",
    "# sns.countplot(x=users_mean_ratings, ax=axes[1])\n",
    "# axes[1].set_title(\"Countplot of Mean Ratings given to each movie\")\n",
    "# axes[1].set_ylim(0, 5)\n",
    "\n",
    "# # sns.boxplot(data = ratings[\"rating\"], ax = axes[1])\n",
    "# # axes[1].set_title(\"Boxplot of ratings\")\n",
    "\n",
    "# # plt.tight_layout()\n",
    "# plt.show()"
   ]
  },
  {
   "cell_type": "code",
   "execution_count": 267,
   "metadata": {
    "id": "WEL4V1Fgcy3Z"
   },
   "outputs": [],
   "source": [
    "# fig, axes = plt.subplots(1, 2, figsize=(15, 5))\n",
    "\n",
    "# sns.boxplot(data=movies_mean_ratings, ax=axes[0])\n",
    "# axes[0].set_title(\"Boxplot of Mean Ratings\")\n",
    "\n",
    "# # sns.countplot(data=movies_mean_ratings, ax=axes[1])\n",
    "# # axes[1].set_title(\"Countplot of Mean Ratings\")\n",
    "\n",
    "# plt.tight_layout()\n",
    "# plt.show()"
   ]
  },
  {
   "cell_type": "markdown",
   "metadata": {
    "id": "lPpdK2jC8Qix"
   },
   "source": [
    "### Calculating baysian averaage"
   ]
  },
  {
   "cell_type": "markdown",
   "metadata": {
    "id": "ykZ5F4bAmh-D"
   },
   "source": [
    "\n",
    "we calculate the average rating using **Bayesian Average**, given by:\n",
    "\n",
    "$$\n",
    "\\text{avg_rating} = w_i \\cdot A_i + (1 - w_i) \\cdot S\n",
    "$$\n",
    "\n",
    "Where:\n",
    "$$\n",
    " w_i = \\frac{n_i}{n_i + n_{\\text{avg}}}\n",
    "$$\n",
    "- \\( n_i \\): Total number of ratings given to movie \\( i \\)\n",
    "- \\( n_avg \\): Average number of ratings given to a movie\n",
    "- \\( A_i \\): Average rating of movie \\( i \\)\n",
    "- \\( S \\): Mean average rating\n"
   ]
  },
  {
   "cell_type": "code",
   "execution_count": 268,
   "metadata": {
    "colab": {
     "base_uri": "https://localhost:8080/"
    },
    "id": "OD1pBzLumjoL",
    "outputId": "4fcb3cff-c405-43a0-85dd-d7d6e49448bb"
   },
   "outputs": [
    {
     "name": "stdout",
     "output_type": "stream",
     "text": [
      "\n",
      "n_i: \n",
      " movieId\n",
      "1         48427\n",
      "2         23346\n",
      "3          9391\n",
      "4          2597\n",
      "5          9317\n",
      "          ...  \n",
      "176267        1\n",
      "176269        1\n",
      "176271        1\n",
      "176273        1\n",
      "176275        1\n",
      "Name: rating, Length: 44853, dtype: int64\n",
      "\n",
      "navg: \n",
      " 510.09468708893496\n",
      "\n",
      "w: \n",
      " movieId\n",
      "1         0.989577\n",
      "2         0.978618\n",
      "3         0.948481\n",
      "4         0.835829\n",
      "5         0.948093\n",
      "            ...   \n",
      "176267    0.001957\n",
      "176269    0.001957\n",
      "176271    0.001957\n",
      "176273    0.001957\n",
      "176275    0.001957\n",
      "Name: rating, Length: 44853, dtype: float64\n",
      "\n",
      " A: \n",
      " movieId\n",
      "1         3.882782\n",
      "2         3.205581\n",
      "3         3.088382\n",
      "4         2.832307\n",
      "5         3.013309\n",
      "            ...   \n",
      "176267    4.000000\n",
      "176269    3.500000\n",
      "176271    5.000000\n",
      "176273    1.000000\n",
      "176275    3.000000\n",
      "Name: rating, Length: 44853, dtype: float64\n",
      "\n",
      "S: \n",
      " 3.5141292707807157\n",
      "\n",
      " baysian_avg: \n",
      " movieId\n",
      "1         3.878940\n",
      "2         3.212179\n",
      "3         3.110317\n",
      "4         2.944242\n",
      "5         3.039305\n",
      "            ...   \n",
      "176267    3.515080\n",
      "176269    3.514102\n",
      "176271    3.517037\n",
      "176273    3.509210\n",
      "176275    3.513123\n",
      "Name: rating, Length: 44853, dtype: float64\n"
     ]
    }
   ],
   "source": [
    "n_i = ratings.groupby(\"movieId\")[\"rating\"].count()\n",
    "print(\"\\nn_i: \\n\" , n_i)\n",
    "n_avg = ratings.groupby(\"movieId\")[\"rating\"].count().mean()\n",
    "print(\"\\nnavg: \\n\",n_avg)\n",
    "w = n_i / (n_i + n_avg)\n",
    "print(\"\\nw: \\n\", w)\n",
    "A = ratings.groupby(\"movieId\")[\"rating\"].mean()\n",
    "print(\"\\n A: \\n\",A)\n",
    "S = ratings[\"rating\"].mean()\n",
    "print(\"\\nS: \\n\", S)\n",
    "baysian_avg = w * A + (1 - w) * S\n",
    "print(\"\\n baysian_avg: \\n\", baysian_avg)"
   ]
  },
  {
   "cell_type": "code",
   "execution_count": 269,
   "metadata": {
    "id": "xr9cYE3B6OPL"
   },
   "outputs": [],
   "source": [
    "baysian_avg_df = baysian_avg.reset_index()\n",
    "baysian_avg_df.columns = ['movieId', 'baysian_avg']\n",
    "movies = movies.merge(baysian_avg_df, on='movieId', how='left')"
   ]
  },
  {
   "cell_type": "code",
   "execution_count": 270,
   "metadata": {
    "colab": {
     "base_uri": "https://localhost:8080/",
     "height": 0
    },
    "id": "FtMYiS318ouA",
    "outputId": "d99de940-617e-4dc4-8c64-24b3907a5088"
   },
   "outputs": [
    {
     "data": {
      "text/html": [
       "<div>\n",
       "<style scoped>\n",
       "    .dataframe tbody tr th:only-of-type {\n",
       "        vertical-align: middle;\n",
       "    }\n",
       "\n",
       "    .dataframe tbody tr th {\n",
       "        vertical-align: top;\n",
       "    }\n",
       "\n",
       "    .dataframe thead th {\n",
       "        text-align: right;\n",
       "    }\n",
       "</style>\n",
       "<table border=\"1\" class=\"dataframe\">\n",
       "  <thead>\n",
       "    <tr style=\"text-align: right;\">\n",
       "      <th></th>\n",
       "      <th>genres</th>\n",
       "      <th>movieId</th>\n",
       "      <th>overview</th>\n",
       "      <th>popularity</th>\n",
       "      <th>poster_path</th>\n",
       "      <th>revenue</th>\n",
       "      <th>tagline</th>\n",
       "      <th>title</th>\n",
       "      <th>vote_average</th>\n",
       "      <th>vote_count</th>\n",
       "      <th>description</th>\n",
       "      <th>baysian_avg</th>\n",
       "    </tr>\n",
       "  </thead>\n",
       "  <tbody>\n",
       "    <tr>\n",
       "      <th>0</th>\n",
       "      <td>[Animation, Comedy, Family]</td>\n",
       "      <td>862</td>\n",
       "      <td>Led by Woody, Andy's toys live happily in his ...</td>\n",
       "      <td>21.946943</td>\n",
       "      <td>/rhIRbceoE9lR4veEXuwCC2wARtG.jpg</td>\n",
       "      <td>373554033.0</td>\n",
       "      <td></td>\n",
       "      <td>Toy Story</td>\n",
       "      <td>7.7</td>\n",
       "      <td>5415.0</td>\n",
       "      <td>Led by Woody, Andy's toys live happily in his ...</td>\n",
       "      <td>3.548548</td>\n",
       "    </tr>\n",
       "    <tr>\n",
       "      <th>1</th>\n",
       "      <td>[Adventure, Fantasy, Family]</td>\n",
       "      <td>8844</td>\n",
       "      <td>When siblings Judy and Peter discover an encha...</td>\n",
       "      <td>17.015539</td>\n",
       "      <td>/vzmL6fP7aPKNKPRTFnZmiUfciyV.jpg</td>\n",
       "      <td>262797249.0</td>\n",
       "      <td>Roll the dice and unleash the excitement!</td>\n",
       "      <td>Jumanji</td>\n",
       "      <td>6.9</td>\n",
       "      <td>2413.0</td>\n",
       "      <td>When siblings Judy and Peter discover an encha...</td>\n",
       "      <td>3.550562</td>\n",
       "    </tr>\n",
       "    <tr>\n",
       "      <th>2</th>\n",
       "      <td>[Romance, Comedy]</td>\n",
       "      <td>15602</td>\n",
       "      <td>A family wedding reignites the ancient feud be...</td>\n",
       "      <td>11.712900</td>\n",
       "      <td>/6ksm1sjKMFLbO7UY2i6G1ju9SML.jpg</td>\n",
       "      <td>0.0</td>\n",
       "      <td>Still Yelling. Still Fighting. Still Ready for...</td>\n",
       "      <td>Grumpier Old Men</td>\n",
       "      <td>6.5</td>\n",
       "      <td>92.0</td>\n",
       "      <td>A family wedding reignites the ancient feud be...</td>\n",
       "      <td>NaN</td>\n",
       "    </tr>\n",
       "    <tr>\n",
       "      <th>3</th>\n",
       "      <td>[Comedy, Drama, Romance]</td>\n",
       "      <td>31357</td>\n",
       "      <td>Cheated on, mistreated and stepped on, the wom...</td>\n",
       "      <td>3.859495</td>\n",
       "      <td>/16XOMpEaLWkrcPqSQqhTmeJuqQl.jpg</td>\n",
       "      <td>81452156.0</td>\n",
       "      <td>Friends are the people who let you be yourself...</td>\n",
       "      <td>Waiting to Exhale</td>\n",
       "      <td>6.1</td>\n",
       "      <td>34.0</td>\n",
       "      <td>Cheated on, mistreated and stepped on, the wom...</td>\n",
       "      <td>NaN</td>\n",
       "    </tr>\n",
       "    <tr>\n",
       "      <th>4</th>\n",
       "      <td>[Comedy]</td>\n",
       "      <td>11862</td>\n",
       "      <td>Just when George Banks has recovered from his ...</td>\n",
       "      <td>8.387519</td>\n",
       "      <td>/e64sOI48hQXyru7naBFyssKFxVd.jpg</td>\n",
       "      <td>76578911.0</td>\n",
       "      <td>Just When His World Is Back To Normal... He's ...</td>\n",
       "      <td>Father of the Bride Part II</td>\n",
       "      <td>5.7</td>\n",
       "      <td>173.0</td>\n",
       "      <td>Just when George Banks has recovered from his ...</td>\n",
       "      <td>NaN</td>\n",
       "    </tr>\n",
       "  </tbody>\n",
       "</table>\n",
       "</div>"
      ],
      "text/plain": [
       "                         genres  movieId  \\\n",
       "0   [Animation, Comedy, Family]      862   \n",
       "1  [Adventure, Fantasy, Family]     8844   \n",
       "2             [Romance, Comedy]    15602   \n",
       "3      [Comedy, Drama, Romance]    31357   \n",
       "4                      [Comedy]    11862   \n",
       "\n",
       "                                            overview  popularity  \\\n",
       "0  Led by Woody, Andy's toys live happily in his ...   21.946943   \n",
       "1  When siblings Judy and Peter discover an encha...   17.015539   \n",
       "2  A family wedding reignites the ancient feud be...   11.712900   \n",
       "3  Cheated on, mistreated and stepped on, the wom...    3.859495   \n",
       "4  Just when George Banks has recovered from his ...    8.387519   \n",
       "\n",
       "                        poster_path      revenue  \\\n",
       "0  /rhIRbceoE9lR4veEXuwCC2wARtG.jpg  373554033.0   \n",
       "1  /vzmL6fP7aPKNKPRTFnZmiUfciyV.jpg  262797249.0   \n",
       "2  /6ksm1sjKMFLbO7UY2i6G1ju9SML.jpg          0.0   \n",
       "3  /16XOMpEaLWkrcPqSQqhTmeJuqQl.jpg   81452156.0   \n",
       "4  /e64sOI48hQXyru7naBFyssKFxVd.jpg   76578911.0   \n",
       "\n",
       "                                             tagline  \\\n",
       "0                                                      \n",
       "1          Roll the dice and unleash the excitement!   \n",
       "2  Still Yelling. Still Fighting. Still Ready for...   \n",
       "3  Friends are the people who let you be yourself...   \n",
       "4  Just When His World Is Back To Normal... He's ...   \n",
       "\n",
       "                         title  vote_average  vote_count  \\\n",
       "0                    Toy Story           7.7      5415.0   \n",
       "1                      Jumanji           6.9      2413.0   \n",
       "2             Grumpier Old Men           6.5        92.0   \n",
       "3            Waiting to Exhale           6.1        34.0   \n",
       "4  Father of the Bride Part II           5.7       173.0   \n",
       "\n",
       "                                         description  baysian_avg  \n",
       "0  Led by Woody, Andy's toys live happily in his ...     3.548548  \n",
       "1  When siblings Judy and Peter discover an encha...     3.550562  \n",
       "2  A family wedding reignites the ancient feud be...          NaN  \n",
       "3  Cheated on, mistreated and stepped on, the wom...          NaN  \n",
       "4  Just when George Banks has recovered from his ...          NaN  "
      ]
     },
     "execution_count": 270,
     "metadata": {},
     "output_type": "execute_result"
    }
   ],
   "source": [
    "movies.head()"
   ]
  },
  {
   "cell_type": "code",
   "execution_count": 271,
   "metadata": {
    "colab": {
     "base_uri": "https://localhost:8080/",
     "height": 0
    },
    "id": "6D6akkpDDP7I",
    "outputId": "aa7bbcc7-e21d-405f-990c-1c3de3bbfb35"
   },
   "outputs": [
    {
     "data": {
      "text/html": [
       "<div>\n",
       "<style scoped>\n",
       "    .dataframe tbody tr th:only-of-type {\n",
       "        vertical-align: middle;\n",
       "    }\n",
       "\n",
       "    .dataframe tbody tr th {\n",
       "        vertical-align: top;\n",
       "    }\n",
       "\n",
       "    .dataframe thead th {\n",
       "        text-align: right;\n",
       "    }\n",
       "</style>\n",
       "<table border=\"1\" class=\"dataframe\">\n",
       "  <thead>\n",
       "    <tr style=\"text-align: right;\">\n",
       "      <th></th>\n",
       "      <th>genres</th>\n",
       "      <th>movieId</th>\n",
       "      <th>overview</th>\n",
       "      <th>popularity</th>\n",
       "      <th>poster_path</th>\n",
       "      <th>revenue</th>\n",
       "      <th>tagline</th>\n",
       "      <th>title</th>\n",
       "      <th>vote_average</th>\n",
       "      <th>vote_count</th>\n",
       "      <th>description</th>\n",
       "      <th>baysian_avg</th>\n",
       "    </tr>\n",
       "  </thead>\n",
       "  <tbody>\n",
       "    <tr>\n",
       "      <th>3959</th>\n",
       "      <td>[Drama, Thriller]</td>\n",
       "      <td>318</td>\n",
       "      <td>The Million Dollar Hotel starts with a jump fr...</td>\n",
       "      <td>4.938231</td>\n",
       "      <td>/4wxOzpCjXY2RQgS3YoHuvKdItTF.jpg</td>\n",
       "      <td>0.0</td>\n",
       "      <td></td>\n",
       "      <td>The Million Dollar Hotel</td>\n",
       "      <td>5.9</td>\n",
       "      <td>76.0</td>\n",
       "      <td>The Million Dollar Hotel starts with a jump fr...</td>\n",
       "      <td>4.405497</td>\n",
       "    </tr>\n",
       "    <tr>\n",
       "      <th>534</th>\n",
       "      <td>[Comedy, Drama, Romance]</td>\n",
       "      <td>858</td>\n",
       "      <td>A young boy who tries to set his dad up on a d...</td>\n",
       "      <td>10.234919</td>\n",
       "      <td>/afkYP15OeUOD0tFEmj6VvejuOcz.jpg</td>\n",
       "      <td>227799884.0</td>\n",
       "      <td>What if someone you never met, someone you nev...</td>\n",
       "      <td>Sleepless in Seattle</td>\n",
       "      <td>6.5</td>\n",
       "      <td>630.0</td>\n",
       "      <td>A young boy who tries to set his dad up on a d...</td>\n",
       "      <td>4.324560</td>\n",
       "    </tr>\n",
       "    <tr>\n",
       "      <th>286</th>\n",
       "      <td>[Drama]</td>\n",
       "      <td>527</td>\n",
       "      <td>A drama about a Maori family lving in Auckland...</td>\n",
       "      <td>4.025276</td>\n",
       "      <td>/8QF48QS5lvtrhOclt22RFz3bSQm.jpg</td>\n",
       "      <td>2201126.0</td>\n",
       "      <td>A family in crisis, a life in chaos... Nothing...</td>\n",
       "      <td>Once Were Warriors</td>\n",
       "      <td>7.6</td>\n",
       "      <td>106.0</td>\n",
       "      <td>A drama about a Maori family lving in Auckland...</td>\n",
       "      <td>4.245774</td>\n",
       "    </tr>\n",
       "    <tr>\n",
       "      <th>459</th>\n",
       "      <td>[Action, Adventure, Crime, Thriller]</td>\n",
       "      <td>2019</td>\n",
       "      <td>When a woman's father goes missing, she enlist...</td>\n",
       "      <td>7.834351</td>\n",
       "      <td>/6WEu60V7EzncuFJSVmGJzhFvs4I.jpg</td>\n",
       "      <td>74189677.0</td>\n",
       "      <td>Don't hunt what you can't kill.</td>\n",
       "      <td>Hard Target</td>\n",
       "      <td>6.1</td>\n",
       "      <td>237.0</td>\n",
       "      <td>When a woman's father goes missing, she enlist...</td>\n",
       "      <td>4.228001</td>\n",
       "    </tr>\n",
       "    <tr>\n",
       "      <th>11513</th>\n",
       "      <td>[Comedy]</td>\n",
       "      <td>2959</td>\n",
       "      <td>Newly engaged, Ben and Sadie can't wait to sta...</td>\n",
       "      <td>7.102076</td>\n",
       "      <td>/9I8NiY5cfFmwgI8Y5NKQqsuDawS.jpg</td>\n",
       "      <td>69307224.0</td>\n",
       "      <td>First came love... then came Reverend Frank.</td>\n",
       "      <td>License to Wed</td>\n",
       "      <td>5.3</td>\n",
       "      <td>258.0</td>\n",
       "      <td>Newly engaged, Ben and Sadie can't wait to sta...</td>\n",
       "      <td>4.215150</td>\n",
       "    </tr>\n",
       "    <tr>\n",
       "      <th>8319</th>\n",
       "      <td>[Drama, Crime, Mystery, Comedy]</td>\n",
       "      <td>750</td>\n",
       "      <td>Miss Marple believes she’s seen a murder in a ...</td>\n",
       "      <td>7.261845</td>\n",
       "      <td>/iniMlncVkZzQTZ3kLU6eEtoZz0V.jpg</td>\n",
       "      <td>0.0</td>\n",
       "      <td>Who is the blonde in the box?</td>\n",
       "      <td>Murder She Said</td>\n",
       "      <td>7.0</td>\n",
       "      <td>31.0</td>\n",
       "      <td>Miss Marple believes she’s seen a murder in a ...</td>\n",
       "      <td>4.205375</td>\n",
       "    </tr>\n",
       "    <tr>\n",
       "      <th>6274</th>\n",
       "      <td>[Action, Thriller, Science Fiction]</td>\n",
       "      <td>296</td>\n",
       "      <td>It's been 10 years since John Connor saved Ear...</td>\n",
       "      <td>20.818907</td>\n",
       "      <td>/lz4xYdF1n09lyiCfZWtWT44SZiG.jpg</td>\n",
       "      <td>435000000.0</td>\n",
       "      <td>The Machines Will Rise.</td>\n",
       "      <td>Terminator 3: Rise of the Machines</td>\n",
       "      <td>5.9</td>\n",
       "      <td>2177.0</td>\n",
       "      <td>It's been 10 years since John Connor saved Ear...</td>\n",
       "      <td>4.192919</td>\n",
       "    </tr>\n",
       "    <tr>\n",
       "      <th>697</th>\n",
       "      <td>[Drama, Fantasy, Western]</td>\n",
       "      <td>922</td>\n",
       "      <td>On the run after murdering a man, accountant W...</td>\n",
       "      <td>6.505272</td>\n",
       "      <td>/vGobIvxSiFvAmwqH8BlC3SpET0C.jpg</td>\n",
       "      <td>0.0</td>\n",
       "      <td>No one can survive becoming a legend.</td>\n",
       "      <td>Dead Man</td>\n",
       "      <td>7.2</td>\n",
       "      <td>397.0</td>\n",
       "      <td>On the run after murdering a man, accountant W...</td>\n",
       "      <td>4.173161</td>\n",
       "    </tr>\n",
       "    <tr>\n",
       "      <th>8500</th>\n",
       "      <td>[Romance, Comedy]</td>\n",
       "      <td>5618</td>\n",
       "      <td>Two distant cousins meet at a wedding banquet ...</td>\n",
       "      <td>0.624726</td>\n",
       "      <td>/z3iGJixiABlkXbiloRQWHsrIIFB.jpg</td>\n",
       "      <td>0.0</td>\n",
       "      <td></td>\n",
       "      <td>Cousin, Cousine</td>\n",
       "      <td>7.3</td>\n",
       "      <td>4.0</td>\n",
       "      <td>Two distant cousins meet at a wedding banquet ...</td>\n",
       "      <td>4.165747</td>\n",
       "    </tr>\n",
       "    <tr>\n",
       "      <th>3010</th>\n",
       "      <td>[Thriller, Crime, Drama]</td>\n",
       "      <td>1213</td>\n",
       "      <td>Tom Ripley is a calculating young man who beli...</td>\n",
       "      <td>11.655020</td>\n",
       "      <td>/cTV9p4Pup3XLGYZ0aNJCF9c4GuL.jpg</td>\n",
       "      <td>128798265.0</td>\n",
       "      <td>How far would you go to become someone else?</td>\n",
       "      <td>The Talented Mr. Ripley</td>\n",
       "      <td>7.1</td>\n",
       "      <td>790.0</td>\n",
       "      <td>Tom Ripley is a calculating young man who beli...</td>\n",
       "      <td>4.162154</td>\n",
       "    </tr>\n",
       "  </tbody>\n",
       "</table>\n",
       "</div>"
      ],
      "text/plain": [
       "                                     genres  movieId  \\\n",
       "3959                      [Drama, Thriller]      318   \n",
       "534                [Comedy, Drama, Romance]      858   \n",
       "286                                 [Drama]      527   \n",
       "459    [Action, Adventure, Crime, Thriller]     2019   \n",
       "11513                              [Comedy]     2959   \n",
       "8319        [Drama, Crime, Mystery, Comedy]      750   \n",
       "6274    [Action, Thriller, Science Fiction]      296   \n",
       "697               [Drama, Fantasy, Western]      922   \n",
       "8500                      [Romance, Comedy]     5618   \n",
       "3010               [Thriller, Crime, Drama]     1213   \n",
       "\n",
       "                                                overview  popularity  \\\n",
       "3959   The Million Dollar Hotel starts with a jump fr...    4.938231   \n",
       "534    A young boy who tries to set his dad up on a d...   10.234919   \n",
       "286    A drama about a Maori family lving in Auckland...    4.025276   \n",
       "459    When a woman's father goes missing, she enlist...    7.834351   \n",
       "11513  Newly engaged, Ben and Sadie can't wait to sta...    7.102076   \n",
       "8319   Miss Marple believes she’s seen a murder in a ...    7.261845   \n",
       "6274   It's been 10 years since John Connor saved Ear...   20.818907   \n",
       "697    On the run after murdering a man, accountant W...    6.505272   \n",
       "8500   Two distant cousins meet at a wedding banquet ...    0.624726   \n",
       "3010   Tom Ripley is a calculating young man who beli...   11.655020   \n",
       "\n",
       "                            poster_path      revenue  \\\n",
       "3959   /4wxOzpCjXY2RQgS3YoHuvKdItTF.jpg          0.0   \n",
       "534    /afkYP15OeUOD0tFEmj6VvejuOcz.jpg  227799884.0   \n",
       "286    /8QF48QS5lvtrhOclt22RFz3bSQm.jpg    2201126.0   \n",
       "459    /6WEu60V7EzncuFJSVmGJzhFvs4I.jpg   74189677.0   \n",
       "11513  /9I8NiY5cfFmwgI8Y5NKQqsuDawS.jpg   69307224.0   \n",
       "8319   /iniMlncVkZzQTZ3kLU6eEtoZz0V.jpg          0.0   \n",
       "6274   /lz4xYdF1n09lyiCfZWtWT44SZiG.jpg  435000000.0   \n",
       "697    /vGobIvxSiFvAmwqH8BlC3SpET0C.jpg          0.0   \n",
       "8500   /z3iGJixiABlkXbiloRQWHsrIIFB.jpg          0.0   \n",
       "3010   /cTV9p4Pup3XLGYZ0aNJCF9c4GuL.jpg  128798265.0   \n",
       "\n",
       "                                                 tagline  \\\n",
       "3959                                                       \n",
       "534    What if someone you never met, someone you nev...   \n",
       "286    A family in crisis, a life in chaos... Nothing...   \n",
       "459                      Don't hunt what you can't kill.   \n",
       "11513       First came love... then came Reverend Frank.   \n",
       "8319                       Who is the blonde in the box?   \n",
       "6274                             The Machines Will Rise.   \n",
       "697                No one can survive becoming a legend.   \n",
       "8500                                                       \n",
       "3010        How far would you go to become someone else?   \n",
       "\n",
       "                                    title  vote_average  vote_count  \\\n",
       "3959             The Million Dollar Hotel           5.9        76.0   \n",
       "534                  Sleepless in Seattle           6.5       630.0   \n",
       "286                    Once Were Warriors           7.6       106.0   \n",
       "459                           Hard Target           6.1       237.0   \n",
       "11513                      License to Wed           5.3       258.0   \n",
       "8319                      Murder She Said           7.0        31.0   \n",
       "6274   Terminator 3: Rise of the Machines           5.9      2177.0   \n",
       "697                              Dead Man           7.2       397.0   \n",
       "8500                      Cousin, Cousine           7.3         4.0   \n",
       "3010              The Talented Mr. Ripley           7.1       790.0   \n",
       "\n",
       "                                             description  baysian_avg  \n",
       "3959   The Million Dollar Hotel starts with a jump fr...     4.405497  \n",
       "534    A young boy who tries to set his dad up on a d...     4.324560  \n",
       "286    A drama about a Maori family lving in Auckland...     4.245774  \n",
       "459    When a woman's father goes missing, she enlist...     4.228001  \n",
       "11513  Newly engaged, Ben and Sadie can't wait to sta...     4.215150  \n",
       "8319   Miss Marple believes she’s seen a murder in a ...     4.205375  \n",
       "6274   It's been 10 years since John Connor saved Ear...     4.192919  \n",
       "697    On the run after murdering a man, accountant W...     4.173161  \n",
       "8500   Two distant cousins meet at a wedding banquet ...     4.165747  \n",
       "3010   Tom Ripley is a calculating young man who beli...     4.162154  "
      ]
     },
     "execution_count": 271,
     "metadata": {},
     "output_type": "execute_result"
    }
   ],
   "source": [
    "movies.sort_values(\"baysian_avg\", ascending=False).head(10)"
   ]
  },
  {
   "cell_type": "code",
   "execution_count": 272,
   "metadata": {
    "colab": {
     "base_uri": "https://localhost:8080/",
     "height": 0
    },
    "id": "58VD8RodDV01",
    "outputId": "d884da10-e82d-4649-ea5d-5ce28b77cdf3",
    "scrolled": true
   },
   "outputs": [
    {
     "data": {
      "text/html": [
       "<div>\n",
       "<style scoped>\n",
       "    .dataframe tbody tr th:only-of-type {\n",
       "        vertical-align: middle;\n",
       "    }\n",
       "\n",
       "    .dataframe tbody tr th {\n",
       "        vertical-align: top;\n",
       "    }\n",
       "\n",
       "    .dataframe thead th {\n",
       "        text-align: right;\n",
       "    }\n",
       "</style>\n",
       "<table border=\"1\" class=\"dataframe\">\n",
       "  <thead>\n",
       "    <tr style=\"text-align: right;\">\n",
       "      <th></th>\n",
       "      <th>genres</th>\n",
       "      <th>movieId</th>\n",
       "      <th>overview</th>\n",
       "      <th>popularity</th>\n",
       "      <th>poster_path</th>\n",
       "      <th>revenue</th>\n",
       "      <th>tagline</th>\n",
       "      <th>title</th>\n",
       "      <th>vote_average</th>\n",
       "      <th>vote_count</th>\n",
       "      <th>description</th>\n",
       "      <th>baysian_avg</th>\n",
       "    </tr>\n",
       "  </thead>\n",
       "  <tbody>\n",
       "    <tr>\n",
       "      <th>10949</th>\n",
       "      <td>[Adventure, Horror, Science Fiction]</td>\n",
       "      <td>3593</td>\n",
       "      <td>Four explorers are summoned to Peru by the bri...</td>\n",
       "      <td>0.662919</td>\n",
       "      <td>/5bUdwNdumc2cPzq9dQIkYMxovQx.jpg</td>\n",
       "      <td>0.0</td>\n",
       "      <td></td>\n",
       "      <td>Dr. Cyclops</td>\n",
       "      <td>6.1</td>\n",
       "      <td>15.0</td>\n",
       "      <td>Four explorers are summoned to Peru by the bri...</td>\n",
       "      <td>1.776883</td>\n",
       "    </tr>\n",
       "    <tr>\n",
       "      <th>18408</th>\n",
       "      <td>[Drama]</td>\n",
       "      <td>1556</td>\n",
       "      <td>A feverish collision of avant-garde aesthetics...</td>\n",
       "      <td>3.502077</td>\n",
       "      <td>/v2HfNo9eLNHvN6Rh9BQiJBVGDPQ.jpg</td>\n",
       "      <td>0.0</td>\n",
       "      <td>The trials and tribulations of Eddie and other...</td>\n",
       "      <td>Funeral Parade of Roses</td>\n",
       "      <td>7.1</td>\n",
       "      <td>21.0</td>\n",
       "      <td>A feverish collision of avant-garde aesthetics...</td>\n",
       "      <td>2.023006</td>\n",
       "    </tr>\n",
       "    <tr>\n",
       "      <th>3241</th>\n",
       "      <td>[Adventure, Drama, Family]</td>\n",
       "      <td>2383</td>\n",
       "      <td>An orphan bear cub hooks up with an adult male...</td>\n",
       "      <td>4.158572</td>\n",
       "      <td>/1EgJJ7uIsMYZJ69T6KfQunuLLBk.jpg</td>\n",
       "      <td>138241022.0</td>\n",
       "      <td>He's an orphan... at the start of a journey. A...</td>\n",
       "      <td>The Bear</td>\n",
       "      <td>6.9</td>\n",
       "      <td>85.0</td>\n",
       "      <td>An orphan bear cub hooks up with an adult male...</td>\n",
       "      <td>2.109673</td>\n",
       "    </tr>\n",
       "    <tr>\n",
       "      <th>11419</th>\n",
       "      <td>[Fantasy, Adventure, Animation, Comedy, Family]</td>\n",
       "      <td>810</td>\n",
       "      <td>The King of Far Far Away has died and Shrek an...</td>\n",
       "      <td>14.072479</td>\n",
       "      <td>/lA17Mlz8hXVZsW5Y3WuUa8KPilQ.jpg</td>\n",
       "      <td>798958165.0</td>\n",
       "      <td>Who's ready for Thirds?</td>\n",
       "      <td>Shrek the Third</td>\n",
       "      <td>6.0</td>\n",
       "      <td>2355.0</td>\n",
       "      <td>The King of Far Far Away has died and Shrek an...</td>\n",
       "      <td>2.123331</td>\n",
       "    </tr>\n",
       "    <tr>\n",
       "      <th>10894</th>\n",
       "      <td>[Drama, Adventure, Science Fiction, Romance]</td>\n",
       "      <td>1381</td>\n",
       "      <td>Spanning over one thousand years, and three pa...</td>\n",
       "      <td>11.577121</td>\n",
       "      <td>/lGIJvQ8ZQazOHVAA0E34yIy7gxv.jpg</td>\n",
       "      <td>15304890.0</td>\n",
       "      <td>Death is the road to awe</td>\n",
       "      <td>The Fountain</td>\n",
       "      <td>6.8</td>\n",
       "      <td>852.0</td>\n",
       "      <td>Spanning over one thousand years, and three pa...</td>\n",
       "      <td>2.151459</td>\n",
       "    </tr>\n",
       "    <tr>\n",
       "      <th>7106</th>\n",
       "      <td>[Action, Crime, Thriller]</td>\n",
       "      <td>393</td>\n",
       "      <td>The Bride unwaveringly continues on her roarin...</td>\n",
       "      <td>21.533072</td>\n",
       "      <td>/au9lFA5a2ZnBKCzPbZQf00r7J64.jpg</td>\n",
       "      <td>152159461.0</td>\n",
       "      <td>The bride is back for the final cut.</td>\n",
       "      <td>Kill Bill: Vol. 2</td>\n",
       "      <td>7.7</td>\n",
       "      <td>4061.0</td>\n",
       "      <td>The Bride unwaveringly continues on her roarin...</td>\n",
       "      <td>2.172808</td>\n",
       "    </tr>\n",
       "    <tr>\n",
       "      <th>3268</th>\n",
       "      <td>[Action, Adventure, Comedy, Family, Fantasy, S...</td>\n",
       "      <td>1499</td>\n",
       "      <td>The four turtles travel back in time to the da...</td>\n",
       "      <td>8.136880</td>\n",
       "      <td>/bax6hItUe0XSeyO25J5V7hhgkkZ.jpg</td>\n",
       "      <td>42000000.0</td>\n",
       "      <td>The Turtles Are Back....In Time.</td>\n",
       "      <td>Teenage Mutant Ninja Turtles III</td>\n",
       "      <td>5.1</td>\n",
       "      <td>189.0</td>\n",
       "      <td>The four turtles travel back in time to the da...</td>\n",
       "      <td>2.174414</td>\n",
       "    </tr>\n",
       "    <tr>\n",
       "      <th>1785</th>\n",
       "      <td>[Romance, Comedy, Crime]</td>\n",
       "      <td>1389</td>\n",
       "      <td>Meet Jack Foley, a smooth criminal who bends t...</td>\n",
       "      <td>7.349812</td>\n",
       "      <td>/hSL2Ta4ErgAxPEOlkkxZmrTSAET.jpg</td>\n",
       "      <td>77745568.0</td>\n",
       "      <td>Opposites attract.</td>\n",
       "      <td>Out of Sight</td>\n",
       "      <td>6.5</td>\n",
       "      <td>338.0</td>\n",
       "      <td>Meet Jack Foley, a smooth criminal who bends t...</td>\n",
       "      <td>2.177423</td>\n",
       "    </tr>\n",
       "    <tr>\n",
       "      <th>10310</th>\n",
       "      <td>[Drama]</td>\n",
       "      <td>546</td>\n",
       "      <td>Bree is about to get a sex change operation th...</td>\n",
       "      <td>7.398205</td>\n",
       "      <td>/ehYc5DRe1Ipnn5XSf3Tol3LMbrq.jpg</td>\n",
       "      <td>13350369.0</td>\n",
       "      <td>Life is a Journey. Bring an Open Mind.</td>\n",
       "      <td>Transamerica</td>\n",
       "      <td>6.9</td>\n",
       "      <td>149.0</td>\n",
       "      <td>Bree is about to get a sex change operation th...</td>\n",
       "      <td>2.188634</td>\n",
       "    </tr>\n",
       "    <tr>\n",
       "      <th>11411</th>\n",
       "      <td>[Horror, Thriller, Science Fiction]</td>\n",
       "      <td>1562</td>\n",
       "      <td>In this chilling sequel to 28 Days Later, the ...</td>\n",
       "      <td>12.884191</td>\n",
       "      <td>/kcJ99AtUykDhpzfQOApsViQa3fj.jpg</td>\n",
       "      <td>64238440.0</td>\n",
       "      <td>When days turn to weeks... the horror returns.</td>\n",
       "      <td>28 Weeks Later</td>\n",
       "      <td>6.5</td>\n",
       "      <td>1225.0</td>\n",
       "      <td>In this chilling sequel to 28 Days Later, the ...</td>\n",
       "      <td>2.209588</td>\n",
       "    </tr>\n",
       "  </tbody>\n",
       "</table>\n",
       "</div>"
      ],
      "text/plain": [
       "                                                  genres  movieId  \\\n",
       "10949               [Adventure, Horror, Science Fiction]     3593   \n",
       "18408                                            [Drama]     1556   \n",
       "3241                          [Adventure, Drama, Family]     2383   \n",
       "11419    [Fantasy, Adventure, Animation, Comedy, Family]      810   \n",
       "10894       [Drama, Adventure, Science Fiction, Romance]     1381   \n",
       "7106                           [Action, Crime, Thriller]      393   \n",
       "3268   [Action, Adventure, Comedy, Family, Fantasy, S...     1499   \n",
       "1785                            [Romance, Comedy, Crime]     1389   \n",
       "10310                                            [Drama]      546   \n",
       "11411                [Horror, Thriller, Science Fiction]     1562   \n",
       "\n",
       "                                                overview  popularity  \\\n",
       "10949  Four explorers are summoned to Peru by the bri...    0.662919   \n",
       "18408  A feverish collision of avant-garde aesthetics...    3.502077   \n",
       "3241   An orphan bear cub hooks up with an adult male...    4.158572   \n",
       "11419  The King of Far Far Away has died and Shrek an...   14.072479   \n",
       "10894  Spanning over one thousand years, and three pa...   11.577121   \n",
       "7106   The Bride unwaveringly continues on her roarin...   21.533072   \n",
       "3268   The four turtles travel back in time to the da...    8.136880   \n",
       "1785   Meet Jack Foley, a smooth criminal who bends t...    7.349812   \n",
       "10310  Bree is about to get a sex change operation th...    7.398205   \n",
       "11411  In this chilling sequel to 28 Days Later, the ...   12.884191   \n",
       "\n",
       "                            poster_path      revenue  \\\n",
       "10949  /5bUdwNdumc2cPzq9dQIkYMxovQx.jpg          0.0   \n",
       "18408  /v2HfNo9eLNHvN6Rh9BQiJBVGDPQ.jpg          0.0   \n",
       "3241   /1EgJJ7uIsMYZJ69T6KfQunuLLBk.jpg  138241022.0   \n",
       "11419  /lA17Mlz8hXVZsW5Y3WuUa8KPilQ.jpg  798958165.0   \n",
       "10894  /lGIJvQ8ZQazOHVAA0E34yIy7gxv.jpg   15304890.0   \n",
       "7106   /au9lFA5a2ZnBKCzPbZQf00r7J64.jpg  152159461.0   \n",
       "3268   /bax6hItUe0XSeyO25J5V7hhgkkZ.jpg   42000000.0   \n",
       "1785   /hSL2Ta4ErgAxPEOlkkxZmrTSAET.jpg   77745568.0   \n",
       "10310  /ehYc5DRe1Ipnn5XSf3Tol3LMbrq.jpg   13350369.0   \n",
       "11411  /kcJ99AtUykDhpzfQOApsViQa3fj.jpg   64238440.0   \n",
       "\n",
       "                                                 tagline  \\\n",
       "10949                                                      \n",
       "18408  The trials and tribulations of Eddie and other...   \n",
       "3241   He's an orphan... at the start of a journey. A...   \n",
       "11419                            Who's ready for Thirds?   \n",
       "10894                           Death is the road to awe   \n",
       "7106                The bride is back for the final cut.   \n",
       "3268                    The Turtles Are Back....In Time.   \n",
       "1785                                  Opposites attract.   \n",
       "10310             Life is a Journey. Bring an Open Mind.   \n",
       "11411     When days turn to weeks... the horror returns.   \n",
       "\n",
       "                                  title  vote_average  vote_count  \\\n",
       "10949                       Dr. Cyclops           6.1        15.0   \n",
       "18408           Funeral Parade of Roses           7.1        21.0   \n",
       "3241                           The Bear           6.9        85.0   \n",
       "11419                   Shrek the Third           6.0      2355.0   \n",
       "10894                      The Fountain           6.8       852.0   \n",
       "7106                  Kill Bill: Vol. 2           7.7      4061.0   \n",
       "3268   Teenage Mutant Ninja Turtles III           5.1       189.0   \n",
       "1785                       Out of Sight           6.5       338.0   \n",
       "10310                      Transamerica           6.9       149.0   \n",
       "11411                    28 Weeks Later           6.5      1225.0   \n",
       "\n",
       "                                             description  baysian_avg  \n",
       "10949  Four explorers are summoned to Peru by the bri...     1.776883  \n",
       "18408  A feverish collision of avant-garde aesthetics...     2.023006  \n",
       "3241   An orphan bear cub hooks up with an adult male...     2.109673  \n",
       "11419  The King of Far Far Away has died and Shrek an...     2.123331  \n",
       "10894  Spanning over one thousand years, and three pa...     2.151459  \n",
       "7106   The Bride unwaveringly continues on her roarin...     2.172808  \n",
       "3268   The four turtles travel back in time to the da...     2.174414  \n",
       "1785   Meet Jack Foley, a smooth criminal who bends t...     2.177423  \n",
       "10310  Bree is about to get a sex change operation th...     2.188634  \n",
       "11411  In this chilling sequel to 28 Days Later, the ...     2.209588  "
      ]
     },
     "execution_count": 272,
     "metadata": {},
     "output_type": "execute_result"
    }
   ],
   "source": [
    "movies.sort_values(\"baysian_avg\", ascending=True).head(10)"
   ]
  },
  {
   "cell_type": "markdown",
   "metadata": {
    "id": "vrtbkFyC-TIg"
   },
   "source": [
    "# making pivot matrix"
   ]
  },
  {
   "cell_type": "markdown",
   "metadata": {
    "id": "xe5H06XTBb83"
   },
   "source": [
    "## Merging ratings and movies df"
   ]
  },
  {
   "cell_type": "code",
   "execution_count": 273,
   "metadata": {
    "colab": {
     "base_uri": "https://localhost:8080/",
     "height": 1000
    },
    "id": "1jwTDD7zBfGq",
    "outputId": "1b0b6da1-26ed-4b2c-8047-08a1ef4523bc",
    "scrolled": true
   },
   "outputs": [
    {
     "data": {
      "text/html": [
       "<div>\n",
       "<style scoped>\n",
       "    .dataframe tbody tr th:only-of-type {\n",
       "        vertical-align: middle;\n",
       "    }\n",
       "\n",
       "    .dataframe tbody tr th {\n",
       "        vertical-align: top;\n",
       "    }\n",
       "\n",
       "    .dataframe thead th {\n",
       "        text-align: right;\n",
       "    }\n",
       "</style>\n",
       "<table border=\"1\" class=\"dataframe\">\n",
       "  <thead>\n",
       "    <tr style=\"text-align: right;\">\n",
       "      <th></th>\n",
       "      <th>userId</th>\n",
       "      <th>movieId</th>\n",
       "      <th>rating</th>\n",
       "      <th>timestamp</th>\n",
       "      <th>genres</th>\n",
       "      <th>overview</th>\n",
       "      <th>popularity</th>\n",
       "      <th>poster_path</th>\n",
       "      <th>revenue</th>\n",
       "      <th>tagline</th>\n",
       "      <th>title</th>\n",
       "      <th>vote_average</th>\n",
       "      <th>vote_count</th>\n",
       "      <th>description</th>\n",
       "      <th>baysian_avg</th>\n",
       "    </tr>\n",
       "  </thead>\n",
       "  <tbody>\n",
       "    <tr>\n",
       "      <th>0</th>\n",
       "      <td>4</td>\n",
       "      <td>223</td>\n",
       "      <td>4.0</td>\n",
       "      <td>1042668576</td>\n",
       "      <td>[Drama, Mystery]</td>\n",
       "      <td>A self-conscious bride is tormented by the mem...</td>\n",
       "      <td>8.590813</td>\n",
       "      <td>/eIkJjEbQcPasYvoNHKueFrfgpX4.jpg</td>\n",
       "      <td>6000000.0</td>\n",
       "      <td>The shadow of this woman darkened their love.</td>\n",
       "      <td>Rebecca</td>\n",
       "      <td>7.7</td>\n",
       "      <td>346.0</td>\n",
       "      <td>A self-conscious bride is tormented by the mem...</td>\n",
       "      <td>3.839505</td>\n",
       "    </tr>\n",
       "    <tr>\n",
       "      <th>1</th>\n",
       "      <td>4</td>\n",
       "      <td>415</td>\n",
       "      <td>4.0</td>\n",
       "      <td>1042667925</td>\n",
       "      <td>[Action, Crime, Fantasy]</td>\n",
       "      <td>Along with crime-fighting partner Robin and ne...</td>\n",
       "      <td>17.038824</td>\n",
       "      <td>/79AYCcxw3kSKbhGpx1LiqaCAbwo.jpg</td>\n",
       "      <td>238207122.0</td>\n",
       "      <td>Strength. Courage. Honor. And loyalty.</td>\n",
       "      <td>Batman &amp; Robin</td>\n",
       "      <td>4.2</td>\n",
       "      <td>1447.0</td>\n",
       "      <td>Along with crime-fighting partner Robin and ne...</td>\n",
       "      <td>2.908105</td>\n",
       "    </tr>\n",
       "    <tr>\n",
       "      <th>2</th>\n",
       "      <td>4</td>\n",
       "      <td>1422</td>\n",
       "      <td>4.0</td>\n",
       "      <td>1042674861</td>\n",
       "      <td>[Drama, Thriller, Crime]</td>\n",
       "      <td>To take down South Boston's Irish Mafia, the p...</td>\n",
       "      <td>18.515448</td>\n",
       "      <td>/tGLO9zw5ZtCeyyEWgbYGgsFxC6i.jpg</td>\n",
       "      <td>289847354.0</td>\n",
       "      <td>Lies. Betrayal. Sacrifice. How far will you ta...</td>\n",
       "      <td>The Departed</td>\n",
       "      <td>7.9</td>\n",
       "      <td>4455.0</td>\n",
       "      <td>To take down South Boston's Irish Mafia, the p...</td>\n",
       "      <td>3.110326</td>\n",
       "    </tr>\n",
       "    <tr>\n",
       "      <th>3</th>\n",
       "      <td>4</td>\n",
       "      <td>1597</td>\n",
       "      <td>3.0</td>\n",
       "      <td>1042674787</td>\n",
       "      <td>[Comedy, Romance]</td>\n",
       "      <td>Greg Focker is ready to marry his girlfriend, ...</td>\n",
       "      <td>14.178281</td>\n",
       "      <td>/wVjtQtzv9IcNRGnOOdcK797Sdxx.jpg</td>\n",
       "      <td>330444045.0</td>\n",
       "      <td>First comes love. Then comes the interrogation.</td>\n",
       "      <td>Meet the Parents</td>\n",
       "      <td>6.6</td>\n",
       "      <td>1743.0</td>\n",
       "      <td>Greg Focker is ready to marry his girlfriend, ...</td>\n",
       "      <td>3.336835</td>\n",
       "    </tr>\n",
       "    <tr>\n",
       "      <th>4</th>\n",
       "      <td>4</td>\n",
       "      <td>1645</td>\n",
       "      <td>4.0</td>\n",
       "      <td>1042674787</td>\n",
       "      <td>[Crime, Drama, Thriller]</td>\n",
       "      <td>A young lawyer defends a black man accused of ...</td>\n",
       "      <td>13.309013</td>\n",
       "      <td>/sCHK5jHhRcrXZvZDekZXvRkDOHc.jpg</td>\n",
       "      <td>152266007.0</td>\n",
       "      <td>Experience a time you'll never forget.</td>\n",
       "      <td>A Time to Kill</td>\n",
       "      <td>7.0</td>\n",
       "      <td>522.0</td>\n",
       "      <td>A young lawyer defends a black man accused of ...</td>\n",
       "      <td>3.510272</td>\n",
       "    </tr>\n",
       "    <tr>\n",
       "      <th>...</th>\n",
       "      <td>...</td>\n",
       "      <td>...</td>\n",
       "      <td>...</td>\n",
       "      <td>...</td>\n",
       "      <td>...</td>\n",
       "      <td>...</td>\n",
       "      <td>...</td>\n",
       "      <td>...</td>\n",
       "      <td>...</td>\n",
       "      <td>...</td>\n",
       "      <td>...</td>\n",
       "      <td>...</td>\n",
       "      <td>...</td>\n",
       "      <td>...</td>\n",
       "      <td>...</td>\n",
       "    </tr>\n",
       "    <tr>\n",
       "      <th>9265545</th>\n",
       "      <td>270896</td>\n",
       "      <td>48385</td>\n",
       "      <td>4.0</td>\n",
       "      <td>1257031939</td>\n",
       "      <td>[Crime, Horror, Science Fiction]</td>\n",
       "      <td>Scientific experiments accidentally revive an ...</td>\n",
       "      <td>3.692449</td>\n",
       "      <td>/4Q4Ft6xUUkvFALH4dgY8am5aCX.jpg</td>\n",
       "      <td>0.0</td>\n",
       "      <td>The Screen's 300,000 Volt SHOCKER!</td>\n",
       "      <td>Indestructible Man</td>\n",
       "      <td>4.9</td>\n",
       "      <td>7.0</td>\n",
       "      <td>Scientific experiments accidentally revive an ...</td>\n",
       "      <td>3.377871</td>\n",
       "    </tr>\n",
       "    <tr>\n",
       "      <th>9265546</th>\n",
       "      <td>270896</td>\n",
       "      <td>48780</td>\n",
       "      <td>5.0</td>\n",
       "      <td>1257031830</td>\n",
       "      <td>[Foreign]</td>\n",
       "      <td>A journey into night.</td>\n",
       "      <td>0.479388</td>\n",
       "      <td>/9O1eTVnXvnNUuxj9VML3X8DuLTJ.jpg</td>\n",
       "      <td>0.0</td>\n",
       "      <td></td>\n",
       "      <td>Boat</td>\n",
       "      <td>7.6</td>\n",
       "      <td>9.0</td>\n",
       "      <td>A journey into night.</td>\n",
       "      <td>4.044906</td>\n",
       "    </tr>\n",
       "    <tr>\n",
       "      <th>9265547</th>\n",
       "      <td>270896</td>\n",
       "      <td>49530</td>\n",
       "      <td>4.0</td>\n",
       "      <td>1257034436</td>\n",
       "      <td>[Action, Thriller, Science Fiction]</td>\n",
       "      <td>In the not-too-distant future the aging gene h...</td>\n",
       "      <td>10.324613</td>\n",
       "      <td>/lnYuAr3QOPzvuEFlzpsRUq41IEy.jpg</td>\n",
       "      <td>173930596.0</td>\n",
       "      <td>Time Is Power</td>\n",
       "      <td>In Time</td>\n",
       "      <td>6.7</td>\n",
       "      <td>3512.0</td>\n",
       "      <td>In the not-too-distant future the aging gene h...</td>\n",
       "      <td>3.828847</td>\n",
       "    </tr>\n",
       "    <tr>\n",
       "      <th>9265548</th>\n",
       "      <td>270896</td>\n",
       "      <td>54503</td>\n",
       "      <td>4.0</td>\n",
       "      <td>1257033886</td>\n",
       "      <td>[Action, Foreign]</td>\n",
       "      <td>Lee Yi Min stars as an eager young kung fu stu...</td>\n",
       "      <td>0.342469</td>\n",
       "      <td>/loOl9GCbSzQNq5unvuBowttOyk9.jpg</td>\n",
       "      <td>0.0</td>\n",
       "      <td></td>\n",
       "      <td>The Mystery of Chess Boxing</td>\n",
       "      <td>5.9</td>\n",
       "      <td>5.0</td>\n",
       "      <td>Lee Yi Min stars as an eager young kung fu stu...</td>\n",
       "      <td>3.705899</td>\n",
       "    </tr>\n",
       "    <tr>\n",
       "      <th>9265549</th>\n",
       "      <td>270896</td>\n",
       "      <td>58559</td>\n",
       "      <td>5.0</td>\n",
       "      <td>1257031564</td>\n",
       "      <td>[Drama]</td>\n",
       "      <td>Paris, 1830: Octave, betrayed by his mistress,...</td>\n",
       "      <td>0.778480</td>\n",
       "      <td>/a1CXNSJpvF4WLKAfjzyyJ6GUB3m.jpg</td>\n",
       "      <td>0.0</td>\n",
       "      <td></td>\n",
       "      <td>Confession of a Child of the Century</td>\n",
       "      <td>4.9</td>\n",
       "      <td>6.0</td>\n",
       "      <td>Paris, 1830: Octave, betrayed by his mistress,...</td>\n",
       "      <td>4.143431</td>\n",
       "    </tr>\n",
       "  </tbody>\n",
       "</table>\n",
       "<p>9265550 rows × 15 columns</p>\n",
       "</div>"
      ],
      "text/plain": [
       "         userId  movieId  rating   timestamp  \\\n",
       "0             4      223     4.0  1042668576   \n",
       "1             4      415     4.0  1042667925   \n",
       "2             4     1422     4.0  1042674861   \n",
       "3             4     1597     3.0  1042674787   \n",
       "4             4     1645     4.0  1042674787   \n",
       "...         ...      ...     ...         ...   \n",
       "9265545  270896    48385     4.0  1257031939   \n",
       "9265546  270896    48780     5.0  1257031830   \n",
       "9265547  270896    49530     4.0  1257034436   \n",
       "9265548  270896    54503     4.0  1257033886   \n",
       "9265549  270896    58559     5.0  1257031564   \n",
       "\n",
       "                                      genres  \\\n",
       "0                           [Drama, Mystery]   \n",
       "1                   [Action, Crime, Fantasy]   \n",
       "2                   [Drama, Thriller, Crime]   \n",
       "3                          [Comedy, Romance]   \n",
       "4                   [Crime, Drama, Thriller]   \n",
       "...                                      ...   \n",
       "9265545     [Crime, Horror, Science Fiction]   \n",
       "9265546                            [Foreign]   \n",
       "9265547  [Action, Thriller, Science Fiction]   \n",
       "9265548                    [Action, Foreign]   \n",
       "9265549                              [Drama]   \n",
       "\n",
       "                                                  overview  popularity  \\\n",
       "0        A self-conscious bride is tormented by the mem...    8.590813   \n",
       "1        Along with crime-fighting partner Robin and ne...   17.038824   \n",
       "2        To take down South Boston's Irish Mafia, the p...   18.515448   \n",
       "3        Greg Focker is ready to marry his girlfriend, ...   14.178281   \n",
       "4        A young lawyer defends a black man accused of ...   13.309013   \n",
       "...                                                    ...         ...   \n",
       "9265545  Scientific experiments accidentally revive an ...    3.692449   \n",
       "9265546                              A journey into night.    0.479388   \n",
       "9265547  In the not-too-distant future the aging gene h...   10.324613   \n",
       "9265548  Lee Yi Min stars as an eager young kung fu stu...    0.342469   \n",
       "9265549  Paris, 1830: Octave, betrayed by his mistress,...    0.778480   \n",
       "\n",
       "                              poster_path      revenue  \\\n",
       "0        /eIkJjEbQcPasYvoNHKueFrfgpX4.jpg    6000000.0   \n",
       "1        /79AYCcxw3kSKbhGpx1LiqaCAbwo.jpg  238207122.0   \n",
       "2        /tGLO9zw5ZtCeyyEWgbYGgsFxC6i.jpg  289847354.0   \n",
       "3        /wVjtQtzv9IcNRGnOOdcK797Sdxx.jpg  330444045.0   \n",
       "4        /sCHK5jHhRcrXZvZDekZXvRkDOHc.jpg  152266007.0   \n",
       "...                                   ...          ...   \n",
       "9265545   /4Q4Ft6xUUkvFALH4dgY8am5aCX.jpg          0.0   \n",
       "9265546  /9O1eTVnXvnNUuxj9VML3X8DuLTJ.jpg          0.0   \n",
       "9265547  /lnYuAr3QOPzvuEFlzpsRUq41IEy.jpg  173930596.0   \n",
       "9265548  /loOl9GCbSzQNq5unvuBowttOyk9.jpg          0.0   \n",
       "9265549  /a1CXNSJpvF4WLKAfjzyyJ6GUB3m.jpg          0.0   \n",
       "\n",
       "                                                   tagline  \\\n",
       "0            The shadow of this woman darkened their love.   \n",
       "1                   Strength. Courage. Honor. And loyalty.   \n",
       "2        Lies. Betrayal. Sacrifice. How far will you ta...   \n",
       "3          First comes love. Then comes the interrogation.   \n",
       "4                   Experience a time you'll never forget.   \n",
       "...                                                    ...   \n",
       "9265545                 The Screen's 300,000 Volt SHOCKER!   \n",
       "9265546                                                      \n",
       "9265547                                      Time Is Power   \n",
       "9265548                                                      \n",
       "9265549                                                      \n",
       "\n",
       "                                        title  vote_average  vote_count  \\\n",
       "0                                     Rebecca           7.7       346.0   \n",
       "1                              Batman & Robin           4.2      1447.0   \n",
       "2                                The Departed           7.9      4455.0   \n",
       "3                            Meet the Parents           6.6      1743.0   \n",
       "4                              A Time to Kill           7.0       522.0   \n",
       "...                                       ...           ...         ...   \n",
       "9265545                    Indestructible Man           4.9         7.0   \n",
       "9265546                                  Boat           7.6         9.0   \n",
       "9265547                               In Time           6.7      3512.0   \n",
       "9265548           The Mystery of Chess Boxing           5.9         5.0   \n",
       "9265549  Confession of a Child of the Century           4.9         6.0   \n",
       "\n",
       "                                               description  baysian_avg  \n",
       "0        A self-conscious bride is tormented by the mem...     3.839505  \n",
       "1        Along with crime-fighting partner Robin and ne...     2.908105  \n",
       "2        To take down South Boston's Irish Mafia, the p...     3.110326  \n",
       "3        Greg Focker is ready to marry his girlfriend, ...     3.336835  \n",
       "4        A young lawyer defends a black man accused of ...     3.510272  \n",
       "...                                                    ...          ...  \n",
       "9265545  Scientific experiments accidentally revive an ...     3.377871  \n",
       "9265546                             A journey into night.      4.044906  \n",
       "9265547  In the not-too-distant future the aging gene h...     3.828847  \n",
       "9265548  Lee Yi Min stars as an eager young kung fu stu...     3.705899  \n",
       "9265549  Paris, 1830: Octave, betrayed by his mistress,...     4.143431  \n",
       "\n",
       "[9265550 rows x 15 columns]"
      ]
     },
     "execution_count": 273,
     "metadata": {},
     "output_type": "execute_result"
    }
   ],
   "source": [
    "movie_ratings_df = pd.merge(ratings, movies, on = \"movieId\")\n",
    "movie_ratings_df"
   ]
  },
  {
   "cell_type": "code",
   "execution_count": 277,
   "metadata": {},
   "outputs": [
    {
     "data": {
      "text/html": [
       "<div>\n",
       "<style scoped>\n",
       "    .dataframe tbody tr th:only-of-type {\n",
       "        vertical-align: middle;\n",
       "    }\n",
       "\n",
       "    .dataframe tbody tr th {\n",
       "        vertical-align: top;\n",
       "    }\n",
       "\n",
       "    .dataframe thead th {\n",
       "        text-align: right;\n",
       "    }\n",
       "</style>\n",
       "<table border=\"1\" class=\"dataframe\">\n",
       "  <thead>\n",
       "    <tr style=\"text-align: right;\">\n",
       "      <th></th>\n",
       "      <th>userId</th>\n",
       "      <th>movieId</th>\n",
       "      <th>rating</th>\n",
       "      <th>timestamp</th>\n",
       "      <th>genres</th>\n",
       "      <th>overview</th>\n",
       "      <th>popularity</th>\n",
       "      <th>poster_path</th>\n",
       "      <th>revenue</th>\n",
       "      <th>tagline</th>\n",
       "      <th>title</th>\n",
       "      <th>vote_average</th>\n",
       "      <th>vote_count</th>\n",
       "      <th>description</th>\n",
       "      <th>baysian_avg</th>\n",
       "    </tr>\n",
       "  </thead>\n",
       "  <tbody>\n",
       "    <tr>\n",
       "      <th>65411</th>\n",
       "      <td>1923</td>\n",
       "      <td>862</td>\n",
       "      <td>3.0</td>\n",
       "      <td>858335006</td>\n",
       "      <td>[Animation, Comedy, Family]</td>\n",
       "      <td>Led by Woody, Andy's toys live happily in his ...</td>\n",
       "      <td>21.946943</td>\n",
       "      <td>/rhIRbceoE9lR4veEXuwCC2wARtG.jpg</td>\n",
       "      <td>373554033.0</td>\n",
       "      <td></td>\n",
       "      <td>Toy Story</td>\n",
       "      <td>7.7</td>\n",
       "      <td>5415.0</td>\n",
       "      <td>Led by Woody, Andy's toys live happily in his ...</td>\n",
       "      <td>3.548548</td>\n",
       "    </tr>\n",
       "    <tr>\n",
       "      <th>71331</th>\n",
       "      <td>2103</td>\n",
       "      <td>862</td>\n",
       "      <td>5.0</td>\n",
       "      <td>946044912</td>\n",
       "      <td>[Animation, Comedy, Family]</td>\n",
       "      <td>Led by Woody, Andy's toys live happily in his ...</td>\n",
       "      <td>21.946943</td>\n",
       "      <td>/rhIRbceoE9lR4veEXuwCC2wARtG.jpg</td>\n",
       "      <td>373554033.0</td>\n",
       "      <td></td>\n",
       "      <td>Toy Story</td>\n",
       "      <td>7.7</td>\n",
       "      <td>5415.0</td>\n",
       "      <td>Led by Woody, Andy's toys live happily in his ...</td>\n",
       "      <td>3.548548</td>\n",
       "    </tr>\n",
       "    <tr>\n",
       "      <th>187024</th>\n",
       "      <td>5380</td>\n",
       "      <td>862</td>\n",
       "      <td>1.0</td>\n",
       "      <td>878941641</td>\n",
       "      <td>[Animation, Comedy, Family]</td>\n",
       "      <td>Led by Woody, Andy's toys live happily in his ...</td>\n",
       "      <td>21.946943</td>\n",
       "      <td>/rhIRbceoE9lR4veEXuwCC2wARtG.jpg</td>\n",
       "      <td>373554033.0</td>\n",
       "      <td></td>\n",
       "      <td>Toy Story</td>\n",
       "      <td>7.7</td>\n",
       "      <td>5415.0</td>\n",
       "      <td>Led by Woody, Andy's toys live happily in his ...</td>\n",
       "      <td>3.548548</td>\n",
       "    </tr>\n",
       "    <tr>\n",
       "      <th>217755</th>\n",
       "      <td>6177</td>\n",
       "      <td>862</td>\n",
       "      <td>4.0</td>\n",
       "      <td>859415226</td>\n",
       "      <td>[Animation, Comedy, Family]</td>\n",
       "      <td>Led by Woody, Andy's toys live happily in his ...</td>\n",
       "      <td>21.946943</td>\n",
       "      <td>/rhIRbceoE9lR4veEXuwCC2wARtG.jpg</td>\n",
       "      <td>373554033.0</td>\n",
       "      <td></td>\n",
       "      <td>Toy Story</td>\n",
       "      <td>7.7</td>\n",
       "      <td>5415.0</td>\n",
       "      <td>Led by Woody, Andy's toys live happily in his ...</td>\n",
       "      <td>3.548548</td>\n",
       "    </tr>\n",
       "    <tr>\n",
       "      <th>229543</th>\n",
       "      <td>6525</td>\n",
       "      <td>862</td>\n",
       "      <td>4.0</td>\n",
       "      <td>857388995</td>\n",
       "      <td>[Animation, Comedy, Family]</td>\n",
       "      <td>Led by Woody, Andy's toys live happily in his ...</td>\n",
       "      <td>21.946943</td>\n",
       "      <td>/rhIRbceoE9lR4veEXuwCC2wARtG.jpg</td>\n",
       "      <td>373554033.0</td>\n",
       "      <td></td>\n",
       "      <td>Toy Story</td>\n",
       "      <td>7.7</td>\n",
       "      <td>5415.0</td>\n",
       "      <td>Led by Woody, Andy's toys live happily in his ...</td>\n",
       "      <td>3.548548</td>\n",
       "    </tr>\n",
       "    <tr>\n",
       "      <th>...</th>\n",
       "      <td>...</td>\n",
       "      <td>...</td>\n",
       "      <td>...</td>\n",
       "      <td>...</td>\n",
       "      <td>...</td>\n",
       "      <td>...</td>\n",
       "      <td>...</td>\n",
       "      <td>...</td>\n",
       "      <td>...</td>\n",
       "      <td>...</td>\n",
       "      <td>...</td>\n",
       "      <td>...</td>\n",
       "      <td>...</td>\n",
       "      <td>...</td>\n",
       "      <td>...</td>\n",
       "    </tr>\n",
       "    <tr>\n",
       "      <th>9183415</th>\n",
       "      <td>268336</td>\n",
       "      <td>862</td>\n",
       "      <td>4.0</td>\n",
       "      <td>955427492</td>\n",
       "      <td>[Animation, Comedy, Family]</td>\n",
       "      <td>Led by Woody, Andy's toys live happily in his ...</td>\n",
       "      <td>21.946943</td>\n",
       "      <td>/rhIRbceoE9lR4veEXuwCC2wARtG.jpg</td>\n",
       "      <td>373554033.0</td>\n",
       "      <td></td>\n",
       "      <td>Toy Story</td>\n",
       "      <td>7.7</td>\n",
       "      <td>5415.0</td>\n",
       "      <td>Led by Woody, Andy's toys live happily in his ...</td>\n",
       "      <td>3.548548</td>\n",
       "    </tr>\n",
       "    <tr>\n",
       "      <th>9187122</th>\n",
       "      <td>268391</td>\n",
       "      <td>862</td>\n",
       "      <td>3.0</td>\n",
       "      <td>856529977</td>\n",
       "      <td>[Animation, Comedy, Family]</td>\n",
       "      <td>Led by Woody, Andy's toys live happily in his ...</td>\n",
       "      <td>21.946943</td>\n",
       "      <td>/rhIRbceoE9lR4veEXuwCC2wARtG.jpg</td>\n",
       "      <td>373554033.0</td>\n",
       "      <td></td>\n",
       "      <td>Toy Story</td>\n",
       "      <td>7.7</td>\n",
       "      <td>5415.0</td>\n",
       "      <td>Led by Woody, Andy's toys live happily in his ...</td>\n",
       "      <td>3.548548</td>\n",
       "    </tr>\n",
       "    <tr>\n",
       "      <th>9192680</th>\n",
       "      <td>268568</td>\n",
       "      <td>862</td>\n",
       "      <td>2.0</td>\n",
       "      <td>943826734</td>\n",
       "      <td>[Animation, Comedy, Family]</td>\n",
       "      <td>Led by Woody, Andy's toys live happily in his ...</td>\n",
       "      <td>21.946943</td>\n",
       "      <td>/rhIRbceoE9lR4veEXuwCC2wARtG.jpg</td>\n",
       "      <td>373554033.0</td>\n",
       "      <td></td>\n",
       "      <td>Toy Story</td>\n",
       "      <td>7.7</td>\n",
       "      <td>5415.0</td>\n",
       "      <td>Led by Woody, Andy's toys live happily in his ...</td>\n",
       "      <td>3.548548</td>\n",
       "    </tr>\n",
       "    <tr>\n",
       "      <th>9250135</th>\n",
       "      <td>270422</td>\n",
       "      <td>862</td>\n",
       "      <td>4.0</td>\n",
       "      <td>941664133</td>\n",
       "      <td>[Animation, Comedy, Family]</td>\n",
       "      <td>Led by Woody, Andy's toys live happily in his ...</td>\n",
       "      <td>21.946943</td>\n",
       "      <td>/rhIRbceoE9lR4veEXuwCC2wARtG.jpg</td>\n",
       "      <td>373554033.0</td>\n",
       "      <td></td>\n",
       "      <td>Toy Story</td>\n",
       "      <td>7.7</td>\n",
       "      <td>5415.0</td>\n",
       "      <td>Led by Woody, Andy's toys live happily in his ...</td>\n",
       "      <td>3.548548</td>\n",
       "    </tr>\n",
       "    <tr>\n",
       "      <th>9257448</th>\n",
       "      <td>270654</td>\n",
       "      <td>862</td>\n",
       "      <td>4.0</td>\n",
       "      <td>976204090</td>\n",
       "      <td>[Animation, Comedy, Family]</td>\n",
       "      <td>Led by Woody, Andy's toys live happily in his ...</td>\n",
       "      <td>21.946943</td>\n",
       "      <td>/rhIRbceoE9lR4veEXuwCC2wARtG.jpg</td>\n",
       "      <td>373554033.0</td>\n",
       "      <td></td>\n",
       "      <td>Toy Story</td>\n",
       "      <td>7.7</td>\n",
       "      <td>5415.0</td>\n",
       "      <td>Led by Woody, Andy's toys live happily in his ...</td>\n",
       "      <td>3.548548</td>\n",
       "    </tr>\n",
       "  </tbody>\n",
       "</table>\n",
       "<p>349 rows × 15 columns</p>\n",
       "</div>"
      ],
      "text/plain": [
       "         userId  movieId  rating  timestamp                       genres  \\\n",
       "65411      1923      862     3.0  858335006  [Animation, Comedy, Family]   \n",
       "71331      2103      862     5.0  946044912  [Animation, Comedy, Family]   \n",
       "187024     5380      862     1.0  878941641  [Animation, Comedy, Family]   \n",
       "217755     6177      862     4.0  859415226  [Animation, Comedy, Family]   \n",
       "229543     6525      862     4.0  857388995  [Animation, Comedy, Family]   \n",
       "...         ...      ...     ...        ...                          ...   \n",
       "9183415  268336      862     4.0  955427492  [Animation, Comedy, Family]   \n",
       "9187122  268391      862     3.0  856529977  [Animation, Comedy, Family]   \n",
       "9192680  268568      862     2.0  943826734  [Animation, Comedy, Family]   \n",
       "9250135  270422      862     4.0  941664133  [Animation, Comedy, Family]   \n",
       "9257448  270654      862     4.0  976204090  [Animation, Comedy, Family]   \n",
       "\n",
       "                                                  overview  popularity  \\\n",
       "65411    Led by Woody, Andy's toys live happily in his ...   21.946943   \n",
       "71331    Led by Woody, Andy's toys live happily in his ...   21.946943   \n",
       "187024   Led by Woody, Andy's toys live happily in his ...   21.946943   \n",
       "217755   Led by Woody, Andy's toys live happily in his ...   21.946943   \n",
       "229543   Led by Woody, Andy's toys live happily in his ...   21.946943   \n",
       "...                                                    ...         ...   \n",
       "9183415  Led by Woody, Andy's toys live happily in his ...   21.946943   \n",
       "9187122  Led by Woody, Andy's toys live happily in his ...   21.946943   \n",
       "9192680  Led by Woody, Andy's toys live happily in his ...   21.946943   \n",
       "9250135  Led by Woody, Andy's toys live happily in his ...   21.946943   \n",
       "9257448  Led by Woody, Andy's toys live happily in his ...   21.946943   \n",
       "\n",
       "                              poster_path      revenue tagline      title  \\\n",
       "65411    /rhIRbceoE9lR4veEXuwCC2wARtG.jpg  373554033.0          Toy Story   \n",
       "71331    /rhIRbceoE9lR4veEXuwCC2wARtG.jpg  373554033.0          Toy Story   \n",
       "187024   /rhIRbceoE9lR4veEXuwCC2wARtG.jpg  373554033.0          Toy Story   \n",
       "217755   /rhIRbceoE9lR4veEXuwCC2wARtG.jpg  373554033.0          Toy Story   \n",
       "229543   /rhIRbceoE9lR4veEXuwCC2wARtG.jpg  373554033.0          Toy Story   \n",
       "...                                   ...          ...     ...        ...   \n",
       "9183415  /rhIRbceoE9lR4veEXuwCC2wARtG.jpg  373554033.0          Toy Story   \n",
       "9187122  /rhIRbceoE9lR4veEXuwCC2wARtG.jpg  373554033.0          Toy Story   \n",
       "9192680  /rhIRbceoE9lR4veEXuwCC2wARtG.jpg  373554033.0          Toy Story   \n",
       "9250135  /rhIRbceoE9lR4veEXuwCC2wARtG.jpg  373554033.0          Toy Story   \n",
       "9257448  /rhIRbceoE9lR4veEXuwCC2wARtG.jpg  373554033.0          Toy Story   \n",
       "\n",
       "         vote_average  vote_count  \\\n",
       "65411             7.7      5415.0   \n",
       "71331             7.7      5415.0   \n",
       "187024            7.7      5415.0   \n",
       "217755            7.7      5415.0   \n",
       "229543            7.7      5415.0   \n",
       "...               ...         ...   \n",
       "9183415           7.7      5415.0   \n",
       "9187122           7.7      5415.0   \n",
       "9192680           7.7      5415.0   \n",
       "9250135           7.7      5415.0   \n",
       "9257448           7.7      5415.0   \n",
       "\n",
       "                                               description  baysian_avg  \n",
       "65411    Led by Woody, Andy's toys live happily in his ...     3.548548  \n",
       "71331    Led by Woody, Andy's toys live happily in his ...     3.548548  \n",
       "187024   Led by Woody, Andy's toys live happily in his ...     3.548548  \n",
       "217755   Led by Woody, Andy's toys live happily in his ...     3.548548  \n",
       "229543   Led by Woody, Andy's toys live happily in his ...     3.548548  \n",
       "...                                                    ...          ...  \n",
       "9183415  Led by Woody, Andy's toys live happily in his ...     3.548548  \n",
       "9187122  Led by Woody, Andy's toys live happily in his ...     3.548548  \n",
       "9192680  Led by Woody, Andy's toys live happily in his ...     3.548548  \n",
       "9250135  Led by Woody, Andy's toys live happily in his ...     3.548548  \n",
       "9257448  Led by Woody, Andy's toys live happily in his ...     3.548548  \n",
       "\n",
       "[349 rows x 15 columns]"
      ]
     },
     "execution_count": 277,
     "metadata": {},
     "output_type": "execute_result"
    }
   ],
   "source": [
    "movie_ratings_df[movie_ratings_df[\"movieId\"] == 862]"
   ]
  },
  {
   "cell_type": "code",
   "execution_count": 274,
   "metadata": {},
   "outputs": [
    {
     "data": {
      "text/plain": [
       "7054"
      ]
     },
     "execution_count": 274,
     "metadata": {},
     "output_type": "execute_result"
    }
   ],
   "source": [
    "movie_ratings_df[\"title\"].nunique()"
   ]
  },
  {
   "cell_type": "code",
   "execution_count": 84,
   "metadata": {
    "colab": {
     "base_uri": "https://localhost:8080/"
    },
    "id": "nvEvP5gSCFNK",
    "outputId": "b28e5640-c26e-4d71-a6f2-da4dd2f16145"
   },
   "outputs": [
    {
     "name": "stdout",
     "output_type": "stream",
     "text": [
      "<class 'pandas.core.frame.DataFrame'>\n",
      "RangeIndex: 9219309 entries, 0 to 9219308\n",
      "Data columns (total 15 columns):\n",
      " #   Column        Dtype  \n",
      "---  ------        -----  \n",
      " 0   userId        int64  \n",
      " 1   movieId       int64  \n",
      " 2   rating        float64\n",
      " 3   timestamp     int64  \n",
      " 4   genres        object \n",
      " 5   overview      object \n",
      " 6   popularity    float64\n",
      " 7   poster_path   string \n",
      " 8   revenue       float64\n",
      " 9   tagline       string \n",
      " 10  title         string \n",
      " 11  vote_average  float64\n",
      " 12  vote_count    float64\n",
      " 13  description   string \n",
      " 14  baysian_avg   float64\n",
      "dtypes: float64(6), int64(3), object(2), string(4)\n",
      "memory usage: 1.0+ GB\n"
     ]
    }
   ],
   "source": [
    "movie_ratings_df.info()"
   ]
  },
  {
   "cell_type": "markdown",
   "metadata": {
    "id": "V6Spxbe7xiX3"
   },
   "source": [
    "### checking for null values"
   ]
  },
  {
   "cell_type": "code",
   "execution_count": 85,
   "metadata": {
    "colab": {
     "base_uri": "https://localhost:8080/"
    },
    "id": "WO9eQ4WeCMZe",
    "outputId": "15cc808d-9a9c-437c-8c5f-17dd14d64e3b"
   },
   "outputs": [
    {
     "name": "stdout",
     "output_type": "stream",
     "text": [
      "userId False\n",
      "movieId False\n",
      "rating False\n",
      "timestamp False\n",
      "genres False\n",
      "overview False\n",
      "popularity False\n",
      "poster_path False\n",
      "revenue False\n",
      "tagline False\n",
      "title False\n",
      "vote_average False\n",
      "vote_count False\n",
      "description False\n",
      "baysian_avg False\n"
     ]
    }
   ],
   "source": [
    "for i in movie_ratings_df.columns:\n",
    "  print(i, movie_ratings_df[i].isnull().any())"
   ]
  },
  {
   "cell_type": "markdown",
   "metadata": {
    "id": "thjzGTO4xk6t"
   },
   "source": [
    "### checking for duplicate values"
   ]
  },
  {
   "cell_type": "code",
   "execution_count": 86,
   "metadata": {
    "colab": {
     "base_uri": "https://localhost:8080/"
    },
    "id": "3RbwAwEpxqAy",
    "outputId": "63d666f5-7812-4c42-b421-4fd9df9b55c4"
   },
   "outputs": [
    {
     "name": "stdout",
     "output_type": "stream",
     "text": [
      "Empty DataFrame\n",
      "Columns: [userId, movieId, rating, timestamp, genres, overview, popularity, poster_path, revenue, tagline, title, vote_average, vote_count, description, baysian_avg]\n",
      "Index: []\n"
     ]
    }
   ],
   "source": [
    "duplicates = movie_ratings_df[movie_ratings_df.duplicated(subset=['userId', 'title'], keep=False)]\n",
    "print(duplicates)"
   ]
  },
  {
   "cell_type": "markdown",
   "metadata": {
    "id": "-GguFCj1x7wC"
   },
   "source": [
    "## creating the pivot table"
   ]
  },
  {
   "cell_type": "code",
   "execution_count": 87,
   "metadata": {
    "colab": {
     "base_uri": "https://localhost:8080/",
     "height": 267
    },
    "id": "JZ4YgwcN-Vbv",
    "outputId": "d46cfb2a-230c-4b0e-ca59-8fb712a4bbe6"
   },
   "outputs": [
    {
     "data": {
      "text/html": [
       "<div>\n",
       "<style scoped>\n",
       "    .dataframe tbody tr th:only-of-type {\n",
       "        vertical-align: middle;\n",
       "    }\n",
       "\n",
       "    .dataframe tbody tr th {\n",
       "        vertical-align: top;\n",
       "    }\n",
       "\n",
       "    .dataframe thead th {\n",
       "        text-align: right;\n",
       "    }\n",
       "</style>\n",
       "<table border=\"1\" class=\"dataframe\">\n",
       "  <thead>\n",
       "    <tr style=\"text-align: right;\">\n",
       "      <th>userId</th>\n",
       "      <th>4</th>\n",
       "      <th>7</th>\n",
       "      <th>8</th>\n",
       "      <th>9</th>\n",
       "      <th>11</th>\n",
       "      <th>12</th>\n",
       "      <th>15</th>\n",
       "      <th>16</th>\n",
       "      <th>20</th>\n",
       "      <th>24</th>\n",
       "      <th>...</th>\n",
       "      <th>270871</th>\n",
       "      <th>270872</th>\n",
       "      <th>270877</th>\n",
       "      <th>270879</th>\n",
       "      <th>270885</th>\n",
       "      <th>270887</th>\n",
       "      <th>270892</th>\n",
       "      <th>270893</th>\n",
       "      <th>270894</th>\n",
       "      <th>270896</th>\n",
       "    </tr>\n",
       "    <tr>\n",
       "      <th>title</th>\n",
       "      <th></th>\n",
       "      <th></th>\n",
       "      <th></th>\n",
       "      <th></th>\n",
       "      <th></th>\n",
       "      <th></th>\n",
       "      <th></th>\n",
       "      <th></th>\n",
       "      <th></th>\n",
       "      <th></th>\n",
       "      <th></th>\n",
       "      <th></th>\n",
       "      <th></th>\n",
       "      <th></th>\n",
       "      <th></th>\n",
       "      <th></th>\n",
       "      <th></th>\n",
       "      <th></th>\n",
       "      <th></th>\n",
       "      <th></th>\n",
       "      <th></th>\n",
       "    </tr>\n",
       "  </thead>\n",
       "  <tbody>\n",
       "    <tr>\n",
       "      <th>!Women Art Revolution</th>\n",
       "      <td>0.0</td>\n",
       "      <td>0.0</td>\n",
       "      <td>0.0</td>\n",
       "      <td>0.0</td>\n",
       "      <td>0.0</td>\n",
       "      <td>0.0</td>\n",
       "      <td>0.0</td>\n",
       "      <td>0.0</td>\n",
       "      <td>0.0</td>\n",
       "      <td>0.0</td>\n",
       "      <td>...</td>\n",
       "      <td>0.0</td>\n",
       "      <td>0.0</td>\n",
       "      <td>0.0</td>\n",
       "      <td>0.0</td>\n",
       "      <td>0.0</td>\n",
       "      <td>0.0</td>\n",
       "      <td>0.0</td>\n",
       "      <td>0.0</td>\n",
       "      <td>0.0</td>\n",
       "      <td>0.0</td>\n",
       "    </tr>\n",
       "    <tr>\n",
       "      <th>$5 a Day</th>\n",
       "      <td>0.0</td>\n",
       "      <td>0.0</td>\n",
       "      <td>0.0</td>\n",
       "      <td>0.0</td>\n",
       "      <td>0.0</td>\n",
       "      <td>0.0</td>\n",
       "      <td>0.0</td>\n",
       "      <td>0.0</td>\n",
       "      <td>0.0</td>\n",
       "      <td>0.0</td>\n",
       "      <td>...</td>\n",
       "      <td>0.0</td>\n",
       "      <td>0.0</td>\n",
       "      <td>0.0</td>\n",
       "      <td>0.0</td>\n",
       "      <td>0.0</td>\n",
       "      <td>0.0</td>\n",
       "      <td>0.0</td>\n",
       "      <td>0.0</td>\n",
       "      <td>0.0</td>\n",
       "      <td>0.0</td>\n",
       "    </tr>\n",
       "    <tr>\n",
       "      <th>'Gator Bait</th>\n",
       "      <td>0.0</td>\n",
       "      <td>0.0</td>\n",
       "      <td>0.0</td>\n",
       "      <td>0.0</td>\n",
       "      <td>0.0</td>\n",
       "      <td>0.0</td>\n",
       "      <td>0.0</td>\n",
       "      <td>0.0</td>\n",
       "      <td>0.0</td>\n",
       "      <td>0.0</td>\n",
       "      <td>...</td>\n",
       "      <td>0.0</td>\n",
       "      <td>0.0</td>\n",
       "      <td>0.0</td>\n",
       "      <td>0.0</td>\n",
       "      <td>0.0</td>\n",
       "      <td>5.0</td>\n",
       "      <td>0.0</td>\n",
       "      <td>0.0</td>\n",
       "      <td>0.0</td>\n",
       "      <td>0.0</td>\n",
       "    </tr>\n",
       "    <tr>\n",
       "      <th>'R Xmas</th>\n",
       "      <td>0.0</td>\n",
       "      <td>0.0</td>\n",
       "      <td>0.0</td>\n",
       "      <td>0.0</td>\n",
       "      <td>0.0</td>\n",
       "      <td>0.0</td>\n",
       "      <td>0.0</td>\n",
       "      <td>0.0</td>\n",
       "      <td>0.0</td>\n",
       "      <td>0.0</td>\n",
       "      <td>...</td>\n",
       "      <td>0.0</td>\n",
       "      <td>0.0</td>\n",
       "      <td>0.0</td>\n",
       "      <td>0.0</td>\n",
       "      <td>0.0</td>\n",
       "      <td>0.0</td>\n",
       "      <td>0.0</td>\n",
       "      <td>0.0</td>\n",
       "      <td>0.0</td>\n",
       "      <td>0.0</td>\n",
       "    </tr>\n",
       "    <tr>\n",
       "      <th>'Twas the Night Before Christmas</th>\n",
       "      <td>0.0</td>\n",
       "      <td>0.0</td>\n",
       "      <td>0.0</td>\n",
       "      <td>0.0</td>\n",
       "      <td>0.0</td>\n",
       "      <td>0.0</td>\n",
       "      <td>0.0</td>\n",
       "      <td>0.0</td>\n",
       "      <td>0.0</td>\n",
       "      <td>0.0</td>\n",
       "      <td>...</td>\n",
       "      <td>0.0</td>\n",
       "      <td>0.0</td>\n",
       "      <td>0.0</td>\n",
       "      <td>0.0</td>\n",
       "      <td>0.0</td>\n",
       "      <td>0.0</td>\n",
       "      <td>0.0</td>\n",
       "      <td>0.0</td>\n",
       "      <td>0.0</td>\n",
       "      <td>0.0</td>\n",
       "    </tr>\n",
       "    <tr>\n",
       "      <th>...</th>\n",
       "      <td>...</td>\n",
       "      <td>...</td>\n",
       "      <td>...</td>\n",
       "      <td>...</td>\n",
       "      <td>...</td>\n",
       "      <td>...</td>\n",
       "      <td>...</td>\n",
       "      <td>...</td>\n",
       "      <td>...</td>\n",
       "      <td>...</td>\n",
       "      <td>...</td>\n",
       "      <td>...</td>\n",
       "      <td>...</td>\n",
       "      <td>...</td>\n",
       "      <td>...</td>\n",
       "      <td>...</td>\n",
       "      <td>...</td>\n",
       "      <td>...</td>\n",
       "      <td>...</td>\n",
       "      <td>...</td>\n",
       "      <td>...</td>\n",
       "    </tr>\n",
       "    <tr>\n",
       "      <th>À nos amours</th>\n",
       "      <td>0.0</td>\n",
       "      <td>0.0</td>\n",
       "      <td>0.0</td>\n",
       "      <td>0.0</td>\n",
       "      <td>0.0</td>\n",
       "      <td>0.0</td>\n",
       "      <td>0.0</td>\n",
       "      <td>0.0</td>\n",
       "      <td>0.0</td>\n",
       "      <td>4.0</td>\n",
       "      <td>...</td>\n",
       "      <td>0.0</td>\n",
       "      <td>0.0</td>\n",
       "      <td>0.0</td>\n",
       "      <td>0.0</td>\n",
       "      <td>0.0</td>\n",
       "      <td>0.0</td>\n",
       "      <td>0.0</td>\n",
       "      <td>0.0</td>\n",
       "      <td>0.0</td>\n",
       "      <td>0.0</td>\n",
       "    </tr>\n",
       "    <tr>\n",
       "      <th>Åke and His World</th>\n",
       "      <td>0.0</td>\n",
       "      <td>0.0</td>\n",
       "      <td>0.0</td>\n",
       "      <td>0.0</td>\n",
       "      <td>0.0</td>\n",
       "      <td>0.0</td>\n",
       "      <td>0.0</td>\n",
       "      <td>0.0</td>\n",
       "      <td>0.0</td>\n",
       "      <td>0.0</td>\n",
       "      <td>...</td>\n",
       "      <td>0.0</td>\n",
       "      <td>0.0</td>\n",
       "      <td>0.0</td>\n",
       "      <td>0.0</td>\n",
       "      <td>0.0</td>\n",
       "      <td>0.0</td>\n",
       "      <td>0.0</td>\n",
       "      <td>0.0</td>\n",
       "      <td>0.0</td>\n",
       "      <td>0.0</td>\n",
       "    </tr>\n",
       "    <tr>\n",
       "      <th>Ödipussi</th>\n",
       "      <td>0.0</td>\n",
       "      <td>0.0</td>\n",
       "      <td>0.0</td>\n",
       "      <td>0.0</td>\n",
       "      <td>0.0</td>\n",
       "      <td>0.0</td>\n",
       "      <td>0.0</td>\n",
       "      <td>0.0</td>\n",
       "      <td>0.0</td>\n",
       "      <td>0.0</td>\n",
       "      <td>...</td>\n",
       "      <td>0.0</td>\n",
       "      <td>0.0</td>\n",
       "      <td>0.0</td>\n",
       "      <td>0.0</td>\n",
       "      <td>0.0</td>\n",
       "      <td>0.0</td>\n",
       "      <td>0.0</td>\n",
       "      <td>0.0</td>\n",
       "      <td>0.0</td>\n",
       "      <td>0.0</td>\n",
       "    </tr>\n",
       "    <tr>\n",
       "      <th>Şaban Oğlu Şaban</th>\n",
       "      <td>0.0</td>\n",
       "      <td>0.0</td>\n",
       "      <td>0.0</td>\n",
       "      <td>0.0</td>\n",
       "      <td>0.0</td>\n",
       "      <td>0.0</td>\n",
       "      <td>0.0</td>\n",
       "      <td>0.0</td>\n",
       "      <td>0.0</td>\n",
       "      <td>0.0</td>\n",
       "      <td>...</td>\n",
       "      <td>0.0</td>\n",
       "      <td>0.0</td>\n",
       "      <td>0.0</td>\n",
       "      <td>0.0</td>\n",
       "      <td>0.0</td>\n",
       "      <td>0.0</td>\n",
       "      <td>0.0</td>\n",
       "      <td>0.0</td>\n",
       "      <td>0.0</td>\n",
       "      <td>0.0</td>\n",
       "    </tr>\n",
       "    <tr>\n",
       "      <th>Šíleně smutná princezna</th>\n",
       "      <td>0.0</td>\n",
       "      <td>0.0</td>\n",
       "      <td>0.0</td>\n",
       "      <td>0.0</td>\n",
       "      <td>0.0</td>\n",
       "      <td>0.0</td>\n",
       "      <td>0.0</td>\n",
       "      <td>0.0</td>\n",
       "      <td>0.0</td>\n",
       "      <td>0.0</td>\n",
       "      <td>...</td>\n",
       "      <td>0.0</td>\n",
       "      <td>0.0</td>\n",
       "      <td>0.0</td>\n",
       "      <td>0.0</td>\n",
       "      <td>0.0</td>\n",
       "      <td>0.0</td>\n",
       "      <td>0.0</td>\n",
       "      <td>0.0</td>\n",
       "      <td>0.0</td>\n",
       "      <td>0.0</td>\n",
       "    </tr>\n",
       "  </tbody>\n",
       "</table>\n",
       "<p>3405 rows × 103839 columns</p>\n",
       "</div>"
      ],
      "text/plain": [
       "userId                            4       7       8       9       11      \\\n",
       "title                                                                      \n",
       "!Women Art Revolution                0.0     0.0     0.0     0.0     0.0   \n",
       "$5 a Day                             0.0     0.0     0.0     0.0     0.0   \n",
       "'Gator Bait                          0.0     0.0     0.0     0.0     0.0   \n",
       "'R Xmas                              0.0     0.0     0.0     0.0     0.0   \n",
       "'Twas the Night Before Christmas     0.0     0.0     0.0     0.0     0.0   \n",
       "...                                  ...     ...     ...     ...     ...   \n",
       "À nos amours                         0.0     0.0     0.0     0.0     0.0   \n",
       "Åke and His World                    0.0     0.0     0.0     0.0     0.0   \n",
       "Ödipussi                             0.0     0.0     0.0     0.0     0.0   \n",
       "Şaban Oğlu Şaban                     0.0     0.0     0.0     0.0     0.0   \n",
       "Šíleně smutná princezna              0.0     0.0     0.0     0.0     0.0   \n",
       "\n",
       "userId                            12      15      16      20      24      ...  \\\n",
       "title                                                                     ...   \n",
       "!Women Art Revolution                0.0     0.0     0.0     0.0     0.0  ...   \n",
       "$5 a Day                             0.0     0.0     0.0     0.0     0.0  ...   \n",
       "'Gator Bait                          0.0     0.0     0.0     0.0     0.0  ...   \n",
       "'R Xmas                              0.0     0.0     0.0     0.0     0.0  ...   \n",
       "'Twas the Night Before Christmas     0.0     0.0     0.0     0.0     0.0  ...   \n",
       "...                                  ...     ...     ...     ...     ...  ...   \n",
       "À nos amours                         0.0     0.0     0.0     0.0     4.0  ...   \n",
       "Åke and His World                    0.0     0.0     0.0     0.0     0.0  ...   \n",
       "Ödipussi                             0.0     0.0     0.0     0.0     0.0  ...   \n",
       "Şaban Oğlu Şaban                     0.0     0.0     0.0     0.0     0.0  ...   \n",
       "Šíleně smutná princezna              0.0     0.0     0.0     0.0     0.0  ...   \n",
       "\n",
       "userId                            270871  270872  270877  270879  270885  \\\n",
       "title                                                                      \n",
       "!Women Art Revolution                0.0     0.0     0.0     0.0     0.0   \n",
       "$5 a Day                             0.0     0.0     0.0     0.0     0.0   \n",
       "'Gator Bait                          0.0     0.0     0.0     0.0     0.0   \n",
       "'R Xmas                              0.0     0.0     0.0     0.0     0.0   \n",
       "'Twas the Night Before Christmas     0.0     0.0     0.0     0.0     0.0   \n",
       "...                                  ...     ...     ...     ...     ...   \n",
       "À nos amours                         0.0     0.0     0.0     0.0     0.0   \n",
       "Åke and His World                    0.0     0.0     0.0     0.0     0.0   \n",
       "Ödipussi                             0.0     0.0     0.0     0.0     0.0   \n",
       "Şaban Oğlu Şaban                     0.0     0.0     0.0     0.0     0.0   \n",
       "Šíleně smutná princezna              0.0     0.0     0.0     0.0     0.0   \n",
       "\n",
       "userId                            270887  270892  270893  270894  270896  \n",
       "title                                                                     \n",
       "!Women Art Revolution                0.0     0.0     0.0     0.0     0.0  \n",
       "$5 a Day                             0.0     0.0     0.0     0.0     0.0  \n",
       "'Gator Bait                          5.0     0.0     0.0     0.0     0.0  \n",
       "'R Xmas                              0.0     0.0     0.0     0.0     0.0  \n",
       "'Twas the Night Before Christmas     0.0     0.0     0.0     0.0     0.0  \n",
       "...                                  ...     ...     ...     ...     ...  \n",
       "À nos amours                         0.0     0.0     0.0     0.0     0.0  \n",
       "Åke and His World                    0.0     0.0     0.0     0.0     0.0  \n",
       "Ödipussi                             0.0     0.0     0.0     0.0     0.0  \n",
       "Şaban Oğlu Şaban                     0.0     0.0     0.0     0.0     0.0  \n",
       "Šíleně smutná princezna              0.0     0.0     0.0     0.0     0.0  \n",
       "\n",
       "[3405 rows x 103839 columns]"
      ]
     },
     "execution_count": 87,
     "metadata": {},
     "output_type": "execute_result"
    }
   ],
   "source": [
    "pivot = movie_ratings_df.pivot_table(index='title', columns='userId', values='rating', )\n",
    "pivot.fillna(0, inplace=True)\n",
    "pivot"
   ]
  },
  {
   "cell_type": "markdown",
   "metadata": {
    "id": "gNTKbMFNwKvf"
   },
   "source": [
    "# making the scipy matrix\n",
    "this is used for efficient storage of sparse data"
   ]
  },
  {
   "cell_type": "code",
   "execution_count": 88,
   "metadata": {
    "colab": {
     "base_uri": "https://localhost:8080/"
    },
    "id": "AAmns51GwT9m",
    "outputId": "762b6cc1-462c-46bc-e19b-744620231e91"
   },
   "outputs": [
    {
     "data": {
      "text/plain": [
       "<Compressed Sparse Row sparse matrix of dtype 'float64'\n",
       "\twith 9219309 stored elements and shape (3405, 103839)>"
      ]
     },
     "execution_count": 88,
     "metadata": {},
     "output_type": "execute_result"
    }
   ],
   "source": [
    "from scipy.sparse import csr_matrix\n",
    "matrix = csr_matrix(pivot)\n",
    "matrix"
   ]
  },
  {
   "cell_type": "markdown",
   "metadata": {
    "id": "boxzOsXu3YO4"
   },
   "source": [
    "# movie based collaborative filltering model:\n",
    "## predict similar movies based on similar user ratings\n",
    "this content based recommender calculates the cosine similarity between the pivot vector for given movie name and rest of the movies in the pivot table. it then returns the most similar vectors. this means if a movies A and B have both been rated highly by say users x, y, z, then upon prediction for movie A, movie B will be returned and vice versa.\n",
    "the intuition behind this model is that, we try to find movies rated similarly by users. if movie A was liked by user 1 through 10, and there aslso exists a movie B, liked by 9 of these users, we should recommend movie B to the 10th user. he will most likely like it aas well."
   ]
  },
  {
   "cell_type": "markdown",
   "metadata": {
    "id": "FVl0g84f3dhF"
   },
   "source": [
    "## defining the knn model"
   ]
  },
  {
   "cell_type": "code",
   "execution_count": 133,
   "metadata": {
    "colab": {
     "base_uri": "https://localhost:8080/",
     "height": 80
    },
    "id": "3Qw8V18C3XpD",
    "outputId": "18f6878c-447a-4f40-b4cc-71b4467e44b7"
   },
   "outputs": [
    {
     "data": {
      "text/html": [
       "<style>#sk-container-id-3 {\n",
       "  /* Definition of color scheme common for light and dark mode */\n",
       "  --sklearn-color-text: #000;\n",
       "  --sklearn-color-text-muted: #666;\n",
       "  --sklearn-color-line: gray;\n",
       "  /* Definition of color scheme for unfitted estimators */\n",
       "  --sklearn-color-unfitted-level-0: #fff5e6;\n",
       "  --sklearn-color-unfitted-level-1: #f6e4d2;\n",
       "  --sklearn-color-unfitted-level-2: #ffe0b3;\n",
       "  --sklearn-color-unfitted-level-3: chocolate;\n",
       "  /* Definition of color scheme for fitted estimators */\n",
       "  --sklearn-color-fitted-level-0: #f0f8ff;\n",
       "  --sklearn-color-fitted-level-1: #d4ebff;\n",
       "  --sklearn-color-fitted-level-2: #b3dbfd;\n",
       "  --sklearn-color-fitted-level-3: cornflowerblue;\n",
       "\n",
       "  /* Specific color for light theme */\n",
       "  --sklearn-color-text-on-default-background: var(--sg-text-color, var(--theme-code-foreground, var(--jp-content-font-color1, black)));\n",
       "  --sklearn-color-background: var(--sg-background-color, var(--theme-background, var(--jp-layout-color0, white)));\n",
       "  --sklearn-color-border-box: var(--sg-text-color, var(--theme-code-foreground, var(--jp-content-font-color1, black)));\n",
       "  --sklearn-color-icon: #696969;\n",
       "\n",
       "  @media (prefers-color-scheme: dark) {\n",
       "    /* Redefinition of color scheme for dark theme */\n",
       "    --sklearn-color-text-on-default-background: var(--sg-text-color, var(--theme-code-foreground, var(--jp-content-font-color1, white)));\n",
       "    --sklearn-color-background: var(--sg-background-color, var(--theme-background, var(--jp-layout-color0, #111)));\n",
       "    --sklearn-color-border-box: var(--sg-text-color, var(--theme-code-foreground, var(--jp-content-font-color1, white)));\n",
       "    --sklearn-color-icon: #878787;\n",
       "  }\n",
       "}\n",
       "\n",
       "#sk-container-id-3 {\n",
       "  color: var(--sklearn-color-text);\n",
       "}\n",
       "\n",
       "#sk-container-id-3 pre {\n",
       "  padding: 0;\n",
       "}\n",
       "\n",
       "#sk-container-id-3 input.sk-hidden--visually {\n",
       "  border: 0;\n",
       "  clip: rect(1px 1px 1px 1px);\n",
       "  clip: rect(1px, 1px, 1px, 1px);\n",
       "  height: 1px;\n",
       "  margin: -1px;\n",
       "  overflow: hidden;\n",
       "  padding: 0;\n",
       "  position: absolute;\n",
       "  width: 1px;\n",
       "}\n",
       "\n",
       "#sk-container-id-3 div.sk-dashed-wrapped {\n",
       "  border: 1px dashed var(--sklearn-color-line);\n",
       "  margin: 0 0.4em 0.5em 0.4em;\n",
       "  box-sizing: border-box;\n",
       "  padding-bottom: 0.4em;\n",
       "  background-color: var(--sklearn-color-background);\n",
       "}\n",
       "\n",
       "#sk-container-id-3 div.sk-container {\n",
       "  /* jupyter's `normalize.less` sets `[hidden] { display: none; }`\n",
       "     but bootstrap.min.css set `[hidden] { display: none !important; }`\n",
       "     so we also need the `!important` here to be able to override the\n",
       "     default hidden behavior on the sphinx rendered scikit-learn.org.\n",
       "     See: https://github.com/scikit-learn/scikit-learn/issues/21755 */\n",
       "  display: inline-block !important;\n",
       "  position: relative;\n",
       "}\n",
       "\n",
       "#sk-container-id-3 div.sk-text-repr-fallback {\n",
       "  display: none;\n",
       "}\n",
       "\n",
       "div.sk-parallel-item,\n",
       "div.sk-serial,\n",
       "div.sk-item {\n",
       "  /* draw centered vertical line to link estimators */\n",
       "  background-image: linear-gradient(var(--sklearn-color-text-on-default-background), var(--sklearn-color-text-on-default-background));\n",
       "  background-size: 2px 100%;\n",
       "  background-repeat: no-repeat;\n",
       "  background-position: center center;\n",
       "}\n",
       "\n",
       "/* Parallel-specific style estimator block */\n",
       "\n",
       "#sk-container-id-3 div.sk-parallel-item::after {\n",
       "  content: \"\";\n",
       "  width: 100%;\n",
       "  border-bottom: 2px solid var(--sklearn-color-text-on-default-background);\n",
       "  flex-grow: 1;\n",
       "}\n",
       "\n",
       "#sk-container-id-3 div.sk-parallel {\n",
       "  display: flex;\n",
       "  align-items: stretch;\n",
       "  justify-content: center;\n",
       "  background-color: var(--sklearn-color-background);\n",
       "  position: relative;\n",
       "}\n",
       "\n",
       "#sk-container-id-3 div.sk-parallel-item {\n",
       "  display: flex;\n",
       "  flex-direction: column;\n",
       "}\n",
       "\n",
       "#sk-container-id-3 div.sk-parallel-item:first-child::after {\n",
       "  align-self: flex-end;\n",
       "  width: 50%;\n",
       "}\n",
       "\n",
       "#sk-container-id-3 div.sk-parallel-item:last-child::after {\n",
       "  align-self: flex-start;\n",
       "  width: 50%;\n",
       "}\n",
       "\n",
       "#sk-container-id-3 div.sk-parallel-item:only-child::after {\n",
       "  width: 0;\n",
       "}\n",
       "\n",
       "/* Serial-specific style estimator block */\n",
       "\n",
       "#sk-container-id-3 div.sk-serial {\n",
       "  display: flex;\n",
       "  flex-direction: column;\n",
       "  align-items: center;\n",
       "  background-color: var(--sklearn-color-background);\n",
       "  padding-right: 1em;\n",
       "  padding-left: 1em;\n",
       "}\n",
       "\n",
       "\n",
       "/* Toggleable style: style used for estimator/Pipeline/ColumnTransformer box that is\n",
       "clickable and can be expanded/collapsed.\n",
       "- Pipeline and ColumnTransformer use this feature and define the default style\n",
       "- Estimators will overwrite some part of the style using the `sk-estimator` class\n",
       "*/\n",
       "\n",
       "/* Pipeline and ColumnTransformer style (default) */\n",
       "\n",
       "#sk-container-id-3 div.sk-toggleable {\n",
       "  /* Default theme specific background. It is overwritten whether we have a\n",
       "  specific estimator or a Pipeline/ColumnTransformer */\n",
       "  background-color: var(--sklearn-color-background);\n",
       "}\n",
       "\n",
       "/* Toggleable label */\n",
       "#sk-container-id-3 label.sk-toggleable__label {\n",
       "  cursor: pointer;\n",
       "  display: flex;\n",
       "  width: 100%;\n",
       "  margin-bottom: 0;\n",
       "  padding: 0.5em;\n",
       "  box-sizing: border-box;\n",
       "  text-align: center;\n",
       "  align-items: start;\n",
       "  justify-content: space-between;\n",
       "  gap: 0.5em;\n",
       "}\n",
       "\n",
       "#sk-container-id-3 label.sk-toggleable__label .caption {\n",
       "  font-size: 0.6rem;\n",
       "  font-weight: lighter;\n",
       "  color: var(--sklearn-color-text-muted);\n",
       "}\n",
       "\n",
       "#sk-container-id-3 label.sk-toggleable__label-arrow:before {\n",
       "  /* Arrow on the left of the label */\n",
       "  content: \"▸\";\n",
       "  float: left;\n",
       "  margin-right: 0.25em;\n",
       "  color: var(--sklearn-color-icon);\n",
       "}\n",
       "\n",
       "#sk-container-id-3 label.sk-toggleable__label-arrow:hover:before {\n",
       "  color: var(--sklearn-color-text);\n",
       "}\n",
       "\n",
       "/* Toggleable content - dropdown */\n",
       "\n",
       "#sk-container-id-3 div.sk-toggleable__content {\n",
       "  max-height: 0;\n",
       "  max-width: 0;\n",
       "  overflow: hidden;\n",
       "  text-align: left;\n",
       "  /* unfitted */\n",
       "  background-color: var(--sklearn-color-unfitted-level-0);\n",
       "}\n",
       "\n",
       "#sk-container-id-3 div.sk-toggleable__content.fitted {\n",
       "  /* fitted */\n",
       "  background-color: var(--sklearn-color-fitted-level-0);\n",
       "}\n",
       "\n",
       "#sk-container-id-3 div.sk-toggleable__content pre {\n",
       "  margin: 0.2em;\n",
       "  border-radius: 0.25em;\n",
       "  color: var(--sklearn-color-text);\n",
       "  /* unfitted */\n",
       "  background-color: var(--sklearn-color-unfitted-level-0);\n",
       "}\n",
       "\n",
       "#sk-container-id-3 div.sk-toggleable__content.fitted pre {\n",
       "  /* unfitted */\n",
       "  background-color: var(--sklearn-color-fitted-level-0);\n",
       "}\n",
       "\n",
       "#sk-container-id-3 input.sk-toggleable__control:checked~div.sk-toggleable__content {\n",
       "  /* Expand drop-down */\n",
       "  max-height: 200px;\n",
       "  max-width: 100%;\n",
       "  overflow: auto;\n",
       "}\n",
       "\n",
       "#sk-container-id-3 input.sk-toggleable__control:checked~label.sk-toggleable__label-arrow:before {\n",
       "  content: \"▾\";\n",
       "}\n",
       "\n",
       "/* Pipeline/ColumnTransformer-specific style */\n",
       "\n",
       "#sk-container-id-3 div.sk-label input.sk-toggleable__control:checked~label.sk-toggleable__label {\n",
       "  color: var(--sklearn-color-text);\n",
       "  background-color: var(--sklearn-color-unfitted-level-2);\n",
       "}\n",
       "\n",
       "#sk-container-id-3 div.sk-label.fitted input.sk-toggleable__control:checked~label.sk-toggleable__label {\n",
       "  background-color: var(--sklearn-color-fitted-level-2);\n",
       "}\n",
       "\n",
       "/* Estimator-specific style */\n",
       "\n",
       "/* Colorize estimator box */\n",
       "#sk-container-id-3 div.sk-estimator input.sk-toggleable__control:checked~label.sk-toggleable__label {\n",
       "  /* unfitted */\n",
       "  background-color: var(--sklearn-color-unfitted-level-2);\n",
       "}\n",
       "\n",
       "#sk-container-id-3 div.sk-estimator.fitted input.sk-toggleable__control:checked~label.sk-toggleable__label {\n",
       "  /* fitted */\n",
       "  background-color: var(--sklearn-color-fitted-level-2);\n",
       "}\n",
       "\n",
       "#sk-container-id-3 div.sk-label label.sk-toggleable__label,\n",
       "#sk-container-id-3 div.sk-label label {\n",
       "  /* The background is the default theme color */\n",
       "  color: var(--sklearn-color-text-on-default-background);\n",
       "}\n",
       "\n",
       "/* On hover, darken the color of the background */\n",
       "#sk-container-id-3 div.sk-label:hover label.sk-toggleable__label {\n",
       "  color: var(--sklearn-color-text);\n",
       "  background-color: var(--sklearn-color-unfitted-level-2);\n",
       "}\n",
       "\n",
       "/* Label box, darken color on hover, fitted */\n",
       "#sk-container-id-3 div.sk-label.fitted:hover label.sk-toggleable__label.fitted {\n",
       "  color: var(--sklearn-color-text);\n",
       "  background-color: var(--sklearn-color-fitted-level-2);\n",
       "}\n",
       "\n",
       "/* Estimator label */\n",
       "\n",
       "#sk-container-id-3 div.sk-label label {\n",
       "  font-family: monospace;\n",
       "  font-weight: bold;\n",
       "  display: inline-block;\n",
       "  line-height: 1.2em;\n",
       "}\n",
       "\n",
       "#sk-container-id-3 div.sk-label-container {\n",
       "  text-align: center;\n",
       "}\n",
       "\n",
       "/* Estimator-specific */\n",
       "#sk-container-id-3 div.sk-estimator {\n",
       "  font-family: monospace;\n",
       "  border: 1px dotted var(--sklearn-color-border-box);\n",
       "  border-radius: 0.25em;\n",
       "  box-sizing: border-box;\n",
       "  margin-bottom: 0.5em;\n",
       "  /* unfitted */\n",
       "  background-color: var(--sklearn-color-unfitted-level-0);\n",
       "}\n",
       "\n",
       "#sk-container-id-3 div.sk-estimator.fitted {\n",
       "  /* fitted */\n",
       "  background-color: var(--sklearn-color-fitted-level-0);\n",
       "}\n",
       "\n",
       "/* on hover */\n",
       "#sk-container-id-3 div.sk-estimator:hover {\n",
       "  /* unfitted */\n",
       "  background-color: var(--sklearn-color-unfitted-level-2);\n",
       "}\n",
       "\n",
       "#sk-container-id-3 div.sk-estimator.fitted:hover {\n",
       "  /* fitted */\n",
       "  background-color: var(--sklearn-color-fitted-level-2);\n",
       "}\n",
       "\n",
       "/* Specification for estimator info (e.g. \"i\" and \"?\") */\n",
       "\n",
       "/* Common style for \"i\" and \"?\" */\n",
       "\n",
       ".sk-estimator-doc-link,\n",
       "a:link.sk-estimator-doc-link,\n",
       "a:visited.sk-estimator-doc-link {\n",
       "  float: right;\n",
       "  font-size: smaller;\n",
       "  line-height: 1em;\n",
       "  font-family: monospace;\n",
       "  background-color: var(--sklearn-color-background);\n",
       "  border-radius: 1em;\n",
       "  height: 1em;\n",
       "  width: 1em;\n",
       "  text-decoration: none !important;\n",
       "  margin-left: 0.5em;\n",
       "  text-align: center;\n",
       "  /* unfitted */\n",
       "  border: var(--sklearn-color-unfitted-level-1) 1pt solid;\n",
       "  color: var(--sklearn-color-unfitted-level-1);\n",
       "}\n",
       "\n",
       ".sk-estimator-doc-link.fitted,\n",
       "a:link.sk-estimator-doc-link.fitted,\n",
       "a:visited.sk-estimator-doc-link.fitted {\n",
       "  /* fitted */\n",
       "  border: var(--sklearn-color-fitted-level-1) 1pt solid;\n",
       "  color: var(--sklearn-color-fitted-level-1);\n",
       "}\n",
       "\n",
       "/* On hover */\n",
       "div.sk-estimator:hover .sk-estimator-doc-link:hover,\n",
       ".sk-estimator-doc-link:hover,\n",
       "div.sk-label-container:hover .sk-estimator-doc-link:hover,\n",
       ".sk-estimator-doc-link:hover {\n",
       "  /* unfitted */\n",
       "  background-color: var(--sklearn-color-unfitted-level-3);\n",
       "  color: var(--sklearn-color-background);\n",
       "  text-decoration: none;\n",
       "}\n",
       "\n",
       "div.sk-estimator.fitted:hover .sk-estimator-doc-link.fitted:hover,\n",
       ".sk-estimator-doc-link.fitted:hover,\n",
       "div.sk-label-container:hover .sk-estimator-doc-link.fitted:hover,\n",
       ".sk-estimator-doc-link.fitted:hover {\n",
       "  /* fitted */\n",
       "  background-color: var(--sklearn-color-fitted-level-3);\n",
       "  color: var(--sklearn-color-background);\n",
       "  text-decoration: none;\n",
       "}\n",
       "\n",
       "/* Span, style for the box shown on hovering the info icon */\n",
       ".sk-estimator-doc-link span {\n",
       "  display: none;\n",
       "  z-index: 9999;\n",
       "  position: relative;\n",
       "  font-weight: normal;\n",
       "  right: .2ex;\n",
       "  padding: .5ex;\n",
       "  margin: .5ex;\n",
       "  width: min-content;\n",
       "  min-width: 20ex;\n",
       "  max-width: 50ex;\n",
       "  color: var(--sklearn-color-text);\n",
       "  box-shadow: 2pt 2pt 4pt #999;\n",
       "  /* unfitted */\n",
       "  background: var(--sklearn-color-unfitted-level-0);\n",
       "  border: .5pt solid var(--sklearn-color-unfitted-level-3);\n",
       "}\n",
       "\n",
       ".sk-estimator-doc-link.fitted span {\n",
       "  /* fitted */\n",
       "  background: var(--sklearn-color-fitted-level-0);\n",
       "  border: var(--sklearn-color-fitted-level-3);\n",
       "}\n",
       "\n",
       ".sk-estimator-doc-link:hover span {\n",
       "  display: block;\n",
       "}\n",
       "\n",
       "/* \"?\"-specific style due to the `<a>` HTML tag */\n",
       "\n",
       "#sk-container-id-3 a.estimator_doc_link {\n",
       "  float: right;\n",
       "  font-size: 1rem;\n",
       "  line-height: 1em;\n",
       "  font-family: monospace;\n",
       "  background-color: var(--sklearn-color-background);\n",
       "  border-radius: 1rem;\n",
       "  height: 1rem;\n",
       "  width: 1rem;\n",
       "  text-decoration: none;\n",
       "  /* unfitted */\n",
       "  color: var(--sklearn-color-unfitted-level-1);\n",
       "  border: var(--sklearn-color-unfitted-level-1) 1pt solid;\n",
       "}\n",
       "\n",
       "#sk-container-id-3 a.estimator_doc_link.fitted {\n",
       "  /* fitted */\n",
       "  border: var(--sklearn-color-fitted-level-1) 1pt solid;\n",
       "  color: var(--sklearn-color-fitted-level-1);\n",
       "}\n",
       "\n",
       "/* On hover */\n",
       "#sk-container-id-3 a.estimator_doc_link:hover {\n",
       "  /* unfitted */\n",
       "  background-color: var(--sklearn-color-unfitted-level-3);\n",
       "  color: var(--sklearn-color-background);\n",
       "  text-decoration: none;\n",
       "}\n",
       "\n",
       "#sk-container-id-3 a.estimator_doc_link.fitted:hover {\n",
       "  /* fitted */\n",
       "  background-color: var(--sklearn-color-fitted-level-3);\n",
       "}\n",
       "</style><div id=\"sk-container-id-3\" class=\"sk-top-container\"><div class=\"sk-text-repr-fallback\"><pre>NearestNeighbors(metric=&#x27;cosine&#x27;, n_neighbors=11)</pre><b>In a Jupyter environment, please rerun this cell to show the HTML representation or trust the notebook. <br />On GitHub, the HTML representation is unable to render, please try loading this page with nbviewer.org.</b></div><div class=\"sk-container\" hidden><div class=\"sk-item\"><div class=\"sk-estimator fitted sk-toggleable\"><input class=\"sk-toggleable__control sk-hidden--visually\" id=\"sk-estimator-id-3\" type=\"checkbox\" checked><label for=\"sk-estimator-id-3\" class=\"sk-toggleable__label fitted sk-toggleable__label-arrow\"><div><div>NearestNeighbors</div></div><div><a class=\"sk-estimator-doc-link fitted\" rel=\"noreferrer\" target=\"_blank\" href=\"https://scikit-learn.org/1.6/modules/generated/sklearn.neighbors.NearestNeighbors.html\">?<span>Documentation for NearestNeighbors</span></a><span class=\"sk-estimator-doc-link fitted\">i<span>Fitted</span></span></div></label><div class=\"sk-toggleable__content fitted\"><pre>NearestNeighbors(metric=&#x27;cosine&#x27;, n_neighbors=11)</pre></div> </div></div></div></div>"
      ],
      "text/plain": [
       "NearestNeighbors(metric='cosine', n_neighbors=11)"
      ]
     },
     "execution_count": 133,
     "metadata": {},
     "output_type": "execute_result"
    }
   ],
   "source": [
    "from sklearn.neighbors import NearestNeighbors\n",
    "model = NearestNeighbors(n_neighbors = 11, algorithm='auto', metric=\"cosine\")\n",
    "model.fit(pivot)"
   ]
  },
  {
   "cell_type": "markdown",
   "metadata": {
    "id": "KwKhwbZH3khM"
   },
   "source": [
    "## making recommendations:"
   ]
  },
  {
   "cell_type": "code",
   "execution_count": 136,
   "metadata": {
    "id": "mZbaRZ-j3kDv"
   },
   "outputs": [],
   "source": [
    "def movie_collaborative_model(pivot, model, movie_title, num_pred):\n",
    "  if movie_title not in pivot.index:\n",
    "    return \"Movie not found\"\n",
    "\n",
    "  movie_idx = pivot.index.get_loc(movie_title)\n",
    "  movie_value_vector = pivot.iloc[movie_idx].values.reshape(1, -1)\n",
    "  dist, ind = model.kneighbors(movie_value_vector, n_neighbors = num_pred+1)\n",
    "  recommendations = [pivot.index[i] for i in ind[0] if i != movie_idx]\n",
    "  return recommendations"
   ]
  },
  {
   "cell_type": "code",
   "execution_count": 130,
   "metadata": {},
   "outputs": [
    {
     "data": {
      "text/plain": [
       "array([[4., 0., 0., ..., 0., 0., 4.]], shape=(1, 103839))"
      ]
     },
     "execution_count": 130,
     "metadata": {},
     "output_type": "execute_result"
    }
   ],
   "source": [
    "movie_idx = pivot.index.get_loc('Rebecca')\n",
    "movie_value_vector = pivot.iloc[movie_idx]\n",
    "movie_value_vector.values.reshape(1,-1)\n",
    "# l = [movie_value_vector.iloc[i] for i in movie_value_vector]\n",
    "# l"
   ]
  },
  {
   "cell_type": "code",
   "execution_count": 285,
   "metadata": {
    "colab": {
     "base_uri": "https://localhost:8080/"
    },
    "id": "YNm44gr36wtO",
    "outputId": "1252248e-ebe1-4282-fbd0-8f540f0b7034"
   },
   "outputs": [
    {
     "name": "stdout",
     "output_type": "stream",
     "text": [
      "Rebecca\n",
      "['Blood: The Last Vampire', 'The Great Dictator', 'Madagascar', 'The Good Shepherd', 'Broken Blossoms', 'The City of Lost Children', 'An Unfinished Life', 'Ghost Rider', 'Mission to Mars', 'The Big Sleep']\n"
     ]
    }
   ],
   "source": [
    "title = movie_ratings_df.loc[0]['title']\n",
    "print(title)\n",
    "recommendations = movie_collaborative_model(pivot, model, \"Cars\", 10)\n",
    "print(recommendations)"
   ]
  },
  {
   "cell_type": "markdown",
   "metadata": {
    "id": "t6KloLir9lwM"
   },
   "source": [
    "# User based collaborative filltering model\n",
    "## predict similar users based on ratings\n",
    "in this model we are making the predicitons based on finding similar users. the intuition is once you find 2 users who have similar tastes in movies, any movie user A likes will also be liked by user B"
   ]
  },
  {
   "cell_type": "code",
   "execution_count": 92,
   "metadata": {
    "id": "idMXJAYN9q48"
   },
   "outputs": [],
   "source": [
    "pivot_t = pivot.T\n",
    "matrix_t = csr_matrix(pivot_t)"
   ]
  },
  {
   "cell_type": "markdown",
   "metadata": {
    "id": "ukjL447N_Wcc"
   },
   "source": [
    "## defining the knn model"
   ]
  },
  {
   "cell_type": "code",
   "execution_count": 93,
   "metadata": {
    "colab": {
     "base_uri": "https://localhost:8080/",
     "height": 80
    },
    "id": "Q4QzRqFy_Wcd",
    "outputId": "2d969439-86e2-423d-f8d3-3af96829d125"
   },
   "outputs": [
    {
     "data": {
      "text/html": [
       "<style>#sk-container-id-2 {\n",
       "  /* Definition of color scheme common for light and dark mode */\n",
       "  --sklearn-color-text: #000;\n",
       "  --sklearn-color-text-muted: #666;\n",
       "  --sklearn-color-line: gray;\n",
       "  /* Definition of color scheme for unfitted estimators */\n",
       "  --sklearn-color-unfitted-level-0: #fff5e6;\n",
       "  --sklearn-color-unfitted-level-1: #f6e4d2;\n",
       "  --sklearn-color-unfitted-level-2: #ffe0b3;\n",
       "  --sklearn-color-unfitted-level-3: chocolate;\n",
       "  /* Definition of color scheme for fitted estimators */\n",
       "  --sklearn-color-fitted-level-0: #f0f8ff;\n",
       "  --sklearn-color-fitted-level-1: #d4ebff;\n",
       "  --sklearn-color-fitted-level-2: #b3dbfd;\n",
       "  --sklearn-color-fitted-level-3: cornflowerblue;\n",
       "\n",
       "  /* Specific color for light theme */\n",
       "  --sklearn-color-text-on-default-background: var(--sg-text-color, var(--theme-code-foreground, var(--jp-content-font-color1, black)));\n",
       "  --sklearn-color-background: var(--sg-background-color, var(--theme-background, var(--jp-layout-color0, white)));\n",
       "  --sklearn-color-border-box: var(--sg-text-color, var(--theme-code-foreground, var(--jp-content-font-color1, black)));\n",
       "  --sklearn-color-icon: #696969;\n",
       "\n",
       "  @media (prefers-color-scheme: dark) {\n",
       "    /* Redefinition of color scheme for dark theme */\n",
       "    --sklearn-color-text-on-default-background: var(--sg-text-color, var(--theme-code-foreground, var(--jp-content-font-color1, white)));\n",
       "    --sklearn-color-background: var(--sg-background-color, var(--theme-background, var(--jp-layout-color0, #111)));\n",
       "    --sklearn-color-border-box: var(--sg-text-color, var(--theme-code-foreground, var(--jp-content-font-color1, white)));\n",
       "    --sklearn-color-icon: #878787;\n",
       "  }\n",
       "}\n",
       "\n",
       "#sk-container-id-2 {\n",
       "  color: var(--sklearn-color-text);\n",
       "}\n",
       "\n",
       "#sk-container-id-2 pre {\n",
       "  padding: 0;\n",
       "}\n",
       "\n",
       "#sk-container-id-2 input.sk-hidden--visually {\n",
       "  border: 0;\n",
       "  clip: rect(1px 1px 1px 1px);\n",
       "  clip: rect(1px, 1px, 1px, 1px);\n",
       "  height: 1px;\n",
       "  margin: -1px;\n",
       "  overflow: hidden;\n",
       "  padding: 0;\n",
       "  position: absolute;\n",
       "  width: 1px;\n",
       "}\n",
       "\n",
       "#sk-container-id-2 div.sk-dashed-wrapped {\n",
       "  border: 1px dashed var(--sklearn-color-line);\n",
       "  margin: 0 0.4em 0.5em 0.4em;\n",
       "  box-sizing: border-box;\n",
       "  padding-bottom: 0.4em;\n",
       "  background-color: var(--sklearn-color-background);\n",
       "}\n",
       "\n",
       "#sk-container-id-2 div.sk-container {\n",
       "  /* jupyter's `normalize.less` sets `[hidden] { display: none; }`\n",
       "     but bootstrap.min.css set `[hidden] { display: none !important; }`\n",
       "     so we also need the `!important` here to be able to override the\n",
       "     default hidden behavior on the sphinx rendered scikit-learn.org.\n",
       "     See: https://github.com/scikit-learn/scikit-learn/issues/21755 */\n",
       "  display: inline-block !important;\n",
       "  position: relative;\n",
       "}\n",
       "\n",
       "#sk-container-id-2 div.sk-text-repr-fallback {\n",
       "  display: none;\n",
       "}\n",
       "\n",
       "div.sk-parallel-item,\n",
       "div.sk-serial,\n",
       "div.sk-item {\n",
       "  /* draw centered vertical line to link estimators */\n",
       "  background-image: linear-gradient(var(--sklearn-color-text-on-default-background), var(--sklearn-color-text-on-default-background));\n",
       "  background-size: 2px 100%;\n",
       "  background-repeat: no-repeat;\n",
       "  background-position: center center;\n",
       "}\n",
       "\n",
       "/* Parallel-specific style estimator block */\n",
       "\n",
       "#sk-container-id-2 div.sk-parallel-item::after {\n",
       "  content: \"\";\n",
       "  width: 100%;\n",
       "  border-bottom: 2px solid var(--sklearn-color-text-on-default-background);\n",
       "  flex-grow: 1;\n",
       "}\n",
       "\n",
       "#sk-container-id-2 div.sk-parallel {\n",
       "  display: flex;\n",
       "  align-items: stretch;\n",
       "  justify-content: center;\n",
       "  background-color: var(--sklearn-color-background);\n",
       "  position: relative;\n",
       "}\n",
       "\n",
       "#sk-container-id-2 div.sk-parallel-item {\n",
       "  display: flex;\n",
       "  flex-direction: column;\n",
       "}\n",
       "\n",
       "#sk-container-id-2 div.sk-parallel-item:first-child::after {\n",
       "  align-self: flex-end;\n",
       "  width: 50%;\n",
       "}\n",
       "\n",
       "#sk-container-id-2 div.sk-parallel-item:last-child::after {\n",
       "  align-self: flex-start;\n",
       "  width: 50%;\n",
       "}\n",
       "\n",
       "#sk-container-id-2 div.sk-parallel-item:only-child::after {\n",
       "  width: 0;\n",
       "}\n",
       "\n",
       "/* Serial-specific style estimator block */\n",
       "\n",
       "#sk-container-id-2 div.sk-serial {\n",
       "  display: flex;\n",
       "  flex-direction: column;\n",
       "  align-items: center;\n",
       "  background-color: var(--sklearn-color-background);\n",
       "  padding-right: 1em;\n",
       "  padding-left: 1em;\n",
       "}\n",
       "\n",
       "\n",
       "/* Toggleable style: style used for estimator/Pipeline/ColumnTransformer box that is\n",
       "clickable and can be expanded/collapsed.\n",
       "- Pipeline and ColumnTransformer use this feature and define the default style\n",
       "- Estimators will overwrite some part of the style using the `sk-estimator` class\n",
       "*/\n",
       "\n",
       "/* Pipeline and ColumnTransformer style (default) */\n",
       "\n",
       "#sk-container-id-2 div.sk-toggleable {\n",
       "  /* Default theme specific background. It is overwritten whether we have a\n",
       "  specific estimator or a Pipeline/ColumnTransformer */\n",
       "  background-color: var(--sklearn-color-background);\n",
       "}\n",
       "\n",
       "/* Toggleable label */\n",
       "#sk-container-id-2 label.sk-toggleable__label {\n",
       "  cursor: pointer;\n",
       "  display: flex;\n",
       "  width: 100%;\n",
       "  margin-bottom: 0;\n",
       "  padding: 0.5em;\n",
       "  box-sizing: border-box;\n",
       "  text-align: center;\n",
       "  align-items: start;\n",
       "  justify-content: space-between;\n",
       "  gap: 0.5em;\n",
       "}\n",
       "\n",
       "#sk-container-id-2 label.sk-toggleable__label .caption {\n",
       "  font-size: 0.6rem;\n",
       "  font-weight: lighter;\n",
       "  color: var(--sklearn-color-text-muted);\n",
       "}\n",
       "\n",
       "#sk-container-id-2 label.sk-toggleable__label-arrow:before {\n",
       "  /* Arrow on the left of the label */\n",
       "  content: \"▸\";\n",
       "  float: left;\n",
       "  margin-right: 0.25em;\n",
       "  color: var(--sklearn-color-icon);\n",
       "}\n",
       "\n",
       "#sk-container-id-2 label.sk-toggleable__label-arrow:hover:before {\n",
       "  color: var(--sklearn-color-text);\n",
       "}\n",
       "\n",
       "/* Toggleable content - dropdown */\n",
       "\n",
       "#sk-container-id-2 div.sk-toggleable__content {\n",
       "  max-height: 0;\n",
       "  max-width: 0;\n",
       "  overflow: hidden;\n",
       "  text-align: left;\n",
       "  /* unfitted */\n",
       "  background-color: var(--sklearn-color-unfitted-level-0);\n",
       "}\n",
       "\n",
       "#sk-container-id-2 div.sk-toggleable__content.fitted {\n",
       "  /* fitted */\n",
       "  background-color: var(--sklearn-color-fitted-level-0);\n",
       "}\n",
       "\n",
       "#sk-container-id-2 div.sk-toggleable__content pre {\n",
       "  margin: 0.2em;\n",
       "  border-radius: 0.25em;\n",
       "  color: var(--sklearn-color-text);\n",
       "  /* unfitted */\n",
       "  background-color: var(--sklearn-color-unfitted-level-0);\n",
       "}\n",
       "\n",
       "#sk-container-id-2 div.sk-toggleable__content.fitted pre {\n",
       "  /* unfitted */\n",
       "  background-color: var(--sklearn-color-fitted-level-0);\n",
       "}\n",
       "\n",
       "#sk-container-id-2 input.sk-toggleable__control:checked~div.sk-toggleable__content {\n",
       "  /* Expand drop-down */\n",
       "  max-height: 200px;\n",
       "  max-width: 100%;\n",
       "  overflow: auto;\n",
       "}\n",
       "\n",
       "#sk-container-id-2 input.sk-toggleable__control:checked~label.sk-toggleable__label-arrow:before {\n",
       "  content: \"▾\";\n",
       "}\n",
       "\n",
       "/* Pipeline/ColumnTransformer-specific style */\n",
       "\n",
       "#sk-container-id-2 div.sk-label input.sk-toggleable__control:checked~label.sk-toggleable__label {\n",
       "  color: var(--sklearn-color-text);\n",
       "  background-color: var(--sklearn-color-unfitted-level-2);\n",
       "}\n",
       "\n",
       "#sk-container-id-2 div.sk-label.fitted input.sk-toggleable__control:checked~label.sk-toggleable__label {\n",
       "  background-color: var(--sklearn-color-fitted-level-2);\n",
       "}\n",
       "\n",
       "/* Estimator-specific style */\n",
       "\n",
       "/* Colorize estimator box */\n",
       "#sk-container-id-2 div.sk-estimator input.sk-toggleable__control:checked~label.sk-toggleable__label {\n",
       "  /* unfitted */\n",
       "  background-color: var(--sklearn-color-unfitted-level-2);\n",
       "}\n",
       "\n",
       "#sk-container-id-2 div.sk-estimator.fitted input.sk-toggleable__control:checked~label.sk-toggleable__label {\n",
       "  /* fitted */\n",
       "  background-color: var(--sklearn-color-fitted-level-2);\n",
       "}\n",
       "\n",
       "#sk-container-id-2 div.sk-label label.sk-toggleable__label,\n",
       "#sk-container-id-2 div.sk-label label {\n",
       "  /* The background is the default theme color */\n",
       "  color: var(--sklearn-color-text-on-default-background);\n",
       "}\n",
       "\n",
       "/* On hover, darken the color of the background */\n",
       "#sk-container-id-2 div.sk-label:hover label.sk-toggleable__label {\n",
       "  color: var(--sklearn-color-text);\n",
       "  background-color: var(--sklearn-color-unfitted-level-2);\n",
       "}\n",
       "\n",
       "/* Label box, darken color on hover, fitted */\n",
       "#sk-container-id-2 div.sk-label.fitted:hover label.sk-toggleable__label.fitted {\n",
       "  color: var(--sklearn-color-text);\n",
       "  background-color: var(--sklearn-color-fitted-level-2);\n",
       "}\n",
       "\n",
       "/* Estimator label */\n",
       "\n",
       "#sk-container-id-2 div.sk-label label {\n",
       "  font-family: monospace;\n",
       "  font-weight: bold;\n",
       "  display: inline-block;\n",
       "  line-height: 1.2em;\n",
       "}\n",
       "\n",
       "#sk-container-id-2 div.sk-label-container {\n",
       "  text-align: center;\n",
       "}\n",
       "\n",
       "/* Estimator-specific */\n",
       "#sk-container-id-2 div.sk-estimator {\n",
       "  font-family: monospace;\n",
       "  border: 1px dotted var(--sklearn-color-border-box);\n",
       "  border-radius: 0.25em;\n",
       "  box-sizing: border-box;\n",
       "  margin-bottom: 0.5em;\n",
       "  /* unfitted */\n",
       "  background-color: var(--sklearn-color-unfitted-level-0);\n",
       "}\n",
       "\n",
       "#sk-container-id-2 div.sk-estimator.fitted {\n",
       "  /* fitted */\n",
       "  background-color: var(--sklearn-color-fitted-level-0);\n",
       "}\n",
       "\n",
       "/* on hover */\n",
       "#sk-container-id-2 div.sk-estimator:hover {\n",
       "  /* unfitted */\n",
       "  background-color: var(--sklearn-color-unfitted-level-2);\n",
       "}\n",
       "\n",
       "#sk-container-id-2 div.sk-estimator.fitted:hover {\n",
       "  /* fitted */\n",
       "  background-color: var(--sklearn-color-fitted-level-2);\n",
       "}\n",
       "\n",
       "/* Specification for estimator info (e.g. \"i\" and \"?\") */\n",
       "\n",
       "/* Common style for \"i\" and \"?\" */\n",
       "\n",
       ".sk-estimator-doc-link,\n",
       "a:link.sk-estimator-doc-link,\n",
       "a:visited.sk-estimator-doc-link {\n",
       "  float: right;\n",
       "  font-size: smaller;\n",
       "  line-height: 1em;\n",
       "  font-family: monospace;\n",
       "  background-color: var(--sklearn-color-background);\n",
       "  border-radius: 1em;\n",
       "  height: 1em;\n",
       "  width: 1em;\n",
       "  text-decoration: none !important;\n",
       "  margin-left: 0.5em;\n",
       "  text-align: center;\n",
       "  /* unfitted */\n",
       "  border: var(--sklearn-color-unfitted-level-1) 1pt solid;\n",
       "  color: var(--sklearn-color-unfitted-level-1);\n",
       "}\n",
       "\n",
       ".sk-estimator-doc-link.fitted,\n",
       "a:link.sk-estimator-doc-link.fitted,\n",
       "a:visited.sk-estimator-doc-link.fitted {\n",
       "  /* fitted */\n",
       "  border: var(--sklearn-color-fitted-level-1) 1pt solid;\n",
       "  color: var(--sklearn-color-fitted-level-1);\n",
       "}\n",
       "\n",
       "/* On hover */\n",
       "div.sk-estimator:hover .sk-estimator-doc-link:hover,\n",
       ".sk-estimator-doc-link:hover,\n",
       "div.sk-label-container:hover .sk-estimator-doc-link:hover,\n",
       ".sk-estimator-doc-link:hover {\n",
       "  /* unfitted */\n",
       "  background-color: var(--sklearn-color-unfitted-level-3);\n",
       "  color: var(--sklearn-color-background);\n",
       "  text-decoration: none;\n",
       "}\n",
       "\n",
       "div.sk-estimator.fitted:hover .sk-estimator-doc-link.fitted:hover,\n",
       ".sk-estimator-doc-link.fitted:hover,\n",
       "div.sk-label-container:hover .sk-estimator-doc-link.fitted:hover,\n",
       ".sk-estimator-doc-link.fitted:hover {\n",
       "  /* fitted */\n",
       "  background-color: var(--sklearn-color-fitted-level-3);\n",
       "  color: var(--sklearn-color-background);\n",
       "  text-decoration: none;\n",
       "}\n",
       "\n",
       "/* Span, style for the box shown on hovering the info icon */\n",
       ".sk-estimator-doc-link span {\n",
       "  display: none;\n",
       "  z-index: 9999;\n",
       "  position: relative;\n",
       "  font-weight: normal;\n",
       "  right: .2ex;\n",
       "  padding: .5ex;\n",
       "  margin: .5ex;\n",
       "  width: min-content;\n",
       "  min-width: 20ex;\n",
       "  max-width: 50ex;\n",
       "  color: var(--sklearn-color-text);\n",
       "  box-shadow: 2pt 2pt 4pt #999;\n",
       "  /* unfitted */\n",
       "  background: var(--sklearn-color-unfitted-level-0);\n",
       "  border: .5pt solid var(--sklearn-color-unfitted-level-3);\n",
       "}\n",
       "\n",
       ".sk-estimator-doc-link.fitted span {\n",
       "  /* fitted */\n",
       "  background: var(--sklearn-color-fitted-level-0);\n",
       "  border: var(--sklearn-color-fitted-level-3);\n",
       "}\n",
       "\n",
       ".sk-estimator-doc-link:hover span {\n",
       "  display: block;\n",
       "}\n",
       "\n",
       "/* \"?\"-specific style due to the `<a>` HTML tag */\n",
       "\n",
       "#sk-container-id-2 a.estimator_doc_link {\n",
       "  float: right;\n",
       "  font-size: 1rem;\n",
       "  line-height: 1em;\n",
       "  font-family: monospace;\n",
       "  background-color: var(--sklearn-color-background);\n",
       "  border-radius: 1rem;\n",
       "  height: 1rem;\n",
       "  width: 1rem;\n",
       "  text-decoration: none;\n",
       "  /* unfitted */\n",
       "  color: var(--sklearn-color-unfitted-level-1);\n",
       "  border: var(--sklearn-color-unfitted-level-1) 1pt solid;\n",
       "}\n",
       "\n",
       "#sk-container-id-2 a.estimator_doc_link.fitted {\n",
       "  /* fitted */\n",
       "  border: var(--sklearn-color-fitted-level-1) 1pt solid;\n",
       "  color: var(--sklearn-color-fitted-level-1);\n",
       "}\n",
       "\n",
       "/* On hover */\n",
       "#sk-container-id-2 a.estimator_doc_link:hover {\n",
       "  /* unfitted */\n",
       "  background-color: var(--sklearn-color-unfitted-level-3);\n",
       "  color: var(--sklearn-color-background);\n",
       "  text-decoration: none;\n",
       "}\n",
       "\n",
       "#sk-container-id-2 a.estimator_doc_link.fitted:hover {\n",
       "  /* fitted */\n",
       "  background-color: var(--sklearn-color-fitted-level-3);\n",
       "}\n",
       "</style><div id=\"sk-container-id-2\" class=\"sk-top-container\"><div class=\"sk-text-repr-fallback\"><pre>NearestNeighbors(metric=&#x27;cosine&#x27;, n_neighbors=11)</pre><b>In a Jupyter environment, please rerun this cell to show the HTML representation or trust the notebook. <br />On GitHub, the HTML representation is unable to render, please try loading this page with nbviewer.org.</b></div><div class=\"sk-container\" hidden><div class=\"sk-item\"><div class=\"sk-estimator fitted sk-toggleable\"><input class=\"sk-toggleable__control sk-hidden--visually\" id=\"sk-estimator-id-2\" type=\"checkbox\" checked><label for=\"sk-estimator-id-2\" class=\"sk-toggleable__label fitted sk-toggleable__label-arrow\"><div><div>NearestNeighbors</div></div><div><a class=\"sk-estimator-doc-link fitted\" rel=\"noreferrer\" target=\"_blank\" href=\"https://scikit-learn.org/1.6/modules/generated/sklearn.neighbors.NearestNeighbors.html\">?<span>Documentation for NearestNeighbors</span></a><span class=\"sk-estimator-doc-link fitted\">i<span>Fitted</span></span></div></label><div class=\"sk-toggleable__content fitted\"><pre>NearestNeighbors(metric=&#x27;cosine&#x27;, n_neighbors=11)</pre></div> </div></div></div></div>"
      ],
      "text/plain": [
       "NearestNeighbors(metric='cosine', n_neighbors=11)"
      ]
     },
     "execution_count": 93,
     "metadata": {},
     "output_type": "execute_result"
    }
   ],
   "source": [
    "from sklearn.neighbors import NearestNeighbors\n",
    "model = NearestNeighbors(n_neighbors = 11, algorithm='auto', metric=\"cosine\")\n",
    "model.fit(matrix_t)"
   ]
  },
  {
   "cell_type": "markdown",
   "metadata": {
    "id": "OnvkKyYq_Wcd"
   },
   "source": [
    "## making recommendations:"
   ]
  },
  {
   "cell_type": "code",
   "execution_count": 94,
   "metadata": {
    "id": "cH3g51Y7_Wcd"
   },
   "outputs": [],
   "source": [
    "def user_collaborative_model(pivot, df, model, userId, num_pred):\n",
    "  if userId not in pivot.index:\n",
    "    return \"User not found\"\n",
    "\n",
    "  user_idx = pivot.index.get_loc(userId)\n",
    "  user_value_vector = pivot.iloc[user_idx]\n",
    "  dist, ind = model.kneighbors(user_value_vector, n_neighbors = 5)\n",
    "  recommendations = []\n",
    "  for i in ind[0]:\n",
    "    u_idx = pivot.index[i]\n",
    "    user_movies = df[df[\"user_id\"] == u_idx]\n",
    "    top_movies = user_movies.sort_values(by=\"rating\", ascending=False).head(num_pred/5)\n",
    "    recommendations.extend(top_movies[\"title\"].tolist())\n",
    "  return recommendations"
   ]
  },
  {
   "cell_type": "code",
   "execution_count": 95,
   "metadata": {
    "colab": {
     "base_uri": "https://localhost:8080/"
    },
    "id": "uY7n1Bn-_Wcd",
    "outputId": "e617d9c4-55aa-4404-f930-f02a83ed0120"
   },
   "outputs": [
    {
     "name": "stdout",
     "output_type": "stream",
     "text": [
      "User not found\n"
     ]
    }
   ],
   "source": [
    "user = 23\n",
    "recommendations = user_collaborative_model(pivot_t, movie_ratings_df, model, title, 10)\n",
    "print(recommendations)"
   ]
  },
  {
   "cell_type": "markdown",
   "metadata": {
    "id": "1a8tUqgXXpUm"
   },
   "source": [
    "#content based recommendation system\n",
    "use nlp to get movies with similar summary"
   ]
  },
  {
   "cell_type": "markdown",
   "metadata": {
    "id": "19RGoxUtZ_eg"
   },
   "source": [
    "## Summary based system\n",
    "using overview and tagline of the movie to get similar predictions"
   ]
  },
  {
   "cell_type": "markdown",
   "metadata": {
    "id": "C6HGT8tPSVBf"
   },
   "source": [
    "### Load the spacy model"
   ]
  },
  {
   "cell_type": "code",
   "execution_count": 96,
   "metadata": {
    "colab": {
     "base_uri": "https://localhost:8080/"
    },
    "id": "krpm2yWqRRos",
    "outputId": "f740d247-1beb-4873-f1ef-48b7b2e14c77",
    "scrolled": true
   },
   "outputs": [
    {
     "name": "stdout",
     "output_type": "stream",
     "text": [
      "Requirement already satisfied: spacy in c:\\users\\anant\\github\\movie-recommendation\\venv\\lib\\site-packages (3.8.4)\n",
      "Requirement already satisfied: spacy-legacy<3.1.0,>=3.0.11 in c:\\users\\anant\\github\\movie-recommendation\\venv\\lib\\site-packages (from spacy) (3.0.12)\n",
      "Requirement already satisfied: spacy-loggers<2.0.0,>=1.0.0 in c:\\users\\anant\\github\\movie-recommendation\\venv\\lib\\site-packages (from spacy) (1.0.5)\n",
      "Requirement already satisfied: murmurhash<1.1.0,>=0.28.0 in c:\\users\\anant\\github\\movie-recommendation\\venv\\lib\\site-packages (from spacy) (1.0.12)\n",
      "Requirement already satisfied: cymem<2.1.0,>=2.0.2 in c:\\users\\anant\\github\\movie-recommendation\\venv\\lib\\site-packages (from spacy) (2.0.11)\n",
      "Requirement already satisfied: preshed<3.1.0,>=3.0.2 in c:\\users\\anant\\github\\movie-recommendation\\venv\\lib\\site-packages (from spacy) (3.0.9)\n",
      "Requirement already satisfied: thinc<8.4.0,>=8.3.4 in c:\\users\\anant\\github\\movie-recommendation\\venv\\lib\\site-packages (from spacy) (8.3.4)\n",
      "Requirement already satisfied: wasabi<1.2.0,>=0.9.1 in c:\\users\\anant\\github\\movie-recommendation\\venv\\lib\\site-packages (from spacy) (1.1.3)\n",
      "Requirement already satisfied: srsly<3.0.0,>=2.4.3 in c:\\users\\anant\\github\\movie-recommendation\\venv\\lib\\site-packages (from spacy) (2.5.1)\n",
      "Requirement already satisfied: catalogue<2.1.0,>=2.0.6 in c:\\users\\anant\\github\\movie-recommendation\\venv\\lib\\site-packages (from spacy) (2.0.10)\n",
      "Requirement already satisfied: weasel<0.5.0,>=0.1.0 in c:\\users\\anant\\github\\movie-recommendation\\venv\\lib\\site-packages (from spacy) (0.4.1)\n",
      "Requirement already satisfied: typer<1.0.0,>=0.3.0 in c:\\users\\anant\\github\\movie-recommendation\\venv\\lib\\site-packages (from spacy) (0.15.1)\n",
      "Requirement already satisfied: tqdm<5.0.0,>=4.38.0 in c:\\users\\anant\\github\\movie-recommendation\\venv\\lib\\site-packages (from spacy) (4.67.1)\n",
      "Requirement already satisfied: numpy>=1.19.0 in c:\\users\\anant\\github\\movie-recommendation\\venv\\lib\\site-packages (from spacy) (2.2.2)\n",
      "Requirement already satisfied: requests<3.0.0,>=2.13.0 in c:\\users\\anant\\github\\movie-recommendation\\venv\\lib\\site-packages (from spacy) (2.32.3)\n",
      "Requirement already satisfied: pydantic!=1.8,!=1.8.1,<3.0.0,>=1.7.4 in c:\\users\\anant\\github\\movie-recommendation\\venv\\lib\\site-packages (from spacy) (2.10.6)\n",
      "Requirement already satisfied: jinja2 in c:\\users\\anant\\github\\movie-recommendation\\venv\\lib\\site-packages (from spacy) (3.1.5)\n",
      "Requirement already satisfied: setuptools in c:\\users\\anant\\github\\movie-recommendation\\venv\\lib\\site-packages (from spacy) (65.5.0)\n",
      "Requirement already satisfied: packaging>=20.0 in c:\\users\\anant\\github\\movie-recommendation\\venv\\lib\\site-packages (from spacy) (24.2)\n",
      "Requirement already satisfied: langcodes<4.0.0,>=3.2.0 in c:\\users\\anant\\github\\movie-recommendation\\venv\\lib\\site-packages (from spacy) (3.5.0)\n",
      "Requirement already satisfied: language-data>=1.2 in c:\\users\\anant\\github\\movie-recommendation\\venv\\lib\\site-packages (from langcodes<4.0.0,>=3.2.0->spacy) (1.3.0)\n",
      "Requirement already satisfied: annotated-types>=0.6.0 in c:\\users\\anant\\github\\movie-recommendation\\venv\\lib\\site-packages (from pydantic!=1.8,!=1.8.1,<3.0.0,>=1.7.4->spacy) (0.7.0)\n",
      "Requirement already satisfied: pydantic-core==2.27.2 in c:\\users\\anant\\github\\movie-recommendation\\venv\\lib\\site-packages (from pydantic!=1.8,!=1.8.1,<3.0.0,>=1.7.4->spacy) (2.27.2)\n",
      "Requirement already satisfied: typing-extensions>=4.12.2 in c:\\users\\anant\\github\\movie-recommendation\\venv\\lib\\site-packages (from pydantic!=1.8,!=1.8.1,<3.0.0,>=1.7.4->spacy) (4.12.2)\n",
      "Requirement already satisfied: charset-normalizer<4,>=2 in c:\\users\\anant\\github\\movie-recommendation\\venv\\lib\\site-packages (from requests<3.0.0,>=2.13.0->spacy) (3.4.1)\n",
      "Requirement already satisfied: idna<4,>=2.5 in c:\\users\\anant\\github\\movie-recommendation\\venv\\lib\\site-packages (from requests<3.0.0,>=2.13.0->spacy) (3.10)\n",
      "Requirement already satisfied: urllib3<3,>=1.21.1 in c:\\users\\anant\\github\\movie-recommendation\\venv\\lib\\site-packages (from requests<3.0.0,>=2.13.0->spacy) (2.3.0)\n",
      "Requirement already satisfied: certifi>=2017.4.17 in c:\\users\\anant\\github\\movie-recommendation\\venv\\lib\\site-packages (from requests<3.0.0,>=2.13.0->spacy) (2025.1.31)\n",
      "Requirement already satisfied: blis<1.3.0,>=1.2.0 in c:\\users\\anant\\github\\movie-recommendation\\venv\\lib\\site-packages (from thinc<8.4.0,>=8.3.4->spacy) (1.2.0)\n",
      "Requirement already satisfied: confection<1.0.0,>=0.0.1 in c:\\users\\anant\\github\\movie-recommendation\\venv\\lib\\site-packages (from thinc<8.4.0,>=8.3.4->spacy) (0.1.5)\n",
      "Requirement already satisfied: colorama in c:\\users\\anant\\github\\movie-recommendation\\venv\\lib\\site-packages (from tqdm<5.0.0,>=4.38.0->spacy) (0.4.6)\n",
      "Requirement already satisfied: click>=8.0.0 in c:\\users\\anant\\github\\movie-recommendation\\venv\\lib\\site-packages (from typer<1.0.0,>=0.3.0->spacy) (8.1.8)\n",
      "Requirement already satisfied: shellingham>=1.3.0 in c:\\users\\anant\\github\\movie-recommendation\\venv\\lib\\site-packages (from typer<1.0.0,>=0.3.0->spacy) (1.5.4)\n",
      "Requirement already satisfied: rich>=10.11.0 in c:\\users\\anant\\github\\movie-recommendation\\venv\\lib\\site-packages (from typer<1.0.0,>=0.3.0->spacy) (13.9.4)\n",
      "Requirement already satisfied: cloudpathlib<1.0.0,>=0.7.0 in c:\\users\\anant\\github\\movie-recommendation\\venv\\lib\\site-packages (from weasel<0.5.0,>=0.1.0->spacy) (0.20.0)\n",
      "Requirement already satisfied: smart-open<8.0.0,>=5.2.1 in c:\\users\\anant\\github\\movie-recommendation\\venv\\lib\\site-packages (from weasel<0.5.0,>=0.1.0->spacy) (7.1.0)\n",
      "Requirement already satisfied: MarkupSafe>=2.0 in c:\\users\\anant\\github\\movie-recommendation\\venv\\lib\\site-packages (from jinja2->spacy) (3.0.2)\n",
      "Requirement already satisfied: marisa-trie>=1.1.0 in c:\\users\\anant\\github\\movie-recommendation\\venv\\lib\\site-packages (from language-data>=1.2->langcodes<4.0.0,>=3.2.0->spacy) (1.2.1)\n",
      "Requirement already satisfied: markdown-it-py>=2.2.0 in c:\\users\\anant\\github\\movie-recommendation\\venv\\lib\\site-packages (from rich>=10.11.0->typer<1.0.0,>=0.3.0->spacy) (3.0.0)\n",
      "Requirement already satisfied: pygments<3.0.0,>=2.13.0 in c:\\users\\anant\\github\\movie-recommendation\\venv\\lib\\site-packages (from rich>=10.11.0->typer<1.0.0,>=0.3.0->spacy) (2.19.1)\n",
      "Requirement already satisfied: wrapt in c:\\users\\anant\\github\\movie-recommendation\\venv\\lib\\site-packages (from smart-open<8.0.0,>=5.2.1->weasel<0.5.0,>=0.1.0->spacy) (1.17.2)\n",
      "Requirement already satisfied: mdurl~=0.1 in c:\\users\\anant\\github\\movie-recommendation\\venv\\lib\\site-packages (from markdown-it-py>=2.2.0->rich>=10.11.0->typer<1.0.0,>=0.3.0->spacy) (0.1.2)\n",
      "Collecting en-core-web-md==3.8.0\n",
      "  Downloading https://github.com/explosion/spacy-models/releases/download/en_core_web_md-3.8.0/en_core_web_md-3.8.0-py3-none-any.whl (33.5 MB)\n",
      "     ---------------------------------------- 0.0/33.5 MB ? eta -:--:--\n",
      "     ---------------------------------------- 0.0/33.5 MB ? eta -:--:--\n",
      "     ---------------------------------------- 0.3/33.5 MB ? eta -:--:--\n",
      "      --------------------------------------- 0.8/33.5 MB 1.3 MB/s eta 0:00:26\n",
      "     - -------------------------------------- 1.0/33.5 MB 1.3 MB/s eta 0:00:26\n",
      "     - -------------------------------------- 1.3/33.5 MB 1.3 MB/s eta 0:00:25\n",
      "     - -------------------------------------- 1.6/33.5 MB 1.3 MB/s eta 0:00:25\n",
      "     -- ------------------------------------- 1.8/33.5 MB 1.3 MB/s eta 0:00:25\n",
      "     -- ------------------------------------- 2.1/33.5 MB 1.3 MB/s eta 0:00:25\n",
      "     -- ------------------------------------- 2.4/33.5 MB 1.3 MB/s eta 0:00:25\n",
      "     --- ------------------------------------ 2.6/33.5 MB 1.3 MB/s eta 0:00:24\n",
      "     --- ------------------------------------ 2.9/33.5 MB 1.3 MB/s eta 0:00:24\n",
      "     --- ------------------------------------ 3.1/33.5 MB 1.3 MB/s eta 0:00:24\n",
      "     ---- ----------------------------------- 3.4/33.5 MB 1.3 MB/s eta 0:00:24\n",
      "     ---- ----------------------------------- 3.7/33.5 MB 1.3 MB/s eta 0:00:24\n",
      "     ---- ----------------------------------- 3.9/33.5 MB 1.3 MB/s eta 0:00:24\n",
      "     ----- ---------------------------------- 4.2/33.5 MB 1.3 MB/s eta 0:00:23\n",
      "     ----- ---------------------------------- 4.5/33.5 MB 1.3 MB/s eta 0:00:23\n",
      "     ----- ---------------------------------- 4.7/33.5 MB 1.3 MB/s eta 0:00:23\n",
      "     ----- ---------------------------------- 5.0/33.5 MB 1.3 MB/s eta 0:00:23\n",
      "     ------ --------------------------------- 5.2/33.5 MB 1.3 MB/s eta 0:00:22\n",
      "     ------ --------------------------------- 5.5/33.5 MB 1.3 MB/s eta 0:00:22\n",
      "     ------ --------------------------------- 5.8/33.5 MB 1.3 MB/s eta 0:00:22\n",
      "     ------- -------------------------------- 6.0/33.5 MB 1.3 MB/s eta 0:00:22\n",
      "     ------- -------------------------------- 6.3/33.5 MB 1.3 MB/s eta 0:00:22\n",
      "     ------- -------------------------------- 6.6/33.5 MB 1.3 MB/s eta 0:00:21\n",
      "     -------- ------------------------------- 6.8/33.5 MB 1.3 MB/s eta 0:00:21\n",
      "     -------- ------------------------------- 7.1/33.5 MB 1.3 MB/s eta 0:00:21\n",
      "     -------- ------------------------------- 7.3/33.5 MB 1.3 MB/s eta 0:00:21\n",
      "     --------- ------------------------------ 7.6/33.5 MB 1.3 MB/s eta 0:00:21\n",
      "     --------- ------------------------------ 7.9/33.5 MB 1.3 MB/s eta 0:00:20\n",
      "     --------- ------------------------------ 8.1/33.5 MB 1.3 MB/s eta 0:00:20\n",
      "     ---------- ----------------------------- 8.4/33.5 MB 1.3 MB/s eta 0:00:20\n",
      "     ---------- ----------------------------- 8.7/33.5 MB 1.3 MB/s eta 0:00:20\n",
      "     ---------- ----------------------------- 8.9/33.5 MB 1.3 MB/s eta 0:00:20\n",
      "     ---------- ----------------------------- 9.2/33.5 MB 1.3 MB/s eta 0:00:19\n",
      "     ----------- ---------------------------- 9.4/33.5 MB 1.3 MB/s eta 0:00:19\n",
      "     ----------- ---------------------------- 9.7/33.5 MB 1.3 MB/s eta 0:00:19\n",
      "     ----------- ---------------------------- 10.0/33.5 MB 1.3 MB/s eta 0:00:19\n",
      "     ------------ --------------------------- 10.2/33.5 MB 1.3 MB/s eta 0:00:19\n",
      "     ------------ --------------------------- 10.5/33.5 MB 1.3 MB/s eta 0:00:18\n",
      "     ------------ --------------------------- 10.7/33.5 MB 1.3 MB/s eta 0:00:18\n",
      "     ------------- -------------------------- 11.0/33.5 MB 1.3 MB/s eta 0:00:18\n",
      "     ------------- -------------------------- 11.3/33.5 MB 1.3 MB/s eta 0:00:18\n",
      "     ------------- -------------------------- 11.5/33.5 MB 1.3 MB/s eta 0:00:18\n",
      "     -------------- ------------------------- 11.8/33.5 MB 1.3 MB/s eta 0:00:17\n",
      "     -------------- ------------------------- 12.1/33.5 MB 1.3 MB/s eta 0:00:17\n",
      "     -------------- ------------------------- 12.3/33.5 MB 1.3 MB/s eta 0:00:17\n",
      "     --------------- ------------------------ 12.6/33.5 MB 1.3 MB/s eta 0:00:17\n",
      "     --------------- ------------------------ 12.8/33.5 MB 1.3 MB/s eta 0:00:17\n",
      "     --------------- ------------------------ 13.1/33.5 MB 1.3 MB/s eta 0:00:16\n",
      "     --------------- ------------------------ 13.4/33.5 MB 1.3 MB/s eta 0:00:16\n",
      "     ---------------- ----------------------- 13.6/33.5 MB 1.3 MB/s eta 0:00:16\n",
      "     ---------------- ----------------------- 13.9/33.5 MB 1.3 MB/s eta 0:00:16\n",
      "     ----------------- ---------------------- 14.4/33.5 MB 1.3 MB/s eta 0:00:15\n",
      "     ----------------- ---------------------- 14.7/33.5 MB 1.3 MB/s eta 0:00:15\n",
      "     ----------------- ---------------------- 14.9/33.5 MB 1.3 MB/s eta 0:00:15\n",
      "     ------------------ --------------------- 15.2/33.5 MB 1.3 MB/s eta 0:00:15\n",
      "     ------------------ --------------------- 15.5/33.5 MB 1.3 MB/s eta 0:00:14\n",
      "     ------------------ --------------------- 15.7/33.5 MB 1.3 MB/s eta 0:00:14\n",
      "     ------------------- -------------------- 16.0/33.5 MB 1.3 MB/s eta 0:00:14\n",
      "     ------------------- -------------------- 16.3/33.5 MB 1.3 MB/s eta 0:00:14\n",
      "     ------------------- -------------------- 16.5/33.5 MB 1.3 MB/s eta 0:00:14\n",
      "     -------------------- ------------------- 16.8/33.5 MB 1.3 MB/s eta 0:00:13\n",
      "     -------------------- ------------------- 17.0/33.5 MB 1.3 MB/s eta 0:00:13\n",
      "     -------------------- ------------------- 17.3/33.5 MB 1.3 MB/s eta 0:00:13\n",
      "     -------------------- ------------------- 17.6/33.5 MB 1.3 MB/s eta 0:00:13\n",
      "     --------------------- ------------------ 17.8/33.5 MB 1.3 MB/s eta 0:00:13\n",
      "     --------------------- ------------------ 18.1/33.5 MB 1.3 MB/s eta 0:00:12\n",
      "     --------------------- ------------------ 18.4/33.5 MB 1.3 MB/s eta 0:00:12\n",
      "     ---------------------- ----------------- 18.6/33.5 MB 1.3 MB/s eta 0:00:12\n",
      "     ---------------------- ----------------- 18.9/33.5 MB 1.3 MB/s eta 0:00:12\n",
      "     ---------------------- ----------------- 19.1/33.5 MB 1.3 MB/s eta 0:00:12\n",
      "     ----------------------- ---------------- 19.4/33.5 MB 1.3 MB/s eta 0:00:11\n",
      "     ----------------------- ---------------- 19.7/33.5 MB 1.3 MB/s eta 0:00:11\n",
      "     ----------------------- ---------------- 19.9/33.5 MB 1.3 MB/s eta 0:00:11\n",
      "     ------------------------ --------------- 20.2/33.5 MB 1.3 MB/s eta 0:00:11\n",
      "     ------------------------ --------------- 20.4/33.5 MB 1.3 MB/s eta 0:00:11\n",
      "     ------------------------ --------------- 20.7/33.5 MB 1.3 MB/s eta 0:00:10\n",
      "     ------------------------- -------------- 21.0/33.5 MB 1.3 MB/s eta 0:00:10\n",
      "     ------------------------- -------------- 21.2/33.5 MB 1.3 MB/s eta 0:00:10\n",
      "     ------------------------- -------------- 21.5/33.5 MB 1.3 MB/s eta 0:00:10\n",
      "     ------------------------- -------------- 21.8/33.5 MB 1.3 MB/s eta 0:00:10\n",
      "     -------------------------- ------------- 22.0/33.5 MB 1.3 MB/s eta 0:00:09\n",
      "     -------------------------- ------------- 22.3/33.5 MB 1.3 MB/s eta 0:00:09\n",
      "     -------------------------- ------------- 22.5/33.5 MB 1.3 MB/s eta 0:00:09\n",
      "     --------------------------- ------------ 22.8/33.5 MB 1.3 MB/s eta 0:00:09\n",
      "     --------------------------- ------------ 23.1/33.5 MB 1.3 MB/s eta 0:00:09\n",
      "     --------------------------- ------------ 23.3/33.5 MB 1.3 MB/s eta 0:00:08\n",
      "     ---------------------------- ----------- 23.6/33.5 MB 1.3 MB/s eta 0:00:08\n",
      "     ---------------------------- ----------- 23.9/33.5 MB 1.3 MB/s eta 0:00:08\n",
      "     ---------------------------- ----------- 24.1/33.5 MB 1.3 MB/s eta 0:00:08\n",
      "     ----------------------------- ---------- 24.4/33.5 MB 1.3 MB/s eta 0:00:08\n",
      "     ----------------------------- ---------- 24.6/33.5 MB 1.3 MB/s eta 0:00:07\n",
      "     ----------------------------- ---------- 24.9/33.5 MB 1.3 MB/s eta 0:00:07\n",
      "     ------------------------------ --------- 25.4/33.5 MB 1.3 MB/s eta 0:00:07\n",
      "     ------------------------------ --------- 25.7/33.5 MB 1.3 MB/s eta 0:00:07\n",
      "     ------------------------------- -------- 26.0/33.5 MB 1.3 MB/s eta 0:00:06\n",
      "     ------------------------------- -------- 26.2/33.5 MB 1.3 MB/s eta 0:00:06\n",
      "     ------------------------------- -------- 26.5/33.5 MB 1.3 MB/s eta 0:00:06\n",
      "     ------------------------------- -------- 26.7/33.5 MB 1.3 MB/s eta 0:00:06\n",
      "     -------------------------------- ------- 27.0/33.5 MB 1.3 MB/s eta 0:00:06\n",
      "     -------------------------------- ------- 27.3/33.5 MB 1.3 MB/s eta 0:00:05\n",
      "     -------------------------------- ------- 27.5/33.5 MB 1.3 MB/s eta 0:00:05\n",
      "     --------------------------------- ------ 27.8/33.5 MB 1.3 MB/s eta 0:00:05\n",
      "     --------------------------------- ------ 28.0/33.5 MB 1.3 MB/s eta 0:00:05\n",
      "     --------------------------------- ------ 28.3/33.5 MB 1.3 MB/s eta 0:00:05\n",
      "     ---------------------------------- ----- 28.6/33.5 MB 1.3 MB/s eta 0:00:04\n",
      "     ---------------------------------- ----- 28.8/33.5 MB 1.3 MB/s eta 0:00:04\n",
      "     ---------------------------------- ----- 29.1/33.5 MB 1.3 MB/s eta 0:00:04\n",
      "     ----------------------------------- ---- 29.4/33.5 MB 1.3 MB/s eta 0:00:04\n",
      "     ----------------------------------- ---- 29.6/33.5 MB 1.3 MB/s eta 0:00:03\n",
      "     ----------------------------------- ---- 29.9/33.5 MB 1.3 MB/s eta 0:00:03\n",
      "     ------------------------------------ --- 30.1/33.5 MB 1.3 MB/s eta 0:00:03\n",
      "     ------------------------------------ --- 30.4/33.5 MB 1.3 MB/s eta 0:00:03\n",
      "     ------------------------------------ --- 30.7/33.5 MB 1.3 MB/s eta 0:00:03\n",
      "     ------------------------------------ --- 30.9/33.5 MB 1.3 MB/s eta 0:00:02\n",
      "     ------------------------------------- -- 31.2/33.5 MB 1.3 MB/s eta 0:00:02\n",
      "     ------------------------------------- -- 31.5/33.5 MB 1.3 MB/s eta 0:00:02\n",
      "     ------------------------------------- -- 31.7/33.5 MB 1.3 MB/s eta 0:00:02\n",
      "     -------------------------------------- - 32.0/33.5 MB 1.3 MB/s eta 0:00:02\n",
      "     -------------------------------------- - 32.2/33.5 MB 1.3 MB/s eta 0:00:01\n",
      "     -------------------------------------- - 32.5/33.5 MB 1.3 MB/s eta 0:00:01\n",
      "     ---------------------------------------  32.8/33.5 MB 1.3 MB/s eta 0:00:01\n",
      "     ---------------------------------------  33.0/33.5 MB 1.3 MB/s eta 0:00:01\n",
      "     ---------------------------------------  33.3/33.5 MB 1.3 MB/s eta 0:00:01\n",
      "     ---------------------------------------- 33.5/33.5 MB 1.3 MB/s eta 0:00:00\n",
      "\u001b[38;5;2m[+] Download and installation successful\u001b[0m\n",
      "You can now load the package via spacy.load('en_core_web_md')\n"
     ]
    }
   ],
   "source": [
    "!pip install spacy\n",
    "!python -m spacy download en_core_web_md"
   ]
  },
  {
   "cell_type": "markdown",
   "metadata": {
    "id": "XIhgUKnrSbsL"
   },
   "source": [
    "### Apply preprocessing on description"
   ]
  },
  {
   "cell_type": "code",
   "execution_count": 97,
   "metadata": {
    "colab": {
     "base_uri": "https://localhost:8080/",
     "height": 458
    },
    "id": "Z2DtllkSTENR",
    "outputId": "c4c28ec5-03a6-4166-943d-bbfff3700cc1"
   },
   "outputs": [
    {
     "data": {
      "text/plain": [
       "0        Led by Woody, Andy's toys live happily in his ...\n",
       "1        When siblings Judy and Peter discover an encha...\n",
       "2        A family wedding reignites the ancient feud be...\n",
       "3        Cheated on, mistreated and stepped on, the wom...\n",
       "4        Just when George Banks has recovered from his ...\n",
       "                               ...                        \n",
       "41909    It's the year 3000 AD. The world's most danger...\n",
       "41910    Rising and falling between a man and woman. Ri...\n",
       "41911    An artist struggles to finish his work while a...\n",
       "41912    In a small town live two brothers, one a minis...\n",
       "41913    50 years after decriminalisation of homosexual...\n",
       "Name: description, Length: 41914, dtype: string"
      ]
     },
     "execution_count": 97,
     "metadata": {},
     "output_type": "execute_result"
    }
   ],
   "source": [
    "movies[\"description\"]"
   ]
  },
  {
   "cell_type": "code",
   "execution_count": 98,
   "metadata": {
    "id": "suPH-OqdSnwe"
   },
   "outputs": [],
   "source": [
    "import spacy\n",
    "nlp = spacy.load(\"en_core_web_md\")"
   ]
  },
  {
   "cell_type": "code",
   "execution_count": 99,
   "metadata": {
    "id": "P_qD1Dy9TBEn"
   },
   "outputs": [],
   "source": [
    "def preprocess_text(text):\n",
    "      if isinstance(text, str):\n",
    "        doc = nlp(text)\n",
    "        tokens = [token.lemma_.lower() for token in doc if not token.is_stop and token.is_alpha]\n",
    "        processed_text = ' '.join(tokens)\n",
    "        return processed_text\n",
    "      return np.nan"
   ]
  },
  {
   "cell_type": "code",
   "execution_count": 100,
   "metadata": {
    "id": "WqyWvM5HTCCf"
   },
   "outputs": [
    {
     "ename": "KeyboardInterrupt",
     "evalue": "",
     "output_type": "error",
     "traceback": [
      "\u001b[1;31m---------------------------------------------------------------------------\u001b[0m",
      "\u001b[1;31mKeyboardInterrupt\u001b[0m                         Traceback (most recent call last)",
      "Cell \u001b[1;32mIn[100], line 1\u001b[0m\n\u001b[1;32m----> 1\u001b[0m movies[\u001b[38;5;124m\"\u001b[39m\u001b[38;5;124mdescription\u001b[39m\u001b[38;5;124m\"\u001b[39m] \u001b[38;5;241m=\u001b[39m \u001b[43mmovies\u001b[49m\u001b[43m[\u001b[49m\u001b[38;5;124;43m\"\u001b[39;49m\u001b[38;5;124;43mdescription\u001b[39;49m\u001b[38;5;124;43m\"\u001b[39;49m\u001b[43m]\u001b[49m\u001b[38;5;241;43m.\u001b[39;49m\u001b[43mapply\u001b[49m\u001b[43m(\u001b[49m\u001b[43mpreprocess_text\u001b[49m\u001b[43m)\u001b[49m\n\u001b[0;32m      2\u001b[0m movies[\u001b[38;5;124m\"\u001b[39m\u001b[38;5;124mdescription\u001b[39m\u001b[38;5;124m\"\u001b[39m]\n",
      "File \u001b[1;32m~\\GitHub\\movie-recommendation\\venv\\Lib\\site-packages\\pandas\\core\\series.py:4924\u001b[0m, in \u001b[0;36mSeries.apply\u001b[1;34m(self, func, convert_dtype, args, by_row, **kwargs)\u001b[0m\n\u001b[0;32m   4789\u001b[0m \u001b[38;5;28;01mdef\u001b[39;00m\u001b[38;5;250m \u001b[39m\u001b[38;5;21mapply\u001b[39m(\n\u001b[0;32m   4790\u001b[0m     \u001b[38;5;28mself\u001b[39m,\n\u001b[0;32m   4791\u001b[0m     func: AggFuncType,\n\u001b[1;32m   (...)\u001b[0m\n\u001b[0;32m   4796\u001b[0m     \u001b[38;5;241m*\u001b[39m\u001b[38;5;241m*\u001b[39mkwargs,\n\u001b[0;32m   4797\u001b[0m ) \u001b[38;5;241m-\u001b[39m\u001b[38;5;241m>\u001b[39m DataFrame \u001b[38;5;241m|\u001b[39m Series:\n\u001b[0;32m   4798\u001b[0m \u001b[38;5;250m    \u001b[39m\u001b[38;5;124;03m\"\"\"\u001b[39;00m\n\u001b[0;32m   4799\u001b[0m \u001b[38;5;124;03m    Invoke function on values of Series.\u001b[39;00m\n\u001b[0;32m   4800\u001b[0m \n\u001b[1;32m   (...)\u001b[0m\n\u001b[0;32m   4915\u001b[0m \u001b[38;5;124;03m    dtype: float64\u001b[39;00m\n\u001b[0;32m   4916\u001b[0m \u001b[38;5;124;03m    \"\"\"\u001b[39;00m\n\u001b[0;32m   4917\u001b[0m     \u001b[38;5;28;01mreturn\u001b[39;00m \u001b[43mSeriesApply\u001b[49m\u001b[43m(\u001b[49m\n\u001b[0;32m   4918\u001b[0m \u001b[43m        \u001b[49m\u001b[38;5;28;43mself\u001b[39;49m\u001b[43m,\u001b[49m\n\u001b[0;32m   4919\u001b[0m \u001b[43m        \u001b[49m\u001b[43mfunc\u001b[49m\u001b[43m,\u001b[49m\n\u001b[0;32m   4920\u001b[0m \u001b[43m        \u001b[49m\u001b[43mconvert_dtype\u001b[49m\u001b[38;5;241;43m=\u001b[39;49m\u001b[43mconvert_dtype\u001b[49m\u001b[43m,\u001b[49m\n\u001b[0;32m   4921\u001b[0m \u001b[43m        \u001b[49m\u001b[43mby_row\u001b[49m\u001b[38;5;241;43m=\u001b[39;49m\u001b[43mby_row\u001b[49m\u001b[43m,\u001b[49m\n\u001b[0;32m   4922\u001b[0m \u001b[43m        \u001b[49m\u001b[43margs\u001b[49m\u001b[38;5;241;43m=\u001b[39;49m\u001b[43margs\u001b[49m\u001b[43m,\u001b[49m\n\u001b[0;32m   4923\u001b[0m \u001b[43m        \u001b[49m\u001b[43mkwargs\u001b[49m\u001b[38;5;241;43m=\u001b[39;49m\u001b[43mkwargs\u001b[49m\u001b[43m,\u001b[49m\n\u001b[1;32m-> 4924\u001b[0m \u001b[43m    \u001b[49m\u001b[43m)\u001b[49m\u001b[38;5;241;43m.\u001b[39;49m\u001b[43mapply\u001b[49m\u001b[43m(\u001b[49m\u001b[43m)\u001b[49m\n",
      "File \u001b[1;32m~\\GitHub\\movie-recommendation\\venv\\Lib\\site-packages\\pandas\\core\\apply.py:1427\u001b[0m, in \u001b[0;36mSeriesApply.apply\u001b[1;34m(self)\u001b[0m\n\u001b[0;32m   1424\u001b[0m     \u001b[38;5;28;01mreturn\u001b[39;00m \u001b[38;5;28mself\u001b[39m\u001b[38;5;241m.\u001b[39mapply_compat()\n\u001b[0;32m   1426\u001b[0m \u001b[38;5;66;03m# self.func is Callable\u001b[39;00m\n\u001b[1;32m-> 1427\u001b[0m \u001b[38;5;28;01mreturn\u001b[39;00m \u001b[38;5;28;43mself\u001b[39;49m\u001b[38;5;241;43m.\u001b[39;49m\u001b[43mapply_standard\u001b[49m\u001b[43m(\u001b[49m\u001b[43m)\u001b[49m\n",
      "File \u001b[1;32m~\\GitHub\\movie-recommendation\\venv\\Lib\\site-packages\\pandas\\core\\apply.py:1507\u001b[0m, in \u001b[0;36mSeriesApply.apply_standard\u001b[1;34m(self)\u001b[0m\n\u001b[0;32m   1501\u001b[0m \u001b[38;5;66;03m# row-wise access\u001b[39;00m\n\u001b[0;32m   1502\u001b[0m \u001b[38;5;66;03m# apply doesn't have a `na_action` keyword and for backward compat reasons\u001b[39;00m\n\u001b[0;32m   1503\u001b[0m \u001b[38;5;66;03m# we need to give `na_action=\"ignore\"` for categorical data.\u001b[39;00m\n\u001b[0;32m   1504\u001b[0m \u001b[38;5;66;03m# TODO: remove the `na_action=\"ignore\"` when that default has been changed in\u001b[39;00m\n\u001b[0;32m   1505\u001b[0m \u001b[38;5;66;03m#  Categorical (GH51645).\u001b[39;00m\n\u001b[0;32m   1506\u001b[0m action \u001b[38;5;241m=\u001b[39m \u001b[38;5;124m\"\u001b[39m\u001b[38;5;124mignore\u001b[39m\u001b[38;5;124m\"\u001b[39m \u001b[38;5;28;01mif\u001b[39;00m \u001b[38;5;28misinstance\u001b[39m(obj\u001b[38;5;241m.\u001b[39mdtype, CategoricalDtype) \u001b[38;5;28;01melse\u001b[39;00m \u001b[38;5;28;01mNone\u001b[39;00m\n\u001b[1;32m-> 1507\u001b[0m mapped \u001b[38;5;241m=\u001b[39m \u001b[43mobj\u001b[49m\u001b[38;5;241;43m.\u001b[39;49m\u001b[43m_map_values\u001b[49m\u001b[43m(\u001b[49m\n\u001b[0;32m   1508\u001b[0m \u001b[43m    \u001b[49m\u001b[43mmapper\u001b[49m\u001b[38;5;241;43m=\u001b[39;49m\u001b[43mcurried\u001b[49m\u001b[43m,\u001b[49m\u001b[43m \u001b[49m\u001b[43mna_action\u001b[49m\u001b[38;5;241;43m=\u001b[39;49m\u001b[43maction\u001b[49m\u001b[43m,\u001b[49m\u001b[43m \u001b[49m\u001b[43mconvert\u001b[49m\u001b[38;5;241;43m=\u001b[39;49m\u001b[38;5;28;43mself\u001b[39;49m\u001b[38;5;241;43m.\u001b[39;49m\u001b[43mconvert_dtype\u001b[49m\n\u001b[0;32m   1509\u001b[0m \u001b[43m\u001b[49m\u001b[43m)\u001b[49m\n\u001b[0;32m   1511\u001b[0m \u001b[38;5;28;01mif\u001b[39;00m \u001b[38;5;28mlen\u001b[39m(mapped) \u001b[38;5;129;01mand\u001b[39;00m \u001b[38;5;28misinstance\u001b[39m(mapped[\u001b[38;5;241m0\u001b[39m], ABCSeries):\n\u001b[0;32m   1512\u001b[0m     \u001b[38;5;66;03m# GH#43986 Need to do list(mapped) in order to get treated as nested\u001b[39;00m\n\u001b[0;32m   1513\u001b[0m     \u001b[38;5;66;03m#  See also GH#25959 regarding EA support\u001b[39;00m\n\u001b[0;32m   1514\u001b[0m     \u001b[38;5;28;01mreturn\u001b[39;00m obj\u001b[38;5;241m.\u001b[39m_constructor_expanddim(\u001b[38;5;28mlist\u001b[39m(mapped), index\u001b[38;5;241m=\u001b[39mobj\u001b[38;5;241m.\u001b[39mindex)\n",
      "File \u001b[1;32m~\\GitHub\\movie-recommendation\\venv\\Lib\\site-packages\\pandas\\core\\base.py:919\u001b[0m, in \u001b[0;36mIndexOpsMixin._map_values\u001b[1;34m(self, mapper, na_action, convert)\u001b[0m\n\u001b[0;32m    916\u001b[0m arr \u001b[38;5;241m=\u001b[39m \u001b[38;5;28mself\u001b[39m\u001b[38;5;241m.\u001b[39m_values\n\u001b[0;32m    918\u001b[0m \u001b[38;5;28;01mif\u001b[39;00m \u001b[38;5;28misinstance\u001b[39m(arr, ExtensionArray):\n\u001b[1;32m--> 919\u001b[0m     \u001b[38;5;28;01mreturn\u001b[39;00m \u001b[43marr\u001b[49m\u001b[38;5;241;43m.\u001b[39;49m\u001b[43mmap\u001b[49m\u001b[43m(\u001b[49m\u001b[43mmapper\u001b[49m\u001b[43m,\u001b[49m\u001b[43m \u001b[49m\u001b[43mna_action\u001b[49m\u001b[38;5;241;43m=\u001b[39;49m\u001b[43mna_action\u001b[49m\u001b[43m)\u001b[49m\n\u001b[0;32m    921\u001b[0m \u001b[38;5;28;01mreturn\u001b[39;00m algorithms\u001b[38;5;241m.\u001b[39mmap_array(arr, mapper, na_action\u001b[38;5;241m=\u001b[39mna_action, convert\u001b[38;5;241m=\u001b[39mconvert)\n",
      "File \u001b[1;32m~\\GitHub\\movie-recommendation\\venv\\Lib\\site-packages\\pandas\\core\\arrays\\base.py:2322\u001b[0m, in \u001b[0;36mExtensionArray.map\u001b[1;34m(self, mapper, na_action)\u001b[0m\n\u001b[0;32m   2302\u001b[0m \u001b[38;5;28;01mdef\u001b[39;00m\u001b[38;5;250m \u001b[39m\u001b[38;5;21mmap\u001b[39m(\u001b[38;5;28mself\u001b[39m, mapper, na_action\u001b[38;5;241m=\u001b[39m\u001b[38;5;28;01mNone\u001b[39;00m):\n\u001b[0;32m   2303\u001b[0m \u001b[38;5;250m    \u001b[39m\u001b[38;5;124;03m\"\"\"\u001b[39;00m\n\u001b[0;32m   2304\u001b[0m \u001b[38;5;124;03m    Map values using an input mapping or function.\u001b[39;00m\n\u001b[0;32m   2305\u001b[0m \n\u001b[1;32m   (...)\u001b[0m\n\u001b[0;32m   2320\u001b[0m \u001b[38;5;124;03m        a MultiIndex will be returned.\u001b[39;00m\n\u001b[0;32m   2321\u001b[0m \u001b[38;5;124;03m    \"\"\"\u001b[39;00m\n\u001b[1;32m-> 2322\u001b[0m     \u001b[38;5;28;01mreturn\u001b[39;00m \u001b[43mmap_array\u001b[49m\u001b[43m(\u001b[49m\u001b[38;5;28;43mself\u001b[39;49m\u001b[43m,\u001b[49m\u001b[43m \u001b[49m\u001b[43mmapper\u001b[49m\u001b[43m,\u001b[49m\u001b[43m \u001b[49m\u001b[43mna_action\u001b[49m\u001b[38;5;241;43m=\u001b[39;49m\u001b[43mna_action\u001b[49m\u001b[43m)\u001b[49m\n",
      "File \u001b[1;32m~\\GitHub\\movie-recommendation\\venv\\Lib\\site-packages\\pandas\\core\\algorithms.py:1743\u001b[0m, in \u001b[0;36mmap_array\u001b[1;34m(arr, mapper, na_action, convert)\u001b[0m\n\u001b[0;32m   1741\u001b[0m values \u001b[38;5;241m=\u001b[39m arr\u001b[38;5;241m.\u001b[39mastype(\u001b[38;5;28mobject\u001b[39m, copy\u001b[38;5;241m=\u001b[39m\u001b[38;5;28;01mFalse\u001b[39;00m)\n\u001b[0;32m   1742\u001b[0m \u001b[38;5;28;01mif\u001b[39;00m na_action \u001b[38;5;129;01mis\u001b[39;00m \u001b[38;5;28;01mNone\u001b[39;00m:\n\u001b[1;32m-> 1743\u001b[0m     \u001b[38;5;28;01mreturn\u001b[39;00m \u001b[43mlib\u001b[49m\u001b[38;5;241;43m.\u001b[39;49m\u001b[43mmap_infer\u001b[49m\u001b[43m(\u001b[49m\u001b[43mvalues\u001b[49m\u001b[43m,\u001b[49m\u001b[43m \u001b[49m\u001b[43mmapper\u001b[49m\u001b[43m,\u001b[49m\u001b[43m \u001b[49m\u001b[43mconvert\u001b[49m\u001b[38;5;241;43m=\u001b[39;49m\u001b[43mconvert\u001b[49m\u001b[43m)\u001b[49m\n\u001b[0;32m   1744\u001b[0m \u001b[38;5;28;01melse\u001b[39;00m:\n\u001b[0;32m   1745\u001b[0m     \u001b[38;5;28;01mreturn\u001b[39;00m lib\u001b[38;5;241m.\u001b[39mmap_infer_mask(\n\u001b[0;32m   1746\u001b[0m         values, mapper, mask\u001b[38;5;241m=\u001b[39misna(values)\u001b[38;5;241m.\u001b[39mview(np\u001b[38;5;241m.\u001b[39muint8), convert\u001b[38;5;241m=\u001b[39mconvert\n\u001b[0;32m   1747\u001b[0m     )\n",
      "File \u001b[1;32mlib.pyx:2972\u001b[0m, in \u001b[0;36mpandas._libs.lib.map_infer\u001b[1;34m()\u001b[0m\n",
      "Cell \u001b[1;32mIn[99], line 3\u001b[0m, in \u001b[0;36mpreprocess_text\u001b[1;34m(text)\u001b[0m\n\u001b[0;32m      1\u001b[0m \u001b[38;5;28;01mdef\u001b[39;00m\u001b[38;5;250m \u001b[39m\u001b[38;5;21mpreprocess_text\u001b[39m(text):\n\u001b[0;32m      2\u001b[0m       \u001b[38;5;28;01mif\u001b[39;00m \u001b[38;5;28misinstance\u001b[39m(text, \u001b[38;5;28mstr\u001b[39m):\n\u001b[1;32m----> 3\u001b[0m         doc \u001b[38;5;241m=\u001b[39m \u001b[43mnlp\u001b[49m\u001b[43m(\u001b[49m\u001b[43mtext\u001b[49m\u001b[43m)\u001b[49m\n\u001b[0;32m      4\u001b[0m         tokens \u001b[38;5;241m=\u001b[39m [token\u001b[38;5;241m.\u001b[39mlemma_\u001b[38;5;241m.\u001b[39mlower() \u001b[38;5;28;01mfor\u001b[39;00m token \u001b[38;5;129;01min\u001b[39;00m doc \u001b[38;5;28;01mif\u001b[39;00m \u001b[38;5;129;01mnot\u001b[39;00m token\u001b[38;5;241m.\u001b[39mis_stop \u001b[38;5;129;01mand\u001b[39;00m token\u001b[38;5;241m.\u001b[39mis_alpha]\n\u001b[0;32m      5\u001b[0m         processed_text \u001b[38;5;241m=\u001b[39m \u001b[38;5;124m'\u001b[39m\u001b[38;5;124m \u001b[39m\u001b[38;5;124m'\u001b[39m\u001b[38;5;241m.\u001b[39mjoin(tokens)\n",
      "File \u001b[1;32m~\\GitHub\\movie-recommendation\\venv\\Lib\\site-packages\\spacy\\language.py:1052\u001b[0m, in \u001b[0;36mLanguage.__call__\u001b[1;34m(self, text, disable, component_cfg)\u001b[0m\n\u001b[0;32m   1050\u001b[0m     error_handler \u001b[38;5;241m=\u001b[39m proc\u001b[38;5;241m.\u001b[39mget_error_handler()\n\u001b[0;32m   1051\u001b[0m \u001b[38;5;28;01mtry\u001b[39;00m:\n\u001b[1;32m-> 1052\u001b[0m     doc \u001b[38;5;241m=\u001b[39m \u001b[43mproc\u001b[49m\u001b[43m(\u001b[49m\u001b[43mdoc\u001b[49m\u001b[43m,\u001b[49m\u001b[43m \u001b[49m\u001b[38;5;241;43m*\u001b[39;49m\u001b[38;5;241;43m*\u001b[39;49m\u001b[43mcomponent_cfg\u001b[49m\u001b[38;5;241;43m.\u001b[39;49m\u001b[43mget\u001b[49m\u001b[43m(\u001b[49m\u001b[43mname\u001b[49m\u001b[43m,\u001b[49m\u001b[43m \u001b[49m\u001b[43m{\u001b[49m\u001b[43m}\u001b[49m\u001b[43m)\u001b[49m\u001b[43m)\u001b[49m  \u001b[38;5;66;03m# type: ignore[call-arg]\u001b[39;00m\n\u001b[0;32m   1053\u001b[0m \u001b[38;5;28;01mexcept\u001b[39;00m \u001b[38;5;167;01mKeyError\u001b[39;00m \u001b[38;5;28;01mas\u001b[39;00m e:\n\u001b[0;32m   1054\u001b[0m     \u001b[38;5;66;03m# This typically happens if a component is not initialized\u001b[39;00m\n\u001b[0;32m   1055\u001b[0m     \u001b[38;5;28;01mraise\u001b[39;00m \u001b[38;5;167;01mValueError\u001b[39;00m(Errors\u001b[38;5;241m.\u001b[39mE109\u001b[38;5;241m.\u001b[39mformat(name\u001b[38;5;241m=\u001b[39mname)) \u001b[38;5;28;01mfrom\u001b[39;00m\u001b[38;5;250m \u001b[39m\u001b[38;5;21;01me\u001b[39;00m\n",
      "File \u001b[1;32m~\\GitHub\\movie-recommendation\\venv\\Lib\\site-packages\\spacy\\pipeline\\trainable_pipe.pyx:52\u001b[0m, in \u001b[0;36mspacy.pipeline.trainable_pipe.TrainablePipe.__call__\u001b[1;34m()\u001b[0m\n",
      "File \u001b[1;32m~\\GitHub\\movie-recommendation\\venv\\Lib\\site-packages\\spacy\\pipeline\\tok2vec.py:126\u001b[0m, in \u001b[0;36mTok2Vec.predict\u001b[1;34m(self, docs)\u001b[0m\n\u001b[0;32m    124\u001b[0m     width \u001b[38;5;241m=\u001b[39m \u001b[38;5;28mself\u001b[39m\u001b[38;5;241m.\u001b[39mmodel\u001b[38;5;241m.\u001b[39mget_dim(\u001b[38;5;124m\"\u001b[39m\u001b[38;5;124mnO\u001b[39m\u001b[38;5;124m\"\u001b[39m)\n\u001b[0;32m    125\u001b[0m     \u001b[38;5;28;01mreturn\u001b[39;00m [\u001b[38;5;28mself\u001b[39m\u001b[38;5;241m.\u001b[39mmodel\u001b[38;5;241m.\u001b[39mops\u001b[38;5;241m.\u001b[39malloc((\u001b[38;5;241m0\u001b[39m, width)) \u001b[38;5;28;01mfor\u001b[39;00m doc \u001b[38;5;129;01min\u001b[39;00m docs]\n\u001b[1;32m--> 126\u001b[0m tokvecs \u001b[38;5;241m=\u001b[39m \u001b[38;5;28;43mself\u001b[39;49m\u001b[38;5;241;43m.\u001b[39;49m\u001b[43mmodel\u001b[49m\u001b[38;5;241;43m.\u001b[39;49m\u001b[43mpredict\u001b[49m\u001b[43m(\u001b[49m\u001b[43mdocs\u001b[49m\u001b[43m)\u001b[49m\n\u001b[0;32m    127\u001b[0m \u001b[38;5;28;01mreturn\u001b[39;00m tokvecs\n",
      "File \u001b[1;32m~\\GitHub\\movie-recommendation\\venv\\Lib\\site-packages\\thinc\\model.py:334\u001b[0m, in \u001b[0;36mModel.predict\u001b[1;34m(self, X)\u001b[0m\n\u001b[0;32m    330\u001b[0m \u001b[38;5;28;01mdef\u001b[39;00m\u001b[38;5;250m \u001b[39m\u001b[38;5;21mpredict\u001b[39m(\u001b[38;5;28mself\u001b[39m, X: InT) \u001b[38;5;241m-\u001b[39m\u001b[38;5;241m>\u001b[39m OutT:\n\u001b[0;32m    331\u001b[0m \u001b[38;5;250m    \u001b[39m\u001b[38;5;124;03m\"\"\"Call the model's `forward` function with `is_train=False`, and return\u001b[39;00m\n\u001b[0;32m    332\u001b[0m \u001b[38;5;124;03m    only the output, instead of the `(output, callback)` tuple.\u001b[39;00m\n\u001b[0;32m    333\u001b[0m \u001b[38;5;124;03m    \"\"\"\u001b[39;00m\n\u001b[1;32m--> 334\u001b[0m     \u001b[38;5;28;01mreturn\u001b[39;00m \u001b[38;5;28;43mself\u001b[39;49m\u001b[38;5;241;43m.\u001b[39;49m\u001b[43m_func\u001b[49m\u001b[43m(\u001b[49m\u001b[38;5;28;43mself\u001b[39;49m\u001b[43m,\u001b[49m\u001b[43m \u001b[49m\u001b[43mX\u001b[49m\u001b[43m,\u001b[49m\u001b[43m \u001b[49m\u001b[43mis_train\u001b[49m\u001b[38;5;241;43m=\u001b[39;49m\u001b[38;5;28;43;01mFalse\u001b[39;49;00m\u001b[43m)\u001b[49m[\u001b[38;5;241m0\u001b[39m]\n",
      "File \u001b[1;32m~\\GitHub\\movie-recommendation\\venv\\Lib\\site-packages\\thinc\\layers\\chain.py:54\u001b[0m, in \u001b[0;36mforward\u001b[1;34m(model, X, is_train)\u001b[0m\n\u001b[0;32m     52\u001b[0m callbacks \u001b[38;5;241m=\u001b[39m []\n\u001b[0;32m     53\u001b[0m \u001b[38;5;28;01mfor\u001b[39;00m layer \u001b[38;5;129;01min\u001b[39;00m model\u001b[38;5;241m.\u001b[39mlayers:\n\u001b[1;32m---> 54\u001b[0m     Y, inc_layer_grad \u001b[38;5;241m=\u001b[39m \u001b[43mlayer\u001b[49m\u001b[43m(\u001b[49m\u001b[43mX\u001b[49m\u001b[43m,\u001b[49m\u001b[43m \u001b[49m\u001b[43mis_train\u001b[49m\u001b[38;5;241;43m=\u001b[39;49m\u001b[43mis_train\u001b[49m\u001b[43m)\u001b[49m\n\u001b[0;32m     55\u001b[0m     callbacks\u001b[38;5;241m.\u001b[39mappend(inc_layer_grad)\n\u001b[0;32m     56\u001b[0m     X \u001b[38;5;241m=\u001b[39m Y\n",
      "File \u001b[1;32m~\\GitHub\\movie-recommendation\\venv\\Lib\\site-packages\\thinc\\model.py:310\u001b[0m, in \u001b[0;36mModel.__call__\u001b[1;34m(self, X, is_train)\u001b[0m\n\u001b[0;32m    307\u001b[0m \u001b[38;5;28;01mdef\u001b[39;00m\u001b[38;5;250m \u001b[39m\u001b[38;5;21m__call__\u001b[39m(\u001b[38;5;28mself\u001b[39m, X: InT, is_train: \u001b[38;5;28mbool\u001b[39m) \u001b[38;5;241m-\u001b[39m\u001b[38;5;241m>\u001b[39m Tuple[OutT, Callable]:\n\u001b[0;32m    308\u001b[0m \u001b[38;5;250m    \u001b[39m\u001b[38;5;124;03m\"\"\"Call the model's `forward` function, returning the output and a\u001b[39;00m\n\u001b[0;32m    309\u001b[0m \u001b[38;5;124;03m    callback to compute the gradients via backpropagation.\"\"\"\u001b[39;00m\n\u001b[1;32m--> 310\u001b[0m     \u001b[38;5;28;01mreturn\u001b[39;00m \u001b[38;5;28;43mself\u001b[39;49m\u001b[38;5;241;43m.\u001b[39;49m\u001b[43m_func\u001b[49m\u001b[43m(\u001b[49m\u001b[38;5;28;43mself\u001b[39;49m\u001b[43m,\u001b[49m\u001b[43m \u001b[49m\u001b[43mX\u001b[49m\u001b[43m,\u001b[49m\u001b[43m \u001b[49m\u001b[43mis_train\u001b[49m\u001b[38;5;241;43m=\u001b[39;49m\u001b[43mis_train\u001b[49m\u001b[43m)\u001b[49m\n",
      "File \u001b[1;32m~\\GitHub\\movie-recommendation\\venv\\Lib\\site-packages\\thinc\\layers\\chain.py:54\u001b[0m, in \u001b[0;36mforward\u001b[1;34m(model, X, is_train)\u001b[0m\n\u001b[0;32m     52\u001b[0m callbacks \u001b[38;5;241m=\u001b[39m []\n\u001b[0;32m     53\u001b[0m \u001b[38;5;28;01mfor\u001b[39;00m layer \u001b[38;5;129;01min\u001b[39;00m model\u001b[38;5;241m.\u001b[39mlayers:\n\u001b[1;32m---> 54\u001b[0m     Y, inc_layer_grad \u001b[38;5;241m=\u001b[39m \u001b[43mlayer\u001b[49m\u001b[43m(\u001b[49m\u001b[43mX\u001b[49m\u001b[43m,\u001b[49m\u001b[43m \u001b[49m\u001b[43mis_train\u001b[49m\u001b[38;5;241;43m=\u001b[39;49m\u001b[43mis_train\u001b[49m\u001b[43m)\u001b[49m\n\u001b[0;32m     55\u001b[0m     callbacks\u001b[38;5;241m.\u001b[39mappend(inc_layer_grad)\n\u001b[0;32m     56\u001b[0m     X \u001b[38;5;241m=\u001b[39m Y\n",
      "File \u001b[1;32m~\\GitHub\\movie-recommendation\\venv\\Lib\\site-packages\\thinc\\model.py:310\u001b[0m, in \u001b[0;36mModel.__call__\u001b[1;34m(self, X, is_train)\u001b[0m\n\u001b[0;32m    307\u001b[0m \u001b[38;5;28;01mdef\u001b[39;00m\u001b[38;5;250m \u001b[39m\u001b[38;5;21m__call__\u001b[39m(\u001b[38;5;28mself\u001b[39m, X: InT, is_train: \u001b[38;5;28mbool\u001b[39m) \u001b[38;5;241m-\u001b[39m\u001b[38;5;241m>\u001b[39m Tuple[OutT, Callable]:\n\u001b[0;32m    308\u001b[0m \u001b[38;5;250m    \u001b[39m\u001b[38;5;124;03m\"\"\"Call the model's `forward` function, returning the output and a\u001b[39;00m\n\u001b[0;32m    309\u001b[0m \u001b[38;5;124;03m    callback to compute the gradients via backpropagation.\"\"\"\u001b[39;00m\n\u001b[1;32m--> 310\u001b[0m     \u001b[38;5;28;01mreturn\u001b[39;00m \u001b[38;5;28;43mself\u001b[39;49m\u001b[38;5;241;43m.\u001b[39;49m\u001b[43m_func\u001b[49m\u001b[43m(\u001b[49m\u001b[38;5;28;43mself\u001b[39;49m\u001b[43m,\u001b[49m\u001b[43m \u001b[49m\u001b[43mX\u001b[49m\u001b[43m,\u001b[49m\u001b[43m \u001b[49m\u001b[43mis_train\u001b[49m\u001b[38;5;241;43m=\u001b[39;49m\u001b[43mis_train\u001b[49m\u001b[43m)\u001b[49m\n",
      "File \u001b[1;32m~\\GitHub\\movie-recommendation\\venv\\Lib\\site-packages\\thinc\\layers\\with_array.py:36\u001b[0m, in \u001b[0;36mforward\u001b[1;34m(model, Xseq, is_train)\u001b[0m\n\u001b[0;32m     32\u001b[0m \u001b[38;5;28;01mdef\u001b[39;00m\u001b[38;5;250m \u001b[39m\u001b[38;5;21mforward\u001b[39m(\n\u001b[0;32m     33\u001b[0m     model: Model[SeqT, SeqT], Xseq: SeqT, is_train: \u001b[38;5;28mbool\u001b[39m\n\u001b[0;32m     34\u001b[0m ) \u001b[38;5;241m-\u001b[39m\u001b[38;5;241m>\u001b[39m Tuple[SeqT, Callable]:\n\u001b[0;32m     35\u001b[0m     \u001b[38;5;28;01mif\u001b[39;00m \u001b[38;5;28misinstance\u001b[39m(Xseq, Ragged):\n\u001b[1;32m---> 36\u001b[0m         \u001b[38;5;28;01mreturn\u001b[39;00m cast(Tuple[SeqT, Callable], \u001b[43m_ragged_forward\u001b[49m\u001b[43m(\u001b[49m\u001b[43mmodel\u001b[49m\u001b[43m,\u001b[49m\u001b[43m \u001b[49m\u001b[43mXseq\u001b[49m\u001b[43m,\u001b[49m\u001b[43m \u001b[49m\u001b[43mis_train\u001b[49m\u001b[43m)\u001b[49m)\n\u001b[0;32m     37\u001b[0m     \u001b[38;5;28;01melif\u001b[39;00m \u001b[38;5;28misinstance\u001b[39m(Xseq, Padded):\n\u001b[0;32m     38\u001b[0m         \u001b[38;5;28;01mreturn\u001b[39;00m cast(Tuple[SeqT, Callable], _padded_forward(model, Xseq, is_train))\n",
      "File \u001b[1;32m~\\GitHub\\movie-recommendation\\venv\\Lib\\site-packages\\thinc\\layers\\with_array.py:91\u001b[0m, in \u001b[0;36m_ragged_forward\u001b[1;34m(model, Xr, is_train)\u001b[0m\n\u001b[0;32m     87\u001b[0m \u001b[38;5;28;01mdef\u001b[39;00m\u001b[38;5;250m \u001b[39m\u001b[38;5;21m_ragged_forward\u001b[39m(\n\u001b[0;32m     88\u001b[0m     model: Model[SeqT, SeqT], Xr: Ragged, is_train: \u001b[38;5;28mbool\u001b[39m\n\u001b[0;32m     89\u001b[0m ) \u001b[38;5;241m-\u001b[39m\u001b[38;5;241m>\u001b[39m Tuple[Ragged, Callable]:\n\u001b[0;32m     90\u001b[0m     layer: Model[ArrayXd, ArrayXd] \u001b[38;5;241m=\u001b[39m model\u001b[38;5;241m.\u001b[39mlayers[\u001b[38;5;241m0\u001b[39m]\n\u001b[1;32m---> 91\u001b[0m     Y, get_dX \u001b[38;5;241m=\u001b[39m \u001b[43mlayer\u001b[49m\u001b[43m(\u001b[49m\u001b[43mXr\u001b[49m\u001b[38;5;241;43m.\u001b[39;49m\u001b[43mdataXd\u001b[49m\u001b[43m,\u001b[49m\u001b[43m \u001b[49m\u001b[43mis_train\u001b[49m\u001b[43m)\u001b[49m\n\u001b[0;32m     93\u001b[0m     \u001b[38;5;28;01mdef\u001b[39;00m\u001b[38;5;250m \u001b[39m\u001b[38;5;21mbackprop\u001b[39m(dYr: Ragged) \u001b[38;5;241m-\u001b[39m\u001b[38;5;241m>\u001b[39m Ragged:\n\u001b[0;32m     94\u001b[0m         \u001b[38;5;28;01mreturn\u001b[39;00m Ragged(get_dX(dYr\u001b[38;5;241m.\u001b[39mdataXd), dYr\u001b[38;5;241m.\u001b[39mlengths)\n",
      "File \u001b[1;32m~\\GitHub\\movie-recommendation\\venv\\Lib\\site-packages\\thinc\\model.py:310\u001b[0m, in \u001b[0;36mModel.__call__\u001b[1;34m(self, X, is_train)\u001b[0m\n\u001b[0;32m    307\u001b[0m \u001b[38;5;28;01mdef\u001b[39;00m\u001b[38;5;250m \u001b[39m\u001b[38;5;21m__call__\u001b[39m(\u001b[38;5;28mself\u001b[39m, X: InT, is_train: \u001b[38;5;28mbool\u001b[39m) \u001b[38;5;241m-\u001b[39m\u001b[38;5;241m>\u001b[39m Tuple[OutT, Callable]:\n\u001b[0;32m    308\u001b[0m \u001b[38;5;250m    \u001b[39m\u001b[38;5;124;03m\"\"\"Call the model's `forward` function, returning the output and a\u001b[39;00m\n\u001b[0;32m    309\u001b[0m \u001b[38;5;124;03m    callback to compute the gradients via backpropagation.\"\"\"\u001b[39;00m\n\u001b[1;32m--> 310\u001b[0m     \u001b[38;5;28;01mreturn\u001b[39;00m \u001b[38;5;28;43mself\u001b[39;49m\u001b[38;5;241;43m.\u001b[39;49m\u001b[43m_func\u001b[49m\u001b[43m(\u001b[49m\u001b[38;5;28;43mself\u001b[39;49m\u001b[43m,\u001b[49m\u001b[43m \u001b[49m\u001b[43mX\u001b[49m\u001b[43m,\u001b[49m\u001b[43m \u001b[49m\u001b[43mis_train\u001b[49m\u001b[38;5;241;43m=\u001b[39;49m\u001b[43mis_train\u001b[49m\u001b[43m)\u001b[49m\n",
      "File \u001b[1;32m~\\GitHub\\movie-recommendation\\venv\\Lib\\site-packages\\thinc\\layers\\chain.py:54\u001b[0m, in \u001b[0;36mforward\u001b[1;34m(model, X, is_train)\u001b[0m\n\u001b[0;32m     52\u001b[0m callbacks \u001b[38;5;241m=\u001b[39m []\n\u001b[0;32m     53\u001b[0m \u001b[38;5;28;01mfor\u001b[39;00m layer \u001b[38;5;129;01min\u001b[39;00m model\u001b[38;5;241m.\u001b[39mlayers:\n\u001b[1;32m---> 54\u001b[0m     Y, inc_layer_grad \u001b[38;5;241m=\u001b[39m \u001b[43mlayer\u001b[49m\u001b[43m(\u001b[49m\u001b[43mX\u001b[49m\u001b[43m,\u001b[49m\u001b[43m \u001b[49m\u001b[43mis_train\u001b[49m\u001b[38;5;241;43m=\u001b[39;49m\u001b[43mis_train\u001b[49m\u001b[43m)\u001b[49m\n\u001b[0;32m     55\u001b[0m     callbacks\u001b[38;5;241m.\u001b[39mappend(inc_layer_grad)\n\u001b[0;32m     56\u001b[0m     X \u001b[38;5;241m=\u001b[39m Y\n",
      "File \u001b[1;32m~\\GitHub\\movie-recommendation\\venv\\Lib\\site-packages\\thinc\\model.py:310\u001b[0m, in \u001b[0;36mModel.__call__\u001b[1;34m(self, X, is_train)\u001b[0m\n\u001b[0;32m    307\u001b[0m \u001b[38;5;28;01mdef\u001b[39;00m\u001b[38;5;250m \u001b[39m\u001b[38;5;21m__call__\u001b[39m(\u001b[38;5;28mself\u001b[39m, X: InT, is_train: \u001b[38;5;28mbool\u001b[39m) \u001b[38;5;241m-\u001b[39m\u001b[38;5;241m>\u001b[39m Tuple[OutT, Callable]:\n\u001b[0;32m    308\u001b[0m \u001b[38;5;250m    \u001b[39m\u001b[38;5;124;03m\"\"\"Call the model's `forward` function, returning the output and a\u001b[39;00m\n\u001b[0;32m    309\u001b[0m \u001b[38;5;124;03m    callback to compute the gradients via backpropagation.\"\"\"\u001b[39;00m\n\u001b[1;32m--> 310\u001b[0m     \u001b[38;5;28;01mreturn\u001b[39;00m \u001b[38;5;28;43mself\u001b[39;49m\u001b[38;5;241;43m.\u001b[39;49m\u001b[43m_func\u001b[49m\u001b[43m(\u001b[49m\u001b[38;5;28;43mself\u001b[39;49m\u001b[43m,\u001b[49m\u001b[43m \u001b[49m\u001b[43mX\u001b[49m\u001b[43m,\u001b[49m\u001b[43m \u001b[49m\u001b[43mis_train\u001b[49m\u001b[38;5;241;43m=\u001b[39;49m\u001b[43mis_train\u001b[49m\u001b[43m)\u001b[49m\n",
      "File \u001b[1;32m~\\GitHub\\movie-recommendation\\venv\\Lib\\site-packages\\thinc\\layers\\chain.py:54\u001b[0m, in \u001b[0;36mforward\u001b[1;34m(model, X, is_train)\u001b[0m\n\u001b[0;32m     52\u001b[0m callbacks \u001b[38;5;241m=\u001b[39m []\n\u001b[0;32m     53\u001b[0m \u001b[38;5;28;01mfor\u001b[39;00m layer \u001b[38;5;129;01min\u001b[39;00m model\u001b[38;5;241m.\u001b[39mlayers:\n\u001b[1;32m---> 54\u001b[0m     Y, inc_layer_grad \u001b[38;5;241m=\u001b[39m \u001b[43mlayer\u001b[49m\u001b[43m(\u001b[49m\u001b[43mX\u001b[49m\u001b[43m,\u001b[49m\u001b[43m \u001b[49m\u001b[43mis_train\u001b[49m\u001b[38;5;241;43m=\u001b[39;49m\u001b[43mis_train\u001b[49m\u001b[43m)\u001b[49m\n\u001b[0;32m     55\u001b[0m     callbacks\u001b[38;5;241m.\u001b[39mappend(inc_layer_grad)\n\u001b[0;32m     56\u001b[0m     X \u001b[38;5;241m=\u001b[39m Y\n",
      "File \u001b[1;32m~\\GitHub\\movie-recommendation\\venv\\Lib\\site-packages\\thinc\\model.py:310\u001b[0m, in \u001b[0;36mModel.__call__\u001b[1;34m(self, X, is_train)\u001b[0m\n\u001b[0;32m    307\u001b[0m \u001b[38;5;28;01mdef\u001b[39;00m\u001b[38;5;250m \u001b[39m\u001b[38;5;21m__call__\u001b[39m(\u001b[38;5;28mself\u001b[39m, X: InT, is_train: \u001b[38;5;28mbool\u001b[39m) \u001b[38;5;241m-\u001b[39m\u001b[38;5;241m>\u001b[39m Tuple[OutT, Callable]:\n\u001b[0;32m    308\u001b[0m \u001b[38;5;250m    \u001b[39m\u001b[38;5;124;03m\"\"\"Call the model's `forward` function, returning the output and a\u001b[39;00m\n\u001b[0;32m    309\u001b[0m \u001b[38;5;124;03m    callback to compute the gradients via backpropagation.\"\"\"\u001b[39;00m\n\u001b[1;32m--> 310\u001b[0m     \u001b[38;5;28;01mreturn\u001b[39;00m \u001b[38;5;28;43mself\u001b[39;49m\u001b[38;5;241;43m.\u001b[39;49m\u001b[43m_func\u001b[49m\u001b[43m(\u001b[49m\u001b[38;5;28;43mself\u001b[39;49m\u001b[43m,\u001b[49m\u001b[43m \u001b[49m\u001b[43mX\u001b[49m\u001b[43m,\u001b[49m\u001b[43m \u001b[49m\u001b[43mis_train\u001b[49m\u001b[38;5;241;43m=\u001b[39;49m\u001b[43mis_train\u001b[49m\u001b[43m)\u001b[49m\n",
      "File \u001b[1;32m~\\GitHub\\movie-recommendation\\venv\\Lib\\site-packages\\thinc\\layers\\maxout.py:52\u001b[0m, in \u001b[0;36mforward\u001b[1;34m(model, X, is_train)\u001b[0m\n\u001b[0;32m     50\u001b[0m W \u001b[38;5;241m=\u001b[39m model\u001b[38;5;241m.\u001b[39mget_param(\u001b[38;5;124m\"\u001b[39m\u001b[38;5;124mW\u001b[39m\u001b[38;5;124m\"\u001b[39m)\n\u001b[0;32m     51\u001b[0m W \u001b[38;5;241m=\u001b[39m model\u001b[38;5;241m.\u001b[39mops\u001b[38;5;241m.\u001b[39mreshape2f(W, nO \u001b[38;5;241m*\u001b[39m nP, nI)\n\u001b[1;32m---> 52\u001b[0m Y \u001b[38;5;241m=\u001b[39m \u001b[43mmodel\u001b[49m\u001b[38;5;241;43m.\u001b[39;49m\u001b[43mops\u001b[49m\u001b[38;5;241;43m.\u001b[39;49m\u001b[43mgemm\u001b[49m\u001b[43m(\u001b[49m\u001b[43mX\u001b[49m\u001b[43m,\u001b[49m\u001b[43m \u001b[49m\u001b[43mW\u001b[49m\u001b[43m,\u001b[49m\u001b[43m \u001b[49m\u001b[43mtrans2\u001b[49m\u001b[38;5;241;43m=\u001b[39;49m\u001b[38;5;28;43;01mTrue\u001b[39;49;00m\u001b[43m)\u001b[49m\n\u001b[0;32m     53\u001b[0m Y \u001b[38;5;241m+\u001b[39m\u001b[38;5;241m=\u001b[39m model\u001b[38;5;241m.\u001b[39mops\u001b[38;5;241m.\u001b[39mreshape1f(b, nO \u001b[38;5;241m*\u001b[39m nP)\n\u001b[0;32m     54\u001b[0m Z \u001b[38;5;241m=\u001b[39m model\u001b[38;5;241m.\u001b[39mops\u001b[38;5;241m.\u001b[39mreshape3f(Y, Y\u001b[38;5;241m.\u001b[39mshape[\u001b[38;5;241m0\u001b[39m], nO, nP)\n",
      "\u001b[1;31mKeyboardInterrupt\u001b[0m: "
     ]
    }
   ],
   "source": [
    "movies[\"description\"] = movies[\"description\"].apply(preprocess_text)\n",
    "movies[\"description\"]"
   ]
  },
  {
   "cell_type": "markdown",
   "metadata": {
    "id": "cGXwu_nFTTQ4"
   },
   "source": [
    "### making a tfidf model"
   ]
  },
  {
   "cell_type": "code",
   "execution_count": null,
   "metadata": {
    "id": "_l5nFeqCV1_h"
   },
   "outputs": [],
   "source": [
    "movies[\"description\"] = movies[\"description\"].fillna('')"
   ]
  },
  {
   "cell_type": "code",
   "execution_count": null,
   "metadata": {
    "id": "FC3LmHBfTiNP"
   },
   "outputs": [],
   "source": [
    "from sklearn.feature_extraction.text import TfidfVectorizer\n",
    "tv = TfidfVectorizer()\n",
    "X = tv.fit_transform(movies[\"description\"]).toarray()"
   ]
  },
  {
   "cell_type": "markdown",
   "metadata": {
    "id": "ewnwqG1pUPfh"
   },
   "source": [
    "### Using cosine similarity to predict similar movies"
   ]
  },
  {
   "cell_type": "code",
   "execution_count": null,
   "metadata": {
    "id": "DxlI0o8cUTqK"
   },
   "outputs": [],
   "source": [
    "from sklearn.metrics.pairwise import cosine_similarity\n",
    "def get_similar_article(text, vectorizer, X, df, top_n=5):\n",
    "  if isinstance(text, str):\n",
    "    preprocessed_text = preprocess_text(text)\n",
    "    X_text = vectorizer.transform([preprocessed_text])\n",
    "    similarity_scores = cosine_similarity(X, X_text).flatten()\n",
    "    top_indices = similarity_scores.argsort()[-top_n:][::-1]\n",
    "    return df.iloc[top_indices], similarity_scores[top_indices], similarity_scores"
   ]
  },
  {
   "cell_type": "code",
   "execution_count": null,
   "metadata": {
    "id": "TBkFefTnUuu5"
   },
   "outputs": [],
   "source": [
    "similar_movies, scores, similarity_scores = get_similar_article(movies[\"description\"][1], tv, X, movies,10)\n",
    "print(scores)\n",
    "similar_movies"
   ]
  },
  {
   "cell_type": "markdown",
   "metadata": {
    "id": "s4w1LMp0WU2_"
   },
   "source": [
    "## cast based content recommendation system\n",
    "using cast, director, genres and keywords to predict similar movies"
   ]
  },
  {
   "cell_type": "markdown",
   "metadata": {
    "id": "6ii2VO9qWuZ0"
   },
   "source": [
    "### Merging movies with credits and keywords dataframe"
   ]
  },
  {
   "cell_type": "code",
   "execution_count": null,
   "metadata": {
    "id": "BFuCOVA2Wmdn"
   },
   "outputs": [],
   "source": [
    "movies_credits_keywords = movies.merge(credits, on=\"movieId\")\n",
    "movies_credits_keywords = movies_credits_keywords.merge(keywords, on=\"movieId\")"
   ]
  },
  {
   "cell_type": "markdown",
   "metadata": {
    "id": "6rSDZbnyW0wU"
   },
   "source": [
    "### Making a seperate column consisting of cast, directors, genre and keywords.\n",
    "including director 5 times to give it more weightage"
   ]
  },
  {
   "cell_type": "code",
   "execution_count": null,
   "metadata": {
    "id": "1hSRdV1IW-0L"
   },
   "outputs": [],
   "source": [
    "def get_string_from_list(list):\n",
    "  return ' '.join(list)\n",
    "\n",
    "movies_credits_keywords[\"cast\"] = movies_credits_keywords[\"cast\"].apply(get_string_from_list)\n",
    "movies_credits_keywords[\"genres\"] = movies_credits_keywords[\"genres\"].apply(get_string_from_list)\n",
    "movies_credits_keywords[\"keywords\"] = movies_credits_keywords[\"keywords\"].apply(get_string_from_list)\n",
    "\n",
    "movies_credits_keywords[\"cast_director_genre_keywords\"] = movies_credits_keywords[\"cast\"] + movies_credits_keywords[\"director\"] * 5 + movies_credits_keywords[\"genres\"] + movies_credits_keywords[\"keywords\"]\n"
   ]
  },
  {
   "cell_type": "code",
   "execution_count": null,
   "metadata": {
    "id": "8_Qm8pNwXxK2"
   },
   "outputs": [],
   "source": [
    "movies_credits_keywords[\"cast_director_genre_keywords\"][0]"
   ]
  },
  {
   "cell_type": "code",
   "execution_count": null,
   "metadata": {
    "id": "SDqPTKI8Y0S-"
   },
   "outputs": [],
   "source": [
    "movies_credits_keywords['cast_director_genre_keywords'].apply(preprocess_text)\n",
    "movies_credits_keywords[\"cast_director_genre_keywords\"][0]"
   ]
  },
  {
   "cell_type": "markdown",
   "metadata": {
    "id": "MK2lHSh-Yfnk"
   },
   "source": [
    "### Creating a count vectorizer model\n"
   ]
  },
  {
   "cell_type": "code",
   "execution_count": null,
   "metadata": {
    "id": "eEoDh1nAZPgR"
   },
   "outputs": [],
   "source": [
    "from sklearn.feature_extraction.text import CountVectorizer\n",
    "cv = CountVectorizer()\n",
    "X = cv.fit_transform(movies_credits_keywords[\"cast_director_genre_keywords\"]).toarray()"
   ]
  },
  {
   "cell_type": "code",
   "execution_count": null,
   "metadata": {
    "id": "7xPC9DX3ZaVB"
   },
   "outputs": [],
   "source": [
    "similar_movies, scores, similarity_scores = get_similar_article(movies_credits_keywords[\"cast_director_genre_keywords\"][0],cv, X, movies_credits_keywords)\n",
    "print(scores)\n",
    "similar_movies"
   ]
  },
  {
   "cell_type": "markdown",
   "metadata": {
    "id": "z08aQLvDaJkp"
   },
   "source": [
    "## Hybrid content recommendation system"
   ]
  },
  {
   "cell_type": "code",
   "execution_count": null,
   "metadata": {
    "id": "a7-0PUggaRr3"
   },
   "outputs": [],
   "source": [
    "movies_credits_keywords[\"overall_detail\"] = movies_credits_keywords[\"description\"] + movies_credits_keywords[\"cast_director_genre_keywords\"]*2"
   ]
  },
  {
   "cell_type": "markdown",
   "metadata": {
    "id": "lM345ndvaywF"
   },
   "source": [
    "### Creating a tfidf vectorizer model\n"
   ]
  },
  {
   "cell_type": "code",
   "execution_count": null,
   "metadata": {
    "id": "H3pCEdKXaywG"
   },
   "outputs": [],
   "source": [
    "tv_full = tfidfVectorizer()\n",
    "X = tv_full.fit_transform(movies_credits_keywords[\"cast_director_genre_keywords\"]).toarray()"
   ]
  },
  {
   "cell_type": "code",
   "execution_count": null,
   "metadata": {
    "id": "G7NpdeE9aywG"
   },
   "outputs": [],
   "source": [
    "similar_movies, scores, similarity_scores = get_similar_article(movies_credits_keywords[\"overall_details\"][1], tv_full, X, movies_credits_keywords)\n",
    "print(scores)\n",
    "similar_movies"
   ]
  }
 ],
 "metadata": {
  "colab": {
   "collapsed_sections": [
    "qgTgOi0_27Pj",
    "IZFKDpoK3NrT",
    "vPAZV5n53Zu6",
    "SyXF_VUy2HFr",
    "cmRec1hxdhWw",
    "DZMIR5lj5dJV",
    "CXOje6d9SGVS",
    "EAPhqiERz9Px",
    "ZeyaDXRcm_LB",
    "12hxQidogigW",
    "OI5FypRZ4nf-",
    "8D1-n-kmi7Iw",
    "7bMDPluJoCvx",
    "qJRXhoari7Iy",
    "GrBpYDGokHxo",
    "jeUNxnZci7Ix",
    "-F98nBvYXeSQ",
    "vrtbkFyC-TIg",
    "gNTKbMFNwKvf",
    "boxzOsXu3YO4",
    "t6KloLir9lwM",
    "19RGoxUtZ_eg",
    "C6HGT8tPSVBf",
    "XIhgUKnrSbsL",
    "cGXwu_nFTTQ4",
    "ewnwqG1pUPfh",
    "6ii2VO9qWuZ0",
    "6rSDZbnyW0wU",
    "MK2lHSh-Yfnk",
    "z08aQLvDaJkp"
   ],
   "provenance": []
  },
  "kernelspec": {
   "display_name": "Python 3 (ipykernel)",
   "language": "python",
   "name": "python3"
  },
  "language_info": {
   "codemirror_mode": {
    "name": "ipython",
    "version": 3
   },
   "file_extension": ".py",
   "mimetype": "text/x-python",
   "name": "python",
   "nbconvert_exporter": "python",
   "pygments_lexer": "ipython3",
   "version": "3.11.9"
  }
 },
 "nbformat": 4,
 "nbformat_minor": 4
}
