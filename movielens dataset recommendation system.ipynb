{
 "cells": [
  {
   "cell_type": "markdown",
   "metadata": {
    "id": "qgTgOi0_27Pj"
   },
   "source": [
    "# Linking drive"
   ]
  },
  {
   "cell_type": "code",
   "execution_count": 1,
   "metadata": {
    "colab": {
     "base_uri": "https://localhost:8080/"
    },
    "id": "1kET9QHA20cj",
    "outputId": "798a0156-d8f4-42c6-d5fd-569108bfd3df"
   },
   "outputs": [],
   "source": [
    "# from google.colab import drive\n",
    "# drive.mount('/content/drive')"
   ]
  },
  {
   "cell_type": "markdown",
   "metadata": {
    "id": "IZFKDpoK3NrT"
   },
   "source": [
    "# imports"
   ]
  },
  {
   "cell_type": "code",
   "execution_count": 2,
   "metadata": {
    "id": "hk-XS5pS4Lh4"
   },
   "outputs": [],
   "source": [
    "import numpy as np\n",
    "\n",
    "import matplotlib.pyplot as plt\n",
    "import pandas as pd\n",
    "import os"
   ]
  },
  {
   "cell_type": "markdown",
   "metadata": {
    "id": "vPAZV5n53Zu6"
   },
   "source": [
    "# Loading the dataset"
   ]
  },
  {
   "cell_type": "code",
   "execution_count": 3,
   "metadata": {
    "id": "HBLJ91B23cvm"
   },
   "outputs": [],
   "source": [
    "ratings = pd.read_csv('C:/Users/FrostyFjord/Documents/movie-recommendation-data/ml-latest/ratings.csv')\n",
    "movies = pd.read_csv(\"C:/Users/FrostyFjord/Documents/movie-recommendation-data/ml-latest/movies.csv\")\n",
    "tags = pd.read_csv(\"C:/Users/FrostyFjord/Documents/movie-recommendation-data/ml-latest/tags.csv\")\n",
    "genome_tags = pd.read_csv(\"C:/Users/FrostyFjord/Documents/movie-recommendation-data/ml-latest/genome-tags.csv\")\n",
    "genome_scores = pd.read_csv(\"C:/Users/FrostyFjord/Documents/movie-recommendation-data/ml-latest/genome-scores.csv\")\n",
    "links = pd.read_csv(\"C:/Users/FrostyFjord/Documents/movie-recommendation-data/ml-latest/links.csv\")"
   ]
  },
  {
   "cell_type": "code",
   "execution_count": 4,
   "metadata": {
    "colab": {
     "base_uri": "https://localhost:8080/"
    },
    "id": "JqhRn-VysccK",
    "outputId": "aa5c0846-e462-4c4d-8ea1-43130f575410"
   },
   "outputs": [
    {
     "name": "stderr",
     "output_type": "stream",
     "text": [
      "C:\\Users\\FrostyFjord\\AppData\\Local\\Temp\\ipykernel_19584\\1757968451.py:2: DtypeWarning: Columns (10) have mixed types. Specify dtype option on import or set low_memory=False.\n",
      "  movies_other = pd.read_csv(\"C:/Users/FrostyFjord/Documents/movie-recommendation-data/archive/movies_metadata.csv\")\n"
     ]
    }
   ],
   "source": [
    "# ratings_other = pd.read_csv('\"C:/Users/FrostyFjord/Documents/movie-recommendation-data/archive/ratings.csv')\n",
    "movies_other = pd.read_csv(\"C:/Users/FrostyFjord/Documents/movie-recommendation-data/archive/movies_metadata.csv\")\n",
    "keywords_other = pd.read_csv(\"C:/Users/FrostyFjord/Documents/movie-recommendation-data/archive/keywords.csv\")\n",
    "credits_other = pd.read_csv(\"C:/Users/FrostyFjord/Documents/movie-recommendation-data/archive/credits.csv\")\n",
    "# ratings_small_other = pd.read_csv('\"C:/Users/FrostyFjord/Documents/movie-recommendation-data/archive/ratings_small.csv')"
   ]
  },
  {
   "cell_type": "markdown",
   "metadata": {
    "id": "xUQWE4QA4ZUt"
   },
   "source": [
    "# EDA"
   ]
  },
  {
   "cell_type": "markdown",
   "metadata": {
    "id": "M2mUGiHoE4Ic"
   },
   "source": [
    "# For 1st dataset"
   ]
  },
  {
   "cell_type": "markdown",
   "metadata": {
    "id": "6hVsty_24kBk"
   },
   "source": [
    "## ratings"
   ]
  },
  {
   "cell_type": "code",
   "execution_count": 5,
   "metadata": {
    "colab": {
     "base_uri": "https://localhost:8080/",
     "height": 0
    },
    "id": "QB-4UfQP4ben",
    "outputId": "40e354ed-728c-4ed9-cec1-5b5bfc11e793"
   },
   "outputs": [
    {
     "data": {
      "text/html": [
       "<div>\n",
       "<style scoped>\n",
       "    .dataframe tbody tr th:only-of-type {\n",
       "        vertical-align: middle;\n",
       "    }\n",
       "\n",
       "    .dataframe tbody tr th {\n",
       "        vertical-align: top;\n",
       "    }\n",
       "\n",
       "    .dataframe thead th {\n",
       "        text-align: right;\n",
       "    }\n",
       "</style>\n",
       "<table border=\"1\" class=\"dataframe\">\n",
       "  <thead>\n",
       "    <tr style=\"text-align: right;\">\n",
       "      <th></th>\n",
       "      <th>userId</th>\n",
       "      <th>movieId</th>\n",
       "      <th>rating</th>\n",
       "      <th>timestamp</th>\n",
       "    </tr>\n",
       "  </thead>\n",
       "  <tbody>\n",
       "    <tr>\n",
       "      <th>0</th>\n",
       "      <td>1</td>\n",
       "      <td>1</td>\n",
       "      <td>4.0</td>\n",
       "      <td>1225734739</td>\n",
       "    </tr>\n",
       "    <tr>\n",
       "      <th>1</th>\n",
       "      <td>1</td>\n",
       "      <td>110</td>\n",
       "      <td>4.0</td>\n",
       "      <td>1225865086</td>\n",
       "    </tr>\n",
       "    <tr>\n",
       "      <th>2</th>\n",
       "      <td>1</td>\n",
       "      <td>158</td>\n",
       "      <td>4.0</td>\n",
       "      <td>1225733503</td>\n",
       "    </tr>\n",
       "    <tr>\n",
       "      <th>3</th>\n",
       "      <td>1</td>\n",
       "      <td>260</td>\n",
       "      <td>4.5</td>\n",
       "      <td>1225735204</td>\n",
       "    </tr>\n",
       "    <tr>\n",
       "      <th>4</th>\n",
       "      <td>1</td>\n",
       "      <td>356</td>\n",
       "      <td>5.0</td>\n",
       "      <td>1225735119</td>\n",
       "    </tr>\n",
       "  </tbody>\n",
       "</table>\n",
       "</div>"
      ],
      "text/plain": [
       "   userId  movieId  rating   timestamp\n",
       "0       1        1     4.0  1225734739\n",
       "1       1      110     4.0  1225865086\n",
       "2       1      158     4.0  1225733503\n",
       "3       1      260     4.5  1225735204\n",
       "4       1      356     5.0  1225735119"
      ]
     },
     "execution_count": 5,
     "metadata": {},
     "output_type": "execute_result"
    }
   ],
   "source": [
    "ratings.head(5)"
   ]
  },
  {
   "cell_type": "code",
   "execution_count": 6,
   "metadata": {
    "colab": {
     "base_uri": "https://localhost:8080/"
    },
    "id": "0AFEH8CA4doc",
    "outputId": "46b4aaa7-5cd9-4e4f-e9c2-53532d315ee0"
   },
   "outputs": [
    {
     "name": "stdout",
     "output_type": "stream",
     "text": [
      "<class 'pandas.core.frame.DataFrame'>\n",
      "RangeIndex: 33832162 entries, 0 to 33832161\n",
      "Data columns (total 4 columns):\n",
      " #   Column     Dtype  \n",
      "---  ------     -----  \n",
      " 0   userId     int64  \n",
      " 1   movieId    int64  \n",
      " 2   rating     float64\n",
      " 3   timestamp  int64  \n",
      "dtypes: float64(1), int64(3)\n",
      "memory usage: 1.0 GB\n"
     ]
    }
   ],
   "source": [
    "ratings.info()"
   ]
  },
  {
   "cell_type": "markdown",
   "metadata": {
    "id": "ardKgkpI8QiN"
   },
   "source": [
    "### Dropping irrelevant columns"
   ]
  },
  {
   "cell_type": "code",
   "execution_count": 7,
   "metadata": {
    "id": "pAXD4taC8SxH"
   },
   "outputs": [],
   "source": [
    "ratings.drop(columns = [\"timestamp\"], inplace = True)"
   ]
  },
  {
   "cell_type": "markdown",
   "metadata": {
    "id": "SyXF_VUy2HFr"
   },
   "source": [
    "### Checking for null values in ratings"
   ]
  },
  {
   "cell_type": "code",
   "execution_count": 8,
   "metadata": {
    "colab": {
     "base_uri": "https://localhost:8080/"
    },
    "id": "A2rsZNCM2Kp3",
    "outputId": "14ca4f4e-7188-45de-f54f-35c068ea42c6"
   },
   "outputs": [
    {
     "name": "stdout",
     "output_type": "stream",
     "text": [
      "userId False\n",
      "movieId False\n",
      "rating False\n"
     ]
    }
   ],
   "source": [
    "for i in ratings.columns:\n",
    "  print(i, ratings[i].isnull().any())"
   ]
  },
  {
   "cell_type": "markdown",
   "metadata": {
    "id": "9ZXUpecI2ShC"
   },
   "source": [
    "### checking for duplicate values"
   ]
  },
  {
   "cell_type": "code",
   "execution_count": 9,
   "metadata": {
    "colab": {
     "base_uri": "https://localhost:8080/",
     "height": 0
    },
    "id": "ZQ43Ny7p2V9W",
    "outputId": "2369ae5c-6d5f-4b5d-b0d1-17e406b3d090"
   },
   "outputs": [
    {
     "data": {
      "text/plain": [
       "userId     0\n",
       "movieId    0\n",
       "rating     0\n",
       "dtype: int64"
      ]
     },
     "execution_count": 9,
     "metadata": {},
     "output_type": "execute_result"
    }
   ],
   "source": [
    "ratings[ratings.duplicated(subset = ['userId', \"movieId\"])].count()"
   ]
  },
  {
   "cell_type": "markdown",
   "metadata": {
    "id": "6mYDOyEW7qZ2"
   },
   "source": [
    "### Printing the unique users and unique movies"
   ]
  },
  {
   "cell_type": "code",
   "execution_count": 10,
   "metadata": {
    "colab": {
     "base_uri": "https://localhost:8080/"
    },
    "id": "Qdsw10WU7usL",
    "outputId": "a545e38d-7a94-4b95-bed0-0bddc7c6a5c7"
   },
   "outputs": [
    {
     "name": "stdout",
     "output_type": "stream",
     "text": [
      "330975\n",
      "83239\n"
     ]
    }
   ],
   "source": [
    "print(ratings[\"userId\"].nunique())\n",
    "print(ratings[\"movieId\"].nunique())"
   ]
  },
  {
   "cell_type": "markdown",
   "metadata": {
    "id": "wxoFXXNbaMiY"
   },
   "source": [
    "### Removing users who have rated less than 50 movies"
   ]
  },
  {
   "cell_type": "code",
   "execution_count": 11,
   "metadata": {
    "id": "uMMPspifaQj7"
   },
   "outputs": [],
   "source": [
    "df = ratings.groupby(\"userId\")[\"movieId\"].count()\n",
    "\n",
    "df = df[df >= 50]\n",
    "ratings = ratings[ratings[\"userId\"].isin(df.index)]\n",
    "ratings.reset_index(drop = True, inplace = True)"
   ]
  },
  {
   "cell_type": "code",
   "execution_count": 12,
   "metadata": {
    "colab": {
     "base_uri": "https://localhost:8080/",
     "height": 0
    },
    "id": "UaDTBEBvcJtw",
    "outputId": "7473c673-7b2c-407e-e78c-e94a50b54fb7"
   },
   "outputs": [
    {
     "data": {
      "text/html": [
       "<div>\n",
       "<style scoped>\n",
       "    .dataframe tbody tr th:only-of-type {\n",
       "        vertical-align: middle;\n",
       "    }\n",
       "\n",
       "    .dataframe tbody tr th {\n",
       "        vertical-align: top;\n",
       "    }\n",
       "\n",
       "    .dataframe thead th {\n",
       "        text-align: right;\n",
       "    }\n",
       "</style>\n",
       "<table border=\"1\" class=\"dataframe\">\n",
       "  <thead>\n",
       "    <tr style=\"text-align: right;\">\n",
       "      <th></th>\n",
       "      <th>userId</th>\n",
       "      <th>movieId</th>\n",
       "      <th>rating</th>\n",
       "    </tr>\n",
       "  </thead>\n",
       "  <tbody>\n",
       "    <tr>\n",
       "      <th>0</th>\n",
       "      <td>1</td>\n",
       "      <td>1</td>\n",
       "      <td>4.0</td>\n",
       "    </tr>\n",
       "    <tr>\n",
       "      <th>1</th>\n",
       "      <td>1</td>\n",
       "      <td>110</td>\n",
       "      <td>4.0</td>\n",
       "    </tr>\n",
       "    <tr>\n",
       "      <th>2</th>\n",
       "      <td>1</td>\n",
       "      <td>158</td>\n",
       "      <td>4.0</td>\n",
       "    </tr>\n",
       "    <tr>\n",
       "      <th>3</th>\n",
       "      <td>1</td>\n",
       "      <td>260</td>\n",
       "      <td>4.5</td>\n",
       "    </tr>\n",
       "    <tr>\n",
       "      <th>4</th>\n",
       "      <td>1</td>\n",
       "      <td>356</td>\n",
       "      <td>5.0</td>\n",
       "    </tr>\n",
       "  </tbody>\n",
       "</table>\n",
       "</div>"
      ],
      "text/plain": [
       "   userId  movieId  rating\n",
       "0       1        1     4.0\n",
       "1       1      110     4.0\n",
       "2       1      158     4.0\n",
       "3       1      260     4.5\n",
       "4       1      356     5.0"
      ]
     },
     "execution_count": 12,
     "metadata": {},
     "output_type": "execute_result"
    }
   ],
   "source": [
    "ratings.head()"
   ]
  },
  {
   "cell_type": "markdown",
   "metadata": {
    "id": "Nc8EIXSYcRkW"
   },
   "source": [
    "### Droping movies which have been rated by less than 50 users"
   ]
  },
  {
   "cell_type": "code",
   "execution_count": 13,
   "metadata": {
    "id": "sZda5uNFcXF1"
   },
   "outputs": [],
   "source": [
    "df = ratings.groupby(\"movieId\")[\"userId\"].count()\n",
    "df = df[df >= 50]\n",
    "ratings = ratings[ratings[\"movieId\"].isin(df.index)]\n",
    "ratings.reset_index(drop = True, inplace = True)"
   ]
  },
  {
   "cell_type": "markdown",
   "metadata": {
    "id": "DKKjy60d7_1T"
   },
   "source": [
    "### Printing the unique users and unique movies"
   ]
  },
  {
   "cell_type": "code",
   "execution_count": 14,
   "metadata": {
    "colab": {
     "base_uri": "https://localhost:8080/"
    },
    "id": "t7o-aQO37_1U",
    "outputId": "9c0fb21b-c399-458d-c7b8-e7ddbb7a7d59"
   },
   "outputs": [
    {
     "name": "stdout",
     "output_type": "stream",
     "text": [
      "130561\n",
      "15899\n"
     ]
    }
   ],
   "source": [
    "print(ratings[\"userId\"].nunique())\n",
    "print(ratings[\"movieId\"].nunique())"
   ]
  },
  {
   "cell_type": "markdown",
   "metadata": {
    "id": "ID5ZbuBr4lRF"
   },
   "source": [
    "## movies"
   ]
  },
  {
   "cell_type": "code",
   "execution_count": 15,
   "metadata": {
    "colab": {
     "base_uri": "https://localhost:8080/",
     "height": 0
    },
    "id": "hCvIfEtm4nIC",
    "outputId": "b9e84ed9-ead5-4b9c-faa1-d048776c8c4a"
   },
   "outputs": [
    {
     "data": {
      "text/html": [
       "<div>\n",
       "<style scoped>\n",
       "    .dataframe tbody tr th:only-of-type {\n",
       "        vertical-align: middle;\n",
       "    }\n",
       "\n",
       "    .dataframe tbody tr th {\n",
       "        vertical-align: top;\n",
       "    }\n",
       "\n",
       "    .dataframe thead th {\n",
       "        text-align: right;\n",
       "    }\n",
       "</style>\n",
       "<table border=\"1\" class=\"dataframe\">\n",
       "  <thead>\n",
       "    <tr style=\"text-align: right;\">\n",
       "      <th></th>\n",
       "      <th>movieId</th>\n",
       "      <th>title</th>\n",
       "      <th>genres</th>\n",
       "    </tr>\n",
       "  </thead>\n",
       "  <tbody>\n",
       "    <tr>\n",
       "      <th>0</th>\n",
       "      <td>1</td>\n",
       "      <td>Toy Story (1995)</td>\n",
       "      <td>Adventure|Animation|Children|Comedy|Fantasy</td>\n",
       "    </tr>\n",
       "    <tr>\n",
       "      <th>1</th>\n",
       "      <td>2</td>\n",
       "      <td>Jumanji (1995)</td>\n",
       "      <td>Adventure|Children|Fantasy</td>\n",
       "    </tr>\n",
       "    <tr>\n",
       "      <th>2</th>\n",
       "      <td>3</td>\n",
       "      <td>Grumpier Old Men (1995)</td>\n",
       "      <td>Comedy|Romance</td>\n",
       "    </tr>\n",
       "    <tr>\n",
       "      <th>3</th>\n",
       "      <td>4</td>\n",
       "      <td>Waiting to Exhale (1995)</td>\n",
       "      <td>Comedy|Drama|Romance</td>\n",
       "    </tr>\n",
       "    <tr>\n",
       "      <th>4</th>\n",
       "      <td>5</td>\n",
       "      <td>Father of the Bride Part II (1995)</td>\n",
       "      <td>Comedy</td>\n",
       "    </tr>\n",
       "  </tbody>\n",
       "</table>\n",
       "</div>"
      ],
      "text/plain": [
       "   movieId                               title  \\\n",
       "0        1                    Toy Story (1995)   \n",
       "1        2                      Jumanji (1995)   \n",
       "2        3             Grumpier Old Men (1995)   \n",
       "3        4            Waiting to Exhale (1995)   \n",
       "4        5  Father of the Bride Part II (1995)   \n",
       "\n",
       "                                        genres  \n",
       "0  Adventure|Animation|Children|Comedy|Fantasy  \n",
       "1                   Adventure|Children|Fantasy  \n",
       "2                               Comedy|Romance  \n",
       "3                         Comedy|Drama|Romance  \n",
       "4                                       Comedy  "
      ]
     },
     "execution_count": 15,
     "metadata": {},
     "output_type": "execute_result"
    }
   ],
   "source": [
    "movies.head(5)"
   ]
  },
  {
   "cell_type": "markdown",
   "metadata": {
    "id": "e6zneYDGKqwj"
   },
   "source": [
    "### Removing date from movie title"
   ]
  },
  {
   "cell_type": "code",
   "execution_count": 16,
   "metadata": {
    "colab": {
     "base_uri": "https://localhost:8080/",
     "height": 0
    },
    "id": "7O1ZaayPKulI",
    "outputId": "b8fc3131-c604-4836-986f-d5e2c39ece99"
   },
   "outputs": [
    {
     "data": {
      "text/plain": [
       "0                                          Toy Story\n",
       "1                                            Jumanji\n",
       "2                                   Grumpier Old Men\n",
       "3                                  Waiting to Exhale\n",
       "4                        Father of the Bride Part II\n",
       "                            ...                     \n",
       "86532                  State of Siege: Temple Attack\n",
       "86533                                    Ouija Japan\n",
       "86534      The Men Who Made the Movies: Howard Hawks\n",
       "86535                       Skinford: Death Sentence\n",
       "86536    UNZIPPED: An Autopsy of American Inequality\n",
       "Name: title, Length: 86537, dtype: object"
      ]
     },
     "execution_count": 16,
     "metadata": {},
     "output_type": "execute_result"
    }
   ],
   "source": [
    "def remove_date(input):\n",
    "  for i in input:\n",
    "    if i == \"(\":\n",
    "      return input[:input.index(i)].strip()\n",
    "  return input\n",
    "\n",
    "movies[\"title\"] = movies[\"title\"].apply(remove_date).reset_index(drop = True)\n",
    "movies[\"title\"]"
   ]
  },
  {
   "cell_type": "code",
   "execution_count": 17,
   "metadata": {
    "colab": {
     "base_uri": "https://localhost:8080/"
    },
    "id": "ipI5-QLJ4tsF",
    "outputId": "925cb4b3-2961-4fd0-e4ba-9838324f1339"
   },
   "outputs": [
    {
     "name": "stdout",
     "output_type": "stream",
     "text": [
      "<class 'pandas.core.frame.DataFrame'>\n",
      "RangeIndex: 86537 entries, 0 to 86536\n",
      "Data columns (total 3 columns):\n",
      " #   Column   Non-Null Count  Dtype \n",
      "---  ------   --------------  ----- \n",
      " 0   movieId  86537 non-null  int64 \n",
      " 1   title    86537 non-null  object\n",
      " 2   genres   86537 non-null  object\n",
      "dtypes: int64(1), object(2)\n",
      "memory usage: 2.0+ MB\n"
     ]
    }
   ],
   "source": [
    "movies.info()"
   ]
  },
  {
   "cell_type": "markdown",
   "metadata": {
    "id": "0Qp-byxITbuv"
   },
   "source": [
    "## making the title order from shawshank redemption, the to the shawshank redemption"
   ]
  },
  {
   "cell_type": "code",
   "execution_count": 18,
   "metadata": {
    "colab": {
     "base_uri": "https://localhost:8080/",
     "height": 0
    },
    "id": "-zf6ZHMBToWv",
    "outputId": "0593e611-fd34-4472-9cb1-9844ac6bb411"
   },
   "outputs": [
    {
     "data": {
      "text/html": [
       "<div>\n",
       "<style scoped>\n",
       "    .dataframe tbody tr th:only-of-type {\n",
       "        vertical-align: middle;\n",
       "    }\n",
       "\n",
       "    .dataframe tbody tr th {\n",
       "        vertical-align: top;\n",
       "    }\n",
       "\n",
       "    .dataframe thead th {\n",
       "        text-align: right;\n",
       "    }\n",
       "</style>\n",
       "<table border=\"1\" class=\"dataframe\">\n",
       "  <thead>\n",
       "    <tr style=\"text-align: right;\">\n",
       "      <th></th>\n",
       "      <th>movieId</th>\n",
       "      <th>title</th>\n",
       "      <th>genres</th>\n",
       "    </tr>\n",
       "  </thead>\n",
       "  <tbody>\n",
       "    <tr>\n",
       "      <th>0</th>\n",
       "      <td>1</td>\n",
       "      <td>Toy Story</td>\n",
       "      <td>Adventure|Animation|Children|Comedy|Fantasy</td>\n",
       "    </tr>\n",
       "    <tr>\n",
       "      <th>1</th>\n",
       "      <td>2</td>\n",
       "      <td>Jumanji</td>\n",
       "      <td>Adventure|Children|Fantasy</td>\n",
       "    </tr>\n",
       "    <tr>\n",
       "      <th>2</th>\n",
       "      <td>3</td>\n",
       "      <td>Grumpier Old Men</td>\n",
       "      <td>Comedy|Romance</td>\n",
       "    </tr>\n",
       "    <tr>\n",
       "      <th>3</th>\n",
       "      <td>4</td>\n",
       "      <td>Waiting to Exhale</td>\n",
       "      <td>Comedy|Drama|Romance</td>\n",
       "    </tr>\n",
       "    <tr>\n",
       "      <th>4</th>\n",
       "      <td>5</td>\n",
       "      <td>Father of the Bride Part II</td>\n",
       "      <td>Comedy</td>\n",
       "    </tr>\n",
       "    <tr>\n",
       "      <th>...</th>\n",
       "      <td>...</td>\n",
       "      <td>...</td>\n",
       "      <td>...</td>\n",
       "    </tr>\n",
       "    <tr>\n",
       "      <th>86532</th>\n",
       "      <td>288967</td>\n",
       "      <td>State of Siege: Temple Attack</td>\n",
       "      <td>Action|Drama</td>\n",
       "    </tr>\n",
       "    <tr>\n",
       "      <th>86533</th>\n",
       "      <td>288971</td>\n",
       "      <td>Ouija Japan</td>\n",
       "      <td>Action|Horror</td>\n",
       "    </tr>\n",
       "    <tr>\n",
       "      <th>86534</th>\n",
       "      <td>288975</td>\n",
       "      <td>The Men Who Made the Movies: Howard Hawks</td>\n",
       "      <td>Documentary</td>\n",
       "    </tr>\n",
       "    <tr>\n",
       "      <th>86535</th>\n",
       "      <td>288977</td>\n",
       "      <td>Skinford: Death Sentence</td>\n",
       "      <td>Crime|Thriller</td>\n",
       "    </tr>\n",
       "    <tr>\n",
       "      <th>86536</th>\n",
       "      <td>288983</td>\n",
       "      <td>UNZIPPED: An Autopsy of American Inequality</td>\n",
       "      <td>Documentary</td>\n",
       "    </tr>\n",
       "  </tbody>\n",
       "</table>\n",
       "<p>86537 rows × 3 columns</p>\n",
       "</div>"
      ],
      "text/plain": [
       "       movieId                                        title  \\\n",
       "0            1                                    Toy Story   \n",
       "1            2                                      Jumanji   \n",
       "2            3                             Grumpier Old Men   \n",
       "3            4                            Waiting to Exhale   \n",
       "4            5                  Father of the Bride Part II   \n",
       "...        ...                                          ...   \n",
       "86532   288967                State of Siege: Temple Attack   \n",
       "86533   288971                                  Ouija Japan   \n",
       "86534   288975    The Men Who Made the Movies: Howard Hawks   \n",
       "86535   288977                     Skinford: Death Sentence   \n",
       "86536   288983  UNZIPPED: An Autopsy of American Inequality   \n",
       "\n",
       "                                            genres  \n",
       "0      Adventure|Animation|Children|Comedy|Fantasy  \n",
       "1                       Adventure|Children|Fantasy  \n",
       "2                                   Comedy|Romance  \n",
       "3                             Comedy|Drama|Romance  \n",
       "4                                           Comedy  \n",
       "...                                            ...  \n",
       "86532                                 Action|Drama  \n",
       "86533                                Action|Horror  \n",
       "86534                                  Documentary  \n",
       "86535                               Crime|Thriller  \n",
       "86536                                  Documentary  \n",
       "\n",
       "[86537 rows x 3 columns]"
      ]
     },
     "execution_count": 18,
     "metadata": {},
     "output_type": "execute_result"
    }
   ],
   "source": [
    "def change_title(input):\n",
    "  for i in input:\n",
    "    if i == \",\":\n",
    "      first = input[:input.index(i)].strip()\n",
    "      second = input[input.index(i)+2:].strip()\n",
    "      return second + \" \" + first\n",
    "  return input\n",
    "\n",
    "movies[\"title\"] = movies[\"title\"].apply(change_title).reset_index(drop = True)\n",
    "movies"
   ]
  },
  {
   "cell_type": "markdown",
   "metadata": {
    "id": "EAPhqiERz9Px"
   },
   "source": [
    "### splitting genres to make a list"
   ]
  },
  {
   "cell_type": "code",
   "execution_count": 19,
   "metadata": {
    "colab": {
     "base_uri": "https://localhost:8080/",
     "height": 0
    },
    "id": "Ct97oBIGEUX7",
    "outputId": "737ecf79-3970-400e-aca7-8b480527e7b7"
   },
   "outputs": [
    {
     "data": {
      "text/html": [
       "<div>\n",
       "<style scoped>\n",
       "    .dataframe tbody tr th:only-of-type {\n",
       "        vertical-align: middle;\n",
       "    }\n",
       "\n",
       "    .dataframe tbody tr th {\n",
       "        vertical-align: top;\n",
       "    }\n",
       "\n",
       "    .dataframe thead th {\n",
       "        text-align: right;\n",
       "    }\n",
       "</style>\n",
       "<table border=\"1\" class=\"dataframe\">\n",
       "  <thead>\n",
       "    <tr style=\"text-align: right;\">\n",
       "      <th></th>\n",
       "      <th>movieId</th>\n",
       "      <th>title</th>\n",
       "      <th>genres</th>\n",
       "    </tr>\n",
       "  </thead>\n",
       "  <tbody>\n",
       "    <tr>\n",
       "      <th>0</th>\n",
       "      <td>1</td>\n",
       "      <td>Toy Story</td>\n",
       "      <td>[Adventure, Animation, Children, Comedy, Fantasy]</td>\n",
       "    </tr>\n",
       "    <tr>\n",
       "      <th>1</th>\n",
       "      <td>2</td>\n",
       "      <td>Jumanji</td>\n",
       "      <td>[Adventure, Children, Fantasy]</td>\n",
       "    </tr>\n",
       "    <tr>\n",
       "      <th>2</th>\n",
       "      <td>3</td>\n",
       "      <td>Grumpier Old Men</td>\n",
       "      <td>[Comedy, Romance]</td>\n",
       "    </tr>\n",
       "    <tr>\n",
       "      <th>3</th>\n",
       "      <td>4</td>\n",
       "      <td>Waiting to Exhale</td>\n",
       "      <td>[Comedy, Drama, Romance]</td>\n",
       "    </tr>\n",
       "    <tr>\n",
       "      <th>4</th>\n",
       "      <td>5</td>\n",
       "      <td>Father of the Bride Part II</td>\n",
       "      <td>[Comedy]</td>\n",
       "    </tr>\n",
       "  </tbody>\n",
       "</table>\n",
       "</div>"
      ],
      "text/plain": [
       "   movieId                        title  \\\n",
       "0        1                    Toy Story   \n",
       "1        2                      Jumanji   \n",
       "2        3             Grumpier Old Men   \n",
       "3        4            Waiting to Exhale   \n",
       "4        5  Father of the Bride Part II   \n",
       "\n",
       "                                              genres  \n",
       "0  [Adventure, Animation, Children, Comedy, Fantasy]  \n",
       "1                     [Adventure, Children, Fantasy]  \n",
       "2                                  [Comedy, Romance]  \n",
       "3                           [Comedy, Drama, Romance]  \n",
       "4                                           [Comedy]  "
      ]
     },
     "execution_count": 19,
     "metadata": {},
     "output_type": "execute_result"
    }
   ],
   "source": [
    "def split_genre(input):\n",
    "  return input.split(\"|\")\n",
    "\n",
    "movies['genres'] = movies['genres'].apply(split_genre)\n",
    "movies.head()"
   ]
  },
  {
   "cell_type": "markdown",
   "metadata": {
    "id": "12hxQidogigW"
   },
   "source": [
    "### Removing null values"
   ]
  },
  {
   "cell_type": "code",
   "execution_count": 20,
   "metadata": {
    "id": "8znG5h2vgqKi"
   },
   "outputs": [],
   "source": [
    "movies.dropna(subset = [\"movieId\", \"title\"], inplace = True)"
   ]
  },
  {
   "cell_type": "code",
   "execution_count": 21,
   "metadata": {
    "colab": {
     "base_uri": "https://localhost:8080/"
    },
    "id": "Re_lpOLNhD5Q",
    "outputId": "504f6d47-00e3-4d9b-8aee-3c99a2e62df1"
   },
   "outputs": [
    {
     "name": "stdout",
     "output_type": "stream",
     "text": [
      "<class 'pandas.core.frame.DataFrame'>\n",
      "RangeIndex: 86537 entries, 0 to 86536\n",
      "Data columns (total 3 columns):\n",
      " #   Column   Non-Null Count  Dtype \n",
      "---  ------   --------------  ----- \n",
      " 0   movieId  86537 non-null  int64 \n",
      " 1   title    86537 non-null  object\n",
      " 2   genres   86537 non-null  object\n",
      "dtypes: int64(1), object(2)\n",
      "memory usage: 2.0+ MB\n"
     ]
    }
   ],
   "source": [
    "movies.info()"
   ]
  },
  {
   "cell_type": "markdown",
   "metadata": {
    "id": "RMgEwRvy0BYJ"
   },
   "source": [
    "### Removing duplicate values"
   ]
  },
  {
   "cell_type": "code",
   "execution_count": 22,
   "metadata": {
    "id": "PtFtAXgW1maW"
   },
   "outputs": [],
   "source": [
    "movies.drop_duplicates(subset=[\"title\"],inplace = True)"
   ]
  },
  {
   "cell_type": "code",
   "execution_count": 23,
   "metadata": {
    "colab": {
     "base_uri": "https://localhost:8080/"
    },
    "id": "lvAjxOyQ2B48",
    "outputId": "ef74d70c-19fb-4df6-949b-08f7dc0a09f3"
   },
   "outputs": [
    {
     "name": "stdout",
     "output_type": "stream",
     "text": [
      "78818\n",
      "78818\n"
     ]
    }
   ],
   "source": [
    "print(movies['title'].nunique())\n",
    "print(movies['movieId'].nunique())"
   ]
  },
  {
   "cell_type": "code",
   "execution_count": 24,
   "metadata": {
    "colab": {
     "base_uri": "https://localhost:8080/"
    },
    "id": "fX4OHCvzgXsH",
    "outputId": "a597c69a-74a6-483d-b751-f7d46ad9e239"
   },
   "outputs": [
    {
     "name": "stdout",
     "output_type": "stream",
     "text": [
      "<class 'pandas.core.frame.DataFrame'>\n",
      "Index: 78818 entries, 0 to 86536\n",
      "Data columns (total 3 columns):\n",
      " #   Column   Non-Null Count  Dtype \n",
      "---  ------   --------------  ----- \n",
      " 0   movieId  78818 non-null  int64 \n",
      " 1   title    78818 non-null  object\n",
      " 2   genres   78818 non-null  object\n",
      "dtypes: int64(1), object(2)\n",
      "memory usage: 2.4+ MB\n"
     ]
    }
   ],
   "source": [
    "movies.info()"
   ]
  },
  {
   "cell_type": "markdown",
   "metadata": {
    "id": "oFHQngyJ9GQT"
   },
   "source": [
    "## Tags"
   ]
  },
  {
   "cell_type": "code",
   "execution_count": 25,
   "metadata": {
    "colab": {
     "base_uri": "https://localhost:8080/",
     "height": 0
    },
    "id": "ACr-xlxL9KGW",
    "outputId": "62e1b5ea-05b3-4708-8376-f2878c382a6a"
   },
   "outputs": [
    {
     "data": {
      "text/html": [
       "<div>\n",
       "<style scoped>\n",
       "    .dataframe tbody tr th:only-of-type {\n",
       "        vertical-align: middle;\n",
       "    }\n",
       "\n",
       "    .dataframe tbody tr th {\n",
       "        vertical-align: top;\n",
       "    }\n",
       "\n",
       "    .dataframe thead th {\n",
       "        text-align: right;\n",
       "    }\n",
       "</style>\n",
       "<table border=\"1\" class=\"dataframe\">\n",
       "  <thead>\n",
       "    <tr style=\"text-align: right;\">\n",
       "      <th></th>\n",
       "      <th>userId</th>\n",
       "      <th>movieId</th>\n",
       "      <th>tag</th>\n",
       "      <th>timestamp</th>\n",
       "    </tr>\n",
       "  </thead>\n",
       "  <tbody>\n",
       "    <tr>\n",
       "      <th>0</th>\n",
       "      <td>10</td>\n",
       "      <td>260</td>\n",
       "      <td>good vs evil</td>\n",
       "      <td>1430666558</td>\n",
       "    </tr>\n",
       "    <tr>\n",
       "      <th>1</th>\n",
       "      <td>10</td>\n",
       "      <td>260</td>\n",
       "      <td>Harrison Ford</td>\n",
       "      <td>1430666505</td>\n",
       "    </tr>\n",
       "    <tr>\n",
       "      <th>2</th>\n",
       "      <td>10</td>\n",
       "      <td>260</td>\n",
       "      <td>sci-fi</td>\n",
       "      <td>1430666538</td>\n",
       "    </tr>\n",
       "    <tr>\n",
       "      <th>3</th>\n",
       "      <td>14</td>\n",
       "      <td>1221</td>\n",
       "      <td>Al Pacino</td>\n",
       "      <td>1311600756</td>\n",
       "    </tr>\n",
       "    <tr>\n",
       "      <th>4</th>\n",
       "      <td>14</td>\n",
       "      <td>1221</td>\n",
       "      <td>mafia</td>\n",
       "      <td>1311600746</td>\n",
       "    </tr>\n",
       "  </tbody>\n",
       "</table>\n",
       "</div>"
      ],
      "text/plain": [
       "   userId  movieId            tag   timestamp\n",
       "0      10      260   good vs evil  1430666558\n",
       "1      10      260  Harrison Ford  1430666505\n",
       "2      10      260         sci-fi  1430666538\n",
       "3      14     1221      Al Pacino  1311600756\n",
       "4      14     1221          mafia  1311600746"
      ]
     },
     "execution_count": 25,
     "metadata": {},
     "output_type": "execute_result"
    }
   ],
   "source": [
    "tags.head(5)"
   ]
  },
  {
   "cell_type": "code",
   "execution_count": 26,
   "metadata": {
    "colab": {
     "base_uri": "https://localhost:8080/"
    },
    "id": "WzpAFH799LvZ",
    "outputId": "83f6edcf-f3c9-42cd-fcac-d3d9266eef98"
   },
   "outputs": [
    {
     "name": "stdout",
     "output_type": "stream",
     "text": [
      "<class 'pandas.core.frame.DataFrame'>\n",
      "RangeIndex: 2328315 entries, 0 to 2328314\n",
      "Data columns (total 4 columns):\n",
      " #   Column     Dtype \n",
      "---  ------     ----- \n",
      " 0   userId     int64 \n",
      " 1   movieId    int64 \n",
      " 2   tag        object\n",
      " 3   timestamp  int64 \n",
      "dtypes: int64(3), object(1)\n",
      "memory usage: 71.1+ MB\n"
     ]
    }
   ],
   "source": [
    "tags.info()"
   ]
  },
  {
   "cell_type": "markdown",
   "metadata": {
    "id": "Dq4ktLmh9oFz"
   },
   "source": [
    "## genome_tags and genome_scores"
   ]
  },
  {
   "cell_type": "code",
   "execution_count": 27,
   "metadata": {
    "colab": {
     "base_uri": "https://localhost:8080/",
     "height": 0
    },
    "id": "WsoKVEfC9qPN",
    "outputId": "dde9f9b7-85fc-4822-ba1d-c59d47e34c50"
   },
   "outputs": [
    {
     "data": {
      "text/html": [
       "<div>\n",
       "<style scoped>\n",
       "    .dataframe tbody tr th:only-of-type {\n",
       "        vertical-align: middle;\n",
       "    }\n",
       "\n",
       "    .dataframe tbody tr th {\n",
       "        vertical-align: top;\n",
       "    }\n",
       "\n",
       "    .dataframe thead th {\n",
       "        text-align: right;\n",
       "    }\n",
       "</style>\n",
       "<table border=\"1\" class=\"dataframe\">\n",
       "  <thead>\n",
       "    <tr style=\"text-align: right;\">\n",
       "      <th></th>\n",
       "      <th>tagId</th>\n",
       "      <th>tag</th>\n",
       "    </tr>\n",
       "  </thead>\n",
       "  <tbody>\n",
       "    <tr>\n",
       "      <th>0</th>\n",
       "      <td>1</td>\n",
       "      <td>007</td>\n",
       "    </tr>\n",
       "    <tr>\n",
       "      <th>1</th>\n",
       "      <td>2</td>\n",
       "      <td>007 (series)</td>\n",
       "    </tr>\n",
       "    <tr>\n",
       "      <th>2</th>\n",
       "      <td>3</td>\n",
       "      <td>18th century</td>\n",
       "    </tr>\n",
       "    <tr>\n",
       "      <th>3</th>\n",
       "      <td>4</td>\n",
       "      <td>1920s</td>\n",
       "    </tr>\n",
       "    <tr>\n",
       "      <th>4</th>\n",
       "      <td>5</td>\n",
       "      <td>1930s</td>\n",
       "    </tr>\n",
       "  </tbody>\n",
       "</table>\n",
       "</div>"
      ],
      "text/plain": [
       "   tagId           tag\n",
       "0      1           007\n",
       "1      2  007 (series)\n",
       "2      3  18th century\n",
       "3      4         1920s\n",
       "4      5         1930s"
      ]
     },
     "execution_count": 27,
     "metadata": {},
     "output_type": "execute_result"
    }
   ],
   "source": [
    "genome_tags.head(5)"
   ]
  },
  {
   "cell_type": "code",
   "execution_count": 28,
   "metadata": {
    "colab": {
     "base_uri": "https://localhost:8080/"
    },
    "id": "9MaEvd4F9tNv",
    "outputId": "9d99e434-000c-486f-8b03-87c4ed781b99"
   },
   "outputs": [
    {
     "name": "stdout",
     "output_type": "stream",
     "text": [
      "<class 'pandas.core.frame.DataFrame'>\n",
      "RangeIndex: 1128 entries, 0 to 1127\n",
      "Data columns (total 2 columns):\n",
      " #   Column  Non-Null Count  Dtype \n",
      "---  ------  --------------  ----- \n",
      " 0   tagId   1128 non-null   int64 \n",
      " 1   tag     1128 non-null   object\n",
      "dtypes: int64(1), object(1)\n",
      "memory usage: 17.8+ KB\n"
     ]
    }
   ],
   "source": [
    "genome_tags.info()"
   ]
  },
  {
   "cell_type": "code",
   "execution_count": 29,
   "metadata": {
    "colab": {
     "base_uri": "https://localhost:8080/",
     "height": 0
    },
    "id": "zTmOCOjs-QkE",
    "outputId": "e667a7a1-d82b-470c-90e3-df18b21db501"
   },
   "outputs": [
    {
     "data": {
      "text/html": [
       "<div>\n",
       "<style scoped>\n",
       "    .dataframe tbody tr th:only-of-type {\n",
       "        vertical-align: middle;\n",
       "    }\n",
       "\n",
       "    .dataframe tbody tr th {\n",
       "        vertical-align: top;\n",
       "    }\n",
       "\n",
       "    .dataframe thead th {\n",
       "        text-align: right;\n",
       "    }\n",
       "</style>\n",
       "<table border=\"1\" class=\"dataframe\">\n",
       "  <thead>\n",
       "    <tr style=\"text-align: right;\">\n",
       "      <th></th>\n",
       "      <th>movieId</th>\n",
       "      <th>tagId</th>\n",
       "      <th>relevance</th>\n",
       "    </tr>\n",
       "  </thead>\n",
       "  <tbody>\n",
       "    <tr>\n",
       "      <th>0</th>\n",
       "      <td>1</td>\n",
       "      <td>1</td>\n",
       "      <td>0.03200</td>\n",
       "    </tr>\n",
       "    <tr>\n",
       "      <th>1</th>\n",
       "      <td>1</td>\n",
       "      <td>2</td>\n",
       "      <td>0.02225</td>\n",
       "    </tr>\n",
       "    <tr>\n",
       "      <th>2</th>\n",
       "      <td>1</td>\n",
       "      <td>3</td>\n",
       "      <td>0.07000</td>\n",
       "    </tr>\n",
       "    <tr>\n",
       "      <th>3</th>\n",
       "      <td>1</td>\n",
       "      <td>4</td>\n",
       "      <td>0.05900</td>\n",
       "    </tr>\n",
       "    <tr>\n",
       "      <th>4</th>\n",
       "      <td>1</td>\n",
       "      <td>5</td>\n",
       "      <td>0.12300</td>\n",
       "    </tr>\n",
       "  </tbody>\n",
       "</table>\n",
       "</div>"
      ],
      "text/plain": [
       "   movieId  tagId  relevance\n",
       "0        1      1    0.03200\n",
       "1        1      2    0.02225\n",
       "2        1      3    0.07000\n",
       "3        1      4    0.05900\n",
       "4        1      5    0.12300"
      ]
     },
     "execution_count": 29,
     "metadata": {},
     "output_type": "execute_result"
    }
   ],
   "source": [
    "genome_scores.head(5)"
   ]
  },
  {
   "cell_type": "code",
   "execution_count": 30,
   "metadata": {
    "colab": {
     "base_uri": "https://localhost:8080/"
    },
    "id": "RX0CGGgU-TvG",
    "outputId": "22c4f262-1ef1-416d-d31e-4d92be680484"
   },
   "outputs": [
    {
     "name": "stdout",
     "output_type": "stream",
     "text": [
      "<class 'pandas.core.frame.DataFrame'>\n",
      "RangeIndex: 18472128 entries, 0 to 18472127\n",
      "Data columns (total 3 columns):\n",
      " #   Column     Dtype  \n",
      "---  ------     -----  \n",
      " 0   movieId    int64  \n",
      " 1   tagId      int64  \n",
      " 2   relevance  float64\n",
      "dtypes: float64(1), int64(2)\n",
      "memory usage: 422.8 MB\n"
     ]
    }
   ],
   "source": [
    "genome_scores.info()"
   ]
  },
  {
   "cell_type": "markdown",
   "metadata": {
    "id": "Xd0Kn4IA-Px1"
   },
   "source": []
  },
  {
   "cell_type": "markdown",
   "metadata": {
    "id": "YwC3RSrj-Web"
   },
   "source": [
    "### Merging genome tags and genome scores"
   ]
  },
  {
   "cell_type": "code",
   "execution_count": 31,
   "metadata": {
    "colab": {
     "base_uri": "https://localhost:8080/",
     "height": 0
    },
    "id": "cTkYAdwn-dSn",
    "outputId": "f3161ccd-b17c-45d2-c40f-f991490b32dd"
   },
   "outputs": [
    {
     "data": {
      "text/html": [
       "<div>\n",
       "<style scoped>\n",
       "    .dataframe tbody tr th:only-of-type {\n",
       "        vertical-align: middle;\n",
       "    }\n",
       "\n",
       "    .dataframe tbody tr th {\n",
       "        vertical-align: top;\n",
       "    }\n",
       "\n",
       "    .dataframe thead th {\n",
       "        text-align: right;\n",
       "    }\n",
       "</style>\n",
       "<table border=\"1\" class=\"dataframe\">\n",
       "  <thead>\n",
       "    <tr style=\"text-align: right;\">\n",
       "      <th></th>\n",
       "      <th>movieId</th>\n",
       "      <th>tagId</th>\n",
       "      <th>relevance</th>\n",
       "      <th>tag</th>\n",
       "    </tr>\n",
       "  </thead>\n",
       "  <tbody>\n",
       "    <tr>\n",
       "      <th>0</th>\n",
       "      <td>1</td>\n",
       "      <td>1</td>\n",
       "      <td>0.03200</td>\n",
       "      <td>007</td>\n",
       "    </tr>\n",
       "    <tr>\n",
       "      <th>1</th>\n",
       "      <td>1</td>\n",
       "      <td>2</td>\n",
       "      <td>0.02225</td>\n",
       "      <td>007 (series)</td>\n",
       "    </tr>\n",
       "    <tr>\n",
       "      <th>2</th>\n",
       "      <td>1</td>\n",
       "      <td>3</td>\n",
       "      <td>0.07000</td>\n",
       "      <td>18th century</td>\n",
       "    </tr>\n",
       "    <tr>\n",
       "      <th>3</th>\n",
       "      <td>1</td>\n",
       "      <td>4</td>\n",
       "      <td>0.05900</td>\n",
       "      <td>1920s</td>\n",
       "    </tr>\n",
       "    <tr>\n",
       "      <th>4</th>\n",
       "      <td>1</td>\n",
       "      <td>5</td>\n",
       "      <td>0.12300</td>\n",
       "      <td>1930s</td>\n",
       "    </tr>\n",
       "    <tr>\n",
       "      <th>...</th>\n",
       "      <td>...</td>\n",
       "      <td>...</td>\n",
       "      <td>...</td>\n",
       "      <td>...</td>\n",
       "    </tr>\n",
       "    <tr>\n",
       "      <th>18472123</th>\n",
       "      <td>288167</td>\n",
       "      <td>1124</td>\n",
       "      <td>0.09875</td>\n",
       "      <td>writing</td>\n",
       "    </tr>\n",
       "    <tr>\n",
       "      <th>18472124</th>\n",
       "      <td>288167</td>\n",
       "      <td>1125</td>\n",
       "      <td>0.02950</td>\n",
       "      <td>wuxia</td>\n",
       "    </tr>\n",
       "    <tr>\n",
       "      <th>18472125</th>\n",
       "      <td>288167</td>\n",
       "      <td>1126</td>\n",
       "      <td>0.02275</td>\n",
       "      <td>wwii</td>\n",
       "    </tr>\n",
       "    <tr>\n",
       "      <th>18472126</th>\n",
       "      <td>288167</td>\n",
       "      <td>1127</td>\n",
       "      <td>0.11225</td>\n",
       "      <td>zombie</td>\n",
       "    </tr>\n",
       "    <tr>\n",
       "      <th>18472127</th>\n",
       "      <td>288167</td>\n",
       "      <td>1128</td>\n",
       "      <td>0.03025</td>\n",
       "      <td>zombies</td>\n",
       "    </tr>\n",
       "  </tbody>\n",
       "</table>\n",
       "<p>18472128 rows × 4 columns</p>\n",
       "</div>"
      ],
      "text/plain": [
       "          movieId  tagId  relevance           tag\n",
       "0               1      1    0.03200           007\n",
       "1               1      2    0.02225  007 (series)\n",
       "2               1      3    0.07000  18th century\n",
       "3               1      4    0.05900         1920s\n",
       "4               1      5    0.12300         1930s\n",
       "...           ...    ...        ...           ...\n",
       "18472123   288167   1124    0.09875       writing\n",
       "18472124   288167   1125    0.02950         wuxia\n",
       "18472125   288167   1126    0.02275          wwii\n",
       "18472126   288167   1127    0.11225        zombie\n",
       "18472127   288167   1128    0.03025       zombies\n",
       "\n",
       "[18472128 rows x 4 columns]"
      ]
     },
     "execution_count": 31,
     "metadata": {},
     "output_type": "execute_result"
    }
   ],
   "source": [
    "genome = pd.merge(genome_scores, genome_tags, on = \"tagId\")\n",
    "genome"
   ]
  },
  {
   "cell_type": "markdown",
   "metadata": {
    "id": "WYqNkrAI_IdA"
   },
   "source": [
    "### Keeping only those tags which have a relevance score of > 0.05"
   ]
  },
  {
   "cell_type": "code",
   "execution_count": 32,
   "metadata": {
    "colab": {
     "base_uri": "https://localhost:8080/",
     "height": 0
    },
    "id": "gY4-5CJ3_NA0",
    "outputId": "cfec3fcb-1bdf-4421-8d60-80903ff4ea79"
   },
   "outputs": [
    {
     "data": {
      "text/html": [
       "<div>\n",
       "<style scoped>\n",
       "    .dataframe tbody tr th:only-of-type {\n",
       "        vertical-align: middle;\n",
       "    }\n",
       "\n",
       "    .dataframe tbody tr th {\n",
       "        vertical-align: top;\n",
       "    }\n",
       "\n",
       "    .dataframe thead th {\n",
       "        text-align: right;\n",
       "    }\n",
       "</style>\n",
       "<table border=\"1\" class=\"dataframe\">\n",
       "  <thead>\n",
       "    <tr style=\"text-align: right;\">\n",
       "      <th></th>\n",
       "      <th>movieId</th>\n",
       "      <th>tagId</th>\n",
       "      <th>relevance</th>\n",
       "      <th>tag</th>\n",
       "    </tr>\n",
       "  </thead>\n",
       "  <tbody>\n",
       "    <tr>\n",
       "      <th>2</th>\n",
       "      <td>1</td>\n",
       "      <td>3</td>\n",
       "      <td>0.07000</td>\n",
       "      <td>18th century</td>\n",
       "    </tr>\n",
       "    <tr>\n",
       "      <th>3</th>\n",
       "      <td>1</td>\n",
       "      <td>4</td>\n",
       "      <td>0.05900</td>\n",
       "      <td>1920s</td>\n",
       "    </tr>\n",
       "    <tr>\n",
       "      <th>4</th>\n",
       "      <td>1</td>\n",
       "      <td>5</td>\n",
       "      <td>0.12300</td>\n",
       "      <td>1930s</td>\n",
       "    </tr>\n",
       "    <tr>\n",
       "      <th>5</th>\n",
       "      <td>1</td>\n",
       "      <td>6</td>\n",
       "      <td>0.13100</td>\n",
       "      <td>1950s</td>\n",
       "    </tr>\n",
       "    <tr>\n",
       "      <th>6</th>\n",
       "      <td>1</td>\n",
       "      <td>7</td>\n",
       "      <td>0.06175</td>\n",
       "      <td>1960s</td>\n",
       "    </tr>\n",
       "    <tr>\n",
       "      <th>...</th>\n",
       "      <td>...</td>\n",
       "      <td>...</td>\n",
       "      <td>...</td>\n",
       "      <td>...</td>\n",
       "    </tr>\n",
       "    <tr>\n",
       "      <th>18472117</th>\n",
       "      <td>288167</td>\n",
       "      <td>1118</td>\n",
       "      <td>0.08100</td>\n",
       "      <td>workplace</td>\n",
       "    </tr>\n",
       "    <tr>\n",
       "      <th>18472118</th>\n",
       "      <td>288167</td>\n",
       "      <td>1119</td>\n",
       "      <td>0.08075</td>\n",
       "      <td>world politics</td>\n",
       "    </tr>\n",
       "    <tr>\n",
       "      <th>18472122</th>\n",
       "      <td>288167</td>\n",
       "      <td>1123</td>\n",
       "      <td>0.11450</td>\n",
       "      <td>writers</td>\n",
       "    </tr>\n",
       "    <tr>\n",
       "      <th>18472123</th>\n",
       "      <td>288167</td>\n",
       "      <td>1124</td>\n",
       "      <td>0.09875</td>\n",
       "      <td>writing</td>\n",
       "    </tr>\n",
       "    <tr>\n",
       "      <th>18472126</th>\n",
       "      <td>288167</td>\n",
       "      <td>1127</td>\n",
       "      <td>0.11225</td>\n",
       "      <td>zombie</td>\n",
       "    </tr>\n",
       "  </tbody>\n",
       "</table>\n",
       "<p>9565955 rows × 4 columns</p>\n",
       "</div>"
      ],
      "text/plain": [
       "          movieId  tagId  relevance             tag\n",
       "2               1      3    0.07000    18th century\n",
       "3               1      4    0.05900           1920s\n",
       "4               1      5    0.12300           1930s\n",
       "5               1      6    0.13100           1950s\n",
       "6               1      7    0.06175           1960s\n",
       "...           ...    ...        ...             ...\n",
       "18472117   288167   1118    0.08100       workplace\n",
       "18472118   288167   1119    0.08075  world politics\n",
       "18472122   288167   1123    0.11450         writers\n",
       "18472123   288167   1124    0.09875         writing\n",
       "18472126   288167   1127    0.11225          zombie\n",
       "\n",
       "[9565955 rows x 4 columns]"
      ]
     },
     "execution_count": 32,
     "metadata": {},
     "output_type": "execute_result"
    }
   ],
   "source": [
    "genome = genome[genome[\"relevance\"] > 0.05]\n",
    "genome"
   ]
  },
  {
   "cell_type": "markdown",
   "metadata": {
    "id": "FLQ0w0V1_iO-"
   },
   "source": [
    "### Dropping relevance and making the tags and thier names as a list"
   ]
  },
  {
   "cell_type": "code",
   "execution_count": 33,
   "metadata": {
    "colab": {
     "base_uri": "https://localhost:8080/",
     "height": 0
    },
    "id": "f6kVWjt0_mzE",
    "outputId": "e66ca4a1-f844-4ce2-b5d3-a1d101904267"
   },
   "outputs": [
    {
     "data": {
      "text/html": [
       "<div>\n",
       "<style scoped>\n",
       "    .dataframe tbody tr th:only-of-type {\n",
       "        vertical-align: middle;\n",
       "    }\n",
       "\n",
       "    .dataframe tbody tr th {\n",
       "        vertical-align: top;\n",
       "    }\n",
       "\n",
       "    .dataframe thead th {\n",
       "        text-align: right;\n",
       "    }\n",
       "</style>\n",
       "<table border=\"1\" class=\"dataframe\">\n",
       "  <thead>\n",
       "    <tr style=\"text-align: right;\">\n",
       "      <th></th>\n",
       "      <th>movieId</th>\n",
       "      <th>tag</th>\n",
       "    </tr>\n",
       "  </thead>\n",
       "  <tbody>\n",
       "    <tr>\n",
       "      <th>0</th>\n",
       "      <td>72178</td>\n",
       "      <td>[007, 007 (series), 18th century, 1920s, 1930s...</td>\n",
       "    </tr>\n",
       "    <tr>\n",
       "      <th>1</th>\n",
       "      <td>219003</td>\n",
       "      <td>[007, 007 (series), 18th century, 1920s, 1930s...</td>\n",
       "    </tr>\n",
       "    <tr>\n",
       "      <th>2</th>\n",
       "      <td>207670</td>\n",
       "      <td>[007, 007 (series), 18th century, 1920s, 1930s...</td>\n",
       "    </tr>\n",
       "    <tr>\n",
       "      <th>3</th>\n",
       "      <td>125545</td>\n",
       "      <td>[007, 007 (series), 18th century, 1920s, 1930s...</td>\n",
       "    </tr>\n",
       "    <tr>\n",
       "      <th>4</th>\n",
       "      <td>38046</td>\n",
       "      <td>[007, 007 (series), 18th century, 1920s, 1930s...</td>\n",
       "    </tr>\n",
       "    <tr>\n",
       "      <th>...</th>\n",
       "      <td>...</td>\n",
       "      <td>...</td>\n",
       "    </tr>\n",
       "    <tr>\n",
       "      <th>16371</th>\n",
       "      <td>106624</td>\n",
       "      <td>[absurd, action, adaptation, adapted from:book...</td>\n",
       "    </tr>\n",
       "    <tr>\n",
       "      <th>16372</th>\n",
       "      <td>33021</td>\n",
       "      <td>[absurd, action packed, adaptation, adapted fr...</td>\n",
       "    </tr>\n",
       "    <tr>\n",
       "      <th>16373</th>\n",
       "      <td>141950</td>\n",
       "      <td>[absurd, adaptation, adapted from:book, adapte...</td>\n",
       "    </tr>\n",
       "    <tr>\n",
       "      <th>16374</th>\n",
       "      <td>45100</td>\n",
       "      <td>[absurd, adaptation, adapted from:book, adapte...</td>\n",
       "    </tr>\n",
       "    <tr>\n",
       "      <th>16375</th>\n",
       "      <td>5484</td>\n",
       "      <td>[absurd, adaptation, adapted from:book, adapte...</td>\n",
       "    </tr>\n",
       "  </tbody>\n",
       "</table>\n",
       "<p>16376 rows × 2 columns</p>\n",
       "</div>"
      ],
      "text/plain": [
       "       movieId                                                tag\n",
       "0        72178  [007, 007 (series), 18th century, 1920s, 1930s...\n",
       "1       219003  [007, 007 (series), 18th century, 1920s, 1930s...\n",
       "2       207670  [007, 007 (series), 18th century, 1920s, 1930s...\n",
       "3       125545  [007, 007 (series), 18th century, 1920s, 1930s...\n",
       "4        38046  [007, 007 (series), 18th century, 1920s, 1930s...\n",
       "...        ...                                                ...\n",
       "16371   106624  [absurd, action, adaptation, adapted from:book...\n",
       "16372    33021  [absurd, action packed, adaptation, adapted fr...\n",
       "16373   141950  [absurd, adaptation, adapted from:book, adapte...\n",
       "16374    45100  [absurd, adaptation, adapted from:book, adapte...\n",
       "16375     5484  [absurd, adaptation, adapted from:book, adapte...\n",
       "\n",
       "[16376 rows x 2 columns]"
      ]
     },
     "execution_count": 33,
     "metadata": {},
     "output_type": "execute_result"
    }
   ],
   "source": [
    "tag_list = genome.groupby(\"movieId\")[\"tag\"].apply(list).sort_values().reset_index()\n",
    "tag_list"
   ]
  },
  {
   "cell_type": "markdown",
   "metadata": {
    "id": "c4cjoGugFQuR"
   },
   "source": [
    "# For second dataset"
   ]
  },
  {
   "cell_type": "markdown",
   "metadata": {
    "id": "OI5FypRZ4nf-"
   },
   "source": [
    "## Keywords"
   ]
  },
  {
   "cell_type": "code",
   "execution_count": 34,
   "metadata": {
    "colab": {
     "base_uri": "https://localhost:8080/",
     "height": 0
    },
    "id": "tgApKMBi4poU",
    "outputId": "807fb354-4ae6-4276-a044-8715baf8bde0"
   },
   "outputs": [
    {
     "data": {
      "text/html": [
       "<div>\n",
       "<style scoped>\n",
       "    .dataframe tbody tr th:only-of-type {\n",
       "        vertical-align: middle;\n",
       "    }\n",
       "\n",
       "    .dataframe tbody tr th {\n",
       "        vertical-align: top;\n",
       "    }\n",
       "\n",
       "    .dataframe thead th {\n",
       "        text-align: right;\n",
       "    }\n",
       "</style>\n",
       "<table border=\"1\" class=\"dataframe\">\n",
       "  <thead>\n",
       "    <tr style=\"text-align: right;\">\n",
       "      <th></th>\n",
       "      <th>id</th>\n",
       "      <th>keywords</th>\n",
       "    </tr>\n",
       "  </thead>\n",
       "  <tbody>\n",
       "    <tr>\n",
       "      <th>0</th>\n",
       "      <td>862</td>\n",
       "      <td>[{'id': 931, 'name': 'jealousy'}, {'id': 4290,...</td>\n",
       "    </tr>\n",
       "    <tr>\n",
       "      <th>1</th>\n",
       "      <td>8844</td>\n",
       "      <td>[{'id': 10090, 'name': 'board game'}, {'id': 1...</td>\n",
       "    </tr>\n",
       "    <tr>\n",
       "      <th>2</th>\n",
       "      <td>15602</td>\n",
       "      <td>[{'id': 1495, 'name': 'fishing'}, {'id': 12392...</td>\n",
       "    </tr>\n",
       "    <tr>\n",
       "      <th>3</th>\n",
       "      <td>31357</td>\n",
       "      <td>[{'id': 818, 'name': 'based on novel'}, {'id':...</td>\n",
       "    </tr>\n",
       "    <tr>\n",
       "      <th>4</th>\n",
       "      <td>11862</td>\n",
       "      <td>[{'id': 1009, 'name': 'baby'}, {'id': 1599, 'n...</td>\n",
       "    </tr>\n",
       "  </tbody>\n",
       "</table>\n",
       "</div>"
      ],
      "text/plain": [
       "      id                                           keywords\n",
       "0    862  [{'id': 931, 'name': 'jealousy'}, {'id': 4290,...\n",
       "1   8844  [{'id': 10090, 'name': 'board game'}, {'id': 1...\n",
       "2  15602  [{'id': 1495, 'name': 'fishing'}, {'id': 12392...\n",
       "3  31357  [{'id': 818, 'name': 'based on novel'}, {'id':...\n",
       "4  11862  [{'id': 1009, 'name': 'baby'}, {'id': 1599, 'n..."
      ]
     },
     "execution_count": 34,
     "metadata": {},
     "output_type": "execute_result"
    }
   ],
   "source": [
    "keywords_other.head()"
   ]
  },
  {
   "cell_type": "code",
   "execution_count": 35,
   "metadata": {
    "colab": {
     "base_uri": "https://localhost:8080/"
    },
    "id": "W_u3HeMZ4rhy",
    "outputId": "b989ce7c-7e38-4418-a0ab-a2bb21f9635f"
   },
   "outputs": [
    {
     "name": "stdout",
     "output_type": "stream",
     "text": [
      "<class 'pandas.core.frame.DataFrame'>\n",
      "RangeIndex: 46419 entries, 0 to 46418\n",
      "Data columns (total 2 columns):\n",
      " #   Column    Non-Null Count  Dtype \n",
      "---  ------    --------------  ----- \n",
      " 0   id        46419 non-null  int64 \n",
      " 1   keywords  46419 non-null  object\n",
      "dtypes: int64(1), object(1)\n",
      "memory usage: 725.4+ KB\n"
     ]
    }
   ],
   "source": [
    "keywords_other.info()"
   ]
  },
  {
   "cell_type": "markdown",
   "metadata": {
    "id": "grHTSNiLnmSg"
   },
   "source": [
    "### Rename id to movieID and convert to integer"
   ]
  },
  {
   "cell_type": "code",
   "execution_count": 36,
   "metadata": {
    "id": "7Le7rqCSnoV_"
   },
   "outputs": [],
   "source": [
    "keywords_other.rename(columns = {\"id\": \"movieId\"}, inplace = True)"
   ]
  },
  {
   "cell_type": "code",
   "execution_count": 37,
   "metadata": {
    "id": "7mD6uW4Mohun"
   },
   "outputs": [],
   "source": [
    "keywords_other[\"movieId\"] = keywords_other[\"movieId\"].astype(\"Int64\")"
   ]
  },
  {
   "cell_type": "markdown",
   "metadata": {
    "id": "RdQI9iQdiJxV"
   },
   "source": [
    "### Dropping null and duplicated values"
   ]
  },
  {
   "cell_type": "code",
   "execution_count": 38,
   "metadata": {
    "id": "NVhNILvbENid"
   },
   "outputs": [],
   "source": [
    "keywords_other.dropna(subset = [\"movieId\"], inplace = True)"
   ]
  },
  {
   "cell_type": "code",
   "execution_count": 39,
   "metadata": {
    "id": "4IcH90qJh_3A"
   },
   "outputs": [],
   "source": [
    "keywords_other.drop_duplicates(subset = [\"movieId\"], inplace = True)"
   ]
  },
  {
   "cell_type": "code",
   "execution_count": 40,
   "metadata": {
    "colab": {
     "base_uri": "https://localhost:8080/"
    },
    "id": "ybKhY6qwiC2z",
    "outputId": "998a88c3-0497-48f3-d2b2-d162439ec702"
   },
   "outputs": [
    {
     "name": "stdout",
     "output_type": "stream",
     "text": [
      "<class 'pandas.core.frame.DataFrame'>\n",
      "Index: 45432 entries, 0 to 46418\n",
      "Data columns (total 2 columns):\n",
      " #   Column    Non-Null Count  Dtype \n",
      "---  ------    --------------  ----- \n",
      " 0   movieId   45432 non-null  Int64 \n",
      " 1   keywords  45432 non-null  object\n",
      "dtypes: Int64(1), object(1)\n",
      "memory usage: 1.1+ MB\n"
     ]
    }
   ],
   "source": [
    "keywords_other.info()"
   ]
  },
  {
   "cell_type": "markdown",
   "metadata": {
    "id": "bVgmTz0iiMwP"
   },
   "source": [
    "### Converting keywords into a list"
   ]
  },
  {
   "cell_type": "code",
   "execution_count": 41,
   "metadata": {
    "colab": {
     "base_uri": "https://localhost:8080/",
     "height": 0
    },
    "id": "FhFhLQQ1iS3k",
    "outputId": "c2255382-9e2e-4e67-d891-39665487c520"
   },
   "outputs": [
    {
     "data": {
      "text/html": [
       "<div>\n",
       "<style scoped>\n",
       "    .dataframe tbody tr th:only-of-type {\n",
       "        vertical-align: middle;\n",
       "    }\n",
       "\n",
       "    .dataframe tbody tr th {\n",
       "        vertical-align: top;\n",
       "    }\n",
       "\n",
       "    .dataframe thead th {\n",
       "        text-align: right;\n",
       "    }\n",
       "</style>\n",
       "<table border=\"1\" class=\"dataframe\">\n",
       "  <thead>\n",
       "    <tr style=\"text-align: right;\">\n",
       "      <th></th>\n",
       "      <th>movieId</th>\n",
       "      <th>keywords</th>\n",
       "    </tr>\n",
       "  </thead>\n",
       "  <tbody>\n",
       "    <tr>\n",
       "      <th>0</th>\n",
       "      <td>862</td>\n",
       "      <td>[jealousy, toy, boy, friendship, friends, riva...</td>\n",
       "    </tr>\n",
       "    <tr>\n",
       "      <th>1</th>\n",
       "      <td>8844</td>\n",
       "      <td>[board game, disappearance, based on children'...</td>\n",
       "    </tr>\n",
       "    <tr>\n",
       "      <th>2</th>\n",
       "      <td>15602</td>\n",
       "      <td>[fishing, best friend, duringcreditsstinger, o...</td>\n",
       "    </tr>\n",
       "    <tr>\n",
       "      <th>3</th>\n",
       "      <td>31357</td>\n",
       "      <td>[based on novel, interracial relationship, sin...</td>\n",
       "    </tr>\n",
       "    <tr>\n",
       "      <th>4</th>\n",
       "      <td>11862</td>\n",
       "      <td>[baby, midlife crisis, confidence, aging, daug...</td>\n",
       "    </tr>\n",
       "  </tbody>\n",
       "</table>\n",
       "</div>"
      ],
      "text/plain": [
       "   movieId                                           keywords\n",
       "0      862  [jealousy, toy, boy, friendship, friends, riva...\n",
       "1     8844  [board game, disappearance, based on children'...\n",
       "2    15602  [fishing, best friend, duringcreditsstinger, o...\n",
       "3    31357  [based on novel, interracial relationship, sin...\n",
       "4    11862  [baby, midlife crisis, confidence, aging, daug..."
      ]
     },
     "execution_count": 41,
     "metadata": {},
     "output_type": "execute_result"
    }
   ],
   "source": [
    "def convert_keywords(input):\n",
    "  input = eval(input)\n",
    "  keywords = []\n",
    "  for i in input:\n",
    "    keywords.append(i['name'])\n",
    "  return keywords\n",
    "\n",
    "keywords_other[\"keywords\"]= keywords_other['keywords'].apply(convert_keywords)\n",
    "keywords_other.head()"
   ]
  },
  {
   "cell_type": "markdown",
   "metadata": {
    "id": "8D1-n-kmi7Iw"
   },
   "source": [
    "## Credits"
   ]
  },
  {
   "cell_type": "code",
   "execution_count": 42,
   "metadata": {
    "colab": {
     "base_uri": "https://localhost:8080/",
     "height": 0
    },
    "id": "5qPhiCMXi7Ix",
    "outputId": "03d8216f-297a-41f4-e0da-a22626094ca1"
   },
   "outputs": [
    {
     "data": {
      "text/html": [
       "<div>\n",
       "<style scoped>\n",
       "    .dataframe tbody tr th:only-of-type {\n",
       "        vertical-align: middle;\n",
       "    }\n",
       "\n",
       "    .dataframe tbody tr th {\n",
       "        vertical-align: top;\n",
       "    }\n",
       "\n",
       "    .dataframe thead th {\n",
       "        text-align: right;\n",
       "    }\n",
       "</style>\n",
       "<table border=\"1\" class=\"dataframe\">\n",
       "  <thead>\n",
       "    <tr style=\"text-align: right;\">\n",
       "      <th></th>\n",
       "      <th>cast</th>\n",
       "      <th>crew</th>\n",
       "      <th>id</th>\n",
       "    </tr>\n",
       "  </thead>\n",
       "  <tbody>\n",
       "    <tr>\n",
       "      <th>0</th>\n",
       "      <td>[{'cast_id': 14, 'character': 'Woody (voice)',...</td>\n",
       "      <td>[{'credit_id': '52fe4284c3a36847f8024f49', 'de...</td>\n",
       "      <td>862</td>\n",
       "    </tr>\n",
       "    <tr>\n",
       "      <th>1</th>\n",
       "      <td>[{'cast_id': 1, 'character': 'Alan Parrish', '...</td>\n",
       "      <td>[{'credit_id': '52fe44bfc3a36847f80a7cd1', 'de...</td>\n",
       "      <td>8844</td>\n",
       "    </tr>\n",
       "    <tr>\n",
       "      <th>2</th>\n",
       "      <td>[{'cast_id': 2, 'character': 'Max Goldman', 'c...</td>\n",
       "      <td>[{'credit_id': '52fe466a9251416c75077a89', 'de...</td>\n",
       "      <td>15602</td>\n",
       "    </tr>\n",
       "    <tr>\n",
       "      <th>3</th>\n",
       "      <td>[{'cast_id': 1, 'character': \"Savannah 'Vannah...</td>\n",
       "      <td>[{'credit_id': '52fe44779251416c91011acb', 'de...</td>\n",
       "      <td>31357</td>\n",
       "    </tr>\n",
       "    <tr>\n",
       "      <th>4</th>\n",
       "      <td>[{'cast_id': 1, 'character': 'George Banks', '...</td>\n",
       "      <td>[{'credit_id': '52fe44959251416c75039ed7', 'de...</td>\n",
       "      <td>11862</td>\n",
       "    </tr>\n",
       "  </tbody>\n",
       "</table>\n",
       "</div>"
      ],
      "text/plain": [
       "                                                cast  \\\n",
       "0  [{'cast_id': 14, 'character': 'Woody (voice)',...   \n",
       "1  [{'cast_id': 1, 'character': 'Alan Parrish', '...   \n",
       "2  [{'cast_id': 2, 'character': 'Max Goldman', 'c...   \n",
       "3  [{'cast_id': 1, 'character': \"Savannah 'Vannah...   \n",
       "4  [{'cast_id': 1, 'character': 'George Banks', '...   \n",
       "\n",
       "                                                crew     id  \n",
       "0  [{'credit_id': '52fe4284c3a36847f8024f49', 'de...    862  \n",
       "1  [{'credit_id': '52fe44bfc3a36847f80a7cd1', 'de...   8844  \n",
       "2  [{'credit_id': '52fe466a9251416c75077a89', 'de...  15602  \n",
       "3  [{'credit_id': '52fe44779251416c91011acb', 'de...  31357  \n",
       "4  [{'credit_id': '52fe44959251416c75039ed7', 'de...  11862  "
      ]
     },
     "execution_count": 42,
     "metadata": {},
     "output_type": "execute_result"
    }
   ],
   "source": [
    "credits_other.head()"
   ]
  },
  {
   "cell_type": "code",
   "execution_count": 43,
   "metadata": {
    "colab": {
     "base_uri": "https://localhost:8080/"
    },
    "id": "yBTklt4Ji7Ix",
    "outputId": "0a8d75be-6a41-489b-9210-1eaff370126a"
   },
   "outputs": [
    {
     "name": "stdout",
     "output_type": "stream",
     "text": [
      "<class 'pandas.core.frame.DataFrame'>\n",
      "RangeIndex: 45476 entries, 0 to 45475\n",
      "Data columns (total 3 columns):\n",
      " #   Column  Non-Null Count  Dtype \n",
      "---  ------  --------------  ----- \n",
      " 0   cast    45476 non-null  object\n",
      " 1   crew    45476 non-null  object\n",
      " 2   id      45476 non-null  int64 \n",
      "dtypes: int64(1), object(2)\n",
      "memory usage: 1.0+ MB\n"
     ]
    }
   ],
   "source": [
    "credits_other.info()"
   ]
  },
  {
   "cell_type": "markdown",
   "metadata": {
    "id": "7bMDPluJoCvx"
   },
   "source": [
    "### Rename id to movieId and convert it to int64"
   ]
  },
  {
   "cell_type": "code",
   "execution_count": 44,
   "metadata": {
    "id": "dRm22BxNoFe9"
   },
   "outputs": [],
   "source": [
    "credits_other.rename(columns = {\"id\" : \"movieId\"}, inplace = True)"
   ]
  },
  {
   "cell_type": "code",
   "execution_count": 45,
   "metadata": {
    "id": "apu88QuyoZds"
   },
   "outputs": [],
   "source": [
    "credits_other[\"movieId\"] = credits_other[\"movieId\"].astype(\"int64\")"
   ]
  },
  {
   "cell_type": "markdown",
   "metadata": {
    "id": "qJRXhoari7Iy"
   },
   "source": [
    "### extracting top 5 actors in the cast"
   ]
  },
  {
   "cell_type": "code",
   "execution_count": 46,
   "metadata": {
    "colab": {
     "base_uri": "https://localhost:8080/",
     "height": 0
    },
    "id": "N2M_BNyWi7Iy",
    "outputId": "fa777fda-e74a-44be-cac9-70832deeeb1d"
   },
   "outputs": [
    {
     "data": {
      "text/html": [
       "<div>\n",
       "<style scoped>\n",
       "    .dataframe tbody tr th:only-of-type {\n",
       "        vertical-align: middle;\n",
       "    }\n",
       "\n",
       "    .dataframe tbody tr th {\n",
       "        vertical-align: top;\n",
       "    }\n",
       "\n",
       "    .dataframe thead th {\n",
       "        text-align: right;\n",
       "    }\n",
       "</style>\n",
       "<table border=\"1\" class=\"dataframe\">\n",
       "  <thead>\n",
       "    <tr style=\"text-align: right;\">\n",
       "      <th></th>\n",
       "      <th>cast</th>\n",
       "      <th>crew</th>\n",
       "      <th>movieId</th>\n",
       "    </tr>\n",
       "  </thead>\n",
       "  <tbody>\n",
       "    <tr>\n",
       "      <th>0</th>\n",
       "      <td>[Tom Hanks, Tim Allen, Don Rickles, Jim Varney...</td>\n",
       "      <td>[{'credit_id': '52fe4284c3a36847f8024f49', 'de...</td>\n",
       "      <td>862</td>\n",
       "    </tr>\n",
       "    <tr>\n",
       "      <th>1</th>\n",
       "      <td>[Robin Williams, Jonathan Hyde, Kirsten Dunst,...</td>\n",
       "      <td>[{'credit_id': '52fe44bfc3a36847f80a7cd1', 'de...</td>\n",
       "      <td>8844</td>\n",
       "    </tr>\n",
       "    <tr>\n",
       "      <th>2</th>\n",
       "      <td>[Walter Matthau, Jack Lemmon, Ann-Margret, Sop...</td>\n",
       "      <td>[{'credit_id': '52fe466a9251416c75077a89', 'de...</td>\n",
       "      <td>15602</td>\n",
       "    </tr>\n",
       "    <tr>\n",
       "      <th>3</th>\n",
       "      <td>[Whitney Houston, Angela Bassett, Loretta Devi...</td>\n",
       "      <td>[{'credit_id': '52fe44779251416c91011acb', 'de...</td>\n",
       "      <td>31357</td>\n",
       "    </tr>\n",
       "    <tr>\n",
       "      <th>4</th>\n",
       "      <td>[Steve Martin, Diane Keaton, Martin Short, Kim...</td>\n",
       "      <td>[{'credit_id': '52fe44959251416c75039ed7', 'de...</td>\n",
       "      <td>11862</td>\n",
       "    </tr>\n",
       "  </tbody>\n",
       "</table>\n",
       "</div>"
      ],
      "text/plain": [
       "                                                cast  \\\n",
       "0  [Tom Hanks, Tim Allen, Don Rickles, Jim Varney...   \n",
       "1  [Robin Williams, Jonathan Hyde, Kirsten Dunst,...   \n",
       "2  [Walter Matthau, Jack Lemmon, Ann-Margret, Sop...   \n",
       "3  [Whitney Houston, Angela Bassett, Loretta Devi...   \n",
       "4  [Steve Martin, Diane Keaton, Martin Short, Kim...   \n",
       "\n",
       "                                                crew  movieId  \n",
       "0  [{'credit_id': '52fe4284c3a36847f8024f49', 'de...      862  \n",
       "1  [{'credit_id': '52fe44bfc3a36847f80a7cd1', 'de...     8844  \n",
       "2  [{'credit_id': '52fe466a9251416c75077a89', 'de...    15602  \n",
       "3  [{'credit_id': '52fe44779251416c91011acb', 'de...    31357  \n",
       "4  [{'credit_id': '52fe44959251416c75039ed7', 'de...    11862  "
      ]
     },
     "execution_count": 46,
     "metadata": {},
     "output_type": "execute_result"
    }
   ],
   "source": [
    "def get_cast(input):\n",
    "  input = eval(input)\n",
    "  cast = []\n",
    "  for i in input:\n",
    "    cast.append(i['name'])\n",
    "  return cast[:5]\n",
    "\n",
    "credits_other[\"cast\"] =  credits_other['cast'].apply(get_cast)\n",
    "credits_other.head()"
   ]
  },
  {
   "cell_type": "markdown",
   "metadata": {
    "id": "GrBpYDGokHxo"
   },
   "source": [
    "### Extracting director from the crew"
   ]
  },
  {
   "cell_type": "code",
   "execution_count": 47,
   "metadata": {
    "colab": {
     "base_uri": "https://localhost:8080/",
     "height": 0
    },
    "id": "LBP4jEMqkND3",
    "outputId": "3933896f-de83-404a-c2e3-5f39fd0272f0"
   },
   "outputs": [
    {
     "data": {
      "text/html": [
       "<div>\n",
       "<style scoped>\n",
       "    .dataframe tbody tr th:only-of-type {\n",
       "        vertical-align: middle;\n",
       "    }\n",
       "\n",
       "    .dataframe tbody tr th {\n",
       "        vertical-align: top;\n",
       "    }\n",
       "\n",
       "    .dataframe thead th {\n",
       "        text-align: right;\n",
       "    }\n",
       "</style>\n",
       "<table border=\"1\" class=\"dataframe\">\n",
       "  <thead>\n",
       "    <tr style=\"text-align: right;\">\n",
       "      <th></th>\n",
       "      <th>cast</th>\n",
       "      <th>crew</th>\n",
       "      <th>movieId</th>\n",
       "      <th>director</th>\n",
       "    </tr>\n",
       "  </thead>\n",
       "  <tbody>\n",
       "    <tr>\n",
       "      <th>0</th>\n",
       "      <td>[Tom Hanks, Tim Allen, Don Rickles, Jim Varney...</td>\n",
       "      <td>[{'credit_id': '52fe4284c3a36847f8024f49', 'de...</td>\n",
       "      <td>862</td>\n",
       "      <td>John Lasseter</td>\n",
       "    </tr>\n",
       "    <tr>\n",
       "      <th>1</th>\n",
       "      <td>[Robin Williams, Jonathan Hyde, Kirsten Dunst,...</td>\n",
       "      <td>[{'credit_id': '52fe44bfc3a36847f80a7cd1', 'de...</td>\n",
       "      <td>8844</td>\n",
       "      <td>Joe Johnston</td>\n",
       "    </tr>\n",
       "    <tr>\n",
       "      <th>2</th>\n",
       "      <td>[Walter Matthau, Jack Lemmon, Ann-Margret, Sop...</td>\n",
       "      <td>[{'credit_id': '52fe466a9251416c75077a89', 'de...</td>\n",
       "      <td>15602</td>\n",
       "      <td>Howard Deutch</td>\n",
       "    </tr>\n",
       "    <tr>\n",
       "      <th>3</th>\n",
       "      <td>[Whitney Houston, Angela Bassett, Loretta Devi...</td>\n",
       "      <td>[{'credit_id': '52fe44779251416c91011acb', 'de...</td>\n",
       "      <td>31357</td>\n",
       "      <td>Forest Whitaker</td>\n",
       "    </tr>\n",
       "    <tr>\n",
       "      <th>4</th>\n",
       "      <td>[Steve Martin, Diane Keaton, Martin Short, Kim...</td>\n",
       "      <td>[{'credit_id': '52fe44959251416c75039ed7', 'de...</td>\n",
       "      <td>11862</td>\n",
       "      <td>Charles Shyer</td>\n",
       "    </tr>\n",
       "  </tbody>\n",
       "</table>\n",
       "</div>"
      ],
      "text/plain": [
       "                                                cast  \\\n",
       "0  [Tom Hanks, Tim Allen, Don Rickles, Jim Varney...   \n",
       "1  [Robin Williams, Jonathan Hyde, Kirsten Dunst,...   \n",
       "2  [Walter Matthau, Jack Lemmon, Ann-Margret, Sop...   \n",
       "3  [Whitney Houston, Angela Bassett, Loretta Devi...   \n",
       "4  [Steve Martin, Diane Keaton, Martin Short, Kim...   \n",
       "\n",
       "                                                crew  movieId         director  \n",
       "0  [{'credit_id': '52fe4284c3a36847f8024f49', 'de...      862    John Lasseter  \n",
       "1  [{'credit_id': '52fe44bfc3a36847f80a7cd1', 'de...     8844     Joe Johnston  \n",
       "2  [{'credit_id': '52fe466a9251416c75077a89', 'de...    15602    Howard Deutch  \n",
       "3  [{'credit_id': '52fe44779251416c91011acb', 'de...    31357  Forest Whitaker  \n",
       "4  [{'credit_id': '52fe44959251416c75039ed7', 'de...    11862    Charles Shyer  "
      ]
     },
     "execution_count": 47,
     "metadata": {},
     "output_type": "execute_result"
    }
   ],
   "source": [
    "def get_director(input):\n",
    "  input = eval(input)\n",
    "  for i in input:\n",
    "    if(i['job'] == 'Director'):\n",
    "      return i['name']\n",
    "  return np.nan\n",
    "\n",
    "credits_other[\"director\"] =  credits_other['crew'].apply(get_director)\n",
    "credits_other.head()"
   ]
  },
  {
   "cell_type": "code",
   "execution_count": 48,
   "metadata": {
    "colab": {
     "base_uri": "https://localhost:8080/"
    },
    "id": "MF77RaNmlZHW",
    "outputId": "5a90d493-9bcf-440c-b535-ecda72f5daa8"
   },
   "outputs": [
    {
     "name": "stdout",
     "output_type": "stream",
     "text": [
      "<class 'pandas.core.frame.DataFrame'>\n",
      "RangeIndex: 45476 entries, 0 to 45475\n",
      "Data columns (total 4 columns):\n",
      " #   Column    Non-Null Count  Dtype \n",
      "---  ------    --------------  ----- \n",
      " 0   cast      45476 non-null  object\n",
      " 1   crew      45476 non-null  object\n",
      " 2   movieId   45476 non-null  int64 \n",
      " 3   director  44589 non-null  object\n",
      "dtypes: int64(1), object(3)\n",
      "memory usage: 1.4+ MB\n"
     ]
    }
   ],
   "source": [
    "credits_other.info()"
   ]
  },
  {
   "cell_type": "markdown",
   "metadata": {
    "id": "37-9JAUEJk2c"
   },
   "source": [
    "### Dropping irrelevant columns"
   ]
  },
  {
   "cell_type": "code",
   "execution_count": 49,
   "metadata": {
    "colab": {
     "base_uri": "https://localhost:8080/"
    },
    "id": "DnNT4MYvJnaM",
    "outputId": "7a0dfac9-dc8e-4dd4-8bbe-e727a56ead51"
   },
   "outputs": [
    {
     "name": "stdout",
     "output_type": "stream",
     "text": [
      "<class 'pandas.core.frame.DataFrame'>\n",
      "RangeIndex: 45476 entries, 0 to 45475\n",
      "Data columns (total 3 columns):\n",
      " #   Column    Non-Null Count  Dtype \n",
      "---  ------    --------------  ----- \n",
      " 0   cast      45476 non-null  object\n",
      " 1   movieId   45476 non-null  int64 \n",
      " 2   director  44589 non-null  object\n",
      "dtypes: int64(1), object(2)\n",
      "memory usage: 1.0+ MB\n"
     ]
    }
   ],
   "source": [
    "credits_other.drop(columns = [\"crew\"], inplace = True)\n",
    "credits_other.info()"
   ]
  },
  {
   "cell_type": "markdown",
   "metadata": {
    "id": "jeUNxnZci7Ix"
   },
   "source": [
    "### Dropping null and duplicated values"
   ]
  },
  {
   "cell_type": "code",
   "execution_count": 50,
   "metadata": {
    "id": "2QCIw2jLi7Iy"
   },
   "outputs": [],
   "source": [
    "credits_other.drop_duplicates(subset = [\"movieId\"], inplace = True)"
   ]
  },
  {
   "cell_type": "code",
   "execution_count": 51,
   "metadata": {
    "id": "siv1dE_SmMwM"
   },
   "outputs": [],
   "source": [
    "credits_other.dropna(subset = [\"movieId\"], inplace = True)"
   ]
  },
  {
   "cell_type": "code",
   "execution_count": 52,
   "metadata": {
    "colab": {
     "base_uri": "https://localhost:8080/"
    },
    "id": "iHuIzxOti7Iy",
    "outputId": "dcd8c720-fa92-4679-8379-c29cf80b05ae"
   },
   "outputs": [
    {
     "name": "stdout",
     "output_type": "stream",
     "text": [
      "<class 'pandas.core.frame.DataFrame'>\n",
      "Index: 45432 entries, 0 to 45475\n",
      "Data columns (total 3 columns):\n",
      " #   Column    Non-Null Count  Dtype \n",
      "---  ------    --------------  ----- \n",
      " 0   cast      45432 non-null  object\n",
      " 1   movieId   45432 non-null  int64 \n",
      " 2   director  44545 non-null  object\n",
      "dtypes: int64(1), object(2)\n",
      "memory usage: 1.4+ MB\n"
     ]
    }
   ],
   "source": [
    "credits_other.info()"
   ]
  },
  {
   "cell_type": "markdown",
   "metadata": {
    "id": "jRPx5eQ6FyDK"
   },
   "source": [
    "## Movies"
   ]
  },
  {
   "cell_type": "code",
   "execution_count": 53,
   "metadata": {
    "colab": {
     "base_uri": "https://localhost:8080/",
     "height": 0
    },
    "id": "ZeDmqMMmGD_y",
    "outputId": "bbcf0d64-ed96-4c60-c087-d9b55033b161"
   },
   "outputs": [
    {
     "data": {
      "text/html": [
       "<div>\n",
       "<style scoped>\n",
       "    .dataframe tbody tr th:only-of-type {\n",
       "        vertical-align: middle;\n",
       "    }\n",
       "\n",
       "    .dataframe tbody tr th {\n",
       "        vertical-align: top;\n",
       "    }\n",
       "\n",
       "    .dataframe thead th {\n",
       "        text-align: right;\n",
       "    }\n",
       "</style>\n",
       "<table border=\"1\" class=\"dataframe\">\n",
       "  <thead>\n",
       "    <tr style=\"text-align: right;\">\n",
       "      <th></th>\n",
       "      <th>adult</th>\n",
       "      <th>belongs_to_collection</th>\n",
       "      <th>budget</th>\n",
       "      <th>genres</th>\n",
       "      <th>homepage</th>\n",
       "      <th>id</th>\n",
       "      <th>imdb_id</th>\n",
       "      <th>original_language</th>\n",
       "      <th>original_title</th>\n",
       "      <th>overview</th>\n",
       "      <th>...</th>\n",
       "      <th>release_date</th>\n",
       "      <th>revenue</th>\n",
       "      <th>runtime</th>\n",
       "      <th>spoken_languages</th>\n",
       "      <th>status</th>\n",
       "      <th>tagline</th>\n",
       "      <th>title</th>\n",
       "      <th>video</th>\n",
       "      <th>vote_average</th>\n",
       "      <th>vote_count</th>\n",
       "    </tr>\n",
       "  </thead>\n",
       "  <tbody>\n",
       "    <tr>\n",
       "      <th>0</th>\n",
       "      <td>False</td>\n",
       "      <td>{'id': 10194, 'name': 'Toy Story Collection', ...</td>\n",
       "      <td>30000000</td>\n",
       "      <td>[{'id': 16, 'name': 'Animation'}, {'id': 35, '...</td>\n",
       "      <td>http://toystory.disney.com/toy-story</td>\n",
       "      <td>862</td>\n",
       "      <td>tt0114709</td>\n",
       "      <td>en</td>\n",
       "      <td>Toy Story</td>\n",
       "      <td>Led by Woody, Andy's toys live happily in his ...</td>\n",
       "      <td>...</td>\n",
       "      <td>1995-10-30</td>\n",
       "      <td>373554033.0</td>\n",
       "      <td>81.0</td>\n",
       "      <td>[{'iso_639_1': 'en', 'name': 'English'}]</td>\n",
       "      <td>Released</td>\n",
       "      <td>NaN</td>\n",
       "      <td>Toy Story</td>\n",
       "      <td>False</td>\n",
       "      <td>7.7</td>\n",
       "      <td>5415.0</td>\n",
       "    </tr>\n",
       "    <tr>\n",
       "      <th>1</th>\n",
       "      <td>False</td>\n",
       "      <td>NaN</td>\n",
       "      <td>65000000</td>\n",
       "      <td>[{'id': 12, 'name': 'Adventure'}, {'id': 14, '...</td>\n",
       "      <td>NaN</td>\n",
       "      <td>8844</td>\n",
       "      <td>tt0113497</td>\n",
       "      <td>en</td>\n",
       "      <td>Jumanji</td>\n",
       "      <td>When siblings Judy and Peter discover an encha...</td>\n",
       "      <td>...</td>\n",
       "      <td>1995-12-15</td>\n",
       "      <td>262797249.0</td>\n",
       "      <td>104.0</td>\n",
       "      <td>[{'iso_639_1': 'en', 'name': 'English'}, {'iso...</td>\n",
       "      <td>Released</td>\n",
       "      <td>Roll the dice and unleash the excitement!</td>\n",
       "      <td>Jumanji</td>\n",
       "      <td>False</td>\n",
       "      <td>6.9</td>\n",
       "      <td>2413.0</td>\n",
       "    </tr>\n",
       "    <tr>\n",
       "      <th>2</th>\n",
       "      <td>False</td>\n",
       "      <td>{'id': 119050, 'name': 'Grumpy Old Men Collect...</td>\n",
       "      <td>0</td>\n",
       "      <td>[{'id': 10749, 'name': 'Romance'}, {'id': 35, ...</td>\n",
       "      <td>NaN</td>\n",
       "      <td>15602</td>\n",
       "      <td>tt0113228</td>\n",
       "      <td>en</td>\n",
       "      <td>Grumpier Old Men</td>\n",
       "      <td>A family wedding reignites the ancient feud be...</td>\n",
       "      <td>...</td>\n",
       "      <td>1995-12-22</td>\n",
       "      <td>0.0</td>\n",
       "      <td>101.0</td>\n",
       "      <td>[{'iso_639_1': 'en', 'name': 'English'}]</td>\n",
       "      <td>Released</td>\n",
       "      <td>Still Yelling. Still Fighting. Still Ready for...</td>\n",
       "      <td>Grumpier Old Men</td>\n",
       "      <td>False</td>\n",
       "      <td>6.5</td>\n",
       "      <td>92.0</td>\n",
       "    </tr>\n",
       "    <tr>\n",
       "      <th>3</th>\n",
       "      <td>False</td>\n",
       "      <td>NaN</td>\n",
       "      <td>16000000</td>\n",
       "      <td>[{'id': 35, 'name': 'Comedy'}, {'id': 18, 'nam...</td>\n",
       "      <td>NaN</td>\n",
       "      <td>31357</td>\n",
       "      <td>tt0114885</td>\n",
       "      <td>en</td>\n",
       "      <td>Waiting to Exhale</td>\n",
       "      <td>Cheated on, mistreated and stepped on, the wom...</td>\n",
       "      <td>...</td>\n",
       "      <td>1995-12-22</td>\n",
       "      <td>81452156.0</td>\n",
       "      <td>127.0</td>\n",
       "      <td>[{'iso_639_1': 'en', 'name': 'English'}]</td>\n",
       "      <td>Released</td>\n",
       "      <td>Friends are the people who let you be yourself...</td>\n",
       "      <td>Waiting to Exhale</td>\n",
       "      <td>False</td>\n",
       "      <td>6.1</td>\n",
       "      <td>34.0</td>\n",
       "    </tr>\n",
       "    <tr>\n",
       "      <th>4</th>\n",
       "      <td>False</td>\n",
       "      <td>{'id': 96871, 'name': 'Father of the Bride Col...</td>\n",
       "      <td>0</td>\n",
       "      <td>[{'id': 35, 'name': 'Comedy'}]</td>\n",
       "      <td>NaN</td>\n",
       "      <td>11862</td>\n",
       "      <td>tt0113041</td>\n",
       "      <td>en</td>\n",
       "      <td>Father of the Bride Part II</td>\n",
       "      <td>Just when George Banks has recovered from his ...</td>\n",
       "      <td>...</td>\n",
       "      <td>1995-02-10</td>\n",
       "      <td>76578911.0</td>\n",
       "      <td>106.0</td>\n",
       "      <td>[{'iso_639_1': 'en', 'name': 'English'}]</td>\n",
       "      <td>Released</td>\n",
       "      <td>Just When His World Is Back To Normal... He's ...</td>\n",
       "      <td>Father of the Bride Part II</td>\n",
       "      <td>False</td>\n",
       "      <td>5.7</td>\n",
       "      <td>173.0</td>\n",
       "    </tr>\n",
       "  </tbody>\n",
       "</table>\n",
       "<p>5 rows × 24 columns</p>\n",
       "</div>"
      ],
      "text/plain": [
       "   adult                              belongs_to_collection    budget  \\\n",
       "0  False  {'id': 10194, 'name': 'Toy Story Collection', ...  30000000   \n",
       "1  False                                                NaN  65000000   \n",
       "2  False  {'id': 119050, 'name': 'Grumpy Old Men Collect...         0   \n",
       "3  False                                                NaN  16000000   \n",
       "4  False  {'id': 96871, 'name': 'Father of the Bride Col...         0   \n",
       "\n",
       "                                              genres  \\\n",
       "0  [{'id': 16, 'name': 'Animation'}, {'id': 35, '...   \n",
       "1  [{'id': 12, 'name': 'Adventure'}, {'id': 14, '...   \n",
       "2  [{'id': 10749, 'name': 'Romance'}, {'id': 35, ...   \n",
       "3  [{'id': 35, 'name': 'Comedy'}, {'id': 18, 'nam...   \n",
       "4                     [{'id': 35, 'name': 'Comedy'}]   \n",
       "\n",
       "                               homepage     id    imdb_id original_language  \\\n",
       "0  http://toystory.disney.com/toy-story    862  tt0114709                en   \n",
       "1                                   NaN   8844  tt0113497                en   \n",
       "2                                   NaN  15602  tt0113228                en   \n",
       "3                                   NaN  31357  tt0114885                en   \n",
       "4                                   NaN  11862  tt0113041                en   \n",
       "\n",
       "                original_title  \\\n",
       "0                    Toy Story   \n",
       "1                      Jumanji   \n",
       "2             Grumpier Old Men   \n",
       "3            Waiting to Exhale   \n",
       "4  Father of the Bride Part II   \n",
       "\n",
       "                                            overview  ... release_date  \\\n",
       "0  Led by Woody, Andy's toys live happily in his ...  ...   1995-10-30   \n",
       "1  When siblings Judy and Peter discover an encha...  ...   1995-12-15   \n",
       "2  A family wedding reignites the ancient feud be...  ...   1995-12-22   \n",
       "3  Cheated on, mistreated and stepped on, the wom...  ...   1995-12-22   \n",
       "4  Just when George Banks has recovered from his ...  ...   1995-02-10   \n",
       "\n",
       "       revenue runtime                                   spoken_languages  \\\n",
       "0  373554033.0    81.0           [{'iso_639_1': 'en', 'name': 'English'}]   \n",
       "1  262797249.0   104.0  [{'iso_639_1': 'en', 'name': 'English'}, {'iso...   \n",
       "2          0.0   101.0           [{'iso_639_1': 'en', 'name': 'English'}]   \n",
       "3   81452156.0   127.0           [{'iso_639_1': 'en', 'name': 'English'}]   \n",
       "4   76578911.0   106.0           [{'iso_639_1': 'en', 'name': 'English'}]   \n",
       "\n",
       "     status                                            tagline  \\\n",
       "0  Released                                                NaN   \n",
       "1  Released          Roll the dice and unleash the excitement!   \n",
       "2  Released  Still Yelling. Still Fighting. Still Ready for...   \n",
       "3  Released  Friends are the people who let you be yourself...   \n",
       "4  Released  Just When His World Is Back To Normal... He's ...   \n",
       "\n",
       "                         title  video vote_average vote_count  \n",
       "0                    Toy Story  False          7.7     5415.0  \n",
       "1                      Jumanji  False          6.9     2413.0  \n",
       "2             Grumpier Old Men  False          6.5       92.0  \n",
       "3            Waiting to Exhale  False          6.1       34.0  \n",
       "4  Father of the Bride Part II  False          5.7      173.0  \n",
       "\n",
       "[5 rows x 24 columns]"
      ]
     },
     "execution_count": 53,
     "metadata": {},
     "output_type": "execute_result"
    }
   ],
   "source": [
    "movies_other.head(5)"
   ]
  },
  {
   "cell_type": "code",
   "execution_count": 54,
   "metadata": {
    "colab": {
     "base_uri": "https://localhost:8080/"
    },
    "id": "Cm_qAQAcGD_8",
    "outputId": "1cc1e513-4f24-4173-f4b4-dc875986d5bb"
   },
   "outputs": [
    {
     "name": "stdout",
     "output_type": "stream",
     "text": [
      "<class 'pandas.core.frame.DataFrame'>\n",
      "RangeIndex: 45466 entries, 0 to 45465\n",
      "Data columns (total 24 columns):\n",
      " #   Column                 Non-Null Count  Dtype  \n",
      "---  ------                 --------------  -----  \n",
      " 0   adult                  45466 non-null  object \n",
      " 1   belongs_to_collection  4494 non-null   object \n",
      " 2   budget                 45466 non-null  object \n",
      " 3   genres                 45466 non-null  object \n",
      " 4   homepage               7782 non-null   object \n",
      " 5   id                     45466 non-null  object \n",
      " 6   imdb_id                45449 non-null  object \n",
      " 7   original_language      45455 non-null  object \n",
      " 8   original_title         45466 non-null  object \n",
      " 9   overview               44512 non-null  object \n",
      " 10  popularity             45461 non-null  object \n",
      " 11  poster_path            45080 non-null  object \n",
      " 12  production_companies   45463 non-null  object \n",
      " 13  production_countries   45463 non-null  object \n",
      " 14  release_date           45379 non-null  object \n",
      " 15  revenue                45460 non-null  float64\n",
      " 16  runtime                45203 non-null  float64\n",
      " 17  spoken_languages       45460 non-null  object \n",
      " 18  status                 45379 non-null  object \n",
      " 19  tagline                20412 non-null  object \n",
      " 20  title                  45460 non-null  object \n",
      " 21  video                  45460 non-null  object \n",
      " 22  vote_average           45460 non-null  float64\n",
      " 23  vote_count             45460 non-null  float64\n",
      "dtypes: float64(4), object(20)\n",
      "memory usage: 8.3+ MB\n"
     ]
    }
   ],
   "source": [
    "movies_other.info()"
   ]
  },
  {
   "cell_type": "markdown",
   "metadata": {
    "id": "cmRec1hxdhWw"
   },
   "source": [
    "### Drop irrelevant columns"
   ]
  },
  {
   "cell_type": "code",
   "execution_count": 55,
   "metadata": {
    "id": "AX4AQxjcdWjA"
   },
   "outputs": [],
   "source": [
    "movies_other.drop(columns = [\"adult\", \"popularity\", \"revenue\",\"vote_average\", \"vote_count\",\"belongs_to_collection\", \"budget\", \"homepage\", \"original_language\", \"original_title\", \"production_companies\", \"production_countries\", \"release_date\",  \"runtime\", \"spoken_languages\", \"status\", \"video\"], inplace = True)"
   ]
  },
  {
   "cell_type": "code",
   "execution_count": 56,
   "metadata": {
    "colab": {
     "base_uri": "https://localhost:8080/"
    },
    "id": "iloVWljddlEq",
    "outputId": "712f341e-068d-426e-914e-8c017f04a1ef"
   },
   "outputs": [
    {
     "name": "stdout",
     "output_type": "stream",
     "text": [
      "<class 'pandas.core.frame.DataFrame'>\n",
      "RangeIndex: 45466 entries, 0 to 45465\n",
      "Data columns (total 7 columns):\n",
      " #   Column       Non-Null Count  Dtype \n",
      "---  ------       --------------  ----- \n",
      " 0   genres       45466 non-null  object\n",
      " 1   id           45466 non-null  object\n",
      " 2   imdb_id      45449 non-null  object\n",
      " 3   overview     44512 non-null  object\n",
      " 4   poster_path  45080 non-null  object\n",
      " 5   tagline      20412 non-null  object\n",
      " 6   title        45460 non-null  object\n",
      "dtypes: object(7)\n",
      "memory usage: 2.4+ MB\n"
     ]
    }
   ],
   "source": [
    "movies_other.info()"
   ]
  },
  {
   "cell_type": "markdown",
   "metadata": {
    "id": "DZMIR5lj5dJV"
   },
   "source": [
    "### Reformating the columns to be of correct types"
   ]
  },
  {
   "cell_type": "code",
   "execution_count": 57,
   "metadata": {
    "id": "9LmU02765hKY"
   },
   "outputs": [],
   "source": [
    "movies_other['id'] = pd.to_numeric(movies_other['id'], errors='coerce').astype('Int64')\n",
    "movies_other[\"poster_path\"] = movies_other[\"poster_path\"].astype(\"string\")\n",
    "movies_other[\"tagline\"] = movies_other[\"tagline\"].astype(\"string\")\n",
    "movies_other[\"title\"] = movies_other[\"title\"].astype(\"string\")"
   ]
  },
  {
   "cell_type": "code",
   "execution_count": 58,
   "metadata": {
    "colab": {
     "base_uri": "https://localhost:8080/"
    },
    "id": "ablRaKx06Mwe",
    "outputId": "d26edb53-92a3-4428-c4e2-41a4a729492b"
   },
   "outputs": [
    {
     "name": "stdout",
     "output_type": "stream",
     "text": [
      "<class 'pandas.core.frame.DataFrame'>\n",
      "RangeIndex: 45466 entries, 0 to 45465\n",
      "Data columns (total 7 columns):\n",
      " #   Column       Non-Null Count  Dtype \n",
      "---  ------       --------------  ----- \n",
      " 0   genres       45466 non-null  object\n",
      " 1   id           45463 non-null  Int64 \n",
      " 2   imdb_id      45449 non-null  object\n",
      " 3   overview     44512 non-null  object\n",
      " 4   poster_path  45080 non-null  string\n",
      " 5   tagline      20412 non-null  string\n",
      " 6   title        45460 non-null  string\n",
      "dtypes: Int64(1), object(3), string(3)\n",
      "memory usage: 2.5+ MB\n"
     ]
    }
   ],
   "source": [
    "movies_other.info()"
   ]
  },
  {
   "cell_type": "markdown",
   "metadata": {
    "id": "CXOje6d9SGVS"
   },
   "source": [
    "### Combining overview and tagline as description and dropping overview and tagline"
   ]
  },
  {
   "cell_type": "code",
   "execution_count": 59,
   "metadata": {
    "id": "7NZfICxc1oJ1"
   },
   "outputs": [],
   "source": [
    "movies_other[\"overview\"] = movies_other[\"overview\"].fillna(\"\")\n",
    "movies_other[\"tagline\"] = movies_other[\"tagline\"].fillna(\"\")"
   ]
  },
  {
   "cell_type": "code",
   "execution_count": 60,
   "metadata": {
    "id": "2uh3v3pGSGVT"
   },
   "outputs": [],
   "source": [
    "movies_other[\"description\"] = movies_other[\"overview\"] + \" \" + movies_other[\"tagline\"]"
   ]
  },
  {
   "cell_type": "code",
   "execution_count": 61,
   "metadata": {
    "id": "GMeuuJhFMoFn"
   },
   "outputs": [],
   "source": [
    "movies_other.drop(columns = [\"overview\", \"tagline\"], inplace = True)"
   ]
  },
  {
   "cell_type": "markdown",
   "metadata": {
    "id": "Ce6KNbIvS5eq"
   },
   "source": [
    "### splitting genres to make a list"
   ]
  },
  {
   "cell_type": "code",
   "execution_count": 62,
   "metadata": {
    "colab": {
     "base_uri": "https://localhost:8080/",
     "height": 0
    },
    "id": "gj5ntWCDS5er",
    "outputId": "049f92a3-2e8b-47ca-9351-0c710a1b70f6"
   },
   "outputs": [
    {
     "data": {
      "text/html": [
       "<div>\n",
       "<style scoped>\n",
       "    .dataframe tbody tr th:only-of-type {\n",
       "        vertical-align: middle;\n",
       "    }\n",
       "\n",
       "    .dataframe tbody tr th {\n",
       "        vertical-align: top;\n",
       "    }\n",
       "\n",
       "    .dataframe thead th {\n",
       "        text-align: right;\n",
       "    }\n",
       "</style>\n",
       "<table border=\"1\" class=\"dataframe\">\n",
       "  <thead>\n",
       "    <tr style=\"text-align: right;\">\n",
       "      <th></th>\n",
       "      <th>genres</th>\n",
       "      <th>id</th>\n",
       "      <th>imdb_id</th>\n",
       "      <th>poster_path</th>\n",
       "      <th>title</th>\n",
       "      <th>description</th>\n",
       "    </tr>\n",
       "  </thead>\n",
       "  <tbody>\n",
       "    <tr>\n",
       "      <th>0</th>\n",
       "      <td>[Animation, Comedy, Family]</td>\n",
       "      <td>862</td>\n",
       "      <td>tt0114709</td>\n",
       "      <td>/rhIRbceoE9lR4veEXuwCC2wARtG.jpg</td>\n",
       "      <td>Toy Story</td>\n",
       "      <td>Led by Woody, Andy's toys live happily in his ...</td>\n",
       "    </tr>\n",
       "    <tr>\n",
       "      <th>1</th>\n",
       "      <td>[Adventure, Fantasy, Family]</td>\n",
       "      <td>8844</td>\n",
       "      <td>tt0113497</td>\n",
       "      <td>/vzmL6fP7aPKNKPRTFnZmiUfciyV.jpg</td>\n",
       "      <td>Jumanji</td>\n",
       "      <td>When siblings Judy and Peter discover an encha...</td>\n",
       "    </tr>\n",
       "    <tr>\n",
       "      <th>2</th>\n",
       "      <td>[Romance, Comedy]</td>\n",
       "      <td>15602</td>\n",
       "      <td>tt0113228</td>\n",
       "      <td>/6ksm1sjKMFLbO7UY2i6G1ju9SML.jpg</td>\n",
       "      <td>Grumpier Old Men</td>\n",
       "      <td>A family wedding reignites the ancient feud be...</td>\n",
       "    </tr>\n",
       "    <tr>\n",
       "      <th>3</th>\n",
       "      <td>[Comedy, Drama, Romance]</td>\n",
       "      <td>31357</td>\n",
       "      <td>tt0114885</td>\n",
       "      <td>/16XOMpEaLWkrcPqSQqhTmeJuqQl.jpg</td>\n",
       "      <td>Waiting to Exhale</td>\n",
       "      <td>Cheated on, mistreated and stepped on, the wom...</td>\n",
       "    </tr>\n",
       "    <tr>\n",
       "      <th>4</th>\n",
       "      <td>[Comedy]</td>\n",
       "      <td>11862</td>\n",
       "      <td>tt0113041</td>\n",
       "      <td>/e64sOI48hQXyru7naBFyssKFxVd.jpg</td>\n",
       "      <td>Father of the Bride Part II</td>\n",
       "      <td>Just when George Banks has recovered from his ...</td>\n",
       "    </tr>\n",
       "  </tbody>\n",
       "</table>\n",
       "</div>"
      ],
      "text/plain": [
       "                         genres     id    imdb_id  \\\n",
       "0   [Animation, Comedy, Family]    862  tt0114709   \n",
       "1  [Adventure, Fantasy, Family]   8844  tt0113497   \n",
       "2             [Romance, Comedy]  15602  tt0113228   \n",
       "3      [Comedy, Drama, Romance]  31357  tt0114885   \n",
       "4                      [Comedy]  11862  tt0113041   \n",
       "\n",
       "                        poster_path                        title  \\\n",
       "0  /rhIRbceoE9lR4veEXuwCC2wARtG.jpg                    Toy Story   \n",
       "1  /vzmL6fP7aPKNKPRTFnZmiUfciyV.jpg                      Jumanji   \n",
       "2  /6ksm1sjKMFLbO7UY2i6G1ju9SML.jpg             Grumpier Old Men   \n",
       "3  /16XOMpEaLWkrcPqSQqhTmeJuqQl.jpg            Waiting to Exhale   \n",
       "4  /e64sOI48hQXyru7naBFyssKFxVd.jpg  Father of the Bride Part II   \n",
       "\n",
       "                                         description  \n",
       "0  Led by Woody, Andy's toys live happily in his ...  \n",
       "1  When siblings Judy and Peter discover an encha...  \n",
       "2  A family wedding reignites the ancient feud be...  \n",
       "3  Cheated on, mistreated and stepped on, the wom...  \n",
       "4  Just when George Banks has recovered from his ...  "
      ]
     },
     "execution_count": 62,
     "metadata": {},
     "output_type": "execute_result"
    }
   ],
   "source": [
    "def split_genre(input):\n",
    "  input = eval(input)\n",
    "  genre = []\n",
    "  for i in input:\n",
    "    genre.append(i['name'])\n",
    "  return genre\n",
    "\n",
    "movies_other['genres'] = movies_other['genres'].apply(split_genre)\n",
    "movies_other.head()"
   ]
  },
  {
   "cell_type": "markdown",
   "metadata": {
    "id": "ZeyaDXRcm_LB"
   },
   "source": [
    "### Renaming id to movieId"
   ]
  },
  {
   "cell_type": "code",
   "execution_count": 63,
   "metadata": {
    "id": "Cw5ykmhEnBhm"
   },
   "outputs": [],
   "source": [
    "movies_other.rename(columns = {\"id\": \"movieId\"}, inplace = True)"
   ]
  },
  {
   "cell_type": "markdown",
   "metadata": {
    "id": "9KDd32AxGph2"
   },
   "source": [
    "## Combining movies, credits, keywords"
   ]
  },
  {
   "cell_type": "code",
   "execution_count": 64,
   "metadata": {
    "colab": {
     "base_uri": "https://localhost:8080/",
     "height": 0
    },
    "id": "hglimwLGGsTU",
    "outputId": "d0c6a2fc-b56a-4437-e223-f966b649252c"
   },
   "outputs": [
    {
     "data": {
      "text/html": [
       "<div>\n",
       "<style scoped>\n",
       "    .dataframe tbody tr th:only-of-type {\n",
       "        vertical-align: middle;\n",
       "    }\n",
       "\n",
       "    .dataframe tbody tr th {\n",
       "        vertical-align: top;\n",
       "    }\n",
       "\n",
       "    .dataframe thead th {\n",
       "        text-align: right;\n",
       "    }\n",
       "</style>\n",
       "<table border=\"1\" class=\"dataframe\">\n",
       "  <thead>\n",
       "    <tr style=\"text-align: right;\">\n",
       "      <th></th>\n",
       "      <th>genres</th>\n",
       "      <th>movieId</th>\n",
       "      <th>imdb_id</th>\n",
       "      <th>poster_path</th>\n",
       "      <th>title</th>\n",
       "      <th>description</th>\n",
       "      <th>keywords</th>\n",
       "      <th>cast</th>\n",
       "      <th>director</th>\n",
       "    </tr>\n",
       "  </thead>\n",
       "  <tbody>\n",
       "    <tr>\n",
       "      <th>0</th>\n",
       "      <td>[Animation, Comedy, Family]</td>\n",
       "      <td>862</td>\n",
       "      <td>tt0114709</td>\n",
       "      <td>/rhIRbceoE9lR4veEXuwCC2wARtG.jpg</td>\n",
       "      <td>Toy Story</td>\n",
       "      <td>Led by Woody, Andy's toys live happily in his ...</td>\n",
       "      <td>[jealousy, toy, boy, friendship, friends, riva...</td>\n",
       "      <td>[Tom Hanks, Tim Allen, Don Rickles, Jim Varney...</td>\n",
       "      <td>John Lasseter</td>\n",
       "    </tr>\n",
       "    <tr>\n",
       "      <th>1</th>\n",
       "      <td>[Adventure, Fantasy, Family]</td>\n",
       "      <td>8844</td>\n",
       "      <td>tt0113497</td>\n",
       "      <td>/vzmL6fP7aPKNKPRTFnZmiUfciyV.jpg</td>\n",
       "      <td>Jumanji</td>\n",
       "      <td>When siblings Judy and Peter discover an encha...</td>\n",
       "      <td>[board game, disappearance, based on children'...</td>\n",
       "      <td>[Robin Williams, Jonathan Hyde, Kirsten Dunst,...</td>\n",
       "      <td>Joe Johnston</td>\n",
       "    </tr>\n",
       "    <tr>\n",
       "      <th>2</th>\n",
       "      <td>[Romance, Comedy]</td>\n",
       "      <td>15602</td>\n",
       "      <td>tt0113228</td>\n",
       "      <td>/6ksm1sjKMFLbO7UY2i6G1ju9SML.jpg</td>\n",
       "      <td>Grumpier Old Men</td>\n",
       "      <td>A family wedding reignites the ancient feud be...</td>\n",
       "      <td>[fishing, best friend, duringcreditsstinger, o...</td>\n",
       "      <td>[Walter Matthau, Jack Lemmon, Ann-Margret, Sop...</td>\n",
       "      <td>Howard Deutch</td>\n",
       "    </tr>\n",
       "    <tr>\n",
       "      <th>3</th>\n",
       "      <td>[Comedy, Drama, Romance]</td>\n",
       "      <td>31357</td>\n",
       "      <td>tt0114885</td>\n",
       "      <td>/16XOMpEaLWkrcPqSQqhTmeJuqQl.jpg</td>\n",
       "      <td>Waiting to Exhale</td>\n",
       "      <td>Cheated on, mistreated and stepped on, the wom...</td>\n",
       "      <td>[based on novel, interracial relationship, sin...</td>\n",
       "      <td>[Whitney Houston, Angela Bassett, Loretta Devi...</td>\n",
       "      <td>Forest Whitaker</td>\n",
       "    </tr>\n",
       "    <tr>\n",
       "      <th>4</th>\n",
       "      <td>[Comedy]</td>\n",
       "      <td>11862</td>\n",
       "      <td>tt0113041</td>\n",
       "      <td>/e64sOI48hQXyru7naBFyssKFxVd.jpg</td>\n",
       "      <td>Father of the Bride Part II</td>\n",
       "      <td>Just when George Banks has recovered from his ...</td>\n",
       "      <td>[baby, midlife crisis, confidence, aging, daug...</td>\n",
       "      <td>[Steve Martin, Diane Keaton, Martin Short, Kim...</td>\n",
       "      <td>Charles Shyer</td>\n",
       "    </tr>\n",
       "  </tbody>\n",
       "</table>\n",
       "</div>"
      ],
      "text/plain": [
       "                         genres  movieId    imdb_id  \\\n",
       "0   [Animation, Comedy, Family]      862  tt0114709   \n",
       "1  [Adventure, Fantasy, Family]     8844  tt0113497   \n",
       "2             [Romance, Comedy]    15602  tt0113228   \n",
       "3      [Comedy, Drama, Romance]    31357  tt0114885   \n",
       "4                      [Comedy]    11862  tt0113041   \n",
       "\n",
       "                        poster_path                        title  \\\n",
       "0  /rhIRbceoE9lR4veEXuwCC2wARtG.jpg                    Toy Story   \n",
       "1  /vzmL6fP7aPKNKPRTFnZmiUfciyV.jpg                      Jumanji   \n",
       "2  /6ksm1sjKMFLbO7UY2i6G1ju9SML.jpg             Grumpier Old Men   \n",
       "3  /16XOMpEaLWkrcPqSQqhTmeJuqQl.jpg            Waiting to Exhale   \n",
       "4  /e64sOI48hQXyru7naBFyssKFxVd.jpg  Father of the Bride Part II   \n",
       "\n",
       "                                         description  \\\n",
       "0  Led by Woody, Andy's toys live happily in his ...   \n",
       "1  When siblings Judy and Peter discover an encha...   \n",
       "2  A family wedding reignites the ancient feud be...   \n",
       "3  Cheated on, mistreated and stepped on, the wom...   \n",
       "4  Just when George Banks has recovered from his ...   \n",
       "\n",
       "                                            keywords  \\\n",
       "0  [jealousy, toy, boy, friendship, friends, riva...   \n",
       "1  [board game, disappearance, based on children'...   \n",
       "2  [fishing, best friend, duringcreditsstinger, o...   \n",
       "3  [based on novel, interracial relationship, sin...   \n",
       "4  [baby, midlife crisis, confidence, aging, daug...   \n",
       "\n",
       "                                                cast         director  \n",
       "0  [Tom Hanks, Tim Allen, Don Rickles, Jim Varney...    John Lasseter  \n",
       "1  [Robin Williams, Jonathan Hyde, Kirsten Dunst,...     Joe Johnston  \n",
       "2  [Walter Matthau, Jack Lemmon, Ann-Margret, Sop...    Howard Deutch  \n",
       "3  [Whitney Houston, Angela Bassett, Loretta Devi...  Forest Whitaker  \n",
       "4  [Steve Martin, Diane Keaton, Martin Short, Kim...    Charles Shyer  "
      ]
     },
     "execution_count": 64,
     "metadata": {},
     "output_type": "execute_result"
    }
   ],
   "source": [
    "movies_credits_keywords_other = pd.merge(movies_other, keywords_other, on = \"movieId\")\n",
    "movies_credits_keywords_other = pd.merge(movies_credits_keywords_other, credits_other, on = \"movieId\")\n",
    "movies_credits_keywords_other.head()"
   ]
  },
  {
   "cell_type": "code",
   "execution_count": 65,
   "metadata": {
    "id": "-oxuIcfeWAqN"
   },
   "outputs": [],
   "source": [
    "movies_credits_keywords_other.drop(columns = [\"movieId\"], inplace = True)"
   ]
  },
  {
   "cell_type": "markdown",
   "metadata": {
    "id": "PYxEFGN6NCY3"
   },
   "source": [
    "# Combining the first and second dataset"
   ]
  },
  {
   "cell_type": "code",
   "execution_count": 66,
   "metadata": {
    "colab": {
     "base_uri": "https://localhost:8080/",
     "height": 0
    },
    "id": "HeL3Ya2HNG90",
    "outputId": "c9f8e276-a3ee-4635-d1d4-d7a3344b1b5a"
   },
   "outputs": [
    {
     "data": {
      "text/html": [
       "<div>\n",
       "<style scoped>\n",
       "    .dataframe tbody tr th:only-of-type {\n",
       "        vertical-align: middle;\n",
       "    }\n",
       "\n",
       "    .dataframe tbody tr th {\n",
       "        vertical-align: top;\n",
       "    }\n",
       "\n",
       "    .dataframe thead th {\n",
       "        text-align: right;\n",
       "    }\n",
       "</style>\n",
       "<table border=\"1\" class=\"dataframe\">\n",
       "  <thead>\n",
       "    <tr style=\"text-align: right;\">\n",
       "      <th></th>\n",
       "      <th>movieId</th>\n",
       "      <th>title</th>\n",
       "      <th>genres_x</th>\n",
       "      <th>genres_y</th>\n",
       "      <th>imdb_id</th>\n",
       "      <th>poster_path</th>\n",
       "      <th>description</th>\n",
       "      <th>keywords</th>\n",
       "      <th>cast</th>\n",
       "      <th>director</th>\n",
       "    </tr>\n",
       "  </thead>\n",
       "  <tbody>\n",
       "    <tr>\n",
       "      <th>0</th>\n",
       "      <td>1</td>\n",
       "      <td>Toy Story</td>\n",
       "      <td>[Adventure, Animation, Children, Comedy, Fantasy]</td>\n",
       "      <td>[Animation, Comedy, Family]</td>\n",
       "      <td>tt0114709</td>\n",
       "      <td>/rhIRbceoE9lR4veEXuwCC2wARtG.jpg</td>\n",
       "      <td>Led by Woody, Andy's toys live happily in his ...</td>\n",
       "      <td>[jealousy, toy, boy, friendship, friends, riva...</td>\n",
       "      <td>[Tom Hanks, Tim Allen, Don Rickles, Jim Varney...</td>\n",
       "      <td>John Lasseter</td>\n",
       "    </tr>\n",
       "    <tr>\n",
       "      <th>1</th>\n",
       "      <td>2</td>\n",
       "      <td>Jumanji</td>\n",
       "      <td>[Adventure, Children, Fantasy]</td>\n",
       "      <td>[Adventure, Fantasy, Family]</td>\n",
       "      <td>tt0113497</td>\n",
       "      <td>/vzmL6fP7aPKNKPRTFnZmiUfciyV.jpg</td>\n",
       "      <td>When siblings Judy and Peter discover an encha...</td>\n",
       "      <td>[board game, disappearance, based on children'...</td>\n",
       "      <td>[Robin Williams, Jonathan Hyde, Kirsten Dunst,...</td>\n",
       "      <td>Joe Johnston</td>\n",
       "    </tr>\n",
       "    <tr>\n",
       "      <th>2</th>\n",
       "      <td>3</td>\n",
       "      <td>Grumpier Old Men</td>\n",
       "      <td>[Comedy, Romance]</td>\n",
       "      <td>[Romance, Comedy]</td>\n",
       "      <td>tt0113228</td>\n",
       "      <td>/6ksm1sjKMFLbO7UY2i6G1ju9SML.jpg</td>\n",
       "      <td>A family wedding reignites the ancient feud be...</td>\n",
       "      <td>[fishing, best friend, duringcreditsstinger, o...</td>\n",
       "      <td>[Walter Matthau, Jack Lemmon, Ann-Margret, Sop...</td>\n",
       "      <td>Howard Deutch</td>\n",
       "    </tr>\n",
       "    <tr>\n",
       "      <th>3</th>\n",
       "      <td>4</td>\n",
       "      <td>Waiting to Exhale</td>\n",
       "      <td>[Comedy, Drama, Romance]</td>\n",
       "      <td>[Comedy, Drama, Romance]</td>\n",
       "      <td>tt0114885</td>\n",
       "      <td>/16XOMpEaLWkrcPqSQqhTmeJuqQl.jpg</td>\n",
       "      <td>Cheated on, mistreated and stepped on, the wom...</td>\n",
       "      <td>[based on novel, interracial relationship, sin...</td>\n",
       "      <td>[Whitney Houston, Angela Bassett, Loretta Devi...</td>\n",
       "      <td>Forest Whitaker</td>\n",
       "    </tr>\n",
       "    <tr>\n",
       "      <th>4</th>\n",
       "      <td>5</td>\n",
       "      <td>Father of the Bride Part II</td>\n",
       "      <td>[Comedy]</td>\n",
       "      <td>[Comedy]</td>\n",
       "      <td>tt0113041</td>\n",
       "      <td>/e64sOI48hQXyru7naBFyssKFxVd.jpg</td>\n",
       "      <td>Just when George Banks has recovered from his ...</td>\n",
       "      <td>[baby, midlife crisis, confidence, aging, daug...</td>\n",
       "      <td>[Steve Martin, Diane Keaton, Martin Short, Kim...</td>\n",
       "      <td>Charles Shyer</td>\n",
       "    </tr>\n",
       "    <tr>\n",
       "      <th>...</th>\n",
       "      <td>...</td>\n",
       "      <td>...</td>\n",
       "      <td>...</td>\n",
       "      <td>...</td>\n",
       "      <td>...</td>\n",
       "      <td>...</td>\n",
       "      <td>...</td>\n",
       "      <td>...</td>\n",
       "      <td>...</td>\n",
       "      <td>...</td>\n",
       "    </tr>\n",
       "    <tr>\n",
       "      <th>39119</th>\n",
       "      <td>283405</td>\n",
       "      <td>A Bunch of Amateurs</td>\n",
       "      <td>[Documentary]</td>\n",
       "      <td>[Comedy]</td>\n",
       "      <td>tt1171226</td>\n",
       "      <td>/uj3Mz9XGvC17mJKuUatsh4NWUML.jpg</td>\n",
       "      <td>Burt Reynolds stars as Jefferson Steel, a wash...</td>\n",
       "      <td>[]</td>\n",
       "      <td>[Burt Reynolds, Derek Jacobi, Samantha Bond, I...</td>\n",
       "      <td>Andy Cadiff</td>\n",
       "    </tr>\n",
       "    <tr>\n",
       "      <th>39120</th>\n",
       "      <td>284081</td>\n",
       "      <td>Leave</td>\n",
       "      <td>[Horror, Thriller]</td>\n",
       "      <td>[Thriller, Mystery]</td>\n",
       "      <td>tt1446695</td>\n",
       "      <td>/3EPAv34wESOSGdMBMc0xHW37Seu.jpg</td>\n",
       "      <td>Henry Harper is a successful novelist who has ...</td>\n",
       "      <td>[]</td>\n",
       "      <td>[Ron Livingston, Vinessa Shaw, Rick Gomez, Fra...</td>\n",
       "      <td>Robert Celestino</td>\n",
       "    </tr>\n",
       "    <tr>\n",
       "      <th>39121</th>\n",
       "      <td>285921</td>\n",
       "      <td>Timescape</td>\n",
       "      <td>[Adventure, Children, Sci-Fi]</td>\n",
       "      <td>[Mystery, Science Fiction]</td>\n",
       "      <td>tt0104362</td>\n",
       "      <td>/qtx6jCryMocj7wWCnjOZHOTFG4r.jpg</td>\n",
       "      <td>Before they can complete renovations on their ...</td>\n",
       "      <td>[]</td>\n",
       "      <td>[Jeff Daniels, Ariana Richards, Emilia Crow, J...</td>\n",
       "      <td>David Twohy</td>\n",
       "    </tr>\n",
       "    <tr>\n",
       "      <th>39122</th>\n",
       "      <td>285939</td>\n",
       "      <td>¡Que Viva México!</td>\n",
       "      <td>[Comedy]</td>\n",
       "      <td>[Documentary, History]</td>\n",
       "      <td>tt0079020</td>\n",
       "      <td>/yzx5OL3AvzxmwCuiXtHZiQCkvLs.jpg</td>\n",
       "      <td>¡Qué viva México! was a film project undertake...</td>\n",
       "      <td>[film history]</td>\n",
       "      <td>[Sergey Bondarchuk, Grigori Aleksandrov]</td>\n",
       "      <td>Sergei M. Eisenstein</td>\n",
       "    </tr>\n",
       "    <tr>\n",
       "      <th>39123</th>\n",
       "      <td>286125</td>\n",
       "      <td>Devil's Domain</td>\n",
       "      <td>[Comedy, Horror]</td>\n",
       "      <td>[Horror]</td>\n",
       "      <td>tt0261296</td>\n",
       "      <td>/zvG6CV0ecJymU3cVVIq6uoMLH7R.jpg</td>\n",
       "      <td>An evil sorceress feeds the blood of new bride...</td>\n",
       "      <td>[]</td>\n",
       "      <td>[Surendra Pal, Shehnaz Kudia, Ranjeet, Kanwalj...</td>\n",
       "      <td>Kiran Ramsay</td>\n",
       "    </tr>\n",
       "  </tbody>\n",
       "</table>\n",
       "<p>39124 rows × 10 columns</p>\n",
       "</div>"
      ],
      "text/plain": [
       "       movieId                        title  \\\n",
       "0            1                    Toy Story   \n",
       "1            2                      Jumanji   \n",
       "2            3             Grumpier Old Men   \n",
       "3            4            Waiting to Exhale   \n",
       "4            5  Father of the Bride Part II   \n",
       "...        ...                          ...   \n",
       "39119   283405          A Bunch of Amateurs   \n",
       "39120   284081                        Leave   \n",
       "39121   285921                    Timescape   \n",
       "39122   285939            ¡Que Viva México!   \n",
       "39123   286125               Devil's Domain   \n",
       "\n",
       "                                                genres_x  \\\n",
       "0      [Adventure, Animation, Children, Comedy, Fantasy]   \n",
       "1                         [Adventure, Children, Fantasy]   \n",
       "2                                      [Comedy, Romance]   \n",
       "3                               [Comedy, Drama, Romance]   \n",
       "4                                               [Comedy]   \n",
       "...                                                  ...   \n",
       "39119                                      [Documentary]   \n",
       "39120                                 [Horror, Thriller]   \n",
       "39121                      [Adventure, Children, Sci-Fi]   \n",
       "39122                                           [Comedy]   \n",
       "39123                                   [Comedy, Horror]   \n",
       "\n",
       "                           genres_y    imdb_id  \\\n",
       "0       [Animation, Comedy, Family]  tt0114709   \n",
       "1      [Adventure, Fantasy, Family]  tt0113497   \n",
       "2                 [Romance, Comedy]  tt0113228   \n",
       "3          [Comedy, Drama, Romance]  tt0114885   \n",
       "4                          [Comedy]  tt0113041   \n",
       "...                             ...        ...   \n",
       "39119                      [Comedy]  tt1171226   \n",
       "39120           [Thriller, Mystery]  tt1446695   \n",
       "39121    [Mystery, Science Fiction]  tt0104362   \n",
       "39122        [Documentary, History]  tt0079020   \n",
       "39123                      [Horror]  tt0261296   \n",
       "\n",
       "                            poster_path  \\\n",
       "0      /rhIRbceoE9lR4veEXuwCC2wARtG.jpg   \n",
       "1      /vzmL6fP7aPKNKPRTFnZmiUfciyV.jpg   \n",
       "2      /6ksm1sjKMFLbO7UY2i6G1ju9SML.jpg   \n",
       "3      /16XOMpEaLWkrcPqSQqhTmeJuqQl.jpg   \n",
       "4      /e64sOI48hQXyru7naBFyssKFxVd.jpg   \n",
       "...                                 ...   \n",
       "39119  /uj3Mz9XGvC17mJKuUatsh4NWUML.jpg   \n",
       "39120  /3EPAv34wESOSGdMBMc0xHW37Seu.jpg   \n",
       "39121  /qtx6jCryMocj7wWCnjOZHOTFG4r.jpg   \n",
       "39122  /yzx5OL3AvzxmwCuiXtHZiQCkvLs.jpg   \n",
       "39123  /zvG6CV0ecJymU3cVVIq6uoMLH7R.jpg   \n",
       "\n",
       "                                             description  \\\n",
       "0      Led by Woody, Andy's toys live happily in his ...   \n",
       "1      When siblings Judy and Peter discover an encha...   \n",
       "2      A family wedding reignites the ancient feud be...   \n",
       "3      Cheated on, mistreated and stepped on, the wom...   \n",
       "4      Just when George Banks has recovered from his ...   \n",
       "...                                                  ...   \n",
       "39119  Burt Reynolds stars as Jefferson Steel, a wash...   \n",
       "39120  Henry Harper is a successful novelist who has ...   \n",
       "39121  Before they can complete renovations on their ...   \n",
       "39122  ¡Qué viva México! was a film project undertake...   \n",
       "39123  An evil sorceress feeds the blood of new bride...   \n",
       "\n",
       "                                                keywords  \\\n",
       "0      [jealousy, toy, boy, friendship, friends, riva...   \n",
       "1      [board game, disappearance, based on children'...   \n",
       "2      [fishing, best friend, duringcreditsstinger, o...   \n",
       "3      [based on novel, interracial relationship, sin...   \n",
       "4      [baby, midlife crisis, confidence, aging, daug...   \n",
       "...                                                  ...   \n",
       "39119                                                 []   \n",
       "39120                                                 []   \n",
       "39121                                                 []   \n",
       "39122                                     [film history]   \n",
       "39123                                                 []   \n",
       "\n",
       "                                                    cast              director  \n",
       "0      [Tom Hanks, Tim Allen, Don Rickles, Jim Varney...         John Lasseter  \n",
       "1      [Robin Williams, Jonathan Hyde, Kirsten Dunst,...          Joe Johnston  \n",
       "2      [Walter Matthau, Jack Lemmon, Ann-Margret, Sop...         Howard Deutch  \n",
       "3      [Whitney Houston, Angela Bassett, Loretta Devi...       Forest Whitaker  \n",
       "4      [Steve Martin, Diane Keaton, Martin Short, Kim...         Charles Shyer  \n",
       "...                                                  ...                   ...  \n",
       "39119  [Burt Reynolds, Derek Jacobi, Samantha Bond, I...           Andy Cadiff  \n",
       "39120  [Ron Livingston, Vinessa Shaw, Rick Gomez, Fra...      Robert Celestino  \n",
       "39121  [Jeff Daniels, Ariana Richards, Emilia Crow, J...           David Twohy  \n",
       "39122           [Sergey Bondarchuk, Grigori Aleksandrov]  Sergei M. Eisenstein  \n",
       "39123  [Surendra Pal, Shehnaz Kudia, Ranjeet, Kanwalj...          Kiran Ramsay  \n",
       "\n",
       "[39124 rows x 10 columns]"
      ]
     },
     "execution_count": 66,
     "metadata": {},
     "output_type": "execute_result"
    }
   ],
   "source": [
    "combined_dataset = pd.merge(movies, movies_credits_keywords_other, on = \"title\")\n",
    "combined_dataset"
   ]
  },
  {
   "cell_type": "code",
   "execution_count": 67,
   "metadata": {
    "colab": {
     "base_uri": "https://localhost:8080/",
     "height": 0
    },
    "id": "FkiBGxXPXGNu",
    "outputId": "301f5887-b70e-4198-b251-685998f23624"
   },
   "outputs": [
    {
     "data": {
      "text/html": [
       "<div>\n",
       "<style scoped>\n",
       "    .dataframe tbody tr th:only-of-type {\n",
       "        vertical-align: middle;\n",
       "    }\n",
       "\n",
       "    .dataframe tbody tr th {\n",
       "        vertical-align: top;\n",
       "    }\n",
       "\n",
       "    .dataframe thead th {\n",
       "        text-align: right;\n",
       "    }\n",
       "</style>\n",
       "<table border=\"1\" class=\"dataframe\">\n",
       "  <thead>\n",
       "    <tr style=\"text-align: right;\">\n",
       "      <th></th>\n",
       "      <th>movieId</th>\n",
       "      <th>title</th>\n",
       "      <th>genres_x</th>\n",
       "      <th>genres_y</th>\n",
       "      <th>imdb_id</th>\n",
       "      <th>poster_path</th>\n",
       "      <th>description</th>\n",
       "      <th>keywords</th>\n",
       "      <th>cast</th>\n",
       "      <th>director</th>\n",
       "    </tr>\n",
       "  </thead>\n",
       "  <tbody>\n",
       "    <tr>\n",
       "      <th>0</th>\n",
       "      <td>1</td>\n",
       "      <td>Toy Story</td>\n",
       "      <td>[Adventure, Animation, Children, Comedy, Fantasy]</td>\n",
       "      <td>[Animation, Comedy, Family]</td>\n",
       "      <td>tt0114709</td>\n",
       "      <td>/rhIRbceoE9lR4veEXuwCC2wARtG.jpg</td>\n",
       "      <td>Led by Woody, Andy's toys live happily in his ...</td>\n",
       "      <td>[jealousy, toy, boy, friendship, friends, riva...</td>\n",
       "      <td>[Tom Hanks, Tim Allen, Don Rickles, Jim Varney...</td>\n",
       "      <td>John Lasseter</td>\n",
       "    </tr>\n",
       "    <tr>\n",
       "      <th>1</th>\n",
       "      <td>2</td>\n",
       "      <td>Jumanji</td>\n",
       "      <td>[Adventure, Children, Fantasy]</td>\n",
       "      <td>[Adventure, Fantasy, Family]</td>\n",
       "      <td>tt0113497</td>\n",
       "      <td>/vzmL6fP7aPKNKPRTFnZmiUfciyV.jpg</td>\n",
       "      <td>When siblings Judy and Peter discover an encha...</td>\n",
       "      <td>[board game, disappearance, based on children'...</td>\n",
       "      <td>[Robin Williams, Jonathan Hyde, Kirsten Dunst,...</td>\n",
       "      <td>Joe Johnston</td>\n",
       "    </tr>\n",
       "    <tr>\n",
       "      <th>2</th>\n",
       "      <td>3</td>\n",
       "      <td>Grumpier Old Men</td>\n",
       "      <td>[Comedy, Romance]</td>\n",
       "      <td>[Romance, Comedy]</td>\n",
       "      <td>tt0113228</td>\n",
       "      <td>/6ksm1sjKMFLbO7UY2i6G1ju9SML.jpg</td>\n",
       "      <td>A family wedding reignites the ancient feud be...</td>\n",
       "      <td>[fishing, best friend, duringcreditsstinger, o...</td>\n",
       "      <td>[Walter Matthau, Jack Lemmon, Ann-Margret, Sop...</td>\n",
       "      <td>Howard Deutch</td>\n",
       "    </tr>\n",
       "    <tr>\n",
       "      <th>3</th>\n",
       "      <td>4</td>\n",
       "      <td>Waiting to Exhale</td>\n",
       "      <td>[Comedy, Drama, Romance]</td>\n",
       "      <td>[Comedy, Drama, Romance]</td>\n",
       "      <td>tt0114885</td>\n",
       "      <td>/16XOMpEaLWkrcPqSQqhTmeJuqQl.jpg</td>\n",
       "      <td>Cheated on, mistreated and stepped on, the wom...</td>\n",
       "      <td>[based on novel, interracial relationship, sin...</td>\n",
       "      <td>[Whitney Houston, Angela Bassett, Loretta Devi...</td>\n",
       "      <td>Forest Whitaker</td>\n",
       "    </tr>\n",
       "    <tr>\n",
       "      <th>4</th>\n",
       "      <td>5</td>\n",
       "      <td>Father of the Bride Part II</td>\n",
       "      <td>[Comedy]</td>\n",
       "      <td>[Comedy]</td>\n",
       "      <td>tt0113041</td>\n",
       "      <td>/e64sOI48hQXyru7naBFyssKFxVd.jpg</td>\n",
       "      <td>Just when George Banks has recovered from his ...</td>\n",
       "      <td>[baby, midlife crisis, confidence, aging, daug...</td>\n",
       "      <td>[Steve Martin, Diane Keaton, Martin Short, Kim...</td>\n",
       "      <td>Charles Shyer</td>\n",
       "    </tr>\n",
       "    <tr>\n",
       "      <th>...</th>\n",
       "      <td>...</td>\n",
       "      <td>...</td>\n",
       "      <td>...</td>\n",
       "      <td>...</td>\n",
       "      <td>...</td>\n",
       "      <td>...</td>\n",
       "      <td>...</td>\n",
       "      <td>...</td>\n",
       "      <td>...</td>\n",
       "      <td>...</td>\n",
       "    </tr>\n",
       "    <tr>\n",
       "      <th>39059</th>\n",
       "      <td>232131</td>\n",
       "      <td>The Marksman</td>\n",
       "      <td>[Action, Thriller]</td>\n",
       "      <td>[Action, Adventure, Thriller]</td>\n",
       "      <td>tt0457090</td>\n",
       "      <td>/vNWU0AFgXn8riAdDB569VPQdMJJ.jpg</td>\n",
       "      <td>Chechen rebels take over a Russian nuclear pla...</td>\n",
       "      <td>[helicopter]</td>\n",
       "      <td>[Wesley Snipes, Emma Samms, William Hope, Anth...</td>\n",
       "      <td>Marcus Adams</td>\n",
       "    </tr>\n",
       "    <tr>\n",
       "      <th>39063</th>\n",
       "      <td>241346</td>\n",
       "      <td>Doctor Who: The Time of the Doctor</td>\n",
       "      <td>[Drama, Sci-Fi]</td>\n",
       "      <td>[Drama, Science Fiction]</td>\n",
       "      <td>tt2986512</td>\n",
       "      <td>/pEFGnBK6Kd4sqbkz7nMo3s4oyi2.jpg</td>\n",
       "      <td>Orbiting a quiet backwater planet, the massed ...</td>\n",
       "      <td>[]</td>\n",
       "      <td>[Matt Smith, Jenna Coleman, Peter Capaldi, Kar...</td>\n",
       "      <td>James Payne</td>\n",
       "    </tr>\n",
       "    <tr>\n",
       "      <th>39085</th>\n",
       "      <td>257281</td>\n",
       "      <td>The Tragedy of Macbeth</td>\n",
       "      <td>[Drama, Fantasy, Thriller, War]</td>\n",
       "      <td>[War, Drama, History]</td>\n",
       "      <td>tt0067372</td>\n",
       "      <td>/zghViMv9tpKJEfLIxDevI2x7bKd.jpg</td>\n",
       "      <td>A ruthlessly ambitious Scottish lord siezes th...</td>\n",
       "      <td>[scotland, shakespeare, ambush, showdown, quee...</td>\n",
       "      <td>[Jon Finch, Francesca Annis, Martin Shaw, Tere...</td>\n",
       "      <td>Roman Polanski</td>\n",
       "    </tr>\n",
       "    <tr>\n",
       "      <th>39098</th>\n",
       "      <td>270946</td>\n",
       "      <td>Deep Water</td>\n",
       "      <td>[Drama, Romance, Thriller]</td>\n",
       "      <td>[Documentary, Adventure, Drama, Action]</td>\n",
       "      <td>tt0460766</td>\n",
       "      <td>/oSOMJMDOef9AuviQCzc3S1iTAji.jpg</td>\n",
       "      <td>DEEP WATER is the stunning true story of the f...</td>\n",
       "      <td>[boat, woman director]</td>\n",
       "      <td>[Tilda Swinton, Simon Russell Beale, Jean Badi...</td>\n",
       "      <td>Louise Osmond</td>\n",
       "    </tr>\n",
       "    <tr>\n",
       "      <th>39099</th>\n",
       "      <td>271865</td>\n",
       "      <td>X</td>\n",
       "      <td>[Horror, Mystery, Thriller]</td>\n",
       "      <td>[Action, Thriller, Romance]</td>\n",
       "      <td>tt1661099</td>\n",
       "      <td>/jrjLmDzn4tzOblDiH9y6RFbt9xO.jpg</td>\n",
       "      <td>Holly Rowe's retiring, kissing her callgirl li...</td>\n",
       "      <td>[eroticism, prostitution]</td>\n",
       "      <td>[Viva Bianca, Hanna Mangan Lawrence, Peter Doc...</td>\n",
       "      <td>Jon Hewitt</td>\n",
       "    </tr>\n",
       "  </tbody>\n",
       "</table>\n",
       "<p>14016 rows × 10 columns</p>\n",
       "</div>"
      ],
      "text/plain": [
       "       movieId                               title  \\\n",
       "0            1                           Toy Story   \n",
       "1            2                             Jumanji   \n",
       "2            3                    Grumpier Old Men   \n",
       "3            4                   Waiting to Exhale   \n",
       "4            5         Father of the Bride Part II   \n",
       "...        ...                                 ...   \n",
       "39059   232131                        The Marksman   \n",
       "39063   241346  Doctor Who: The Time of the Doctor   \n",
       "39085   257281              The Tragedy of Macbeth   \n",
       "39098   270946                          Deep Water   \n",
       "39099   271865                                   X   \n",
       "\n",
       "                                                genres_x  \\\n",
       "0      [Adventure, Animation, Children, Comedy, Fantasy]   \n",
       "1                         [Adventure, Children, Fantasy]   \n",
       "2                                      [Comedy, Romance]   \n",
       "3                               [Comedy, Drama, Romance]   \n",
       "4                                               [Comedy]   \n",
       "...                                                  ...   \n",
       "39059                                 [Action, Thriller]   \n",
       "39063                                    [Drama, Sci-Fi]   \n",
       "39085                    [Drama, Fantasy, Thriller, War]   \n",
       "39098                         [Drama, Romance, Thriller]   \n",
       "39099                        [Horror, Mystery, Thriller]   \n",
       "\n",
       "                                      genres_y    imdb_id  \\\n",
       "0                  [Animation, Comedy, Family]  tt0114709   \n",
       "1                 [Adventure, Fantasy, Family]  tt0113497   \n",
       "2                            [Romance, Comedy]  tt0113228   \n",
       "3                     [Comedy, Drama, Romance]  tt0114885   \n",
       "4                                     [Comedy]  tt0113041   \n",
       "...                                        ...        ...   \n",
       "39059            [Action, Adventure, Thriller]  tt0457090   \n",
       "39063                 [Drama, Science Fiction]  tt2986512   \n",
       "39085                    [War, Drama, History]  tt0067372   \n",
       "39098  [Documentary, Adventure, Drama, Action]  tt0460766   \n",
       "39099              [Action, Thriller, Romance]  tt1661099   \n",
       "\n",
       "                            poster_path  \\\n",
       "0      /rhIRbceoE9lR4veEXuwCC2wARtG.jpg   \n",
       "1      /vzmL6fP7aPKNKPRTFnZmiUfciyV.jpg   \n",
       "2      /6ksm1sjKMFLbO7UY2i6G1ju9SML.jpg   \n",
       "3      /16XOMpEaLWkrcPqSQqhTmeJuqQl.jpg   \n",
       "4      /e64sOI48hQXyru7naBFyssKFxVd.jpg   \n",
       "...                                 ...   \n",
       "39059  /vNWU0AFgXn8riAdDB569VPQdMJJ.jpg   \n",
       "39063  /pEFGnBK6Kd4sqbkz7nMo3s4oyi2.jpg   \n",
       "39085  /zghViMv9tpKJEfLIxDevI2x7bKd.jpg   \n",
       "39098  /oSOMJMDOef9AuviQCzc3S1iTAji.jpg   \n",
       "39099  /jrjLmDzn4tzOblDiH9y6RFbt9xO.jpg   \n",
       "\n",
       "                                             description  \\\n",
       "0      Led by Woody, Andy's toys live happily in his ...   \n",
       "1      When siblings Judy and Peter discover an encha...   \n",
       "2      A family wedding reignites the ancient feud be...   \n",
       "3      Cheated on, mistreated and stepped on, the wom...   \n",
       "4      Just when George Banks has recovered from his ...   \n",
       "...                                                  ...   \n",
       "39059  Chechen rebels take over a Russian nuclear pla...   \n",
       "39063  Orbiting a quiet backwater planet, the massed ...   \n",
       "39085  A ruthlessly ambitious Scottish lord siezes th...   \n",
       "39098  DEEP WATER is the stunning true story of the f...   \n",
       "39099  Holly Rowe's retiring, kissing her callgirl li...   \n",
       "\n",
       "                                                keywords  \\\n",
       "0      [jealousy, toy, boy, friendship, friends, riva...   \n",
       "1      [board game, disappearance, based on children'...   \n",
       "2      [fishing, best friend, duringcreditsstinger, o...   \n",
       "3      [based on novel, interracial relationship, sin...   \n",
       "4      [baby, midlife crisis, confidence, aging, daug...   \n",
       "...                                                  ...   \n",
       "39059                                       [helicopter]   \n",
       "39063                                                 []   \n",
       "39085  [scotland, shakespeare, ambush, showdown, quee...   \n",
       "39098                             [boat, woman director]   \n",
       "39099                          [eroticism, prostitution]   \n",
       "\n",
       "                                                    cast         director  \n",
       "0      [Tom Hanks, Tim Allen, Don Rickles, Jim Varney...    John Lasseter  \n",
       "1      [Robin Williams, Jonathan Hyde, Kirsten Dunst,...     Joe Johnston  \n",
       "2      [Walter Matthau, Jack Lemmon, Ann-Margret, Sop...    Howard Deutch  \n",
       "3      [Whitney Houston, Angela Bassett, Loretta Devi...  Forest Whitaker  \n",
       "4      [Steve Martin, Diane Keaton, Martin Short, Kim...    Charles Shyer  \n",
       "...                                                  ...              ...  \n",
       "39059  [Wesley Snipes, Emma Samms, William Hope, Anth...     Marcus Adams  \n",
       "39063  [Matt Smith, Jenna Coleman, Peter Capaldi, Kar...      James Payne  \n",
       "39085  [Jon Finch, Francesca Annis, Martin Shaw, Tere...   Roman Polanski  \n",
       "39098  [Tilda Swinton, Simon Russell Beale, Jean Badi...    Louise Osmond  \n",
       "39099  [Viva Bianca, Hanna Mangan Lawrence, Peter Doc...       Jon Hewitt  \n",
       "\n",
       "[14016 rows x 10 columns]"
      ]
     },
     "execution_count": 67,
     "metadata": {},
     "output_type": "execute_result"
    }
   ],
   "source": [
    "combined_dataset = combined_dataset[combined_dataset[\"movieId\"].isin(ratings[\"movieId\"].unique())]\n",
    "combined_dataset"
   ]
  },
  {
   "cell_type": "code",
   "execution_count": 68,
   "metadata": {
    "colab": {
     "base_uri": "https://localhost:8080/"
    },
    "id": "ZKkSnBmRYjld",
    "outputId": "32ff69d1-d419-4cb2-f865-b7e50d395eb5"
   },
   "outputs": [
    {
     "name": "stdout",
     "output_type": "stream",
     "text": [
      "<class 'pandas.core.frame.DataFrame'>\n",
      "Index: 14016 entries, 0 to 39099\n",
      "Data columns (total 10 columns):\n",
      " #   Column       Non-Null Count  Dtype \n",
      "---  ------       --------------  ----- \n",
      " 0   movieId      14016 non-null  int64 \n",
      " 1   title        14016 non-null  object\n",
      " 2   genres_x     14016 non-null  object\n",
      " 3   genres_y     14016 non-null  object\n",
      " 4   imdb_id      14016 non-null  object\n",
      " 5   poster_path  14007 non-null  string\n",
      " 6   description  14016 non-null  string\n",
      " 7   keywords     14016 non-null  object\n",
      " 8   cast         14016 non-null  object\n",
      " 9   director     13975 non-null  object\n",
      "dtypes: int64(1), object(7), string(2)\n",
      "memory usage: 1.2+ MB\n"
     ]
    }
   ],
   "source": [
    "combined_dataset.info()"
   ]
  },
  {
   "cell_type": "code",
   "execution_count": 69,
   "metadata": {
    "colab": {
     "base_uri": "https://localhost:8080/"
    },
    "id": "UJY8feGTXcwL",
    "outputId": "b0355c65-b012-4fb1-9462-84a3f136f5cd"
   },
   "outputs": [
    {
     "data": {
      "text/plain": [
       "12157"
      ]
     },
     "execution_count": 69,
     "metadata": {},
     "output_type": "execute_result"
    }
   ],
   "source": [
    "combined_dataset[\"movieId\"].nunique()"
   ]
  },
  {
   "cell_type": "code",
   "execution_count": 70,
   "metadata": {
    "colab": {
     "base_uri": "https://localhost:8080/"
    },
    "id": "c4T2-Cv3O9bW",
    "outputId": "8e9952ad-b8a2-4a91-d1d4-071ad95223c0"
   },
   "outputs": [
    {
     "name": "stdout",
     "output_type": "stream",
     "text": [
      "<class 'pandas.core.frame.DataFrame'>\n",
      "Index: 14016 entries, 0 to 39099\n",
      "Data columns (total 10 columns):\n",
      " #   Column       Non-Null Count  Dtype \n",
      "---  ------       --------------  ----- \n",
      " 0   movieId      14016 non-null  int64 \n",
      " 1   title        14016 non-null  object\n",
      " 2   genres_x     14016 non-null  object\n",
      " 3   genres_y     14016 non-null  object\n",
      " 4   imdb_id      14016 non-null  object\n",
      " 5   poster_path  14007 non-null  string\n",
      " 6   description  14016 non-null  string\n",
      " 7   keywords     14016 non-null  object\n",
      " 8   cast         14016 non-null  object\n",
      " 9   director     13975 non-null  object\n",
      "dtypes: int64(1), object(7), string(2)\n",
      "memory usage: 1.2+ MB\n"
     ]
    }
   ],
   "source": [
    "combined_dataset.info()"
   ]
  },
  {
   "cell_type": "markdown",
   "metadata": {
    "id": "Jk9ypT0mOmqg"
   },
   "source": [
    "## total unique movies"
   ]
  },
  {
   "cell_type": "code",
   "execution_count": 71,
   "metadata": {
    "colab": {
     "base_uri": "https://localhost:8080/"
    },
    "id": "iW9I9s4uWT46",
    "outputId": "0b5f6a38-8c2c-4dd6-894d-6a082b9101bb"
   },
   "outputs": [
    {
     "data": {
      "text/plain": [
       "12157"
      ]
     },
     "execution_count": 71,
     "metadata": {},
     "output_type": "execute_result"
    }
   ],
   "source": [
    "combined_dataset[\"movieId\"].nunique()"
   ]
  },
  {
   "cell_type": "markdown",
   "metadata": {
    "id": "MMdug50-OffU"
   },
   "source": [
    "## combining the genres from both the datasets"
   ]
  },
  {
   "cell_type": "code",
   "execution_count": 72,
   "metadata": {
    "colab": {
     "base_uri": "https://localhost:8080/",
     "height": 0
    },
    "id": "IsW-FXIGNedB",
    "outputId": "4b420347-06f5-440b-b63b-dd42ca6355eb"
   },
   "outputs": [
    {
     "name": "stderr",
     "output_type": "stream",
     "text": [
      "C:\\Users\\FrostyFjord\\AppData\\Local\\Temp\\ipykernel_19584\\1736060398.py:5: SettingWithCopyWarning: \n",
      "A value is trying to be set on a copy of a slice from a DataFrame.\n",
      "Try using .loc[row_indexer,col_indexer] = value instead\n",
      "\n",
      "See the caveats in the documentation: https://pandas.pydata.org/pandas-docs/stable/user_guide/indexing.html#returning-a-view-versus-a-copy\n",
      "  combined_dataset[\"genres\"] = combined_dataset.apply(lambda x: combine_genres(x[\"genres_x\"], x[\"genres_y\"]), axis = 1)\n",
      "C:\\Users\\FrostyFjord\\AppData\\Local\\Temp\\ipykernel_19584\\1736060398.py:6: SettingWithCopyWarning: \n",
      "A value is trying to be set on a copy of a slice from a DataFrame\n",
      "\n",
      "See the caveats in the documentation: https://pandas.pydata.org/pandas-docs/stable/user_guide/indexing.html#returning-a-view-versus-a-copy\n",
      "  combined_dataset.drop(columns = [\"genres_x\", \"genres_y\"], inplace = True)\n"
     ]
    },
    {
     "data": {
      "text/html": [
       "<div>\n",
       "<style scoped>\n",
       "    .dataframe tbody tr th:only-of-type {\n",
       "        vertical-align: middle;\n",
       "    }\n",
       "\n",
       "    .dataframe tbody tr th {\n",
       "        vertical-align: top;\n",
       "    }\n",
       "\n",
       "    .dataframe thead th {\n",
       "        text-align: right;\n",
       "    }\n",
       "</style>\n",
       "<table border=\"1\" class=\"dataframe\">\n",
       "  <thead>\n",
       "    <tr style=\"text-align: right;\">\n",
       "      <th></th>\n",
       "      <th>movieId</th>\n",
       "      <th>title</th>\n",
       "      <th>imdb_id</th>\n",
       "      <th>poster_path</th>\n",
       "      <th>description</th>\n",
       "      <th>keywords</th>\n",
       "      <th>cast</th>\n",
       "      <th>director</th>\n",
       "      <th>genres</th>\n",
       "    </tr>\n",
       "  </thead>\n",
       "  <tbody>\n",
       "    <tr>\n",
       "      <th>0</th>\n",
       "      <td>1</td>\n",
       "      <td>Toy Story</td>\n",
       "      <td>tt0114709</td>\n",
       "      <td>/rhIRbceoE9lR4veEXuwCC2wARtG.jpg</td>\n",
       "      <td>Led by Woody, Andy's toys live happily in his ...</td>\n",
       "      <td>[jealousy, toy, boy, friendship, friends, riva...</td>\n",
       "      <td>[Tom Hanks, Tim Allen, Don Rickles, Jim Varney...</td>\n",
       "      <td>John Lasseter</td>\n",
       "      <td>[Fantasy, Children, Comedy, Animation, Family,...</td>\n",
       "    </tr>\n",
       "    <tr>\n",
       "      <th>1</th>\n",
       "      <td>2</td>\n",
       "      <td>Jumanji</td>\n",
       "      <td>tt0113497</td>\n",
       "      <td>/vzmL6fP7aPKNKPRTFnZmiUfciyV.jpg</td>\n",
       "      <td>When siblings Judy and Peter discover an encha...</td>\n",
       "      <td>[board game, disappearance, based on children'...</td>\n",
       "      <td>[Robin Williams, Jonathan Hyde, Kirsten Dunst,...</td>\n",
       "      <td>Joe Johnston</td>\n",
       "      <td>[Fantasy, Children, Family, Adventure]</td>\n",
       "    </tr>\n",
       "    <tr>\n",
       "      <th>2</th>\n",
       "      <td>3</td>\n",
       "      <td>Grumpier Old Men</td>\n",
       "      <td>tt0113228</td>\n",
       "      <td>/6ksm1sjKMFLbO7UY2i6G1ju9SML.jpg</td>\n",
       "      <td>A family wedding reignites the ancient feud be...</td>\n",
       "      <td>[fishing, best friend, duringcreditsstinger, o...</td>\n",
       "      <td>[Walter Matthau, Jack Lemmon, Ann-Margret, Sop...</td>\n",
       "      <td>Howard Deutch</td>\n",
       "      <td>[Romance, Comedy]</td>\n",
       "    </tr>\n",
       "    <tr>\n",
       "      <th>3</th>\n",
       "      <td>4</td>\n",
       "      <td>Waiting to Exhale</td>\n",
       "      <td>tt0114885</td>\n",
       "      <td>/16XOMpEaLWkrcPqSQqhTmeJuqQl.jpg</td>\n",
       "      <td>Cheated on, mistreated and stepped on, the wom...</td>\n",
       "      <td>[based on novel, interracial relationship, sin...</td>\n",
       "      <td>[Whitney Houston, Angela Bassett, Loretta Devi...</td>\n",
       "      <td>Forest Whitaker</td>\n",
       "      <td>[Romance, Comedy, Drama]</td>\n",
       "    </tr>\n",
       "    <tr>\n",
       "      <th>4</th>\n",
       "      <td>5</td>\n",
       "      <td>Father of the Bride Part II</td>\n",
       "      <td>tt0113041</td>\n",
       "      <td>/e64sOI48hQXyru7naBFyssKFxVd.jpg</td>\n",
       "      <td>Just when George Banks has recovered from his ...</td>\n",
       "      <td>[baby, midlife crisis, confidence, aging, daug...</td>\n",
       "      <td>[Steve Martin, Diane Keaton, Martin Short, Kim...</td>\n",
       "      <td>Charles Shyer</td>\n",
       "      <td>[Comedy]</td>\n",
       "    </tr>\n",
       "    <tr>\n",
       "      <th>...</th>\n",
       "      <td>...</td>\n",
       "      <td>...</td>\n",
       "      <td>...</td>\n",
       "      <td>...</td>\n",
       "      <td>...</td>\n",
       "      <td>...</td>\n",
       "      <td>...</td>\n",
       "      <td>...</td>\n",
       "      <td>...</td>\n",
       "    </tr>\n",
       "    <tr>\n",
       "      <th>39059</th>\n",
       "      <td>232131</td>\n",
       "      <td>The Marksman</td>\n",
       "      <td>tt0457090</td>\n",
       "      <td>/vNWU0AFgXn8riAdDB569VPQdMJJ.jpg</td>\n",
       "      <td>Chechen rebels take over a Russian nuclear pla...</td>\n",
       "      <td>[helicopter]</td>\n",
       "      <td>[Wesley Snipes, Emma Samms, William Hope, Anth...</td>\n",
       "      <td>Marcus Adams</td>\n",
       "      <td>[Adventure, Action, Thriller]</td>\n",
       "    </tr>\n",
       "    <tr>\n",
       "      <th>39063</th>\n",
       "      <td>241346</td>\n",
       "      <td>Doctor Who: The Time of the Doctor</td>\n",
       "      <td>tt2986512</td>\n",
       "      <td>/pEFGnBK6Kd4sqbkz7nMo3s4oyi2.jpg</td>\n",
       "      <td>Orbiting a quiet backwater planet, the massed ...</td>\n",
       "      <td>[]</td>\n",
       "      <td>[Matt Smith, Jenna Coleman, Peter Capaldi, Kar...</td>\n",
       "      <td>James Payne</td>\n",
       "      <td>[Sci-Fi, Drama, Science Fiction]</td>\n",
       "    </tr>\n",
       "    <tr>\n",
       "      <th>39085</th>\n",
       "      <td>257281</td>\n",
       "      <td>The Tragedy of Macbeth</td>\n",
       "      <td>tt0067372</td>\n",
       "      <td>/zghViMv9tpKJEfLIxDevI2x7bKd.jpg</td>\n",
       "      <td>A ruthlessly ambitious Scottish lord siezes th...</td>\n",
       "      <td>[scotland, shakespeare, ambush, showdown, quee...</td>\n",
       "      <td>[Jon Finch, Francesca Annis, Martin Shaw, Tere...</td>\n",
       "      <td>Roman Polanski</td>\n",
       "      <td>[Fantasy, Thriller, War, Drama, History]</td>\n",
       "    </tr>\n",
       "    <tr>\n",
       "      <th>39098</th>\n",
       "      <td>270946</td>\n",
       "      <td>Deep Water</td>\n",
       "      <td>tt0460766</td>\n",
       "      <td>/oSOMJMDOef9AuviQCzc3S1iTAji.jpg</td>\n",
       "      <td>DEEP WATER is the stunning true story of the f...</td>\n",
       "      <td>[boat, woman director]</td>\n",
       "      <td>[Tilda Swinton, Simon Russell Beale, Jean Badi...</td>\n",
       "      <td>Louise Osmond</td>\n",
       "      <td>[Thriller, Drama, Action, Documentary, Romance...</td>\n",
       "    </tr>\n",
       "    <tr>\n",
       "      <th>39099</th>\n",
       "      <td>271865</td>\n",
       "      <td>X</td>\n",
       "      <td>tt1661099</td>\n",
       "      <td>/jrjLmDzn4tzOblDiH9y6RFbt9xO.jpg</td>\n",
       "      <td>Holly Rowe's retiring, kissing her callgirl li...</td>\n",
       "      <td>[eroticism, prostitution]</td>\n",
       "      <td>[Viva Bianca, Hanna Mangan Lawrence, Peter Doc...</td>\n",
       "      <td>Jon Hewitt</td>\n",
       "      <td>[Mystery, Thriller, Action, Horror, Romance]</td>\n",
       "    </tr>\n",
       "  </tbody>\n",
       "</table>\n",
       "<p>14016 rows × 9 columns</p>\n",
       "</div>"
      ],
      "text/plain": [
       "       movieId                               title    imdb_id  \\\n",
       "0            1                           Toy Story  tt0114709   \n",
       "1            2                             Jumanji  tt0113497   \n",
       "2            3                    Grumpier Old Men  tt0113228   \n",
       "3            4                   Waiting to Exhale  tt0114885   \n",
       "4            5         Father of the Bride Part II  tt0113041   \n",
       "...        ...                                 ...        ...   \n",
       "39059   232131                        The Marksman  tt0457090   \n",
       "39063   241346  Doctor Who: The Time of the Doctor  tt2986512   \n",
       "39085   257281              The Tragedy of Macbeth  tt0067372   \n",
       "39098   270946                          Deep Water  tt0460766   \n",
       "39099   271865                                   X  tt1661099   \n",
       "\n",
       "                            poster_path  \\\n",
       "0      /rhIRbceoE9lR4veEXuwCC2wARtG.jpg   \n",
       "1      /vzmL6fP7aPKNKPRTFnZmiUfciyV.jpg   \n",
       "2      /6ksm1sjKMFLbO7UY2i6G1ju9SML.jpg   \n",
       "3      /16XOMpEaLWkrcPqSQqhTmeJuqQl.jpg   \n",
       "4      /e64sOI48hQXyru7naBFyssKFxVd.jpg   \n",
       "...                                 ...   \n",
       "39059  /vNWU0AFgXn8riAdDB569VPQdMJJ.jpg   \n",
       "39063  /pEFGnBK6Kd4sqbkz7nMo3s4oyi2.jpg   \n",
       "39085  /zghViMv9tpKJEfLIxDevI2x7bKd.jpg   \n",
       "39098  /oSOMJMDOef9AuviQCzc3S1iTAji.jpg   \n",
       "39099  /jrjLmDzn4tzOblDiH9y6RFbt9xO.jpg   \n",
       "\n",
       "                                             description  \\\n",
       "0      Led by Woody, Andy's toys live happily in his ...   \n",
       "1      When siblings Judy and Peter discover an encha...   \n",
       "2      A family wedding reignites the ancient feud be...   \n",
       "3      Cheated on, mistreated and stepped on, the wom...   \n",
       "4      Just when George Banks has recovered from his ...   \n",
       "...                                                  ...   \n",
       "39059  Chechen rebels take over a Russian nuclear pla...   \n",
       "39063  Orbiting a quiet backwater planet, the massed ...   \n",
       "39085  A ruthlessly ambitious Scottish lord siezes th...   \n",
       "39098  DEEP WATER is the stunning true story of the f...   \n",
       "39099  Holly Rowe's retiring, kissing her callgirl li...   \n",
       "\n",
       "                                                keywords  \\\n",
       "0      [jealousy, toy, boy, friendship, friends, riva...   \n",
       "1      [board game, disappearance, based on children'...   \n",
       "2      [fishing, best friend, duringcreditsstinger, o...   \n",
       "3      [based on novel, interracial relationship, sin...   \n",
       "4      [baby, midlife crisis, confidence, aging, daug...   \n",
       "...                                                  ...   \n",
       "39059                                       [helicopter]   \n",
       "39063                                                 []   \n",
       "39085  [scotland, shakespeare, ambush, showdown, quee...   \n",
       "39098                             [boat, woman director]   \n",
       "39099                          [eroticism, prostitution]   \n",
       "\n",
       "                                                    cast         director  \\\n",
       "0      [Tom Hanks, Tim Allen, Don Rickles, Jim Varney...    John Lasseter   \n",
       "1      [Robin Williams, Jonathan Hyde, Kirsten Dunst,...     Joe Johnston   \n",
       "2      [Walter Matthau, Jack Lemmon, Ann-Margret, Sop...    Howard Deutch   \n",
       "3      [Whitney Houston, Angela Bassett, Loretta Devi...  Forest Whitaker   \n",
       "4      [Steve Martin, Diane Keaton, Martin Short, Kim...    Charles Shyer   \n",
       "...                                                  ...              ...   \n",
       "39059  [Wesley Snipes, Emma Samms, William Hope, Anth...     Marcus Adams   \n",
       "39063  [Matt Smith, Jenna Coleman, Peter Capaldi, Kar...      James Payne   \n",
       "39085  [Jon Finch, Francesca Annis, Martin Shaw, Tere...   Roman Polanski   \n",
       "39098  [Tilda Swinton, Simon Russell Beale, Jean Badi...    Louise Osmond   \n",
       "39099  [Viva Bianca, Hanna Mangan Lawrence, Peter Doc...       Jon Hewitt   \n",
       "\n",
       "                                                  genres  \n",
       "0      [Fantasy, Children, Comedy, Animation, Family,...  \n",
       "1                 [Fantasy, Children, Family, Adventure]  \n",
       "2                                      [Romance, Comedy]  \n",
       "3                               [Romance, Comedy, Drama]  \n",
       "4                                               [Comedy]  \n",
       "...                                                  ...  \n",
       "39059                      [Adventure, Action, Thriller]  \n",
       "39063                   [Sci-Fi, Drama, Science Fiction]  \n",
       "39085           [Fantasy, Thriller, War, Drama, History]  \n",
       "39098  [Thriller, Drama, Action, Documentary, Romance...  \n",
       "39099       [Mystery, Thriller, Action, Horror, Romance]  \n",
       "\n",
       "[14016 rows x 9 columns]"
      ]
     },
     "execution_count": 72,
     "metadata": {},
     "output_type": "execute_result"
    }
   ],
   "source": [
    "def combine_genres(genrea, genreb):\n",
    "  genrea.extend(genreb)\n",
    "  return list(set(genrea))\n",
    "\n",
    "combined_dataset[\"genres\"] = combined_dataset.apply(lambda x: combine_genres(x[\"genres_x\"], x[\"genres_y\"]), axis = 1)\n",
    "combined_dataset.drop(columns = [\"genres_x\", \"genres_y\"], inplace = True)\n",
    "combined_dataset"
   ]
  },
  {
   "cell_type": "markdown",
   "metadata": {
    "id": "-F98nBvYXeSQ"
   },
   "source": [
    "# general EDA"
   ]
  },
  {
   "cell_type": "markdown",
   "metadata": {
    "id": "npmV5kHOFLXL"
   },
   "source": [
    "### Merging movies with tag and ratings information"
   ]
  },
  {
   "cell_type": "code",
   "execution_count": 73,
   "metadata": {
    "colab": {
     "base_uri": "https://localhost:8080/",
     "height": 0
    },
    "id": "DEVdCzbcFodc",
    "outputId": "81e99be4-d2fc-4817-f644-677dc4df765b"
   },
   "outputs": [
    {
     "data": {
      "text/html": [
       "<div>\n",
       "<style scoped>\n",
       "    .dataframe tbody tr th:only-of-type {\n",
       "        vertical-align: middle;\n",
       "    }\n",
       "\n",
       "    .dataframe tbody tr th {\n",
       "        vertical-align: top;\n",
       "    }\n",
       "\n",
       "    .dataframe thead th {\n",
       "        text-align: right;\n",
       "    }\n",
       "</style>\n",
       "<table border=\"1\" class=\"dataframe\">\n",
       "  <thead>\n",
       "    <tr style=\"text-align: right;\">\n",
       "      <th></th>\n",
       "      <th>movieId</th>\n",
       "      <th>title</th>\n",
       "      <th>genres</th>\n",
       "      <th>userId</th>\n",
       "      <th>rating</th>\n",
       "    </tr>\n",
       "  </thead>\n",
       "  <tbody>\n",
       "    <tr>\n",
       "      <th>0</th>\n",
       "      <td>1</td>\n",
       "      <td>Toy Story</td>\n",
       "      <td>[Adventure, Animation, Children, Comedy, Fanta...</td>\n",
       "      <td>1</td>\n",
       "      <td>4.0</td>\n",
       "    </tr>\n",
       "    <tr>\n",
       "      <th>1</th>\n",
       "      <td>1</td>\n",
       "      <td>Toy Story</td>\n",
       "      <td>[Adventure, Animation, Children, Comedy, Fanta...</td>\n",
       "      <td>2</td>\n",
       "      <td>5.0</td>\n",
       "    </tr>\n",
       "    <tr>\n",
       "      <th>2</th>\n",
       "      <td>1</td>\n",
       "      <td>Toy Story</td>\n",
       "      <td>[Adventure, Animation, Children, Comedy, Fanta...</td>\n",
       "      <td>7</td>\n",
       "      <td>4.0</td>\n",
       "    </tr>\n",
       "    <tr>\n",
       "      <th>3</th>\n",
       "      <td>1</td>\n",
       "      <td>Toy Story</td>\n",
       "      <td>[Adventure, Animation, Children, Comedy, Fanta...</td>\n",
       "      <td>10</td>\n",
       "      <td>3.0</td>\n",
       "    </tr>\n",
       "    <tr>\n",
       "      <th>4</th>\n",
       "      <td>1</td>\n",
       "      <td>Toy Story</td>\n",
       "      <td>[Adventure, Animation, Children, Comedy, Fanta...</td>\n",
       "      <td>12</td>\n",
       "      <td>5.0</td>\n",
       "    </tr>\n",
       "    <tr>\n",
       "      <th>...</th>\n",
       "      <td>...</td>\n",
       "      <td>...</td>\n",
       "      <td>...</td>\n",
       "      <td>...</td>\n",
       "      <td>...</td>\n",
       "    </tr>\n",
       "    <tr>\n",
       "      <th>28513853</th>\n",
       "      <td>271865</td>\n",
       "      <td>X</td>\n",
       "      <td>[Horror, Mystery, Thriller, Action, Thriller, ...</td>\n",
       "      <td>328744</td>\n",
       "      <td>4.0</td>\n",
       "    </tr>\n",
       "    <tr>\n",
       "      <th>28513854</th>\n",
       "      <td>271865</td>\n",
       "      <td>X</td>\n",
       "      <td>[Horror, Mystery, Thriller, Action, Thriller, ...</td>\n",
       "      <td>329018</td>\n",
       "      <td>3.5</td>\n",
       "    </tr>\n",
       "    <tr>\n",
       "      <th>28513855</th>\n",
       "      <td>271865</td>\n",
       "      <td>X</td>\n",
       "      <td>[Horror, Mystery, Thriller, Action, Thriller, ...</td>\n",
       "      <td>329954</td>\n",
       "      <td>3.0</td>\n",
       "    </tr>\n",
       "    <tr>\n",
       "      <th>28513856</th>\n",
       "      <td>271865</td>\n",
       "      <td>X</td>\n",
       "      <td>[Horror, Mystery, Thriller, Action, Thriller, ...</td>\n",
       "      <td>330235</td>\n",
       "      <td>2.5</td>\n",
       "    </tr>\n",
       "    <tr>\n",
       "      <th>28513857</th>\n",
       "      <td>271865</td>\n",
       "      <td>X</td>\n",
       "      <td>[Horror, Mystery, Thriller, Action, Thriller, ...</td>\n",
       "      <td>330447</td>\n",
       "      <td>3.5</td>\n",
       "    </tr>\n",
       "  </tbody>\n",
       "</table>\n",
       "<p>26080627 rows × 5 columns</p>\n",
       "</div>"
      ],
      "text/plain": [
       "          movieId      title  \\\n",
       "0               1  Toy Story   \n",
       "1               1  Toy Story   \n",
       "2               1  Toy Story   \n",
       "3               1  Toy Story   \n",
       "4               1  Toy Story   \n",
       "...           ...        ...   \n",
       "28513853   271865          X   \n",
       "28513854   271865          X   \n",
       "28513855   271865          X   \n",
       "28513856   271865          X   \n",
       "28513857   271865          X   \n",
       "\n",
       "                                                     genres  userId  rating  \n",
       "0         [Adventure, Animation, Children, Comedy, Fanta...       1     4.0  \n",
       "1         [Adventure, Animation, Children, Comedy, Fanta...       2     5.0  \n",
       "2         [Adventure, Animation, Children, Comedy, Fanta...       7     4.0  \n",
       "3         [Adventure, Animation, Children, Comedy, Fanta...      10     3.0  \n",
       "4         [Adventure, Animation, Children, Comedy, Fanta...      12     5.0  \n",
       "...                                                     ...     ...     ...  \n",
       "28513853  [Horror, Mystery, Thriller, Action, Thriller, ...  328744     4.0  \n",
       "28513854  [Horror, Mystery, Thriller, Action, Thriller, ...  329018     3.5  \n",
       "28513855  [Horror, Mystery, Thriller, Action, Thriller, ...  329954     3.0  \n",
       "28513856  [Horror, Mystery, Thriller, Action, Thriller, ...  330235     2.5  \n",
       "28513857  [Horror, Mystery, Thriller, Action, Thriller, ...  330447     3.5  \n",
       "\n",
       "[26080627 rows x 5 columns]"
      ]
     },
     "execution_count": 73,
     "metadata": {},
     "output_type": "execute_result"
    }
   ],
   "source": [
    "merged_df = pd.merge(movies, ratings, on = \"movieId\")\n",
    "merged_df = merged_df[merged_df[\"movieId\"].isin(combined_dataset[\"movieId\"].unique())]\n",
    "merged_df"
   ]
  },
  {
   "cell_type": "markdown",
   "metadata": {
    "id": "I9AhOY1gGDcG"
   },
   "source": [
    "### calculating unique movies and users"
   ]
  },
  {
   "cell_type": "code",
   "execution_count": 74,
   "metadata": {
    "colab": {
     "base_uri": "https://localhost:8080/"
    },
    "id": "OtA84Ay8XgpG",
    "outputId": "f0a7ab63-0a2e-4b3d-f1b6-bb5912d7a873"
   },
   "outputs": [
    {
     "name": "stdout",
     "output_type": "stream",
     "text": [
      "Number of unique users: 130560\n",
      "Number of unique movies: 12157\n"
     ]
    }
   ],
   "source": [
    "n_users = merged_df[\"userId\"].nunique()\n",
    "n_movies = merged_df[\"movieId\"].nunique()\n",
    "print(f\"Number of unique users: {n_users}\")\n",
    "print(f\"Number of unique movies: {n_movies}\")"
   ]
  },
  {
   "cell_type": "code",
   "execution_count": 75,
   "metadata": {
    "colab": {
     "base_uri": "https://localhost:8080/"
    },
    "id": "zaO0KmETZyy8",
    "outputId": "05797267-d856-4e6f-c97a-bff23236ea72"
   },
   "outputs": [
    {
     "name": "stdout",
     "output_type": "stream",
     "text": [
      "Mean rating given by users: 3.6806714390952955\n",
      "Mean rating of movies: 3.2581841385414725\n"
     ]
    }
   ],
   "source": [
    "users_mean_ratings = merged_df.groupby(\"userId\")[\"rating\"].mean()\n",
    "movies_mean_ratings = merged_df.groupby(\"movieId\")[\"rating\"].mean()\n",
    "print(f\"Mean rating given by users: {users_mean_ratings.mean()}\")\n",
    "print(f\"Mean rating of movies: {movies_mean_ratings.mean()}\")"
   ]
  },
  {
   "cell_type": "markdown",
   "metadata": {
    "id": "lPpdK2jC8Qix"
   },
   "source": [
    "### Calculating baysian averaage"
   ]
  },
  {
   "cell_type": "markdown",
   "metadata": {
    "id": "ykZ5F4bAmh-D"
   },
   "source": [
    "\n",
    "we calculate the average rating using **Bayesian Average**, given by:\n",
    "\n",
    "$$\n",
    "/text{avg_rating} = w_i /cdot A_i + (1 - w_i) /cdot S\n",
    "$$\n",
    "\n",
    "Where:\n",
    "$$\n",
    " w_i = /frac{n_i}{n_i + n_{/text{avg}}}\n",
    "$$\n",
    "- /( n_i /): Total number of ratings given to movie /( i /)\n",
    "- /( n_avg /): Average number of ratings given to a movie\n",
    "- /( A_i /): Average rating of movie /( i /)\n",
    "- /( S /): Mean average rating\n"
   ]
  },
  {
   "cell_type": "code",
   "execution_count": 76,
   "metadata": {
    "colab": {
     "base_uri": "https://localhost:8080/"
    },
    "id": "OD1pBzLumjoL",
    "outputId": "316da4e8-4595-4b4d-f345-a4f4b08ed72e"
   },
   "outputs": [
    {
     "name": "stdout",
     "output_type": "stream",
     "text": [
      "/nn_i: /n movieId\n",
      "1         57944\n",
      "2         27299\n",
      "3          9711\n",
      "4          2643\n",
      "5          9837\n",
      "          ...  \n",
      "232131      109\n",
      "241346       54\n",
      "257281      268\n",
      "270946      105\n",
      "271865      482\n",
      "Name: rating, Length: 12157, dtype: int64\n",
      "/nnavg: /n 2145.3176770584846\n",
      "/nw: /n movieId\n",
      "1         0.964298\n",
      "2         0.927140\n",
      "3         0.819057\n",
      "4         0.551968\n",
      "5         0.820960\n",
      "            ...   \n",
      "232131    0.048352\n",
      "241346    0.024553\n",
      "257281    0.111050\n",
      "270946    0.046660\n",
      "271865    0.183457\n",
      "Name: rating, Length: 12157, dtype: float64\n",
      "/n A: /n movieId\n",
      "1         3.885415\n",
      "2         3.252170\n",
      "3         3.084543\n",
      "4         2.823874\n",
      "5         3.010471\n",
      "            ...   \n",
      "232131    2.908257\n",
      "241346    3.555556\n",
      "257281    3.505597\n",
      "270946    2.814286\n",
      "271865    3.272822\n",
      "Name: rating, Length: 12157, dtype: float64\n",
      "/nS: /n 3.5324386948212556\n",
      "/n baysian_avg: /n movieId\n",
      "1         3.872813\n",
      "2         3.272591\n",
      "3         3.165587\n",
      "4         3.141334\n",
      "5         3.103924\n",
      "            ...   \n",
      "232131    3.502258\n",
      "241346    3.533006\n",
      "257281    3.529458\n",
      "270946    3.498930\n",
      "271865    3.484810\n",
      "Name: rating, Length: 12157, dtype: float64\n"
     ]
    }
   ],
   "source": [
    "n_i = merged_df.groupby(\"movieId\")[\"rating\"].count()\n",
    "print(\"/nn_i: /n\" , n_i)\n",
    "n_avg = merged_df.groupby(\"movieId\")[\"rating\"].count().mean()\n",
    "print(\"/nnavg: /n\",n_avg)\n",
    "w = n_i / (n_i + n_avg)\n",
    "print(\"/nw: /n\", w)\n",
    "A = merged_df.groupby(\"movieId\")[\"rating\"].mean()\n",
    "print(\"/n A: /n\",A)\n",
    "S = merged_df[\"rating\"].mean()\n",
    "print(\"/nS: /n\", S)\n",
    "baysian_avg = w * A + (1 - w) * S\n",
    "print(\"/n baysian_avg: /n\", baysian_avg)"
   ]
  },
  {
   "cell_type": "code",
   "execution_count": 77,
   "metadata": {
    "id": "xr9cYE3B6OPL"
   },
   "outputs": [],
   "source": [
    "baysian_avg_df = baysian_avg.reset_index()\n",
    "baysian_avg_df.columns = ['movieId', 'baysian_avg']\n",
    "merged_df = merged_df.merge(baysian_avg_df, on='movieId')"
   ]
  },
  {
   "cell_type": "code",
   "execution_count": 78,
   "metadata": {
    "colab": {
     "base_uri": "https://localhost:8080/",
     "height": 0
    },
    "id": "FtMYiS318ouA",
    "outputId": "da6beea2-9f97-49cf-d853-0d32bec066bc"
   },
   "outputs": [
    {
     "data": {
      "text/html": [
       "<div>\n",
       "<style scoped>\n",
       "    .dataframe tbody tr th:only-of-type {\n",
       "        vertical-align: middle;\n",
       "    }\n",
       "\n",
       "    .dataframe tbody tr th {\n",
       "        vertical-align: top;\n",
       "    }\n",
       "\n",
       "    .dataframe thead th {\n",
       "        text-align: right;\n",
       "    }\n",
       "</style>\n",
       "<table border=\"1\" class=\"dataframe\">\n",
       "  <thead>\n",
       "    <tr style=\"text-align: right;\">\n",
       "      <th></th>\n",
       "      <th>movieId</th>\n",
       "      <th>title</th>\n",
       "      <th>genres</th>\n",
       "      <th>userId</th>\n",
       "      <th>rating</th>\n",
       "      <th>baysian_avg</th>\n",
       "    </tr>\n",
       "  </thead>\n",
       "  <tbody>\n",
       "    <tr>\n",
       "      <th>0</th>\n",
       "      <td>1</td>\n",
       "      <td>Toy Story</td>\n",
       "      <td>[Adventure, Animation, Children, Comedy, Fanta...</td>\n",
       "      <td>1</td>\n",
       "      <td>4.0</td>\n",
       "      <td>3.872813</td>\n",
       "    </tr>\n",
       "    <tr>\n",
       "      <th>1</th>\n",
       "      <td>1</td>\n",
       "      <td>Toy Story</td>\n",
       "      <td>[Adventure, Animation, Children, Comedy, Fanta...</td>\n",
       "      <td>2</td>\n",
       "      <td>5.0</td>\n",
       "      <td>3.872813</td>\n",
       "    </tr>\n",
       "    <tr>\n",
       "      <th>2</th>\n",
       "      <td>1</td>\n",
       "      <td>Toy Story</td>\n",
       "      <td>[Adventure, Animation, Children, Comedy, Fanta...</td>\n",
       "      <td>7</td>\n",
       "      <td>4.0</td>\n",
       "      <td>3.872813</td>\n",
       "    </tr>\n",
       "    <tr>\n",
       "      <th>3</th>\n",
       "      <td>1</td>\n",
       "      <td>Toy Story</td>\n",
       "      <td>[Adventure, Animation, Children, Comedy, Fanta...</td>\n",
       "      <td>10</td>\n",
       "      <td>3.0</td>\n",
       "      <td>3.872813</td>\n",
       "    </tr>\n",
       "    <tr>\n",
       "      <th>4</th>\n",
       "      <td>1</td>\n",
       "      <td>Toy Story</td>\n",
       "      <td>[Adventure, Animation, Children, Comedy, Fanta...</td>\n",
       "      <td>12</td>\n",
       "      <td>5.0</td>\n",
       "      <td>3.872813</td>\n",
       "    </tr>\n",
       "  </tbody>\n",
       "</table>\n",
       "</div>"
      ],
      "text/plain": [
       "   movieId      title                                             genres  \\\n",
       "0        1  Toy Story  [Adventure, Animation, Children, Comedy, Fanta...   \n",
       "1        1  Toy Story  [Adventure, Animation, Children, Comedy, Fanta...   \n",
       "2        1  Toy Story  [Adventure, Animation, Children, Comedy, Fanta...   \n",
       "3        1  Toy Story  [Adventure, Animation, Children, Comedy, Fanta...   \n",
       "4        1  Toy Story  [Adventure, Animation, Children, Comedy, Fanta...   \n",
       "\n",
       "   userId  rating  baysian_avg  \n",
       "0       1     4.0     3.872813  \n",
       "1       2     5.0     3.872813  \n",
       "2       7     4.0     3.872813  \n",
       "3      10     3.0     3.872813  \n",
       "4      12     5.0     3.872813  "
      ]
     },
     "execution_count": 78,
     "metadata": {},
     "output_type": "execute_result"
    }
   ],
   "source": [
    "merged_df.head()"
   ]
  },
  {
   "cell_type": "code",
   "execution_count": 79,
   "metadata": {
    "colab": {
     "base_uri": "https://localhost:8080/",
     "height": 0
    },
    "id": "6D6akkpDDP7I",
    "outputId": "df992566-a404-4c0f-d34c-483474bee107"
   },
   "outputs": [
    {
     "data": {
      "text/html": [
       "<div>\n",
       "<style scoped>\n",
       "    .dataframe tbody tr th:only-of-type {\n",
       "        vertical-align: middle;\n",
       "    }\n",
       "\n",
       "    .dataframe tbody tr th {\n",
       "        vertical-align: top;\n",
       "    }\n",
       "\n",
       "    .dataframe thead th {\n",
       "        text-align: right;\n",
       "    }\n",
       "</style>\n",
       "<table border=\"1\" class=\"dataframe\">\n",
       "  <thead>\n",
       "    <tr style=\"text-align: right;\">\n",
       "      <th></th>\n",
       "      <th>title</th>\n",
       "      <th>baysian_avg</th>\n",
       "    </tr>\n",
       "  </thead>\n",
       "  <tbody>\n",
       "    <tr>\n",
       "      <th>10605</th>\n",
       "      <td>The Shawshank Redemption</td>\n",
       "      <td>4.371141</td>\n",
       "    </tr>\n",
       "    <tr>\n",
       "      <th>9468</th>\n",
       "      <td>The Godfather</td>\n",
       "      <td>4.281378</td>\n",
       "    </tr>\n",
       "    <tr>\n",
       "      <th>10900</th>\n",
       "      <td>The Usual Suspects</td>\n",
       "      <td>4.235300</td>\n",
       "    </tr>\n",
       "    <tr>\n",
       "      <th>9469</th>\n",
       "      <td>The Godfather: Part II</td>\n",
       "      <td>4.216578</td>\n",
       "    </tr>\n",
       "    <tr>\n",
       "      <th>7530</th>\n",
       "      <td>Schindler's List</td>\n",
       "      <td>4.203771</td>\n",
       "    </tr>\n",
       "    <tr>\n",
       "      <th>3220</th>\n",
       "      <td>Fight Club</td>\n",
       "      <td>4.196518</td>\n",
       "    </tr>\n",
       "    <tr>\n",
       "      <th>25</th>\n",
       "      <td>12 Angry Men</td>\n",
       "      <td>4.193469</td>\n",
       "    </tr>\n",
       "    <tr>\n",
       "      <th>6954</th>\n",
       "      <td>Pulp Fiction</td>\n",
       "      <td>4.190418</td>\n",
       "    </tr>\n",
       "    <tr>\n",
       "      <th>7092</th>\n",
       "      <td>Rear Window</td>\n",
       "      <td>4.166583</td>\n",
       "    </tr>\n",
       "    <tr>\n",
       "      <th>6449</th>\n",
       "      <td>One Flew Over the Cuckoo's Nest</td>\n",
       "      <td>4.164495</td>\n",
       "    </tr>\n",
       "  </tbody>\n",
       "</table>\n",
       "</div>"
      ],
      "text/plain": [
       "                                 title  baysian_avg\n",
       "10605         The Shawshank Redemption     4.371141\n",
       "9468                     The Godfather     4.281378\n",
       "10900               The Usual Suspects     4.235300\n",
       "9469            The Godfather: Part II     4.216578\n",
       "7530                  Schindler's List     4.203771\n",
       "3220                        Fight Club     4.196518\n",
       "25                        12 Angry Men     4.193469\n",
       "6954                      Pulp Fiction     4.190418\n",
       "7092                       Rear Window     4.166583\n",
       "6449   One Flew Over the Cuckoo's Nest     4.164495"
      ]
     },
     "execution_count": 79,
     "metadata": {},
     "output_type": "execute_result"
    }
   ],
   "source": [
    "merged_df.groupby(\"title\")[\"baysian_avg\"].mean().reset_index().sort_values(\"baysian_avg\", ascending=False).head(10)"
   ]
  },
  {
   "cell_type": "code",
   "execution_count": 80,
   "metadata": {
    "colab": {
     "base_uri": "https://localhost:8080/",
     "height": 0
    },
    "id": "58VD8RodDV01",
    "outputId": "89ebaa4c-181a-4e85-ef28-d17ac29b4ea4"
   },
   "outputs": [
    {
     "data": {
      "text/html": [
       "<div>\n",
       "<style scoped>\n",
       "    .dataframe tbody tr th:only-of-type {\n",
       "        vertical-align: middle;\n",
       "    }\n",
       "\n",
       "    .dataframe tbody tr th {\n",
       "        vertical-align: top;\n",
       "    }\n",
       "\n",
       "    .dataframe thead th {\n",
       "        text-align: right;\n",
       "    }\n",
       "</style>\n",
       "<table border=\"1\" class=\"dataframe\">\n",
       "  <thead>\n",
       "    <tr style=\"text-align: right;\">\n",
       "      <th></th>\n",
       "      <th>title</th>\n",
       "      <th>baysian_avg</th>\n",
       "    </tr>\n",
       "  </thead>\n",
       "  <tbody>\n",
       "    <tr>\n",
       "      <th>1097</th>\n",
       "      <td>Battlefield Earth</td>\n",
       "      <td>2.162683</td>\n",
       "    </tr>\n",
       "    <tr>\n",
       "      <th>8047</th>\n",
       "      <td>Speed 2: Cruise Control</td>\n",
       "      <td>2.341153</td>\n",
       "    </tr>\n",
       "    <tr>\n",
       "      <th>1077</th>\n",
       "      <td>Batman &amp; Robin</td>\n",
       "      <td>2.360734</td>\n",
       "    </tr>\n",
       "    <tr>\n",
       "      <th>710</th>\n",
       "      <td>Anaconda</td>\n",
       "      <td>2.434073</td>\n",
       "    </tr>\n",
       "    <tr>\n",
       "      <th>8317</th>\n",
       "      <td>Super Mario Bros.</td>\n",
       "      <td>2.455074</td>\n",
       "    </tr>\n",
       "    <tr>\n",
       "      <th>4146</th>\n",
       "      <td>Home Alone 3</td>\n",
       "      <td>2.485684</td>\n",
       "    </tr>\n",
       "    <tr>\n",
       "      <th>11925</th>\n",
       "      <td>Wild Wild West</td>\n",
       "      <td>2.486590</td>\n",
       "    </tr>\n",
       "    <tr>\n",
       "      <th>1857</th>\n",
       "      <td>Catwoman</td>\n",
       "      <td>2.526508</td>\n",
       "    </tr>\n",
       "    <tr>\n",
       "      <th>7765</th>\n",
       "      <td>Showgirls</td>\n",
       "      <td>2.527825</td>\n",
       "    </tr>\n",
       "    <tr>\n",
       "      <th>3782</th>\n",
       "      <td>Grease 2</td>\n",
       "      <td>2.541670</td>\n",
       "    </tr>\n",
       "  </tbody>\n",
       "</table>\n",
       "</div>"
      ],
      "text/plain": [
       "                         title  baysian_avg\n",
       "1097         Battlefield Earth     2.162683\n",
       "8047   Speed 2: Cruise Control     2.341153\n",
       "1077            Batman & Robin     2.360734\n",
       "710                   Anaconda     2.434073\n",
       "8317         Super Mario Bros.     2.455074\n",
       "4146              Home Alone 3     2.485684\n",
       "11925           Wild Wild West     2.486590\n",
       "1857                  Catwoman     2.526508\n",
       "7765                 Showgirls     2.527825\n",
       "3782                  Grease 2     2.541670"
      ]
     },
     "execution_count": 80,
     "metadata": {},
     "output_type": "execute_result"
    }
   ],
   "source": [
    "merged_df.groupby(\"title\")[\"baysian_avg\"].mean().reset_index().sort_values(\"baysian_avg\", ascending=True).head(10)"
   ]
  },
  {
   "cell_type": "code",
   "execution_count": 81,
   "metadata": {},
   "outputs": [],
   "source": [
    "if not os.path.exists(\"C:/Users/FrostyFjord/Documents/movie-recommendation-data/dataset/\"):\n",
    "  os.mkdir(\"C:/Users/FrostyFjord/Documents/movie-recommendation-data/dataset\")\n",
    "merged_df.to_csv('C:/Users/FrostyFjord/Documents/movie-recommendation-data/dataset/merged_rating_df.csv')"
   ]
  },
  {
   "cell_type": "markdown",
   "metadata": {
    "id": "vrtbkFyC-TIg"
   },
   "source": [
    "# making pivot matrix"
   ]
  },
  {
   "cell_type": "markdown",
   "metadata": {
    "id": "-GguFCj1x7wC"
   },
   "source": [
    "## creating the pivot table"
   ]
  },
  {
   "cell_type": "code",
   "execution_count": 82,
   "metadata": {
    "id": "JZ4YgwcN-Vbv"
   },
   "outputs": [
    {
     "data": {
      "text/html": [
       "<div>\n",
       "<style scoped>\n",
       "    .dataframe tbody tr th:only-of-type {\n",
       "        vertical-align: middle;\n",
       "    }\n",
       "\n",
       "    .dataframe tbody tr th {\n",
       "        vertical-align: top;\n",
       "    }\n",
       "\n",
       "    .dataframe thead th {\n",
       "        text-align: right;\n",
       "    }\n",
       "</style>\n",
       "<table border=\"1\" class=\"dataframe\">\n",
       "  <thead>\n",
       "    <tr style=\"text-align: right;\">\n",
       "      <th>userId</th>\n",
       "      <th>1</th>\n",
       "      <th>2</th>\n",
       "      <th>7</th>\n",
       "      <th>9</th>\n",
       "      <th>10</th>\n",
       "      <th>12</th>\n",
       "      <th>14</th>\n",
       "      <th>17</th>\n",
       "      <th>21</th>\n",
       "      <th>22</th>\n",
       "      <th>...</th>\n",
       "      <th>330951</th>\n",
       "      <th>330957</th>\n",
       "      <th>330960</th>\n",
       "      <th>330961</th>\n",
       "      <th>330967</th>\n",
       "      <th>330970</th>\n",
       "      <th>330971</th>\n",
       "      <th>330972</th>\n",
       "      <th>330974</th>\n",
       "      <th>330975</th>\n",
       "    </tr>\n",
       "    <tr>\n",
       "      <th>title</th>\n",
       "      <th></th>\n",
       "      <th></th>\n",
       "      <th></th>\n",
       "      <th></th>\n",
       "      <th></th>\n",
       "      <th></th>\n",
       "      <th></th>\n",
       "      <th></th>\n",
       "      <th></th>\n",
       "      <th></th>\n",
       "      <th></th>\n",
       "      <th></th>\n",
       "      <th></th>\n",
       "      <th></th>\n",
       "      <th></th>\n",
       "      <th></th>\n",
       "      <th></th>\n",
       "      <th></th>\n",
       "      <th></th>\n",
       "      <th></th>\n",
       "      <th></th>\n",
       "    </tr>\n",
       "  </thead>\n",
       "  <tbody>\n",
       "    <tr>\n",
       "      <th>$9.99</th>\n",
       "      <td>0.0</td>\n",
       "      <td>0.0</td>\n",
       "      <td>0.0</td>\n",
       "      <td>0.0</td>\n",
       "      <td>0.0</td>\n",
       "      <td>0.0</td>\n",
       "      <td>0.0</td>\n",
       "      <td>0.0</td>\n",
       "      <td>0.0</td>\n",
       "      <td>0.0</td>\n",
       "      <td>...</td>\n",
       "      <td>0.0</td>\n",
       "      <td>0.0</td>\n",
       "      <td>0.0</td>\n",
       "      <td>0.0</td>\n",
       "      <td>0.0</td>\n",
       "      <td>0.0</td>\n",
       "      <td>0.0</td>\n",
       "      <td>0.0</td>\n",
       "      <td>0.0</td>\n",
       "      <td>0.0</td>\n",
       "    </tr>\n",
       "    <tr>\n",
       "      <th>'71</th>\n",
       "      <td>0.0</td>\n",
       "      <td>0.0</td>\n",
       "      <td>0.0</td>\n",
       "      <td>0.0</td>\n",
       "      <td>0.0</td>\n",
       "      <td>0.0</td>\n",
       "      <td>0.0</td>\n",
       "      <td>0.0</td>\n",
       "      <td>0.0</td>\n",
       "      <td>0.0</td>\n",
       "      <td>...</td>\n",
       "      <td>0.0</td>\n",
       "      <td>0.0</td>\n",
       "      <td>0.0</td>\n",
       "      <td>0.0</td>\n",
       "      <td>0.0</td>\n",
       "      <td>0.0</td>\n",
       "      <td>0.0</td>\n",
       "      <td>0.0</td>\n",
       "      <td>0.0</td>\n",
       "      <td>0.0</td>\n",
       "    </tr>\n",
       "    <tr>\n",
       "      <th>+1</th>\n",
       "      <td>0.0</td>\n",
       "      <td>0.0</td>\n",
       "      <td>0.0</td>\n",
       "      <td>0.0</td>\n",
       "      <td>0.0</td>\n",
       "      <td>0.0</td>\n",
       "      <td>0.0</td>\n",
       "      <td>0.0</td>\n",
       "      <td>0.0</td>\n",
       "      <td>0.0</td>\n",
       "      <td>...</td>\n",
       "      <td>0.0</td>\n",
       "      <td>0.0</td>\n",
       "      <td>0.0</td>\n",
       "      <td>0.0</td>\n",
       "      <td>0.0</td>\n",
       "      <td>0.0</td>\n",
       "      <td>0.0</td>\n",
       "      <td>0.0</td>\n",
       "      <td>0.0</td>\n",
       "      <td>0.0</td>\n",
       "    </tr>\n",
       "    <tr>\n",
       "      <th>...All the Marbles</th>\n",
       "      <td>0.0</td>\n",
       "      <td>0.0</td>\n",
       "      <td>0.0</td>\n",
       "      <td>0.0</td>\n",
       "      <td>0.0</td>\n",
       "      <td>0.0</td>\n",
       "      <td>0.0</td>\n",
       "      <td>0.0</td>\n",
       "      <td>0.0</td>\n",
       "      <td>0.0</td>\n",
       "      <td>...</td>\n",
       "      <td>0.0</td>\n",
       "      <td>0.0</td>\n",
       "      <td>0.0</td>\n",
       "      <td>0.0</td>\n",
       "      <td>0.0</td>\n",
       "      <td>0.0</td>\n",
       "      <td>0.0</td>\n",
       "      <td>0.0</td>\n",
       "      <td>0.0</td>\n",
       "      <td>0.0</td>\n",
       "    </tr>\n",
       "    <tr>\n",
       "      <th>...And Justice for All</th>\n",
       "      <td>0.0</td>\n",
       "      <td>0.0</td>\n",
       "      <td>0.0</td>\n",
       "      <td>0.0</td>\n",
       "      <td>0.0</td>\n",
       "      <td>0.0</td>\n",
       "      <td>0.0</td>\n",
       "      <td>0.0</td>\n",
       "      <td>0.0</td>\n",
       "      <td>0.0</td>\n",
       "      <td>...</td>\n",
       "      <td>0.0</td>\n",
       "      <td>0.0</td>\n",
       "      <td>0.0</td>\n",
       "      <td>0.0</td>\n",
       "      <td>0.0</td>\n",
       "      <td>0.0</td>\n",
       "      <td>0.0</td>\n",
       "      <td>0.0</td>\n",
       "      <td>0.0</td>\n",
       "      <td>0.0</td>\n",
       "    </tr>\n",
       "    <tr>\n",
       "      <th>...</th>\n",
       "      <td>...</td>\n",
       "      <td>...</td>\n",
       "      <td>...</td>\n",
       "      <td>...</td>\n",
       "      <td>...</td>\n",
       "      <td>...</td>\n",
       "      <td>...</td>\n",
       "      <td>...</td>\n",
       "      <td>...</td>\n",
       "      <td>...</td>\n",
       "      <td>...</td>\n",
       "      <td>...</td>\n",
       "      <td>...</td>\n",
       "      <td>...</td>\n",
       "      <td>...</td>\n",
       "      <td>...</td>\n",
       "      <td>...</td>\n",
       "      <td>...</td>\n",
       "      <td>...</td>\n",
       "      <td>...</td>\n",
       "      <td>...</td>\n",
       "    </tr>\n",
       "    <tr>\n",
       "      <th>xXx: Return of Xander Cage</th>\n",
       "      <td>0.0</td>\n",
       "      <td>0.0</td>\n",
       "      <td>0.0</td>\n",
       "      <td>0.0</td>\n",
       "      <td>0.0</td>\n",
       "      <td>0.0</td>\n",
       "      <td>0.0</td>\n",
       "      <td>0.0</td>\n",
       "      <td>0.0</td>\n",
       "      <td>0.0</td>\n",
       "      <td>...</td>\n",
       "      <td>0.0</td>\n",
       "      <td>0.0</td>\n",
       "      <td>0.0</td>\n",
       "      <td>0.0</td>\n",
       "      <td>0.0</td>\n",
       "      <td>0.0</td>\n",
       "      <td>0.0</td>\n",
       "      <td>0.0</td>\n",
       "      <td>0.0</td>\n",
       "      <td>0.0</td>\n",
       "    </tr>\n",
       "    <tr>\n",
       "      <th>xXx: State of the Union</th>\n",
       "      <td>0.0</td>\n",
       "      <td>0.0</td>\n",
       "      <td>0.0</td>\n",
       "      <td>0.0</td>\n",
       "      <td>0.0</td>\n",
       "      <td>0.0</td>\n",
       "      <td>0.0</td>\n",
       "      <td>0.0</td>\n",
       "      <td>0.0</td>\n",
       "      <td>0.0</td>\n",
       "      <td>...</td>\n",
       "      <td>0.0</td>\n",
       "      <td>0.0</td>\n",
       "      <td>0.0</td>\n",
       "      <td>0.0</td>\n",
       "      <td>0.0</td>\n",
       "      <td>0.0</td>\n",
       "      <td>0.0</td>\n",
       "      <td>0.0</td>\n",
       "      <td>0.0</td>\n",
       "      <td>0.0</td>\n",
       "    </tr>\n",
       "    <tr>\n",
       "      <th>¡Three Amigos!</th>\n",
       "      <td>0.0</td>\n",
       "      <td>0.0</td>\n",
       "      <td>0.0</td>\n",
       "      <td>0.0</td>\n",
       "      <td>0.0</td>\n",
       "      <td>0.0</td>\n",
       "      <td>0.0</td>\n",
       "      <td>0.0</td>\n",
       "      <td>0.0</td>\n",
       "      <td>0.0</td>\n",
       "      <td>...</td>\n",
       "      <td>0.0</td>\n",
       "      <td>0.0</td>\n",
       "      <td>0.0</td>\n",
       "      <td>0.0</td>\n",
       "      <td>0.0</td>\n",
       "      <td>0.0</td>\n",
       "      <td>0.0</td>\n",
       "      <td>0.0</td>\n",
       "      <td>0.0</td>\n",
       "      <td>0.0</td>\n",
       "    </tr>\n",
       "    <tr>\n",
       "      <th>À nos amours</th>\n",
       "      <td>0.0</td>\n",
       "      <td>0.0</td>\n",
       "      <td>0.0</td>\n",
       "      <td>0.0</td>\n",
       "      <td>0.0</td>\n",
       "      <td>0.0</td>\n",
       "      <td>0.0</td>\n",
       "      <td>0.0</td>\n",
       "      <td>0.0</td>\n",
       "      <td>0.0</td>\n",
       "      <td>...</td>\n",
       "      <td>0.0</td>\n",
       "      <td>0.0</td>\n",
       "      <td>0.0</td>\n",
       "      <td>0.0</td>\n",
       "      <td>0.0</td>\n",
       "      <td>0.0</td>\n",
       "      <td>0.0</td>\n",
       "      <td>0.0</td>\n",
       "      <td>0.0</td>\n",
       "      <td>0.0</td>\n",
       "    </tr>\n",
       "    <tr>\n",
       "      <th>À propos de Nice</th>\n",
       "      <td>0.0</td>\n",
       "      <td>0.0</td>\n",
       "      <td>0.0</td>\n",
       "      <td>0.0</td>\n",
       "      <td>0.0</td>\n",
       "      <td>0.0</td>\n",
       "      <td>0.0</td>\n",
       "      <td>0.0</td>\n",
       "      <td>0.0</td>\n",
       "      <td>0.0</td>\n",
       "      <td>...</td>\n",
       "      <td>0.0</td>\n",
       "      <td>0.0</td>\n",
       "      <td>0.0</td>\n",
       "      <td>0.0</td>\n",
       "      <td>0.0</td>\n",
       "      <td>0.0</td>\n",
       "      <td>0.0</td>\n",
       "      <td>0.0</td>\n",
       "      <td>0.0</td>\n",
       "      <td>0.0</td>\n",
       "    </tr>\n",
       "  </tbody>\n",
       "</table>\n",
       "<p>12157 rows × 130560 columns</p>\n",
       "</div>"
      ],
      "text/plain": [
       "userId                      1       2       7       9       10      12      \\\n",
       "title                                                                        \n",
       "$9.99                          0.0     0.0     0.0     0.0     0.0     0.0   \n",
       "'71                            0.0     0.0     0.0     0.0     0.0     0.0   \n",
       "+1                             0.0     0.0     0.0     0.0     0.0     0.0   \n",
       "...All the Marbles             0.0     0.0     0.0     0.0     0.0     0.0   \n",
       "...And Justice for All         0.0     0.0     0.0     0.0     0.0     0.0   \n",
       "...                            ...     ...     ...     ...     ...     ...   \n",
       "xXx: Return of Xander Cage     0.0     0.0     0.0     0.0     0.0     0.0   \n",
       "xXx: State of the Union        0.0     0.0     0.0     0.0     0.0     0.0   \n",
       "¡Three Amigos!                 0.0     0.0     0.0     0.0     0.0     0.0   \n",
       "À nos amours                   0.0     0.0     0.0     0.0     0.0     0.0   \n",
       "À propos de Nice               0.0     0.0     0.0     0.0     0.0     0.0   \n",
       "\n",
       "userId                      14      17      21      22      ...  330951  \\\n",
       "title                                                       ...           \n",
       "$9.99                          0.0     0.0     0.0     0.0  ...     0.0   \n",
       "'71                            0.0     0.0     0.0     0.0  ...     0.0   \n",
       "+1                             0.0     0.0     0.0     0.0  ...     0.0   \n",
       "...All the Marbles             0.0     0.0     0.0     0.0  ...     0.0   \n",
       "...And Justice for All         0.0     0.0     0.0     0.0  ...     0.0   \n",
       "...                            ...     ...     ...     ...  ...     ...   \n",
       "xXx: Return of Xander Cage     0.0     0.0     0.0     0.0  ...     0.0   \n",
       "xXx: State of the Union        0.0     0.0     0.0     0.0  ...     0.0   \n",
       "¡Three Amigos!                 0.0     0.0     0.0     0.0  ...     0.0   \n",
       "À nos amours                   0.0     0.0     0.0     0.0  ...     0.0   \n",
       "À propos de Nice               0.0     0.0     0.0     0.0  ...     0.0   \n",
       "\n",
       "userId                      330957  330960  330961  330967  330970  330971  \\\n",
       "title                                                                        \n",
       "$9.99                          0.0     0.0     0.0     0.0     0.0     0.0   \n",
       "'71                            0.0     0.0     0.0     0.0     0.0     0.0   \n",
       "+1                             0.0     0.0     0.0     0.0     0.0     0.0   \n",
       "...All the Marbles             0.0     0.0     0.0     0.0     0.0     0.0   \n",
       "...And Justice for All         0.0     0.0     0.0     0.0     0.0     0.0   \n",
       "...                            ...     ...     ...     ...     ...     ...   \n",
       "xXx: Return of Xander Cage     0.0     0.0     0.0     0.0     0.0     0.0   \n",
       "xXx: State of the Union        0.0     0.0     0.0     0.0     0.0     0.0   \n",
       "¡Three Amigos!                 0.0     0.0     0.0     0.0     0.0     0.0   \n",
       "À nos amours                   0.0     0.0     0.0     0.0     0.0     0.0   \n",
       "À propos de Nice               0.0     0.0     0.0     0.0     0.0     0.0   \n",
       "\n",
       "userId                      330972  330974  330975  \n",
       "title                                               \n",
       "$9.99                          0.0     0.0     0.0  \n",
       "'71                            0.0     0.0     0.0  \n",
       "+1                             0.0     0.0     0.0  \n",
       "...All the Marbles             0.0     0.0     0.0  \n",
       "...And Justice for All         0.0     0.0     0.0  \n",
       "...                            ...     ...     ...  \n",
       "xXx: Return of Xander Cage     0.0     0.0     0.0  \n",
       "xXx: State of the Union        0.0     0.0     0.0  \n",
       "¡Three Amigos!                 0.0     0.0     0.0  \n",
       "À nos amours                   0.0     0.0     0.0  \n",
       "À propos de Nice               0.0     0.0     0.0  \n",
       "\n",
       "[12157 rows x 130560 columns]"
      ]
     },
     "execution_count": 82,
     "metadata": {},
     "output_type": "execute_result"
    }
   ],
   "source": [
    "pivot = merged_df.pivot_table(index='title', columns='userId', values='rating', )\n",
    "pivot.fillna(0, inplace=True)\n",
    "pivot"
   ]
  },
  {
   "cell_type": "markdown",
   "metadata": {
    "id": "gNTKbMFNwKvf"
   },
   "source": [
    "# making the scipy matrix\n",
    "this is used for efficient storage of sparse data"
   ]
  },
  {
   "cell_type": "code",
   "execution_count": 83,
   "metadata": {
    "id": "AAmns51GwT9m"
   },
   "outputs": [
    {
     "data": {
      "text/plain": [
       "<Compressed Sparse Row sparse matrix of dtype 'float64'\n",
       "\twith 26080627 stored elements and shape (12157, 130560)>"
      ]
     },
     "execution_count": 83,
     "metadata": {},
     "output_type": "execute_result"
    }
   ],
   "source": [
    "from scipy.sparse import csr_matrix\n",
    "matrix = csr_matrix(pivot)\n",
    "matrix"
   ]
  },
  {
   "cell_type": "markdown",
   "metadata": {
    "id": "boxzOsXu3YO4"
   },
   "source": [
    "# movie based collaborative filltering model:\n",
    "## predict similar movies based on similar user ratings\n",
    "this content based recommender calculates the cosine similarity between the pivot vector for given movie name and rest of the movies in the pivot table. it then returns the most similar vectors. this means if a movies A and B have both been rated highly by say users x, y, z, then upon prediction for movie A, movie B will be returned and vice versa.\n",
    "the intuition behind this model is that, we try to find movies rated similarly by users. if movie A was liked by user 1 through 10, and there aslso exists a movie B, liked by 9 of these users, we should recommend movie B to the 10th user. he will most likely like it aas well."
   ]
  },
  {
   "cell_type": "markdown",
   "metadata": {
    "id": "FVl0g84f3dhF"
   },
   "source": [
    "## defining the knn model"
   ]
  },
  {
   "cell_type": "code",
   "execution_count": 84,
   "metadata": {
    "id": "3Qw8V18C3XpD"
   },
   "outputs": [
    {
     "data": {
      "text/html": [
       "<style>#sk-container-id-1 {\n",
       "  /* Definition of color scheme common for light and dark mode */\n",
       "  --sklearn-color-text: #000;\n",
       "  --sklearn-color-text-muted: #666;\n",
       "  --sklearn-color-line: gray;\n",
       "  /* Definition of color scheme for unfitted estimators */\n",
       "  --sklearn-color-unfitted-level-0: #fff5e6;\n",
       "  --sklearn-color-unfitted-level-1: #f6e4d2;\n",
       "  --sklearn-color-unfitted-level-2: #ffe0b3;\n",
       "  --sklearn-color-unfitted-level-3: chocolate;\n",
       "  /* Definition of color scheme for fitted estimators */\n",
       "  --sklearn-color-fitted-level-0: #f0f8ff;\n",
       "  --sklearn-color-fitted-level-1: #d4ebff;\n",
       "  --sklearn-color-fitted-level-2: #b3dbfd;\n",
       "  --sklearn-color-fitted-level-3: cornflowerblue;\n",
       "\n",
       "  /* Specific color for light theme */\n",
       "  --sklearn-color-text-on-default-background: var(--sg-text-color, var(--theme-code-foreground, var(--jp-content-font-color1, black)));\n",
       "  --sklearn-color-background: var(--sg-background-color, var(--theme-background, var(--jp-layout-color0, white)));\n",
       "  --sklearn-color-border-box: var(--sg-text-color, var(--theme-code-foreground, var(--jp-content-font-color1, black)));\n",
       "  --sklearn-color-icon: #696969;\n",
       "\n",
       "  @media (prefers-color-scheme: dark) {\n",
       "    /* Redefinition of color scheme for dark theme */\n",
       "    --sklearn-color-text-on-default-background: var(--sg-text-color, var(--theme-code-foreground, var(--jp-content-font-color1, white)));\n",
       "    --sklearn-color-background: var(--sg-background-color, var(--theme-background, var(--jp-layout-color0, #111)));\n",
       "    --sklearn-color-border-box: var(--sg-text-color, var(--theme-code-foreground, var(--jp-content-font-color1, white)));\n",
       "    --sklearn-color-icon: #878787;\n",
       "  }\n",
       "}\n",
       "\n",
       "#sk-container-id-1 {\n",
       "  color: var(--sklearn-color-text);\n",
       "}\n",
       "\n",
       "#sk-container-id-1 pre {\n",
       "  padding: 0;\n",
       "}\n",
       "\n",
       "#sk-container-id-1 input.sk-hidden--visually {\n",
       "  border: 0;\n",
       "  clip: rect(1px 1px 1px 1px);\n",
       "  clip: rect(1px, 1px, 1px, 1px);\n",
       "  height: 1px;\n",
       "  margin: -1px;\n",
       "  overflow: hidden;\n",
       "  padding: 0;\n",
       "  position: absolute;\n",
       "  width: 1px;\n",
       "}\n",
       "\n",
       "#sk-container-id-1 div.sk-dashed-wrapped {\n",
       "  border: 1px dashed var(--sklearn-color-line);\n",
       "  margin: 0 0.4em 0.5em 0.4em;\n",
       "  box-sizing: border-box;\n",
       "  padding-bottom: 0.4em;\n",
       "  background-color: var(--sklearn-color-background);\n",
       "}\n",
       "\n",
       "#sk-container-id-1 div.sk-container {\n",
       "  /* jupyter's `normalize.less` sets `[hidden] { display: none; }`\n",
       "     but bootstrap.min.css set `[hidden] { display: none !important; }`\n",
       "     so we also need the `!important` here to be able to override the\n",
       "     default hidden behavior on the sphinx rendered scikit-learn.org.\n",
       "     See: https://github.com/scikit-learn/scikit-learn/issues/21755 */\n",
       "  display: inline-block !important;\n",
       "  position: relative;\n",
       "}\n",
       "\n",
       "#sk-container-id-1 div.sk-text-repr-fallback {\n",
       "  display: none;\n",
       "}\n",
       "\n",
       "div.sk-parallel-item,\n",
       "div.sk-serial,\n",
       "div.sk-item {\n",
       "  /* draw centered vertical line to link estimators */\n",
       "  background-image: linear-gradient(var(--sklearn-color-text-on-default-background), var(--sklearn-color-text-on-default-background));\n",
       "  background-size: 2px 100%;\n",
       "  background-repeat: no-repeat;\n",
       "  background-position: center center;\n",
       "}\n",
       "\n",
       "/* Parallel-specific style estimator block */\n",
       "\n",
       "#sk-container-id-1 div.sk-parallel-item::after {\n",
       "  content: \"\";\n",
       "  width: 100%;\n",
       "  border-bottom: 2px solid var(--sklearn-color-text-on-default-background);\n",
       "  flex-grow: 1;\n",
       "}\n",
       "\n",
       "#sk-container-id-1 div.sk-parallel {\n",
       "  display: flex;\n",
       "  align-items: stretch;\n",
       "  justify-content: center;\n",
       "  background-color: var(--sklearn-color-background);\n",
       "  position: relative;\n",
       "}\n",
       "\n",
       "#sk-container-id-1 div.sk-parallel-item {\n",
       "  display: flex;\n",
       "  flex-direction: column;\n",
       "}\n",
       "\n",
       "#sk-container-id-1 div.sk-parallel-item:first-child::after {\n",
       "  align-self: flex-end;\n",
       "  width: 50%;\n",
       "}\n",
       "\n",
       "#sk-container-id-1 div.sk-parallel-item:last-child::after {\n",
       "  align-self: flex-start;\n",
       "  width: 50%;\n",
       "}\n",
       "\n",
       "#sk-container-id-1 div.sk-parallel-item:only-child::after {\n",
       "  width: 0;\n",
       "}\n",
       "\n",
       "/* Serial-specific style estimator block */\n",
       "\n",
       "#sk-container-id-1 div.sk-serial {\n",
       "  display: flex;\n",
       "  flex-direction: column;\n",
       "  align-items: center;\n",
       "  background-color: var(--sklearn-color-background);\n",
       "  padding-right: 1em;\n",
       "  padding-left: 1em;\n",
       "}\n",
       "\n",
       "\n",
       "/* Toggleable style: style used for estimator/Pipeline/ColumnTransformer box that is\n",
       "clickable and can be expanded/collapsed.\n",
       "- Pipeline and ColumnTransformer use this feature and define the default style\n",
       "- Estimators will overwrite some part of the style using the `sk-estimator` class\n",
       "*/\n",
       "\n",
       "/* Pipeline and ColumnTransformer style (default) */\n",
       "\n",
       "#sk-container-id-1 div.sk-toggleable {\n",
       "  /* Default theme specific background. It is overwritten whether we have a\n",
       "  specific estimator or a Pipeline/ColumnTransformer */\n",
       "  background-color: var(--sklearn-color-background);\n",
       "}\n",
       "\n",
       "/* Toggleable label */\n",
       "#sk-container-id-1 label.sk-toggleable__label {\n",
       "  cursor: pointer;\n",
       "  display: flex;\n",
       "  width: 100%;\n",
       "  margin-bottom: 0;\n",
       "  padding: 0.5em;\n",
       "  box-sizing: border-box;\n",
       "  text-align: center;\n",
       "  align-items: start;\n",
       "  justify-content: space-between;\n",
       "  gap: 0.5em;\n",
       "}\n",
       "\n",
       "#sk-container-id-1 label.sk-toggleable__label .caption {\n",
       "  font-size: 0.6rem;\n",
       "  font-weight: lighter;\n",
       "  color: var(--sklearn-color-text-muted);\n",
       "}\n",
       "\n",
       "#sk-container-id-1 label.sk-toggleable__label-arrow:before {\n",
       "  /* Arrow on the left of the label */\n",
       "  content: \"▸\";\n",
       "  float: left;\n",
       "  margin-right: 0.25em;\n",
       "  color: var(--sklearn-color-icon);\n",
       "}\n",
       "\n",
       "#sk-container-id-1 label.sk-toggleable__label-arrow:hover:before {\n",
       "  color: var(--sklearn-color-text);\n",
       "}\n",
       "\n",
       "/* Toggleable content - dropdown */\n",
       "\n",
       "#sk-container-id-1 div.sk-toggleable__content {\n",
       "  max-height: 0;\n",
       "  max-width: 0;\n",
       "  overflow: hidden;\n",
       "  text-align: left;\n",
       "  /* unfitted */\n",
       "  background-color: var(--sklearn-color-unfitted-level-0);\n",
       "}\n",
       "\n",
       "#sk-container-id-1 div.sk-toggleable__content.fitted {\n",
       "  /* fitted */\n",
       "  background-color: var(--sklearn-color-fitted-level-0);\n",
       "}\n",
       "\n",
       "#sk-container-id-1 div.sk-toggleable__content pre {\n",
       "  margin: 0.2em;\n",
       "  border-radius: 0.25em;\n",
       "  color: var(--sklearn-color-text);\n",
       "  /* unfitted */\n",
       "  background-color: var(--sklearn-color-unfitted-level-0);\n",
       "}\n",
       "\n",
       "#sk-container-id-1 div.sk-toggleable__content.fitted pre {\n",
       "  /* unfitted */\n",
       "  background-color: var(--sklearn-color-fitted-level-0);\n",
       "}\n",
       "\n",
       "#sk-container-id-1 input.sk-toggleable__control:checked~div.sk-toggleable__content {\n",
       "  /* Expand drop-down */\n",
       "  max-height: 200px;\n",
       "  max-width: 100%;\n",
       "  overflow: auto;\n",
       "}\n",
       "\n",
       "#sk-container-id-1 input.sk-toggleable__control:checked~label.sk-toggleable__label-arrow:before {\n",
       "  content: \"▾\";\n",
       "}\n",
       "\n",
       "/* Pipeline/ColumnTransformer-specific style */\n",
       "\n",
       "#sk-container-id-1 div.sk-label input.sk-toggleable__control:checked~label.sk-toggleable__label {\n",
       "  color: var(--sklearn-color-text);\n",
       "  background-color: var(--sklearn-color-unfitted-level-2);\n",
       "}\n",
       "\n",
       "#sk-container-id-1 div.sk-label.fitted input.sk-toggleable__control:checked~label.sk-toggleable__label {\n",
       "  background-color: var(--sklearn-color-fitted-level-2);\n",
       "}\n",
       "\n",
       "/* Estimator-specific style */\n",
       "\n",
       "/* Colorize estimator box */\n",
       "#sk-container-id-1 div.sk-estimator input.sk-toggleable__control:checked~label.sk-toggleable__label {\n",
       "  /* unfitted */\n",
       "  background-color: var(--sklearn-color-unfitted-level-2);\n",
       "}\n",
       "\n",
       "#sk-container-id-1 div.sk-estimator.fitted input.sk-toggleable__control:checked~label.sk-toggleable__label {\n",
       "  /* fitted */\n",
       "  background-color: var(--sklearn-color-fitted-level-2);\n",
       "}\n",
       "\n",
       "#sk-container-id-1 div.sk-label label.sk-toggleable__label,\n",
       "#sk-container-id-1 div.sk-label label {\n",
       "  /* The background is the default theme color */\n",
       "  color: var(--sklearn-color-text-on-default-background);\n",
       "}\n",
       "\n",
       "/* On hover, darken the color of the background */\n",
       "#sk-container-id-1 div.sk-label:hover label.sk-toggleable__label {\n",
       "  color: var(--sklearn-color-text);\n",
       "  background-color: var(--sklearn-color-unfitted-level-2);\n",
       "}\n",
       "\n",
       "/* Label box, darken color on hover, fitted */\n",
       "#sk-container-id-1 div.sk-label.fitted:hover label.sk-toggleable__label.fitted {\n",
       "  color: var(--sklearn-color-text);\n",
       "  background-color: var(--sklearn-color-fitted-level-2);\n",
       "}\n",
       "\n",
       "/* Estimator label */\n",
       "\n",
       "#sk-container-id-1 div.sk-label label {\n",
       "  font-family: monospace;\n",
       "  font-weight: bold;\n",
       "  display: inline-block;\n",
       "  line-height: 1.2em;\n",
       "}\n",
       "\n",
       "#sk-container-id-1 div.sk-label-container {\n",
       "  text-align: center;\n",
       "}\n",
       "\n",
       "/* Estimator-specific */\n",
       "#sk-container-id-1 div.sk-estimator {\n",
       "  font-family: monospace;\n",
       "  border: 1px dotted var(--sklearn-color-border-box);\n",
       "  border-radius: 0.25em;\n",
       "  box-sizing: border-box;\n",
       "  margin-bottom: 0.5em;\n",
       "  /* unfitted */\n",
       "  background-color: var(--sklearn-color-unfitted-level-0);\n",
       "}\n",
       "\n",
       "#sk-container-id-1 div.sk-estimator.fitted {\n",
       "  /* fitted */\n",
       "  background-color: var(--sklearn-color-fitted-level-0);\n",
       "}\n",
       "\n",
       "/* on hover */\n",
       "#sk-container-id-1 div.sk-estimator:hover {\n",
       "  /* unfitted */\n",
       "  background-color: var(--sklearn-color-unfitted-level-2);\n",
       "}\n",
       "\n",
       "#sk-container-id-1 div.sk-estimator.fitted:hover {\n",
       "  /* fitted */\n",
       "  background-color: var(--sklearn-color-fitted-level-2);\n",
       "}\n",
       "\n",
       "/* Specification for estimator info (e.g. \"i\" and \"?\") */\n",
       "\n",
       "/* Common style for \"i\" and \"?\" */\n",
       "\n",
       ".sk-estimator-doc-link,\n",
       "a:link.sk-estimator-doc-link,\n",
       "a:visited.sk-estimator-doc-link {\n",
       "  float: right;\n",
       "  font-size: smaller;\n",
       "  line-height: 1em;\n",
       "  font-family: monospace;\n",
       "  background-color: var(--sklearn-color-background);\n",
       "  border-radius: 1em;\n",
       "  height: 1em;\n",
       "  width: 1em;\n",
       "  text-decoration: none !important;\n",
       "  margin-left: 0.5em;\n",
       "  text-align: center;\n",
       "  /* unfitted */\n",
       "  border: var(--sklearn-color-unfitted-level-1) 1pt solid;\n",
       "  color: var(--sklearn-color-unfitted-level-1);\n",
       "}\n",
       "\n",
       ".sk-estimator-doc-link.fitted,\n",
       "a:link.sk-estimator-doc-link.fitted,\n",
       "a:visited.sk-estimator-doc-link.fitted {\n",
       "  /* fitted */\n",
       "  border: var(--sklearn-color-fitted-level-1) 1pt solid;\n",
       "  color: var(--sklearn-color-fitted-level-1);\n",
       "}\n",
       "\n",
       "/* On hover */\n",
       "div.sk-estimator:hover .sk-estimator-doc-link:hover,\n",
       ".sk-estimator-doc-link:hover,\n",
       "div.sk-label-container:hover .sk-estimator-doc-link:hover,\n",
       ".sk-estimator-doc-link:hover {\n",
       "  /* unfitted */\n",
       "  background-color: var(--sklearn-color-unfitted-level-3);\n",
       "  color: var(--sklearn-color-background);\n",
       "  text-decoration: none;\n",
       "}\n",
       "\n",
       "div.sk-estimator.fitted:hover .sk-estimator-doc-link.fitted:hover,\n",
       ".sk-estimator-doc-link.fitted:hover,\n",
       "div.sk-label-container:hover .sk-estimator-doc-link.fitted:hover,\n",
       ".sk-estimator-doc-link.fitted:hover {\n",
       "  /* fitted */\n",
       "  background-color: var(--sklearn-color-fitted-level-3);\n",
       "  color: var(--sklearn-color-background);\n",
       "  text-decoration: none;\n",
       "}\n",
       "\n",
       "/* Span, style for the box shown on hovering the info icon */\n",
       ".sk-estimator-doc-link span {\n",
       "  display: none;\n",
       "  z-index: 9999;\n",
       "  position: relative;\n",
       "  font-weight: normal;\n",
       "  right: .2ex;\n",
       "  padding: .5ex;\n",
       "  margin: .5ex;\n",
       "  width: min-content;\n",
       "  min-width: 20ex;\n",
       "  max-width: 50ex;\n",
       "  color: var(--sklearn-color-text);\n",
       "  box-shadow: 2pt 2pt 4pt #999;\n",
       "  /* unfitted */\n",
       "  background: var(--sklearn-color-unfitted-level-0);\n",
       "  border: .5pt solid var(--sklearn-color-unfitted-level-3);\n",
       "}\n",
       "\n",
       ".sk-estimator-doc-link.fitted span {\n",
       "  /* fitted */\n",
       "  background: var(--sklearn-color-fitted-level-0);\n",
       "  border: var(--sklearn-color-fitted-level-3);\n",
       "}\n",
       "\n",
       ".sk-estimator-doc-link:hover span {\n",
       "  display: block;\n",
       "}\n",
       "\n",
       "/* \"?\"-specific style due to the `<a>` HTML tag */\n",
       "\n",
       "#sk-container-id-1 a.estimator_doc_link {\n",
       "  float: right;\n",
       "  font-size: 1rem;\n",
       "  line-height: 1em;\n",
       "  font-family: monospace;\n",
       "  background-color: var(--sklearn-color-background);\n",
       "  border-radius: 1rem;\n",
       "  height: 1rem;\n",
       "  width: 1rem;\n",
       "  text-decoration: none;\n",
       "  /* unfitted */\n",
       "  color: var(--sklearn-color-unfitted-level-1);\n",
       "  border: var(--sklearn-color-unfitted-level-1) 1pt solid;\n",
       "}\n",
       "\n",
       "#sk-container-id-1 a.estimator_doc_link.fitted {\n",
       "  /* fitted */\n",
       "  border: var(--sklearn-color-fitted-level-1) 1pt solid;\n",
       "  color: var(--sklearn-color-fitted-level-1);\n",
       "}\n",
       "\n",
       "/* On hover */\n",
       "#sk-container-id-1 a.estimator_doc_link:hover {\n",
       "  /* unfitted */\n",
       "  background-color: var(--sklearn-color-unfitted-level-3);\n",
       "  color: var(--sklearn-color-background);\n",
       "  text-decoration: none;\n",
       "}\n",
       "\n",
       "#sk-container-id-1 a.estimator_doc_link.fitted:hover {\n",
       "  /* fitted */\n",
       "  background-color: var(--sklearn-color-fitted-level-3);\n",
       "}\n",
       "</style><div id=\"sk-container-id-1\" class=\"sk-top-container\"><div class=\"sk-text-repr-fallback\"><pre>NearestNeighbors(metric=&#x27;cosine&#x27;, n_neighbors=11)</pre><b>In a Jupyter environment, please rerun this cell to show the HTML representation or trust the notebook. <br />On GitHub, the HTML representation is unable to render, please try loading this page with nbviewer.org.</b></div><div class=\"sk-container\" hidden><div class=\"sk-item\"><div class=\"sk-estimator fitted sk-toggleable\"><input class=\"sk-toggleable__control sk-hidden--visually\" id=\"sk-estimator-id-1\" type=\"checkbox\" checked><label for=\"sk-estimator-id-1\" class=\"sk-toggleable__label fitted sk-toggleable__label-arrow\"><div><div>NearestNeighbors</div></div><div><a class=\"sk-estimator-doc-link fitted\" rel=\"noreferrer\" target=\"_blank\" href=\"https://scikit-learn.org/1.6/modules/generated/sklearn.neighbors.NearestNeighbors.html\">?<span>Documentation for NearestNeighbors</span></a><span class=\"sk-estimator-doc-link fitted\">i<span>Fitted</span></span></div></label><div class=\"sk-toggleable__content fitted\"><pre>NearestNeighbors(metric=&#x27;cosine&#x27;, n_neighbors=11)</pre></div> </div></div></div></div>"
      ],
      "text/plain": [
       "NearestNeighbors(metric='cosine', n_neighbors=11)"
      ]
     },
     "execution_count": 84,
     "metadata": {},
     "output_type": "execute_result"
    }
   ],
   "source": [
    "from sklearn.neighbors import NearestNeighbors\n",
    "model = NearestNeighbors(n_neighbors = 11, algorithm='auto', metric=\"cosine\")\n",
    "model.fit(matrix)"
   ]
  },
  {
   "cell_type": "code",
   "execution_count": 85,
   "metadata": {},
   "outputs": [
    {
     "data": {
      "text/plain": [
       "['C:/Users/FrostyFjord/Documents/movie-recommendation-data/dataset/movie_collaborative_pivot.pkl']"
      ]
     },
     "execution_count": 85,
     "metadata": {},
     "output_type": "execute_result"
    }
   ],
   "source": [
    "if not os.path.exists(\"C:/Users/FrostyFjord/Documents/movie-recommendation-data/models\"):\n",
    "  os.mkdir(\"C:/Users/FrostyFjord/Documents/movie-recommendation-data/models\")\n",
    "\n",
    "\n",
    "import joblib\n",
    "\n",
    "joblib.dump(model, \"C:/Users/FrostyFjord/Documents/movie-recommendation-data/models/movie_collaborative_knn.pkl\")\n",
    "joblib.dump(matrix, \"C:/Users/FrostyFjord/Documents/movie-recommendation-data/dataset/movie_collaborative_matrix.pkl\")\n",
    "joblib.dump(pivot, \"C:/Users/FrostyFjord/Documents/movie-recommendation-data/dataset/movie_collaborative_pivot.pkl\")"
   ]
  },
  {
   "cell_type": "markdown",
   "metadata": {
    "id": "KwKhwbZH3khM"
   },
   "source": [
    "## making recommendations:"
   ]
  },
  {
   "cell_type": "code",
   "execution_count": 86,
   "metadata": {
    "id": "mZbaRZ-j3kDv"
   },
   "outputs": [],
   "source": [
    "import numpy as np\n",
    "\n",
    "def movie_collaborative_model(pivot, matrix, model, movie_title, num_pred):\n",
    "    if movie_title not in pivot.index:\n",
    "        return \"Movie not found\"\n",
    "\n",
    "    movie_idx = pivot.index.get_loc(movie_title)\n",
    "    \n",
    "    # Extract row from sparse matrix and reshape it\n",
    "    movie_value_vector = matrix[movie_idx].toarray().reshape(1, -1)\n",
    "\n",
    "    # Get nearest neighbors\n",
    "    dist, ind = model.kneighbors(movie_value_vector, n_neighbors=num_pred + 1)\n",
    "\n",
    "    # Generate recommendations\n",
    "    recommendations = [pivot.index[i] for i in ind[0] if i != movie_idx]\n",
    "    return recommendations\n"
   ]
  },
  {
   "cell_type": "code",
   "execution_count": 87,
   "metadata": {},
   "outputs": [
    {
     "data": {
      "text/plain": [
       "'Toy Story'"
      ]
     },
     "execution_count": 87,
     "metadata": {},
     "output_type": "execute_result"
    }
   ],
   "source": [
    "title = movies['title'][0]\n",
    "title"
   ]
  },
  {
   "cell_type": "code",
   "execution_count": 88,
   "metadata": {
    "id": "YNm44gr36wtO"
   },
   "outputs": [
    {
     "name": "stdout",
     "output_type": "stream",
     "text": [
      "['Toy Story 2', 'Forrest Gump', 'Jurassic Park', 'Back to the Future', 'The Lion King', 'Aladdin', 'Shrek', 'Raiders of the Lost Ark', 'The Matrix', 'The Shawshank Redemption']\n"
     ]
    }
   ],
   "source": [
    "title = movies['title'][0]\n",
    "title\n",
    "recommendations = movie_collaborative_model(pivot, matrix, model, title, 10)\n",
    "print(recommendations)"
   ]
  },
  {
   "cell_type": "markdown",
   "metadata": {
    "id": "t6KloLir9lwM"
   },
   "source": [
    "# User based collaborative filltering model\n",
    "## predict similar users based on ratings\n",
    "in this model we are making the predicitons based on finding similar users. the intuition is once you find 2 users who have similar tastes in movies, any movie user A likes will also be liked by user B"
   ]
  },
  {
   "cell_type": "code",
   "execution_count": 89,
   "metadata": {
    "id": "idMXJAYN9q48"
   },
   "outputs": [],
   "source": [
    "pivot_t = pivot.T\n",
    "matrix_t = csr_matrix(pivot_t)"
   ]
  },
  {
   "cell_type": "markdown",
   "metadata": {
    "id": "ukjL447N_Wcc"
   },
   "source": [
    "## defining the knn model"
   ]
  },
  {
   "cell_type": "code",
   "execution_count": 90,
   "metadata": {
    "id": "Q4QzRqFy_Wcd"
   },
   "outputs": [
    {
     "data": {
      "text/html": [
       "<style>#sk-container-id-2 {\n",
       "  /* Definition of color scheme common for light and dark mode */\n",
       "  --sklearn-color-text: #000;\n",
       "  --sklearn-color-text-muted: #666;\n",
       "  --sklearn-color-line: gray;\n",
       "  /* Definition of color scheme for unfitted estimators */\n",
       "  --sklearn-color-unfitted-level-0: #fff5e6;\n",
       "  --sklearn-color-unfitted-level-1: #f6e4d2;\n",
       "  --sklearn-color-unfitted-level-2: #ffe0b3;\n",
       "  --sklearn-color-unfitted-level-3: chocolate;\n",
       "  /* Definition of color scheme for fitted estimators */\n",
       "  --sklearn-color-fitted-level-0: #f0f8ff;\n",
       "  --sklearn-color-fitted-level-1: #d4ebff;\n",
       "  --sklearn-color-fitted-level-2: #b3dbfd;\n",
       "  --sklearn-color-fitted-level-3: cornflowerblue;\n",
       "\n",
       "  /* Specific color for light theme */\n",
       "  --sklearn-color-text-on-default-background: var(--sg-text-color, var(--theme-code-foreground, var(--jp-content-font-color1, black)));\n",
       "  --sklearn-color-background: var(--sg-background-color, var(--theme-background, var(--jp-layout-color0, white)));\n",
       "  --sklearn-color-border-box: var(--sg-text-color, var(--theme-code-foreground, var(--jp-content-font-color1, black)));\n",
       "  --sklearn-color-icon: #696969;\n",
       "\n",
       "  @media (prefers-color-scheme: dark) {\n",
       "    /* Redefinition of color scheme for dark theme */\n",
       "    --sklearn-color-text-on-default-background: var(--sg-text-color, var(--theme-code-foreground, var(--jp-content-font-color1, white)));\n",
       "    --sklearn-color-background: var(--sg-background-color, var(--theme-background, var(--jp-layout-color0, #111)));\n",
       "    --sklearn-color-border-box: var(--sg-text-color, var(--theme-code-foreground, var(--jp-content-font-color1, white)));\n",
       "    --sklearn-color-icon: #878787;\n",
       "  }\n",
       "}\n",
       "\n",
       "#sk-container-id-2 {\n",
       "  color: var(--sklearn-color-text);\n",
       "}\n",
       "\n",
       "#sk-container-id-2 pre {\n",
       "  padding: 0;\n",
       "}\n",
       "\n",
       "#sk-container-id-2 input.sk-hidden--visually {\n",
       "  border: 0;\n",
       "  clip: rect(1px 1px 1px 1px);\n",
       "  clip: rect(1px, 1px, 1px, 1px);\n",
       "  height: 1px;\n",
       "  margin: -1px;\n",
       "  overflow: hidden;\n",
       "  padding: 0;\n",
       "  position: absolute;\n",
       "  width: 1px;\n",
       "}\n",
       "\n",
       "#sk-container-id-2 div.sk-dashed-wrapped {\n",
       "  border: 1px dashed var(--sklearn-color-line);\n",
       "  margin: 0 0.4em 0.5em 0.4em;\n",
       "  box-sizing: border-box;\n",
       "  padding-bottom: 0.4em;\n",
       "  background-color: var(--sklearn-color-background);\n",
       "}\n",
       "\n",
       "#sk-container-id-2 div.sk-container {\n",
       "  /* jupyter's `normalize.less` sets `[hidden] { display: none; }`\n",
       "     but bootstrap.min.css set `[hidden] { display: none !important; }`\n",
       "     so we also need the `!important` here to be able to override the\n",
       "     default hidden behavior on the sphinx rendered scikit-learn.org.\n",
       "     See: https://github.com/scikit-learn/scikit-learn/issues/21755 */\n",
       "  display: inline-block !important;\n",
       "  position: relative;\n",
       "}\n",
       "\n",
       "#sk-container-id-2 div.sk-text-repr-fallback {\n",
       "  display: none;\n",
       "}\n",
       "\n",
       "div.sk-parallel-item,\n",
       "div.sk-serial,\n",
       "div.sk-item {\n",
       "  /* draw centered vertical line to link estimators */\n",
       "  background-image: linear-gradient(var(--sklearn-color-text-on-default-background), var(--sklearn-color-text-on-default-background));\n",
       "  background-size: 2px 100%;\n",
       "  background-repeat: no-repeat;\n",
       "  background-position: center center;\n",
       "}\n",
       "\n",
       "/* Parallel-specific style estimator block */\n",
       "\n",
       "#sk-container-id-2 div.sk-parallel-item::after {\n",
       "  content: \"\";\n",
       "  width: 100%;\n",
       "  border-bottom: 2px solid var(--sklearn-color-text-on-default-background);\n",
       "  flex-grow: 1;\n",
       "}\n",
       "\n",
       "#sk-container-id-2 div.sk-parallel {\n",
       "  display: flex;\n",
       "  align-items: stretch;\n",
       "  justify-content: center;\n",
       "  background-color: var(--sklearn-color-background);\n",
       "  position: relative;\n",
       "}\n",
       "\n",
       "#sk-container-id-2 div.sk-parallel-item {\n",
       "  display: flex;\n",
       "  flex-direction: column;\n",
       "}\n",
       "\n",
       "#sk-container-id-2 div.sk-parallel-item:first-child::after {\n",
       "  align-self: flex-end;\n",
       "  width: 50%;\n",
       "}\n",
       "\n",
       "#sk-container-id-2 div.sk-parallel-item:last-child::after {\n",
       "  align-self: flex-start;\n",
       "  width: 50%;\n",
       "}\n",
       "\n",
       "#sk-container-id-2 div.sk-parallel-item:only-child::after {\n",
       "  width: 0;\n",
       "}\n",
       "\n",
       "/* Serial-specific style estimator block */\n",
       "\n",
       "#sk-container-id-2 div.sk-serial {\n",
       "  display: flex;\n",
       "  flex-direction: column;\n",
       "  align-items: center;\n",
       "  background-color: var(--sklearn-color-background);\n",
       "  padding-right: 1em;\n",
       "  padding-left: 1em;\n",
       "}\n",
       "\n",
       "\n",
       "/* Toggleable style: style used for estimator/Pipeline/ColumnTransformer box that is\n",
       "clickable and can be expanded/collapsed.\n",
       "- Pipeline and ColumnTransformer use this feature and define the default style\n",
       "- Estimators will overwrite some part of the style using the `sk-estimator` class\n",
       "*/\n",
       "\n",
       "/* Pipeline and ColumnTransformer style (default) */\n",
       "\n",
       "#sk-container-id-2 div.sk-toggleable {\n",
       "  /* Default theme specific background. It is overwritten whether we have a\n",
       "  specific estimator or a Pipeline/ColumnTransformer */\n",
       "  background-color: var(--sklearn-color-background);\n",
       "}\n",
       "\n",
       "/* Toggleable label */\n",
       "#sk-container-id-2 label.sk-toggleable__label {\n",
       "  cursor: pointer;\n",
       "  display: flex;\n",
       "  width: 100%;\n",
       "  margin-bottom: 0;\n",
       "  padding: 0.5em;\n",
       "  box-sizing: border-box;\n",
       "  text-align: center;\n",
       "  align-items: start;\n",
       "  justify-content: space-between;\n",
       "  gap: 0.5em;\n",
       "}\n",
       "\n",
       "#sk-container-id-2 label.sk-toggleable__label .caption {\n",
       "  font-size: 0.6rem;\n",
       "  font-weight: lighter;\n",
       "  color: var(--sklearn-color-text-muted);\n",
       "}\n",
       "\n",
       "#sk-container-id-2 label.sk-toggleable__label-arrow:before {\n",
       "  /* Arrow on the left of the label */\n",
       "  content: \"▸\";\n",
       "  float: left;\n",
       "  margin-right: 0.25em;\n",
       "  color: var(--sklearn-color-icon);\n",
       "}\n",
       "\n",
       "#sk-container-id-2 label.sk-toggleable__label-arrow:hover:before {\n",
       "  color: var(--sklearn-color-text);\n",
       "}\n",
       "\n",
       "/* Toggleable content - dropdown */\n",
       "\n",
       "#sk-container-id-2 div.sk-toggleable__content {\n",
       "  max-height: 0;\n",
       "  max-width: 0;\n",
       "  overflow: hidden;\n",
       "  text-align: left;\n",
       "  /* unfitted */\n",
       "  background-color: var(--sklearn-color-unfitted-level-0);\n",
       "}\n",
       "\n",
       "#sk-container-id-2 div.sk-toggleable__content.fitted {\n",
       "  /* fitted */\n",
       "  background-color: var(--sklearn-color-fitted-level-0);\n",
       "}\n",
       "\n",
       "#sk-container-id-2 div.sk-toggleable__content pre {\n",
       "  margin: 0.2em;\n",
       "  border-radius: 0.25em;\n",
       "  color: var(--sklearn-color-text);\n",
       "  /* unfitted */\n",
       "  background-color: var(--sklearn-color-unfitted-level-0);\n",
       "}\n",
       "\n",
       "#sk-container-id-2 div.sk-toggleable__content.fitted pre {\n",
       "  /* unfitted */\n",
       "  background-color: var(--sklearn-color-fitted-level-0);\n",
       "}\n",
       "\n",
       "#sk-container-id-2 input.sk-toggleable__control:checked~div.sk-toggleable__content {\n",
       "  /* Expand drop-down */\n",
       "  max-height: 200px;\n",
       "  max-width: 100%;\n",
       "  overflow: auto;\n",
       "}\n",
       "\n",
       "#sk-container-id-2 input.sk-toggleable__control:checked~label.sk-toggleable__label-arrow:before {\n",
       "  content: \"▾\";\n",
       "}\n",
       "\n",
       "/* Pipeline/ColumnTransformer-specific style */\n",
       "\n",
       "#sk-container-id-2 div.sk-label input.sk-toggleable__control:checked~label.sk-toggleable__label {\n",
       "  color: var(--sklearn-color-text);\n",
       "  background-color: var(--sklearn-color-unfitted-level-2);\n",
       "}\n",
       "\n",
       "#sk-container-id-2 div.sk-label.fitted input.sk-toggleable__control:checked~label.sk-toggleable__label {\n",
       "  background-color: var(--sklearn-color-fitted-level-2);\n",
       "}\n",
       "\n",
       "/* Estimator-specific style */\n",
       "\n",
       "/* Colorize estimator box */\n",
       "#sk-container-id-2 div.sk-estimator input.sk-toggleable__control:checked~label.sk-toggleable__label {\n",
       "  /* unfitted */\n",
       "  background-color: var(--sklearn-color-unfitted-level-2);\n",
       "}\n",
       "\n",
       "#sk-container-id-2 div.sk-estimator.fitted input.sk-toggleable__control:checked~label.sk-toggleable__label {\n",
       "  /* fitted */\n",
       "  background-color: var(--sklearn-color-fitted-level-2);\n",
       "}\n",
       "\n",
       "#sk-container-id-2 div.sk-label label.sk-toggleable__label,\n",
       "#sk-container-id-2 div.sk-label label {\n",
       "  /* The background is the default theme color */\n",
       "  color: var(--sklearn-color-text-on-default-background);\n",
       "}\n",
       "\n",
       "/* On hover, darken the color of the background */\n",
       "#sk-container-id-2 div.sk-label:hover label.sk-toggleable__label {\n",
       "  color: var(--sklearn-color-text);\n",
       "  background-color: var(--sklearn-color-unfitted-level-2);\n",
       "}\n",
       "\n",
       "/* Label box, darken color on hover, fitted */\n",
       "#sk-container-id-2 div.sk-label.fitted:hover label.sk-toggleable__label.fitted {\n",
       "  color: var(--sklearn-color-text);\n",
       "  background-color: var(--sklearn-color-fitted-level-2);\n",
       "}\n",
       "\n",
       "/* Estimator label */\n",
       "\n",
       "#sk-container-id-2 div.sk-label label {\n",
       "  font-family: monospace;\n",
       "  font-weight: bold;\n",
       "  display: inline-block;\n",
       "  line-height: 1.2em;\n",
       "}\n",
       "\n",
       "#sk-container-id-2 div.sk-label-container {\n",
       "  text-align: center;\n",
       "}\n",
       "\n",
       "/* Estimator-specific */\n",
       "#sk-container-id-2 div.sk-estimator {\n",
       "  font-family: monospace;\n",
       "  border: 1px dotted var(--sklearn-color-border-box);\n",
       "  border-radius: 0.25em;\n",
       "  box-sizing: border-box;\n",
       "  margin-bottom: 0.5em;\n",
       "  /* unfitted */\n",
       "  background-color: var(--sklearn-color-unfitted-level-0);\n",
       "}\n",
       "\n",
       "#sk-container-id-2 div.sk-estimator.fitted {\n",
       "  /* fitted */\n",
       "  background-color: var(--sklearn-color-fitted-level-0);\n",
       "}\n",
       "\n",
       "/* on hover */\n",
       "#sk-container-id-2 div.sk-estimator:hover {\n",
       "  /* unfitted */\n",
       "  background-color: var(--sklearn-color-unfitted-level-2);\n",
       "}\n",
       "\n",
       "#sk-container-id-2 div.sk-estimator.fitted:hover {\n",
       "  /* fitted */\n",
       "  background-color: var(--sklearn-color-fitted-level-2);\n",
       "}\n",
       "\n",
       "/* Specification for estimator info (e.g. \"i\" and \"?\") */\n",
       "\n",
       "/* Common style for \"i\" and \"?\" */\n",
       "\n",
       ".sk-estimator-doc-link,\n",
       "a:link.sk-estimator-doc-link,\n",
       "a:visited.sk-estimator-doc-link {\n",
       "  float: right;\n",
       "  font-size: smaller;\n",
       "  line-height: 1em;\n",
       "  font-family: monospace;\n",
       "  background-color: var(--sklearn-color-background);\n",
       "  border-radius: 1em;\n",
       "  height: 1em;\n",
       "  width: 1em;\n",
       "  text-decoration: none !important;\n",
       "  margin-left: 0.5em;\n",
       "  text-align: center;\n",
       "  /* unfitted */\n",
       "  border: var(--sklearn-color-unfitted-level-1) 1pt solid;\n",
       "  color: var(--sklearn-color-unfitted-level-1);\n",
       "}\n",
       "\n",
       ".sk-estimator-doc-link.fitted,\n",
       "a:link.sk-estimator-doc-link.fitted,\n",
       "a:visited.sk-estimator-doc-link.fitted {\n",
       "  /* fitted */\n",
       "  border: var(--sklearn-color-fitted-level-1) 1pt solid;\n",
       "  color: var(--sklearn-color-fitted-level-1);\n",
       "}\n",
       "\n",
       "/* On hover */\n",
       "div.sk-estimator:hover .sk-estimator-doc-link:hover,\n",
       ".sk-estimator-doc-link:hover,\n",
       "div.sk-label-container:hover .sk-estimator-doc-link:hover,\n",
       ".sk-estimator-doc-link:hover {\n",
       "  /* unfitted */\n",
       "  background-color: var(--sklearn-color-unfitted-level-3);\n",
       "  color: var(--sklearn-color-background);\n",
       "  text-decoration: none;\n",
       "}\n",
       "\n",
       "div.sk-estimator.fitted:hover .sk-estimator-doc-link.fitted:hover,\n",
       ".sk-estimator-doc-link.fitted:hover,\n",
       "div.sk-label-container:hover .sk-estimator-doc-link.fitted:hover,\n",
       ".sk-estimator-doc-link.fitted:hover {\n",
       "  /* fitted */\n",
       "  background-color: var(--sklearn-color-fitted-level-3);\n",
       "  color: var(--sklearn-color-background);\n",
       "  text-decoration: none;\n",
       "}\n",
       "\n",
       "/* Span, style for the box shown on hovering the info icon */\n",
       ".sk-estimator-doc-link span {\n",
       "  display: none;\n",
       "  z-index: 9999;\n",
       "  position: relative;\n",
       "  font-weight: normal;\n",
       "  right: .2ex;\n",
       "  padding: .5ex;\n",
       "  margin: .5ex;\n",
       "  width: min-content;\n",
       "  min-width: 20ex;\n",
       "  max-width: 50ex;\n",
       "  color: var(--sklearn-color-text);\n",
       "  box-shadow: 2pt 2pt 4pt #999;\n",
       "  /* unfitted */\n",
       "  background: var(--sklearn-color-unfitted-level-0);\n",
       "  border: .5pt solid var(--sklearn-color-unfitted-level-3);\n",
       "}\n",
       "\n",
       ".sk-estimator-doc-link.fitted span {\n",
       "  /* fitted */\n",
       "  background: var(--sklearn-color-fitted-level-0);\n",
       "  border: var(--sklearn-color-fitted-level-3);\n",
       "}\n",
       "\n",
       ".sk-estimator-doc-link:hover span {\n",
       "  display: block;\n",
       "}\n",
       "\n",
       "/* \"?\"-specific style due to the `<a>` HTML tag */\n",
       "\n",
       "#sk-container-id-2 a.estimator_doc_link {\n",
       "  float: right;\n",
       "  font-size: 1rem;\n",
       "  line-height: 1em;\n",
       "  font-family: monospace;\n",
       "  background-color: var(--sklearn-color-background);\n",
       "  border-radius: 1rem;\n",
       "  height: 1rem;\n",
       "  width: 1rem;\n",
       "  text-decoration: none;\n",
       "  /* unfitted */\n",
       "  color: var(--sklearn-color-unfitted-level-1);\n",
       "  border: var(--sklearn-color-unfitted-level-1) 1pt solid;\n",
       "}\n",
       "\n",
       "#sk-container-id-2 a.estimator_doc_link.fitted {\n",
       "  /* fitted */\n",
       "  border: var(--sklearn-color-fitted-level-1) 1pt solid;\n",
       "  color: var(--sklearn-color-fitted-level-1);\n",
       "}\n",
       "\n",
       "/* On hover */\n",
       "#sk-container-id-2 a.estimator_doc_link:hover {\n",
       "  /* unfitted */\n",
       "  background-color: var(--sklearn-color-unfitted-level-3);\n",
       "  color: var(--sklearn-color-background);\n",
       "  text-decoration: none;\n",
       "}\n",
       "\n",
       "#sk-container-id-2 a.estimator_doc_link.fitted:hover {\n",
       "  /* fitted */\n",
       "  background-color: var(--sklearn-color-fitted-level-3);\n",
       "}\n",
       "</style><div id=\"sk-container-id-2\" class=\"sk-top-container\"><div class=\"sk-text-repr-fallback\"><pre>NearestNeighbors(metric=&#x27;cosine&#x27;, n_neighbors=11)</pre><b>In a Jupyter environment, please rerun this cell to show the HTML representation or trust the notebook. <br />On GitHub, the HTML representation is unable to render, please try loading this page with nbviewer.org.</b></div><div class=\"sk-container\" hidden><div class=\"sk-item\"><div class=\"sk-estimator fitted sk-toggleable\"><input class=\"sk-toggleable__control sk-hidden--visually\" id=\"sk-estimator-id-2\" type=\"checkbox\" checked><label for=\"sk-estimator-id-2\" class=\"sk-toggleable__label fitted sk-toggleable__label-arrow\"><div><div>NearestNeighbors</div></div><div><a class=\"sk-estimator-doc-link fitted\" rel=\"noreferrer\" target=\"_blank\" href=\"https://scikit-learn.org/1.6/modules/generated/sklearn.neighbors.NearestNeighbors.html\">?<span>Documentation for NearestNeighbors</span></a><span class=\"sk-estimator-doc-link fitted\">i<span>Fitted</span></span></div></label><div class=\"sk-toggleable__content fitted\"><pre>NearestNeighbors(metric=&#x27;cosine&#x27;, n_neighbors=11)</pre></div> </div></div></div></div>"
      ],
      "text/plain": [
       "NearestNeighbors(metric='cosine', n_neighbors=11)"
      ]
     },
     "execution_count": 90,
     "metadata": {},
     "output_type": "execute_result"
    }
   ],
   "source": [
    "from sklearn.neighbors import NearestNeighbors\n",
    "model = NearestNeighbors(n_neighbors = 11, algorithm='auto', metric=\"cosine\")\n",
    "model.fit(matrix_t)"
   ]
  },
  {
   "cell_type": "code",
   "execution_count": 91,
   "metadata": {},
   "outputs": [
    {
     "data": {
      "text/plain": [
       "['C:/Users/FrostyFjord/Documents/movie-recommendation-data/dataset/user_collaborative_pivot.pkl']"
      ]
     },
     "execution_count": 91,
     "metadata": {},
     "output_type": "execute_result"
    }
   ],
   "source": [
    "import joblib\n",
    "joblib.dump(model, \"C:/Users/FrostyFjord/Documents/movie-recommendation-data/models/user_collaborative_knn.pkl\")\n",
    "joblib.dump(matrix_t, \"C:/Users/FrostyFjord/Documents/movie-recommendation-data/dataset/user_collaborative_matrix.pkl\")\n",
    "joblib.dump(pivot_t, \"C:/Users/FrostyFjord/Documents/movie-recommendation-data/dataset/user_collaborative_pivot.pkl\")"
   ]
  },
  {
   "cell_type": "markdown",
   "metadata": {
    "id": "OnvkKyYq_Wcd"
   },
   "source": [
    "## making recommendations:"
   ]
  },
  {
   "cell_type": "code",
   "execution_count": 92,
   "metadata": {
    "id": "cH3g51Y7_Wcd"
   },
   "outputs": [],
   "source": [
    "import numpy as np\n",
    "\n",
    "def user_collaborative_model(pivot, matrix, df, model, userId, num_pred):\n",
    "    if userId not in pivot.index:\n",
    "        return \"User not found\"\n",
    "\n",
    "    user_idx = pivot.index.get_loc(userId)\n",
    "\n",
    "    # Extract row from sparse matrix and reshape it\n",
    "    user_value_vector = matrix[user_idx].toarray().reshape(1, -1)\n",
    "\n",
    "    # Get nearest neighbors\n",
    "    dist, ind = model.kneighbors(user_value_vector, n_neighbors = num_pred + 1)\n",
    "\n",
    "    recommendations = []\n",
    "    for i in ind[0]:\n",
    "        u_idx = pivot.index[i]\n",
    "        user_movies = df[df[\"userId\"] == u_idx]\n",
    "\n",
    "        # Sort by rating and select top movies\n",
    "        top_movies = user_movies.sort_values(by=\"rating\", ascending=False).head(num_pred // 5)\n",
    "        recommendations.extend(top_movies[\"title\"].tolist())\n",
    "\n",
    "    return recommendations\n"
   ]
  },
  {
   "cell_type": "code",
   "execution_count": 93,
   "metadata": {},
   "outputs": [
    {
     "data": {
      "text/html": [
       "<div>\n",
       "<style scoped>\n",
       "    .dataframe tbody tr th:only-of-type {\n",
       "        vertical-align: middle;\n",
       "    }\n",
       "\n",
       "    .dataframe tbody tr th {\n",
       "        vertical-align: top;\n",
       "    }\n",
       "\n",
       "    .dataframe thead th {\n",
       "        text-align: right;\n",
       "    }\n",
       "</style>\n",
       "<table border=\"1\" class=\"dataframe\">\n",
       "  <thead>\n",
       "    <tr style=\"text-align: right;\">\n",
       "      <th></th>\n",
       "      <th>movieId</th>\n",
       "      <th>title</th>\n",
       "      <th>genres</th>\n",
       "      <th>userId</th>\n",
       "      <th>rating</th>\n",
       "      <th>baysian_avg</th>\n",
       "    </tr>\n",
       "  </thead>\n",
       "  <tbody>\n",
       "    <tr>\n",
       "      <th>0</th>\n",
       "      <td>1</td>\n",
       "      <td>Toy Story</td>\n",
       "      <td>[Adventure, Animation, Children, Comedy, Fanta...</td>\n",
       "      <td>1</td>\n",
       "      <td>4.0</td>\n",
       "      <td>3.872813</td>\n",
       "    </tr>\n",
       "    <tr>\n",
       "      <th>834029</th>\n",
       "      <td>110</td>\n",
       "      <td>Braveheart</td>\n",
       "      <td>[Action, Drama, War, Action, Drama, History, War]</td>\n",
       "      <td>1</td>\n",
       "      <td>4.0</td>\n",
       "      <td>3.943530</td>\n",
       "    </tr>\n",
       "    <tr>\n",
       "      <th>1090997</th>\n",
       "      <td>158</td>\n",
       "      <td>Casper</td>\n",
       "      <td>[Adventure, Children, Fantasy, Comedy, Family]</td>\n",
       "      <td>1</td>\n",
       "      <td>4.0</td>\n",
       "      <td>3.001977</td>\n",
       "    </tr>\n",
       "    <tr>\n",
       "      <th>2244845</th>\n",
       "      <td>356</td>\n",
       "      <td>Forrest Gump</td>\n",
       "      <td>[Comedy, Drama, Romance, War, Comedy, Drama, R...</td>\n",
       "      <td>1</td>\n",
       "      <td>5.0</td>\n",
       "      <td>4.011056</td>\n",
       "    </tr>\n",
       "    <tr>\n",
       "      <th>2586841</th>\n",
       "      <td>381</td>\n",
       "      <td>When a Man Loves a Woman</td>\n",
       "      <td>[Drama, Romance, Drama, Romance]</td>\n",
       "      <td>1</td>\n",
       "      <td>3.5</td>\n",
       "      <td>3.420020</td>\n",
       "    </tr>\n",
       "    <tr>\n",
       "      <th>3923530</th>\n",
       "      <td>596</td>\n",
       "      <td>Pinocchio</td>\n",
       "      <td>[Animation, Children, Fantasy, Musical, Animat...</td>\n",
       "      <td>1</td>\n",
       "      <td>4.0</td>\n",
       "      <td>3.509171</td>\n",
       "    </tr>\n",
       "    <tr>\n",
       "      <th>5328914</th>\n",
       "      <td>1036</td>\n",
       "      <td>Die Hard</td>\n",
       "      <td>[Action, Crime, Thriller, Action, Thriller]</td>\n",
       "      <td>1</td>\n",
       "      <td>5.0</td>\n",
       "      <td>3.917807</td>\n",
       "    </tr>\n",
       "    <tr>\n",
       "      <th>5403875</th>\n",
       "      <td>1049</td>\n",
       "      <td>The Ghost and the Darkness</td>\n",
       "      <td>[Action, Adventure, Adventure]</td>\n",
       "      <td>1</td>\n",
       "      <td>3.0</td>\n",
       "      <td>3.418117</td>\n",
       "    </tr>\n",
       "    <tr>\n",
       "      <th>5436096</th>\n",
       "      <td>1066</td>\n",
       "      <td>Shall We Dance</td>\n",
       "      <td>[Comedy, Musical, Romance, Comedy, Music, Roma...</td>\n",
       "      <td>1</td>\n",
       "      <td>4.0</td>\n",
       "      <td>3.709928</td>\n",
       "    </tr>\n",
       "    <tr>\n",
       "      <th>6087811</th>\n",
       "      <td>1200</td>\n",
       "      <td>Aliens</td>\n",
       "      <td>[Action, Adventure, Horror, Sci-Fi, Horror, Ac...</td>\n",
       "      <td>1</td>\n",
       "      <td>3.5</td>\n",
       "      <td>3.975997</td>\n",
       "    </tr>\n",
       "    <tr>\n",
       "      <th>6264782</th>\n",
       "      <td>1214</td>\n",
       "      <td>Alien</td>\n",
       "      <td>[Horror, Sci-Fi, Horror, Action, Thriller, Sci...</td>\n",
       "      <td>1</td>\n",
       "      <td>4.0</td>\n",
       "      <td>4.037071</td>\n",
       "    </tr>\n",
       "    <tr>\n",
       "      <th>7190911</th>\n",
       "      <td>1291</td>\n",
       "      <td>Indiana Jones and the Last Crusade</td>\n",
       "      <td>[Action, Adventure, Adventure, Action]</td>\n",
       "      <td>1</td>\n",
       "      <td>5.0</td>\n",
       "      <td>3.965127</td>\n",
       "    </tr>\n",
       "    <tr>\n",
       "      <th>7241217</th>\n",
       "      <td>1293</td>\n",
       "      <td>Gandhi</td>\n",
       "      <td>[Drama, Drama, History]</td>\n",
       "      <td>1</td>\n",
       "      <td>2.0</td>\n",
       "      <td>3.908481</td>\n",
       "    </tr>\n",
       "    <tr>\n",
       "      <th>7602941</th>\n",
       "      <td>1376</td>\n",
       "      <td>Star Trek IV: The Voyage Home</td>\n",
       "      <td>[Adventure, Comedy, Sci-Fi, Science Fiction, A...</td>\n",
       "      <td>1</td>\n",
       "      <td>3.0</td>\n",
       "      <td>3.528491</td>\n",
       "    </tr>\n",
       "    <tr>\n",
       "      <th>7775005</th>\n",
       "      <td>1396</td>\n",
       "      <td>Sneakers</td>\n",
       "      <td>[Action, Comedy, Crime, Drama, Sci-Fi, Comedy,...</td>\n",
       "      <td>1</td>\n",
       "      <td>3.0</td>\n",
       "      <td>3.636773</td>\n",
       "    </tr>\n",
       "    <tr>\n",
       "      <th>8088077</th>\n",
       "      <td>1537</td>\n",
       "      <td>Shall We Dance?</td>\n",
       "      <td>[Comedy, Drama, Romance, Music, Comedy, Drama,...</td>\n",
       "      <td>1</td>\n",
       "      <td>4.0</td>\n",
       "      <td>3.802633</td>\n",
       "    </tr>\n",
       "    <tr>\n",
       "      <th>9385777</th>\n",
       "      <td>1959</td>\n",
       "      <td>Out of Africa</td>\n",
       "      <td>[Drama, Romance, Drama]</td>\n",
       "      <td>1</td>\n",
       "      <td>4.0</td>\n",
       "      <td>3.585764</td>\n",
       "    </tr>\n",
       "    <tr>\n",
       "      <th>9390687</th>\n",
       "      <td>1960</td>\n",
       "      <td>The Last Emperor</td>\n",
       "      <td>[Drama, Drama, History]</td>\n",
       "      <td>1</td>\n",
       "      <td>4.0</td>\n",
       "      <td>3.787108</td>\n",
       "    </tr>\n",
       "    <tr>\n",
       "      <th>9797089</th>\n",
       "      <td>2028</td>\n",
       "      <td>Saving Private Ryan</td>\n",
       "      <td>[Action, Drama, War, Drama, History, War]</td>\n",
       "      <td>1</td>\n",
       "      <td>5.0</td>\n",
       "      <td>4.016249</td>\n",
       "    </tr>\n",
       "    <tr>\n",
       "      <th>10092615</th>\n",
       "      <td>2116</td>\n",
       "      <td>The Lord of the Rings</td>\n",
       "      <td>[Adventure, Animation, Children, Fantasy, Fant...</td>\n",
       "      <td>1</td>\n",
       "      <td>4.0</td>\n",
       "      <td>3.290178</td>\n",
       "    </tr>\n",
       "    <tr>\n",
       "      <th>10720926</th>\n",
       "      <td>2336</td>\n",
       "      <td>Elizabeth</td>\n",
       "      <td>[Drama, Drama, History]</td>\n",
       "      <td>1</td>\n",
       "      <td>3.5</td>\n",
       "      <td>3.804844</td>\n",
       "    </tr>\n",
       "    <tr>\n",
       "      <th>11351250</th>\n",
       "      <td>2571</td>\n",
       "      <td>The Matrix</td>\n",
       "      <td>[Action, Sci-Fi, Thriller, Action, Science Fic...</td>\n",
       "      <td>1</td>\n",
       "      <td>2.5</td>\n",
       "      <td>4.137680</td>\n",
       "    </tr>\n",
       "    <tr>\n",
       "      <th>11660087</th>\n",
       "      <td>2671</td>\n",
       "      <td>Notting Hill</td>\n",
       "      <td>[Comedy, Romance, Romance, Comedy, Drama]</td>\n",
       "      <td>1</td>\n",
       "      <td>4.0</td>\n",
       "      <td>3.467544</td>\n",
       "    </tr>\n",
       "    <tr>\n",
       "      <th>12034091</th>\n",
       "      <td>2762</td>\n",
       "      <td>The Sixth Sense</td>\n",
       "      <td>[Drama, Horror, Mystery, Mystery, Thriller, Dr...</td>\n",
       "      <td>1</td>\n",
       "      <td>5.0</td>\n",
       "      <td>3.974792</td>\n",
       "    </tr>\n",
       "    <tr>\n",
       "      <th>12195913</th>\n",
       "      <td>2804</td>\n",
       "      <td>A Christmas Story</td>\n",
       "      <td>[Children, Comedy, Comedy, Family]</td>\n",
       "      <td>1</td>\n",
       "      <td>3.0</td>\n",
       "      <td>3.909158</td>\n",
       "    </tr>\n",
       "    <tr>\n",
       "      <th>12406787</th>\n",
       "      <td>2908</td>\n",
       "      <td>Boys Don't Cry</td>\n",
       "      <td>[Drama, Crime, Drama, Comedy]</td>\n",
       "      <td>1</td>\n",
       "      <td>4.0</td>\n",
       "      <td>3.732358</td>\n",
       "    </tr>\n",
       "    <tr>\n",
       "      <th>13590278</th>\n",
       "      <td>3363</td>\n",
       "      <td>American Graffiti</td>\n",
       "      <td>[Comedy, Drama, Comedy, Drama]</td>\n",
       "      <td>1</td>\n",
       "      <td>3.0</td>\n",
       "      <td>3.735395</td>\n",
       "    </tr>\n",
       "    <tr>\n",
       "      <th>14024437</th>\n",
       "      <td>3578</td>\n",
       "      <td>Gladiator</td>\n",
       "      <td>[Action, Adventure, Drama, Action, Drama, Adve...</td>\n",
       "      <td>1</td>\n",
       "      <td>5.0</td>\n",
       "      <td>3.926954</td>\n",
       "    </tr>\n",
       "    <tr>\n",
       "      <th>15314821</th>\n",
       "      <td>4246</td>\n",
       "      <td>Bridget Jones's Diary</td>\n",
       "      <td>[Comedy, Drama, Romance, Comedy, Romance, Drama]</td>\n",
       "      <td>1</td>\n",
       "      <td>4.0</td>\n",
       "      <td>3.375206</td>\n",
       "    </tr>\n",
       "    <tr>\n",
       "      <th>15408131</th>\n",
       "      <td>4306</td>\n",
       "      <td>Shrek</td>\n",
       "      <td>[Adventure, Animation, Children, Comedy, Fanta...</td>\n",
       "      <td>1</td>\n",
       "      <td>4.0</td>\n",
       "      <td>3.725160</td>\n",
       "    </tr>\n",
       "    <tr>\n",
       "      <th>15865068</th>\n",
       "      <td>4699</td>\n",
       "      <td>Original Sin</td>\n",
       "      <td>[Drama, Romance, Thriller, Thriller]</td>\n",
       "      <td>1</td>\n",
       "      <td>3.5</td>\n",
       "      <td>3.326738</td>\n",
       "    </tr>\n",
       "    <tr>\n",
       "      <th>16230521</th>\n",
       "      <td>4993</td>\n",
       "      <td>The Lord of the Rings: The Fellowship of the Ring</td>\n",
       "      <td>[Adventure, Fantasy, Adventure, Fantasy, Action]</td>\n",
       "      <td>1</td>\n",
       "      <td>4.0</td>\n",
       "      <td>4.064383</td>\n",
       "    </tr>\n",
       "    <tr>\n",
       "      <th>16295359</th>\n",
       "      <td>4995</td>\n",
       "      <td>A Beautiful Mind</td>\n",
       "      <td>[Drama, Romance, Drama, Romance]</td>\n",
       "      <td>1</td>\n",
       "      <td>5.0</td>\n",
       "      <td>3.915630</td>\n",
       "    </tr>\n",
       "    <tr>\n",
       "      <th>17265051</th>\n",
       "      <td>5952</td>\n",
       "      <td>The Lord of the Rings: The Two Towers</td>\n",
       "      <td>[Adventure, Fantasy, Adventure, Fantasy, Action]</td>\n",
       "      <td>1</td>\n",
       "      <td>4.5</td>\n",
       "      <td>4.038889</td>\n",
       "    </tr>\n",
       "    <tr>\n",
       "      <th>17880040</th>\n",
       "      <td>6539</td>\n",
       "      <td>Pirates of the Caribbean: The Curse of the Bla...</td>\n",
       "      <td>[Action, Adventure, Comedy, Fantasy, Adventure...</td>\n",
       "      <td>1</td>\n",
       "      <td>4.0</td>\n",
       "      <td>3.757767</td>\n",
       "    </tr>\n",
       "    <tr>\n",
       "      <th>18445937</th>\n",
       "      <td>7122</td>\n",
       "      <td>King of Hearts</td>\n",
       "      <td>[Comedy, Drama, War, Comedy, Drama, War]</td>\n",
       "      <td>1</td>\n",
       "      <td>4.0</td>\n",
       "      <td>3.583858</td>\n",
       "    </tr>\n",
       "    <tr>\n",
       "      <th>18454678</th>\n",
       "      <td>7139</td>\n",
       "      <td>In America</td>\n",
       "      <td>[Drama, Romance, Drama, Romance]</td>\n",
       "      <td>1</td>\n",
       "      <td>3.0</td>\n",
       "      <td>3.718152</td>\n",
       "    </tr>\n",
       "    <tr>\n",
       "      <th>18507683</th>\n",
       "      <td>7153</td>\n",
       "      <td>The Lord of the Rings: The Return of the King</td>\n",
       "      <td>[Action, Adventure, Drama, Fantasy, Adventure,...</td>\n",
       "      <td>1</td>\n",
       "      <td>5.0</td>\n",
       "      <td>4.062445</td>\n",
       "    </tr>\n",
       "    <tr>\n",
       "      <th>18580069</th>\n",
       "      <td>7162</td>\n",
       "      <td>Cold Mountain</td>\n",
       "      <td>[Drama, Romance, War, Drama]</td>\n",
       "      <td>1</td>\n",
       "      <td>4.0</td>\n",
       "      <td>3.515969</td>\n",
       "    </tr>\n",
       "    <tr>\n",
       "      <th>18752509</th>\n",
       "      <td>7366</td>\n",
       "      <td>Jersey Girl</td>\n",
       "      <td>[Comedy, Drama, Romance, Comedy, Romance, Come...</td>\n",
       "      <td>1</td>\n",
       "      <td>3.5</td>\n",
       "      <td>3.311210</td>\n",
       "    </tr>\n",
       "    <tr>\n",
       "      <th>18915528</th>\n",
       "      <td>7706</td>\n",
       "      <td>Animal Crackers</td>\n",
       "      <td>[Comedy, Musical, Comedy]</td>\n",
       "      <td>1</td>\n",
       "      <td>3.5</td>\n",
       "      <td>3.661732</td>\n",
       "    </tr>\n",
       "    <tr>\n",
       "      <th>19143642</th>\n",
       "      <td>8533</td>\n",
       "      <td>The Notebook</td>\n",
       "      <td>[Drama, Romance, Romance, Drama, Drama, War]</td>\n",
       "      <td>1</td>\n",
       "      <td>5.0</td>\n",
       "      <td>3.594330</td>\n",
       "    </tr>\n",
       "    <tr>\n",
       "      <th>19471526</th>\n",
       "      <td>8961</td>\n",
       "      <td>The Incredibles</td>\n",
       "      <td>[Action, Adventure, Animation, Children, Comed...</td>\n",
       "      <td>1</td>\n",
       "      <td>4.5</td>\n",
       "      <td>3.823844</td>\n",
       "    </tr>\n",
       "    <tr>\n",
       "      <th>19519102</th>\n",
       "      <td>8969</td>\n",
       "      <td>Bridget Jones: The Edge of Reason</td>\n",
       "      <td>[Comedy, Drama, Romance, Comedy, Romance]</td>\n",
       "      <td>1</td>\n",
       "      <td>4.0</td>\n",
       "      <td>3.191360</td>\n",
       "    </tr>\n",
       "    <tr>\n",
       "      <th>19551909</th>\n",
       "      <td>8981</td>\n",
       "      <td>Closer</td>\n",
       "      <td>[Drama, Romance, Drama, Romance]</td>\n",
       "      <td>1</td>\n",
       "      <td>3.5</td>\n",
       "      <td>3.556935</td>\n",
       "    </tr>\n",
       "    <tr>\n",
       "      <th>20060552</th>\n",
       "      <td>33794</td>\n",
       "      <td>Batman Begins</td>\n",
       "      <td>[Action, Crime, IMAX, Action, Crime, Drama]</td>\n",
       "      <td>1</td>\n",
       "      <td>3.0</td>\n",
       "      <td>3.885682</td>\n",
       "    </tr>\n",
       "    <tr>\n",
       "      <th>20334948</th>\n",
       "      <td>40629</td>\n",
       "      <td>Pride &amp; Prejudice</td>\n",
       "      <td>[Drama, Romance, Drama, Romance]</td>\n",
       "      <td>1</td>\n",
       "      <td>4.5</td>\n",
       "      <td>3.745148</td>\n",
       "    </tr>\n",
       "    <tr>\n",
       "      <th>21222746</th>\n",
       "      <td>52458</td>\n",
       "      <td>Disturbia</td>\n",
       "      <td>[Drama, Thriller, Thriller, Drama, Mystery]</td>\n",
       "      <td>1</td>\n",
       "      <td>5.0</td>\n",
       "      <td>3.379284</td>\n",
       "    </tr>\n",
       "    <tr>\n",
       "      <th>21357541</th>\n",
       "      <td>53996</td>\n",
       "      <td>Transformers</td>\n",
       "      <td>[Action, Sci-Fi, Thriller, IMAX, Adventure, Sc...</td>\n",
       "      <td>1</td>\n",
       "      <td>5.0</td>\n",
       "      <td>3.102701</td>\n",
       "    </tr>\n",
       "    <tr>\n",
       "      <th>21396318</th>\n",
       "      <td>54259</td>\n",
       "      <td>Stardust</td>\n",
       "      <td>[Adventure, Comedy, Fantasy, Romance, Adventur...</td>\n",
       "      <td>1</td>\n",
       "      <td>4.0</td>\n",
       "      <td>3.736310</td>\n",
       "    </tr>\n",
       "  </tbody>\n",
       "</table>\n",
       "</div>"
      ],
      "text/plain": [
       "          movieId                                              title  \\\n",
       "0               1                                          Toy Story   \n",
       "834029        110                                         Braveheart   \n",
       "1090997       158                                             Casper   \n",
       "2244845       356                                       Forrest Gump   \n",
       "2586841       381                           When a Man Loves a Woman   \n",
       "3923530       596                                          Pinocchio   \n",
       "5328914      1036                                           Die Hard   \n",
       "5403875      1049                         The Ghost and the Darkness   \n",
       "5436096      1066                                     Shall We Dance   \n",
       "6087811      1200                                             Aliens   \n",
       "6264782      1214                                              Alien   \n",
       "7190911      1291                 Indiana Jones and the Last Crusade   \n",
       "7241217      1293                                             Gandhi   \n",
       "7602941      1376                      Star Trek IV: The Voyage Home   \n",
       "7775005      1396                                           Sneakers   \n",
       "8088077      1537                                    Shall We Dance?   \n",
       "9385777      1959                                      Out of Africa   \n",
       "9390687      1960                                   The Last Emperor   \n",
       "9797089      2028                                Saving Private Ryan   \n",
       "10092615     2116                              The Lord of the Rings   \n",
       "10720926     2336                                          Elizabeth   \n",
       "11351250     2571                                         The Matrix   \n",
       "11660087     2671                                       Notting Hill   \n",
       "12034091     2762                                    The Sixth Sense   \n",
       "12195913     2804                                  A Christmas Story   \n",
       "12406787     2908                                     Boys Don't Cry   \n",
       "13590278     3363                                  American Graffiti   \n",
       "14024437     3578                                          Gladiator   \n",
       "15314821     4246                              Bridget Jones's Diary   \n",
       "15408131     4306                                              Shrek   \n",
       "15865068     4699                                       Original Sin   \n",
       "16230521     4993  The Lord of the Rings: The Fellowship of the Ring   \n",
       "16295359     4995                                   A Beautiful Mind   \n",
       "17265051     5952              The Lord of the Rings: The Two Towers   \n",
       "17880040     6539  Pirates of the Caribbean: The Curse of the Bla...   \n",
       "18445937     7122                                     King of Hearts   \n",
       "18454678     7139                                         In America   \n",
       "18507683     7153      The Lord of the Rings: The Return of the King   \n",
       "18580069     7162                                      Cold Mountain   \n",
       "18752509     7366                                        Jersey Girl   \n",
       "18915528     7706                                    Animal Crackers   \n",
       "19143642     8533                                       The Notebook   \n",
       "19471526     8961                                    The Incredibles   \n",
       "19519102     8969                  Bridget Jones: The Edge of Reason   \n",
       "19551909     8981                                             Closer   \n",
       "20060552    33794                                      Batman Begins   \n",
       "20334948    40629                                  Pride & Prejudice   \n",
       "21222746    52458                                          Disturbia   \n",
       "21357541    53996                                       Transformers   \n",
       "21396318    54259                                           Stardust   \n",
       "\n",
       "                                                     genres  userId  rating  \\\n",
       "0         [Adventure, Animation, Children, Comedy, Fanta...       1     4.0   \n",
       "834029    [Action, Drama, War, Action, Drama, History, War]       1     4.0   \n",
       "1090997      [Adventure, Children, Fantasy, Comedy, Family]       1     4.0   \n",
       "2244845   [Comedy, Drama, Romance, War, Comedy, Drama, R...       1     5.0   \n",
       "2586841                    [Drama, Romance, Drama, Romance]       1     3.5   \n",
       "3923530   [Animation, Children, Fantasy, Musical, Animat...       1     4.0   \n",
       "5328914         [Action, Crime, Thriller, Action, Thriller]       1     5.0   \n",
       "5403875                      [Action, Adventure, Adventure]       1     3.0   \n",
       "5436096   [Comedy, Musical, Romance, Comedy, Music, Roma...       1     4.0   \n",
       "6087811   [Action, Adventure, Horror, Sci-Fi, Horror, Ac...       1     3.5   \n",
       "6264782   [Horror, Sci-Fi, Horror, Action, Thriller, Sci...       1     4.0   \n",
       "7190911              [Action, Adventure, Adventure, Action]       1     5.0   \n",
       "7241217                             [Drama, Drama, History]       1     2.0   \n",
       "7602941   [Adventure, Comedy, Sci-Fi, Science Fiction, A...       1     3.0   \n",
       "7775005   [Action, Comedy, Crime, Drama, Sci-Fi, Comedy,...       1     3.0   \n",
       "8088077   [Comedy, Drama, Romance, Music, Comedy, Drama,...       1     4.0   \n",
       "9385777                             [Drama, Romance, Drama]       1     4.0   \n",
       "9390687                             [Drama, Drama, History]       1     4.0   \n",
       "9797089           [Action, Drama, War, Drama, History, War]       1     5.0   \n",
       "10092615  [Adventure, Animation, Children, Fantasy, Fant...       1     4.0   \n",
       "10720926                            [Drama, Drama, History]       1     3.5   \n",
       "11351250  [Action, Sci-Fi, Thriller, Action, Science Fic...       1     2.5   \n",
       "11660087          [Comedy, Romance, Romance, Comedy, Drama]       1     4.0   \n",
       "12034091  [Drama, Horror, Mystery, Mystery, Thriller, Dr...       1     5.0   \n",
       "12195913                 [Children, Comedy, Comedy, Family]       1     3.0   \n",
       "12406787                      [Drama, Crime, Drama, Comedy]       1     4.0   \n",
       "13590278                     [Comedy, Drama, Comedy, Drama]       1     3.0   \n",
       "14024437  [Action, Adventure, Drama, Action, Drama, Adve...       1     5.0   \n",
       "15314821   [Comedy, Drama, Romance, Comedy, Romance, Drama]       1     4.0   \n",
       "15408131  [Adventure, Animation, Children, Comedy, Fanta...       1     4.0   \n",
       "15865068               [Drama, Romance, Thriller, Thriller]       1     3.5   \n",
       "16230521   [Adventure, Fantasy, Adventure, Fantasy, Action]       1     4.0   \n",
       "16295359                   [Drama, Romance, Drama, Romance]       1     5.0   \n",
       "17265051   [Adventure, Fantasy, Adventure, Fantasy, Action]       1     4.5   \n",
       "17880040  [Action, Adventure, Comedy, Fantasy, Adventure...       1     4.0   \n",
       "18445937           [Comedy, Drama, War, Comedy, Drama, War]       1     4.0   \n",
       "18454678                   [Drama, Romance, Drama, Romance]       1     3.0   \n",
       "18507683  [Action, Adventure, Drama, Fantasy, Adventure,...       1     5.0   \n",
       "18580069                       [Drama, Romance, War, Drama]       1     4.0   \n",
       "18752509  [Comedy, Drama, Romance, Comedy, Romance, Come...       1     3.5   \n",
       "18915528                          [Comedy, Musical, Comedy]       1     3.5   \n",
       "19143642       [Drama, Romance, Romance, Drama, Drama, War]       1     5.0   \n",
       "19471526  [Action, Adventure, Animation, Children, Comed...       1     4.5   \n",
       "19519102          [Comedy, Drama, Romance, Comedy, Romance]       1     4.0   \n",
       "19551909                   [Drama, Romance, Drama, Romance]       1     3.5   \n",
       "20060552        [Action, Crime, IMAX, Action, Crime, Drama]       1     3.0   \n",
       "20334948                   [Drama, Romance, Drama, Romance]       1     4.5   \n",
       "21222746        [Drama, Thriller, Thriller, Drama, Mystery]       1     5.0   \n",
       "21357541  [Action, Sci-Fi, Thriller, IMAX, Adventure, Sc...       1     5.0   \n",
       "21396318  [Adventure, Comedy, Fantasy, Romance, Adventur...       1     4.0   \n",
       "\n",
       "          baysian_avg  \n",
       "0            3.872813  \n",
       "834029       3.943530  \n",
       "1090997      3.001977  \n",
       "2244845      4.011056  \n",
       "2586841      3.420020  \n",
       "3923530      3.509171  \n",
       "5328914      3.917807  \n",
       "5403875      3.418117  \n",
       "5436096      3.709928  \n",
       "6087811      3.975997  \n",
       "6264782      4.037071  \n",
       "7190911      3.965127  \n",
       "7241217      3.908481  \n",
       "7602941      3.528491  \n",
       "7775005      3.636773  \n",
       "8088077      3.802633  \n",
       "9385777      3.585764  \n",
       "9390687      3.787108  \n",
       "9797089      4.016249  \n",
       "10092615     3.290178  \n",
       "10720926     3.804844  \n",
       "11351250     4.137680  \n",
       "11660087     3.467544  \n",
       "12034091     3.974792  \n",
       "12195913     3.909158  \n",
       "12406787     3.732358  \n",
       "13590278     3.735395  \n",
       "14024437     3.926954  \n",
       "15314821     3.375206  \n",
       "15408131     3.725160  \n",
       "15865068     3.326738  \n",
       "16230521     4.064383  \n",
       "16295359     3.915630  \n",
       "17265051     4.038889  \n",
       "17880040     3.757767  \n",
       "18445937     3.583858  \n",
       "18454678     3.718152  \n",
       "18507683     4.062445  \n",
       "18580069     3.515969  \n",
       "18752509     3.311210  \n",
       "18915528     3.661732  \n",
       "19143642     3.594330  \n",
       "19471526     3.823844  \n",
       "19519102     3.191360  \n",
       "19551909     3.556935  \n",
       "20060552     3.885682  \n",
       "20334948     3.745148  \n",
       "21222746     3.379284  \n",
       "21357541     3.102701  \n",
       "21396318     3.736310  "
      ]
     },
     "execution_count": 93,
     "metadata": {},
     "output_type": "execute_result"
    }
   ],
   "source": [
    "user = merged_df[merged_df[\"userId\"] == 1]\n",
    "user"
   ]
  },
  {
   "cell_type": "code",
   "execution_count": 94,
   "metadata": {
    "id": "uY7n1Bn-_Wcd"
   },
   "outputs": [
    {
     "name": "stdout",
     "output_type": "stream",
     "text": [
      "['Die Hard', 'Forrest Gump', \"Schindler's List\", 'Braveheart', 'Braveheart', 'Pulp Fiction', 'The Shawshank Redemption', 'Blade Runner', 'Braveheart', 'The Lion King', 'Raiders of the Lost Ark', 'Indiana Jones and the Last Crusade', 'Braveheart', 'Legends of the Fall', 'Forrest Gump', 'Hoosiers', 'Batman Begins', 'Saving Private Ryan', 'Pirates of the Caribbean: The Curse of the Black Pearl', 'The Bourne Identity', 'The Lord of the Rings: The Two Towers', 'The Lord of the Rings: The Fellowship of the Ring']\n"
     ]
    }
   ],
   "source": [
    "user = 1\n",
    "recommendations = user_collaborative_model(pivot_t, matrix_t,merged_df, model, user, 10)\n",
    "print(recommendations)"
   ]
  },
  {
   "cell_type": "markdown",
   "metadata": {
    "id": "H964YSADidEv"
   },
   "source": [
    "# Content based recommendation system\n",
    "use nlp to get movies with similar summary"
   ]
  },
  {
   "cell_type": "markdown",
   "metadata": {
    "id": "C6HGT8tPSVBf"
   },
   "source": [
    "## Load the spacy model"
   ]
  },
  {
   "cell_type": "code",
   "execution_count": 95,
   "metadata": {
    "id": "krpm2yWqRRos",
    "scrolled": true
   },
   "outputs": [
    {
     "name": "stdout",
     "output_type": "stream",
     "text": [
      "Defaulting to user installation because normal site-packages is not writeable\n",
      "Requirement already satisfied: spacy in c:\\program files\\python312\\lib\\site-packages (3.8.4)\n",
      "Requirement already satisfied: spacy-legacy<3.1.0,>=3.0.11 in c:\\program files\\python312\\lib\\site-packages (from spacy) (3.0.12)\n",
      "Requirement already satisfied: spacy-loggers<2.0.0,>=1.0.0 in c:\\program files\\python312\\lib\\site-packages (from spacy) (1.0.5)\n",
      "Requirement already satisfied: murmurhash<1.1.0,>=0.28.0 in c:\\program files\\python312\\lib\\site-packages (from spacy) (1.0.12)\n",
      "Requirement already satisfied: cymem<2.1.0,>=2.0.2 in c:\\program files\\python312\\lib\\site-packages (from spacy) (2.0.11)\n",
      "Requirement already satisfied: preshed<3.1.0,>=3.0.2 in c:\\program files\\python312\\lib\\site-packages (from spacy) (3.0.9)\n",
      "Requirement already satisfied: thinc<8.4.0,>=8.3.4 in c:\\program files\\python312\\lib\\site-packages (from spacy) (8.3.4)\n",
      "Requirement already satisfied: wasabi<1.2.0,>=0.9.1 in c:\\program files\\python312\\lib\\site-packages (from spacy) (1.1.3)\n",
      "Requirement already satisfied: srsly<3.0.0,>=2.4.3 in c:\\program files\\python312\\lib\\site-packages (from spacy) (2.5.1)\n",
      "Requirement already satisfied: catalogue<2.1.0,>=2.0.6 in c:\\program files\\python312\\lib\\site-packages (from spacy) (2.0.10)\n",
      "Requirement already satisfied: weasel<0.5.0,>=0.1.0 in c:\\program files\\python312\\lib\\site-packages (from spacy) (0.4.1)\n",
      "Requirement already satisfied: typer<1.0.0,>=0.3.0 in c:\\program files\\python312\\lib\\site-packages (from spacy) (0.15.2)\n",
      "Requirement already satisfied: tqdm<5.0.0,>=4.38.0 in c:\\program files\\python312\\lib\\site-packages (from spacy) (4.67.1)\n",
      "Requirement already satisfied: numpy>=1.19.0 in c:\\program files\\python312\\lib\\site-packages (from spacy) (2.2.4)\n",
      "Requirement already satisfied: requests<3.0.0,>=2.13.0 in c:\\program files\\python312\\lib\\site-packages (from spacy) (2.32.3)\n",
      "Requirement already satisfied: pydantic!=1.8,!=1.8.1,<3.0.0,>=1.7.4 in c:\\program files\\python312\\lib\\site-packages (from spacy) (2.11.0)\n",
      "Requirement already satisfied: jinja2 in c:\\program files\\python312\\lib\\site-packages (from spacy) (3.1.6)\n",
      "Requirement already satisfied: setuptools in c:\\program files\\python312\\lib\\site-packages (from spacy) (78.1.0)\n",
      "Requirement already satisfied: packaging>=20.0 in c:\\program files\\python312\\lib\\site-packages (from spacy) (24.2)\n",
      "Requirement already satisfied: langcodes<4.0.0,>=3.2.0 in c:\\program files\\python312\\lib\\site-packages (from spacy) (3.5.0)\n",
      "Requirement already satisfied: language-data>=1.2 in c:\\program files\\python312\\lib\\site-packages (from langcodes<4.0.0,>=3.2.0->spacy) (1.3.0)\n",
      "Requirement already satisfied: annotated-types>=0.6.0 in c:\\program files\\python312\\lib\\site-packages (from pydantic!=1.8,!=1.8.1,<3.0.0,>=1.7.4->spacy) (0.7.0)\n",
      "Requirement already satisfied: pydantic-core==2.33.0 in c:\\program files\\python312\\lib\\site-packages (from pydantic!=1.8,!=1.8.1,<3.0.0,>=1.7.4->spacy) (2.33.0)\n",
      "Requirement already satisfied: typing-extensions>=4.12.2 in c:\\program files\\python312\\lib\\site-packages (from pydantic!=1.8,!=1.8.1,<3.0.0,>=1.7.4->spacy) (4.13.0)\n",
      "Requirement already satisfied: typing-inspection>=0.4.0 in c:\\program files\\python312\\lib\\site-packages (from pydantic!=1.8,!=1.8.1,<3.0.0,>=1.7.4->spacy) (0.4.0)\n",
      "Requirement already satisfied: charset-normalizer<4,>=2 in c:\\program files\\python312\\lib\\site-packages (from requests<3.0.0,>=2.13.0->spacy) (3.4.1)\n",
      "Requirement already satisfied: idna<4,>=2.5 in c:\\program files\\python312\\lib\\site-packages (from requests<3.0.0,>=2.13.0->spacy) (3.10)\n",
      "Requirement already satisfied: urllib3<3,>=1.21.1 in c:\\program files\\python312\\lib\\site-packages (from requests<3.0.0,>=2.13.0->spacy) (2.3.0)\n",
      "Requirement already satisfied: certifi>=2017.4.17 in c:\\program files\\python312\\lib\\site-packages (from requests<3.0.0,>=2.13.0->spacy) (2025.1.31)\n",
      "Requirement already satisfied: blis<1.3.0,>=1.2.0 in c:\\program files\\python312\\lib\\site-packages (from thinc<8.4.0,>=8.3.4->spacy) (1.2.0)\n",
      "Requirement already satisfied: confection<1.0.0,>=0.0.1 in c:\\program files\\python312\\lib\\site-packages (from thinc<8.4.0,>=8.3.4->spacy) (0.1.5)\n",
      "Requirement already satisfied: colorama in c:\\program files\\python312\\lib\\site-packages (from tqdm<5.0.0,>=4.38.0->spacy) (0.4.6)\n",
      "Requirement already satisfied: click>=8.0.0 in c:\\program files\\python312\\lib\\site-packages (from typer<1.0.0,>=0.3.0->spacy) (8.1.8)\n",
      "Requirement already satisfied: shellingham>=1.3.0 in c:\\program files\\python312\\lib\\site-packages (from typer<1.0.0,>=0.3.0->spacy) (1.5.4)\n",
      "Requirement already satisfied: rich>=10.11.0 in c:\\program files\\python312\\lib\\site-packages (from typer<1.0.0,>=0.3.0->spacy) (13.9.4)\n",
      "Requirement already satisfied: cloudpathlib<1.0.0,>=0.7.0 in c:\\program files\\python312\\lib\\site-packages (from weasel<0.5.0,>=0.1.0->spacy) (0.21.0)\n",
      "Requirement already satisfied: smart-open<8.0.0,>=5.2.1 in c:\\program files\\python312\\lib\\site-packages (from weasel<0.5.0,>=0.1.0->spacy) (7.1.0)\n",
      "Requirement already satisfied: MarkupSafe>=2.0 in c:\\program files\\python312\\lib\\site-packages (from jinja2->spacy) (3.0.2)\n",
      "Requirement already satisfied: marisa-trie>=1.1.0 in c:\\program files\\python312\\lib\\site-packages (from language-data>=1.2->langcodes<4.0.0,>=3.2.0->spacy) (1.2.1)\n",
      "Requirement already satisfied: markdown-it-py>=2.2.0 in c:\\program files\\python312\\lib\\site-packages (from rich>=10.11.0->typer<1.0.0,>=0.3.0->spacy) (3.0.0)\n",
      "Requirement already satisfied: pygments<3.0.0,>=2.13.0 in c:\\program files\\python312\\lib\\site-packages (from rich>=10.11.0->typer<1.0.0,>=0.3.0->spacy) (2.19.1)\n",
      "Requirement already satisfied: wrapt in c:\\program files\\python312\\lib\\site-packages (from smart-open<8.0.0,>=5.2.1->weasel<0.5.0,>=0.1.0->spacy) (1.17.2)\n",
      "Requirement already satisfied: mdurl~=0.1 in c:\\program files\\python312\\lib\\site-packages (from markdown-it-py>=2.2.0->rich>=10.11.0->typer<1.0.0,>=0.3.0->spacy) (0.1.2)\n"
     ]
    },
    {
     "name": "stderr",
     "output_type": "stream",
     "text": [
      "\n",
      "[notice] A new release of pip is available: 23.2.1 -> 25.0.1\n",
      "[notice] To update, run: python.exe -m pip install --upgrade pip\n"
     ]
    },
    {
     "name": "stdout",
     "output_type": "stream",
     "text": [
      "Defaulting to user installation because normal site-packages is not writeable\n",
      "Collecting en-core-web-md==3.8.0\n",
      "  Downloading https://github.com/explosion/spacy-models/releases/download/en_core_web_md-3.8.0/en_core_web_md-3.8.0-py3-none-any.whl (33.5 MB)\n",
      "     ---------------------------------------- 0.0/33.5 MB ? eta -:--:--\n",
      "     --------------------------------------- 0.0/33.5 MB 991.0 kB/s eta 0:00:34\n",
      "     ---------------------------------------- 0.1/33.5 MB 1.1 MB/s eta 0:00:32\n",
      "     ---------------------------------------- 0.2/33.5 MB 1.2 MB/s eta 0:00:28\n",
      "     ---------------------------------------- 0.2/33.5 MB 1.3 MB/s eta 0:00:27\n",
      "     ---------------------------------------- 0.3/33.5 MB 1.3 MB/s eta 0:00:26\n",
      "     ---------------------------------------- 0.3/33.5 MB 1.2 MB/s eta 0:00:27\n",
      "     ---------------------------------------- 0.4/33.5 MB 1.3 MB/s eta 0:00:26\n",
      "      --------------------------------------- 0.5/33.5 MB 1.3 MB/s eta 0:00:26\n",
      "      --------------------------------------- 0.5/33.5 MB 1.3 MB/s eta 0:00:26\n",
      "      --------------------------------------- 0.6/33.5 MB 1.3 MB/s eta 0:00:26\n",
      "      --------------------------------------- 0.7/33.5 MB 1.3 MB/s eta 0:00:26\n",
      "      --------------------------------------- 0.7/33.5 MB 1.3 MB/s eta 0:00:26\n",
      "      --------------------------------------- 0.8/33.5 MB 1.3 MB/s eta 0:00:26\n",
      "      --------------------------------------- 0.8/33.5 MB 1.3 MB/s eta 0:00:26\n",
      "     - -------------------------------------- 0.9/33.5 MB 1.3 MB/s eta 0:00:26\n",
      "     - -------------------------------------- 1.0/33.5 MB 1.3 MB/s eta 0:00:26\n",
      "     - -------------------------------------- 1.0/33.5 MB 1.3 MB/s eta 0:00:26\n",
      "     - -------------------------------------- 1.1/33.5 MB 1.3 MB/s eta 0:00:26\n",
      "     - -------------------------------------- 1.1/33.5 MB 1.3 MB/s eta 0:00:25\n",
      "     - -------------------------------------- 1.2/33.5 MB 1.3 MB/s eta 0:00:26\n",
      "     - -------------------------------------- 1.3/33.5 MB 1.3 MB/s eta 0:00:26\n",
      "     - -------------------------------------- 1.3/33.5 MB 1.3 MB/s eta 0:00:25\n",
      "     - -------------------------------------- 1.4/33.5 MB 1.3 MB/s eta 0:00:26\n",
      "     - -------------------------------------- 1.5/33.5 MB 1.3 MB/s eta 0:00:25\n",
      "     - -------------------------------------- 1.5/33.5 MB 1.3 MB/s eta 0:00:25\n",
      "     - -------------------------------------- 1.6/33.5 MB 1.3 MB/s eta 0:00:25\n",
      "     - -------------------------------------- 1.6/33.5 MB 1.3 MB/s eta 0:00:25\n",
      "     -- ------------------------------------- 1.7/33.5 MB 1.3 MB/s eta 0:00:25\n",
      "     -- ------------------------------------- 1.8/33.5 MB 1.3 MB/s eta 0:00:25\n",
      "     -- ------------------------------------- 1.8/33.5 MB 1.3 MB/s eta 0:00:25\n",
      "     -- ------------------------------------- 1.9/33.5 MB 1.3 MB/s eta 0:00:25\n",
      "     -- ------------------------------------- 1.9/33.5 MB 1.3 MB/s eta 0:00:25\n",
      "     -- ------------------------------------- 2.0/33.5 MB 1.3 MB/s eta 0:00:25\n",
      "     -- ------------------------------------- 2.1/33.5 MB 1.3 MB/s eta 0:00:25\n",
      "     -- ------------------------------------- 2.1/33.5 MB 1.3 MB/s eta 0:00:25\n",
      "     -- ------------------------------------- 2.2/33.5 MB 1.3 MB/s eta 0:00:25\n",
      "     -- ------------------------------------- 2.3/33.5 MB 1.3 MB/s eta 0:00:25\n",
      "     -- ------------------------------------- 2.3/33.5 MB 1.3 MB/s eta 0:00:25\n",
      "     -- ------------------------------------- 2.4/33.5 MB 1.3 MB/s eta 0:00:25\n",
      "     -- ------------------------------------- 2.4/33.5 MB 1.3 MB/s eta 0:00:25\n",
      "     -- ------------------------------------- 2.5/33.5 MB 1.3 MB/s eta 0:00:25\n",
      "     --- ------------------------------------ 2.6/33.5 MB 1.3 MB/s eta 0:00:24\n",
      "     --- ------------------------------------ 2.6/33.5 MB 1.3 MB/s eta 0:00:24\n",
      "     --- ------------------------------------ 2.7/33.5 MB 1.3 MB/s eta 0:00:24\n",
      "     --- ------------------------------------ 2.7/33.5 MB 1.3 MB/s eta 0:00:24\n",
      "     --- ------------------------------------ 2.8/33.5 MB 1.3 MB/s eta 0:00:24\n",
      "     --- ------------------------------------ 2.9/33.5 MB 1.3 MB/s eta 0:00:24\n",
      "     --- ------------------------------------ 2.9/33.5 MB 1.3 MB/s eta 0:00:24\n",
      "     --- ------------------------------------ 3.0/33.5 MB 1.3 MB/s eta 0:00:24\n",
      "     --- ------------------------------------ 3.0/33.5 MB 1.3 MB/s eta 0:00:24\n",
      "     --- ------------------------------------ 3.1/33.5 MB 1.3 MB/s eta 0:00:24\n",
      "     --- ------------------------------------ 3.2/33.5 MB 1.3 MB/s eta 0:00:24\n",
      "     --- ------------------------------------ 3.2/33.5 MB 1.3 MB/s eta 0:00:24\n",
      "     --- ------------------------------------ 3.3/33.5 MB 1.3 MB/s eta 0:00:24\n",
      "     ---- ----------------------------------- 3.4/33.5 MB 1.3 MB/s eta 0:00:24\n",
      "     ---- ----------------------------------- 3.4/33.5 MB 1.3 MB/s eta 0:00:24\n",
      "     ---- ----------------------------------- 3.5/33.5 MB 1.3 MB/s eta 0:00:24\n",
      "     ---- ----------------------------------- 3.6/33.5 MB 1.3 MB/s eta 0:00:24\n",
      "     ---- ----------------------------------- 3.6/33.5 MB 1.3 MB/s eta 0:00:24\n",
      "     ---- ----------------------------------- 3.7/33.5 MB 1.3 MB/s eta 0:00:24\n",
      "     ---- ----------------------------------- 3.7/33.5 MB 1.3 MB/s eta 0:00:24\n",
      "     ---- ----------------------------------- 3.8/33.5 MB 1.3 MB/s eta 0:00:23\n",
      "     ---- ----------------------------------- 3.9/33.5 MB 1.3 MB/s eta 0:00:23\n",
      "     ---- ----------------------------------- 3.9/33.5 MB 1.3 MB/s eta 0:00:23\n",
      "     ---- ----------------------------------- 4.0/33.5 MB 1.3 MB/s eta 0:00:23\n",
      "     ---- ----------------------------------- 4.0/33.5 MB 1.3 MB/s eta 0:00:23\n",
      "     ---- ----------------------------------- 4.1/33.5 MB 1.3 MB/s eta 0:00:23\n",
      "     ---- ----------------------------------- 4.2/33.5 MB 1.3 MB/s eta 0:00:23\n",
      "     ----- ---------------------------------- 4.2/33.5 MB 1.3 MB/s eta 0:00:23\n",
      "     ----- ---------------------------------- 4.3/33.5 MB 1.3 MB/s eta 0:00:23\n",
      "     ----- ---------------------------------- 4.3/33.5 MB 1.3 MB/s eta 0:00:23\n",
      "     ----- ---------------------------------- 4.4/33.5 MB 1.3 MB/s eta 0:00:23\n",
      "     ----- ---------------------------------- 4.5/33.5 MB 1.3 MB/s eta 0:00:23\n",
      "     ----- ---------------------------------- 4.5/33.5 MB 1.3 MB/s eta 0:00:23\n",
      "     ----- ---------------------------------- 4.6/33.5 MB 1.3 MB/s eta 0:00:23\n",
      "     ----- ---------------------------------- 4.6/33.5 MB 1.3 MB/s eta 0:00:23\n",
      "     ----- ---------------------------------- 4.7/33.5 MB 1.3 MB/s eta 0:00:23\n",
      "     ----- ---------------------------------- 4.8/33.5 MB 1.3 MB/s eta 0:00:23\n",
      "     ----- ---------------------------------- 4.8/33.5 MB 1.3 MB/s eta 0:00:23\n",
      "     ----- ---------------------------------- 4.9/33.5 MB 1.3 MB/s eta 0:00:23\n",
      "     ----- ---------------------------------- 4.9/33.5 MB 1.3 MB/s eta 0:00:23\n",
      "     ----- ---------------------------------- 5.0/33.5 MB 1.3 MB/s eta 0:00:22\n",
      "     ------ --------------------------------- 5.1/33.5 MB 1.3 MB/s eta 0:00:22\n",
      "     ------ --------------------------------- 5.1/33.5 MB 1.3 MB/s eta 0:00:22\n",
      "     ------ --------------------------------- 5.2/33.5 MB 1.3 MB/s eta 0:00:22\n",
      "     ------ --------------------------------- 5.3/33.5 MB 1.3 MB/s eta 0:00:22\n",
      "     ------ --------------------------------- 5.3/33.5 MB 1.3 MB/s eta 0:00:22\n",
      "     ------ --------------------------------- 5.4/33.5 MB 1.3 MB/s eta 0:00:22\n",
      "     ------ --------------------------------- 5.4/33.5 MB 1.3 MB/s eta 0:00:22\n",
      "     ------ --------------------------------- 5.5/33.5 MB 1.3 MB/s eta 0:00:22\n",
      "     ------ --------------------------------- 5.6/33.5 MB 1.3 MB/s eta 0:00:22\n",
      "     ------ --------------------------------- 5.6/33.5 MB 1.3 MB/s eta 0:00:22\n",
      "     ------ --------------------------------- 5.7/33.5 MB 1.3 MB/s eta 0:00:22\n",
      "     ------ --------------------------------- 5.7/33.5 MB 1.3 MB/s eta 0:00:22\n",
      "     ------ --------------------------------- 5.8/33.5 MB 1.3 MB/s eta 0:00:22\n",
      "     ------ --------------------------------- 5.9/33.5 MB 1.3 MB/s eta 0:00:22\n",
      "     ------- -------------------------------- 5.9/33.5 MB 1.3 MB/s eta 0:00:22\n",
      "     ------- -------------------------------- 6.0/33.5 MB 1.3 MB/s eta 0:00:22\n",
      "     ------- -------------------------------- 6.0/33.5 MB 1.3 MB/s eta 0:00:22\n",
      "     ------- -------------------------------- 6.1/33.5 MB 1.3 MB/s eta 0:00:22\n",
      "     ------- -------------------------------- 6.2/33.5 MB 1.3 MB/s eta 0:00:22\n",
      "     ------- -------------------------------- 6.2/33.5 MB 1.3 MB/s eta 0:00:22\n",
      "     ------- -------------------------------- 6.3/33.5 MB 1.3 MB/s eta 0:00:22\n",
      "     ------- -------------------------------- 6.3/33.5 MB 1.3 MB/s eta 0:00:21\n",
      "     ------- -------------------------------- 6.4/33.5 MB 1.3 MB/s eta 0:00:21\n",
      "     ------- -------------------------------- 6.5/33.5 MB 1.3 MB/s eta 0:00:21\n",
      "     ------- -------------------------------- 6.5/33.5 MB 1.3 MB/s eta 0:00:21\n",
      "     ------- -------------------------------- 6.6/33.5 MB 1.3 MB/s eta 0:00:21\n",
      "     ------- -------------------------------- 6.6/33.5 MB 1.3 MB/s eta 0:00:21\n",
      "     -------- ------------------------------- 6.7/33.5 MB 1.3 MB/s eta 0:00:21\n",
      "     -------- ------------------------------- 6.8/33.5 MB 1.3 MB/s eta 0:00:21\n",
      "     -------- ------------------------------- 6.8/33.5 MB 1.3 MB/s eta 0:00:21\n",
      "     -------- ------------------------------- 6.9/33.5 MB 1.3 MB/s eta 0:00:21\n",
      "     -------- ------------------------------- 6.9/33.5 MB 1.3 MB/s eta 0:00:21\n",
      "     -------- ------------------------------- 7.0/33.5 MB 1.3 MB/s eta 0:00:21\n",
      "     -------- ------------------------------- 7.1/33.5 MB 1.3 MB/s eta 0:00:21\n",
      "     -------- ------------------------------- 7.1/33.5 MB 1.3 MB/s eta 0:00:21\n",
      "     -------- ------------------------------- 7.2/33.5 MB 1.3 MB/s eta 0:00:21\n",
      "     -------- ------------------------------- 7.2/33.5 MB 1.3 MB/s eta 0:00:21\n",
      "     -------- ------------------------------- 7.3/33.5 MB 1.3 MB/s eta 0:00:21\n",
      "     -------- ------------------------------- 7.4/33.5 MB 1.3 MB/s eta 0:00:21\n",
      "     -------- ------------------------------- 7.4/33.5 MB 1.3 MB/s eta 0:00:21\n",
      "     -------- ------------------------------- 7.5/33.5 MB 1.3 MB/s eta 0:00:21\n",
      "     --------- ------------------------------ 7.6/33.5 MB 1.3 MB/s eta 0:00:21\n",
      "     --------- ------------------------------ 7.6/33.5 MB 1.3 MB/s eta 0:00:20\n",
      "     --------- ------------------------------ 7.7/33.5 MB 1.3 MB/s eta 0:00:20\n",
      "     --------- ------------------------------ 7.7/33.5 MB 1.3 MB/s eta 0:00:20\n",
      "     --------- ------------------------------ 7.8/33.5 MB 1.3 MB/s eta 0:00:20\n",
      "     --------- ------------------------------ 7.9/33.5 MB 1.3 MB/s eta 0:00:20\n",
      "     --------- ------------------------------ 7.9/33.5 MB 1.3 MB/s eta 0:00:20\n",
      "     --------- ------------------------------ 8.0/33.5 MB 1.3 MB/s eta 0:00:20\n",
      "     --------- ------------------------------ 8.0/33.5 MB 1.3 MB/s eta 0:00:20\n",
      "     --------- ------------------------------ 8.1/33.5 MB 1.3 MB/s eta 0:00:20\n",
      "     --------- ------------------------------ 8.2/33.5 MB 1.3 MB/s eta 0:00:20\n",
      "     --------- ------------------------------ 8.2/33.5 MB 1.3 MB/s eta 0:00:20\n",
      "     --------- ------------------------------ 8.3/33.5 MB 1.3 MB/s eta 0:00:20\n",
      "     --------- ------------------------------ 8.4/33.5 MB 1.3 MB/s eta 0:00:20\n",
      "     ---------- ----------------------------- 8.4/33.5 MB 1.3 MB/s eta 0:00:20\n",
      "     ---------- ----------------------------- 8.5/33.5 MB 1.3 MB/s eta 0:00:20\n",
      "     ---------- ----------------------------- 8.5/33.5 MB 1.3 MB/s eta 0:00:20\n",
      "     ---------- ----------------------------- 8.6/33.5 MB 1.3 MB/s eta 0:00:20\n",
      "     ---------- ----------------------------- 8.7/33.5 MB 1.3 MB/s eta 0:00:20\n",
      "     ---------- ----------------------------- 8.7/33.5 MB 1.3 MB/s eta 0:00:20\n",
      "     ---------- ----------------------------- 8.8/33.5 MB 1.3 MB/s eta 0:00:20\n",
      "     ---------- ----------------------------- 8.8/33.5 MB 1.3 MB/s eta 0:00:20\n",
      "     ---------- ----------------------------- 8.9/33.5 MB 1.3 MB/s eta 0:00:19\n",
      "     ---------- ----------------------------- 9.0/33.5 MB 1.3 MB/s eta 0:00:19\n",
      "     ---------- ----------------------------- 9.0/33.5 MB 1.3 MB/s eta 0:00:19\n",
      "     ---------- ----------------------------- 9.1/33.5 MB 1.3 MB/s eta 0:00:19\n",
      "     ---------- ----------------------------- 9.1/33.5 MB 1.3 MB/s eta 0:00:19\n",
      "     ---------- ----------------------------- 9.2/33.5 MB 1.3 MB/s eta 0:00:19\n",
      "     ----------- ---------------------------- 9.3/33.5 MB 1.3 MB/s eta 0:00:19\n",
      "     ----------- ---------------------------- 9.3/33.5 MB 1.3 MB/s eta 0:00:19\n",
      "     ----------- ---------------------------- 9.4/33.5 MB 1.3 MB/s eta 0:00:19\n",
      "     ----------- ---------------------------- 9.5/33.5 MB 1.3 MB/s eta 0:00:19\n",
      "     ----------- ---------------------------- 9.5/33.5 MB 1.3 MB/s eta 0:00:19\n",
      "     ----------- ---------------------------- 9.6/33.5 MB 1.3 MB/s eta 0:00:19\n",
      "     ----------- ---------------------------- 9.6/33.5 MB 1.3 MB/s eta 0:00:19\n",
      "     ----------- ---------------------------- 9.7/33.5 MB 1.3 MB/s eta 0:00:19\n",
      "     ----------- ---------------------------- 9.7/33.5 MB 1.3 MB/s eta 0:00:19\n",
      "     ----------- ---------------------------- 9.8/33.5 MB 1.3 MB/s eta 0:00:19\n",
      "     ----------- ---------------------------- 9.9/33.5 MB 1.3 MB/s eta 0:00:19\n",
      "     ----------- ---------------------------- 9.9/33.5 MB 1.3 MB/s eta 0:00:19\n",
      "     ----------- ---------------------------- 10.0/33.5 MB 1.3 MB/s eta 0:00:19\n",
      "     ------------ --------------------------- 10.1/33.5 MB 1.3 MB/s eta 0:00:19\n",
      "     ------------ --------------------------- 10.1/33.5 MB 1.3 MB/s eta 0:00:19\n",
      "     ------------ --------------------------- 10.2/33.5 MB 1.3 MB/s eta 0:00:19\n",
      "     ------------ --------------------------- 10.2/33.5 MB 1.3 MB/s eta 0:00:18\n",
      "     ------------ --------------------------- 10.3/33.5 MB 1.3 MB/s eta 0:00:18\n",
      "     ------------ --------------------------- 10.4/33.5 MB 1.3 MB/s eta 0:00:18\n",
      "     ------------ --------------------------- 10.4/33.5 MB 1.3 MB/s eta 0:00:18\n",
      "     ------------ --------------------------- 10.5/33.5 MB 1.3 MB/s eta 0:00:18\n",
      "     ------------ --------------------------- 10.5/33.5 MB 1.3 MB/s eta 0:00:18\n",
      "     ------------ --------------------------- 10.6/33.5 MB 1.3 MB/s eta 0:00:18\n",
      "     ------------ --------------------------- 10.7/33.5 MB 1.3 MB/s eta 0:00:18\n",
      "     ------------ --------------------------- 10.7/33.5 MB 1.3 MB/s eta 0:00:18\n",
      "     ------------ --------------------------- 10.8/33.5 MB 1.3 MB/s eta 0:00:18\n",
      "     ------------ --------------------------- 10.9/33.5 MB 1.3 MB/s eta 0:00:18\n",
      "     ------------- -------------------------- 10.9/33.5 MB 1.3 MB/s eta 0:00:18\n",
      "     ------------- -------------------------- 11.0/33.5 MB 1.3 MB/s eta 0:00:18\n",
      "     ------------- -------------------------- 11.0/33.5 MB 1.3 MB/s eta 0:00:18\n",
      "     ------------- -------------------------- 11.1/33.5 MB 1.3 MB/s eta 0:00:18\n",
      "     ------------- -------------------------- 11.2/33.5 MB 1.3 MB/s eta 0:00:18\n",
      "     ------------- -------------------------- 11.2/33.5 MB 1.3 MB/s eta 0:00:18\n",
      "     ------------- -------------------------- 11.3/33.5 MB 1.3 MB/s eta 0:00:18\n",
      "     ------------- -------------------------- 11.3/33.5 MB 1.3 MB/s eta 0:00:18\n",
      "     ------------- -------------------------- 11.4/33.5 MB 1.3 MB/s eta 0:00:18\n",
      "     ------------- -------------------------- 11.5/33.5 MB 1.3 MB/s eta 0:00:17\n",
      "     ------------- -------------------------- 11.5/33.5 MB 1.3 MB/s eta 0:00:17\n",
      "     ------------- -------------------------- 11.6/33.5 MB 1.3 MB/s eta 0:00:17\n",
      "     ------------- -------------------------- 11.7/33.5 MB 1.3 MB/s eta 0:00:17\n",
      "     ------------- -------------------------- 11.7/33.5 MB 1.3 MB/s eta 0:00:17\n",
      "     -------------- ------------------------- 11.8/33.5 MB 1.3 MB/s eta 0:00:17\n",
      "     -------------- ------------------------- 11.8/33.5 MB 1.3 MB/s eta 0:00:17\n",
      "     -------------- ------------------------- 11.9/33.5 MB 1.3 MB/s eta 0:00:17\n",
      "     -------------- ------------------------- 12.0/33.5 MB 1.3 MB/s eta 0:00:17\n",
      "     -------------- ------------------------- 12.0/33.5 MB 1.3 MB/s eta 0:00:17\n",
      "     -------------- ------------------------- 12.1/33.5 MB 1.3 MB/s eta 0:00:17\n",
      "     -------------- ------------------------- 12.1/33.5 MB 1.3 MB/s eta 0:00:17\n",
      "     -------------- ------------------------- 12.2/33.5 MB 1.3 MB/s eta 0:00:17\n",
      "     -------------- ------------------------- 12.2/33.5 MB 1.3 MB/s eta 0:00:17\n",
      "     -------------- ------------------------- 12.3/33.5 MB 1.3 MB/s eta 0:00:17\n",
      "     -------------- ------------------------- 12.4/33.5 MB 1.3 MB/s eta 0:00:17\n",
      "     -------------- ------------------------- 12.4/33.5 MB 1.3 MB/s eta 0:00:17\n",
      "     -------------- ------------------------- 12.5/33.5 MB 1.3 MB/s eta 0:00:17\n",
      "     --------------- ------------------------ 12.6/33.5 MB 1.3 MB/s eta 0:00:17\n",
      "     --------------- ------------------------ 12.6/33.5 MB 1.3 MB/s eta 0:00:17\n",
      "     --------------- ------------------------ 12.7/33.5 MB 1.3 MB/s eta 0:00:17\n",
      "     --------------- ------------------------ 12.7/33.5 MB 1.3 MB/s eta 0:00:16\n",
      "     --------------- ------------------------ 12.8/33.5 MB 1.3 MB/s eta 0:00:16\n",
      "     --------------- ------------------------ 12.9/33.5 MB 1.3 MB/s eta 0:00:16\n",
      "     --------------- ------------------------ 12.9/33.5 MB 1.3 MB/s eta 0:00:16\n",
      "     --------------- ------------------------ 13.0/33.5 MB 1.3 MB/s eta 0:00:16\n",
      "     --------------- ------------------------ 13.0/33.5 MB 1.3 MB/s eta 0:00:16\n",
      "     --------------- ------------------------ 13.1/33.5 MB 1.3 MB/s eta 0:00:16\n",
      "     --------------- ------------------------ 13.1/33.5 MB 1.3 MB/s eta 0:00:16\n",
      "     --------------- ------------------------ 13.2/33.5 MB 1.3 MB/s eta 0:00:16\n",
      "     --------------- ------------------------ 13.3/33.5 MB 1.3 MB/s eta 0:00:16\n",
      "     --------------- ------------------------ 13.3/33.5 MB 1.3 MB/s eta 0:00:16\n",
      "     ---------------- ----------------------- 13.4/33.5 MB 1.3 MB/s eta 0:00:16\n",
      "     ---------------- ----------------------- 13.5/33.5 MB 1.3 MB/s eta 0:00:16\n",
      "     ---------------- ----------------------- 13.5/33.5 MB 1.3 MB/s eta 0:00:16\n",
      "     ---------------- ----------------------- 13.6/33.5 MB 1.3 MB/s eta 0:00:16\n",
      "     ---------------- ----------------------- 13.6/33.5 MB 1.3 MB/s eta 0:00:16\n",
      "     ---------------- ----------------------- 13.7/33.5 MB 1.3 MB/s eta 0:00:16\n",
      "     ---------------- ----------------------- 13.8/33.5 MB 1.3 MB/s eta 0:00:16\n",
      "     ---------------- ----------------------- 13.8/33.5 MB 1.3 MB/s eta 0:00:16\n",
      "     ---------------- ----------------------- 13.9/33.5 MB 1.3 MB/s eta 0:00:16\n",
      "     ---------------- ----------------------- 14.0/33.5 MB 1.3 MB/s eta 0:00:16\n",
      "     ---------------- ----------------------- 14.0/33.5 MB 1.3 MB/s eta 0:00:16\n",
      "     ---------------- ----------------------- 14.1/33.5 MB 1.3 MB/s eta 0:00:15\n",
      "     ---------------- ----------------------- 14.1/33.5 MB 1.3 MB/s eta 0:00:15\n",
      "     ---------------- ----------------------- 14.2/33.5 MB 1.3 MB/s eta 0:00:15\n",
      "     ----------------- ---------------------- 14.3/33.5 MB 1.3 MB/s eta 0:00:15\n",
      "     ----------------- ---------------------- 14.3/33.5 MB 1.3 MB/s eta 0:00:15\n",
      "     ----------------- ---------------------- 14.4/33.5 MB 1.3 MB/s eta 0:00:15\n",
      "     ----------------- ---------------------- 14.4/33.5 MB 1.3 MB/s eta 0:00:15\n",
      "     ----------------- ---------------------- 14.5/33.5 MB 1.3 MB/s eta 0:00:15\n",
      "     ----------------- ---------------------- 14.6/33.5 MB 1.3 MB/s eta 0:00:15\n",
      "     ----------------- ---------------------- 14.6/33.5 MB 1.3 MB/s eta 0:00:15\n",
      "     ----------------- ---------------------- 14.7/33.5 MB 1.3 MB/s eta 0:00:15\n",
      "     ----------------- ---------------------- 14.7/33.5 MB 1.3 MB/s eta 0:00:15\n",
      "     ----------------- ---------------------- 14.8/33.5 MB 1.3 MB/s eta 0:00:15\n",
      "     ----------------- ---------------------- 14.9/33.5 MB 1.3 MB/s eta 0:00:15\n",
      "     ----------------- ---------------------- 14.9/33.5 MB 1.3 MB/s eta 0:00:15\n",
      "     ----------------- ---------------------- 15.0/33.5 MB 1.3 MB/s eta 0:00:15\n",
      "     ----------------- ---------------------- 15.1/33.5 MB 1.3 MB/s eta 0:00:15\n",
      "     ------------------ --------------------- 15.1/33.5 MB 1.3 MB/s eta 0:00:15\n",
      "     ------------------ --------------------- 15.2/33.5 MB 1.3 MB/s eta 0:00:15\n",
      "     ------------------ --------------------- 15.2/33.5 MB 1.3 MB/s eta 0:00:15\n",
      "     ------------------ --------------------- 15.3/33.5 MB 1.3 MB/s eta 0:00:15\n",
      "     ------------------ --------------------- 15.4/33.5 MB 1.3 MB/s eta 0:00:14\n",
      "     ------------------ --------------------- 15.4/33.5 MB 1.3 MB/s eta 0:00:14\n",
      "     ------------------ --------------------- 15.5/33.5 MB 1.3 MB/s eta 0:00:14\n",
      "     ------------------ --------------------- 15.5/33.5 MB 1.3 MB/s eta 0:00:14\n",
      "     ------------------ --------------------- 15.6/33.5 MB 1.3 MB/s eta 0:00:14\n",
      "     ------------------ --------------------- 15.7/33.5 MB 1.3 MB/s eta 0:00:14\n",
      "     ------------------ --------------------- 15.7/33.5 MB 1.3 MB/s eta 0:00:14\n",
      "     ------------------ --------------------- 15.8/33.5 MB 1.3 MB/s eta 0:00:14\n",
      "     ------------------ --------------------- 15.8/33.5 MB 1.3 MB/s eta 0:00:14\n",
      "     ------------------ --------------------- 15.9/33.5 MB 1.3 MB/s eta 0:00:14\n",
      "     ------------------- -------------------- 16.0/33.5 MB 1.3 MB/s eta 0:00:14\n",
      "     ------------------- -------------------- 16.0/33.5 MB 1.3 MB/s eta 0:00:14\n",
      "     ------------------- -------------------- 16.1/33.5 MB 1.3 MB/s eta 0:00:14\n",
      "     ------------------- -------------------- 16.1/33.5 MB 1.3 MB/s eta 0:00:14\n",
      "     ------------------- -------------------- 16.2/33.5 MB 1.3 MB/s eta 0:00:14\n",
      "     ------------------- -------------------- 16.3/33.5 MB 1.3 MB/s eta 0:00:14\n",
      "     ------------------- -------------------- 16.3/33.5 MB 1.3 MB/s eta 0:00:14\n",
      "     ------------------- -------------------- 16.4/33.5 MB 1.3 MB/s eta 0:00:14\n",
      "     ------------------- -------------------- 16.5/33.5 MB 1.3 MB/s eta 0:00:14\n",
      "     ------------------- -------------------- 16.5/33.5 MB 1.3 MB/s eta 0:00:14\n",
      "     ------------------- -------------------- 16.6/33.5 MB 1.3 MB/s eta 0:00:14\n",
      "     ------------------- -------------------- 16.6/33.5 MB 1.3 MB/s eta 0:00:13\n",
      "     ------------------- -------------------- 16.7/33.5 MB 1.3 MB/s eta 0:00:13\n",
      "     -------------------- ------------------- 16.8/33.5 MB 1.3 MB/s eta 0:00:13\n",
      "     -------------------- ------------------- 16.8/33.5 MB 1.3 MB/s eta 0:00:13\n",
      "     -------------------- ------------------- 16.9/33.5 MB 1.3 MB/s eta 0:00:13\n",
      "     -------------------- ------------------- 16.9/33.5 MB 1.3 MB/s eta 0:00:13\n",
      "     -------------------- ------------------- 17.0/33.5 MB 1.3 MB/s eta 0:00:13\n",
      "     -------------------- ------------------- 17.1/33.5 MB 1.3 MB/s eta 0:00:13\n",
      "     -------------------- ------------------- 17.2/33.5 MB 1.3 MB/s eta 0:00:13\n",
      "     -------------------- ------------------- 17.2/33.5 MB 1.3 MB/s eta 0:00:13\n",
      "     -------------------- ------------------- 17.3/33.5 MB 1.3 MB/s eta 0:00:13\n",
      "     -------------------- ------------------- 17.3/33.5 MB 1.3 MB/s eta 0:00:13\n",
      "     -------------------- ------------------- 17.4/33.5 MB 1.3 MB/s eta 0:00:13\n",
      "     -------------------- ------------------- 17.4/33.5 MB 1.3 MB/s eta 0:00:13\n",
      "     -------------------- ------------------- 17.5/33.5 MB 1.3 MB/s eta 0:00:13\n",
      "     -------------------- ------------------- 17.6/33.5 MB 1.3 MB/s eta 0:00:13\n",
      "     --------------------- ------------------ 17.6/33.5 MB 1.3 MB/s eta 0:00:13\n",
      "     --------------------- ------------------ 17.7/33.5 MB 1.3 MB/s eta 0:00:13\n",
      "     --------------------- ------------------ 17.8/33.5 MB 1.3 MB/s eta 0:00:13\n",
      "     --------------------- ------------------ 17.8/33.5 MB 1.3 MB/s eta 0:00:13\n",
      "     --------------------- ------------------ 17.9/33.5 MB 1.3 MB/s eta 0:00:13\n",
      "     --------------------- ------------------ 17.9/33.5 MB 1.3 MB/s eta 0:00:13\n",
      "     --------------------- ------------------ 18.0/33.5 MB 1.3 MB/s eta 0:00:12\n",
      "     --------------------- ------------------ 18.1/33.5 MB 1.3 MB/s eta 0:00:12\n",
      "     --------------------- ------------------ 18.1/33.5 MB 1.3 MB/s eta 0:00:12\n",
      "     --------------------- ------------------ 18.2/33.5 MB 1.3 MB/s eta 0:00:12\n",
      "     --------------------- ------------------ 18.2/33.5 MB 1.3 MB/s eta 0:00:12\n",
      "     --------------------- ------------------ 18.3/33.5 MB 1.3 MB/s eta 0:00:12\n",
      "     --------------------- ------------------ 18.4/33.5 MB 1.3 MB/s eta 0:00:12\n",
      "     ---------------------- ----------------- 18.4/33.5 MB 1.3 MB/s eta 0:00:12\n",
      "     ---------------------- ----------------- 18.5/33.5 MB 1.3 MB/s eta 0:00:12\n",
      "     ---------------------- ----------------- 18.5/33.5 MB 1.3 MB/s eta 0:00:12\n",
      "     ---------------------- ----------------- 18.6/33.5 MB 1.3 MB/s eta 0:00:12\n",
      "     ---------------------- ----------------- 18.7/33.5 MB 1.3 MB/s eta 0:00:12\n",
      "     ---------------------- ----------------- 18.7/33.5 MB 1.3 MB/s eta 0:00:12\n",
      "     ---------------------- ----------------- 18.8/33.5 MB 1.3 MB/s eta 0:00:12\n",
      "     ---------------------- ----------------- 18.9/33.5 MB 1.3 MB/s eta 0:00:12\n",
      "     ---------------------- ----------------- 18.9/33.5 MB 1.3 MB/s eta 0:00:12\n",
      "     ---------------------- ----------------- 19.0/33.5 MB 1.3 MB/s eta 0:00:12\n",
      "     ---------------------- ----------------- 19.0/33.5 MB 1.3 MB/s eta 0:00:12\n",
      "     ---------------------- ----------------- 19.1/33.5 MB 1.3 MB/s eta 0:00:12\n",
      "     ---------------------- ----------------- 19.2/33.5 MB 1.3 MB/s eta 0:00:12\n",
      "     ---------------------- ----------------- 19.2/33.5 MB 1.3 MB/s eta 0:00:11\n",
      "     ----------------------- ---------------- 19.3/33.5 MB 1.3 MB/s eta 0:00:11\n",
      "     ----------------------- ---------------- 19.3/33.5 MB 1.3 MB/s eta 0:00:11\n",
      "     ----------------------- ---------------- 19.4/33.5 MB 1.3 MB/s eta 0:00:11\n",
      "     ----------------------- ---------------- 19.5/33.5 MB 1.3 MB/s eta 0:00:11\n",
      "     ----------------------- ---------------- 19.5/33.5 MB 1.3 MB/s eta 0:00:11\n",
      "     ----------------------- ---------------- 19.6/33.5 MB 1.3 MB/s eta 0:00:11\n",
      "     ----------------------- ---------------- 19.7/33.5 MB 1.3 MB/s eta 0:00:11\n",
      "     ----------------------- ---------------- 19.7/33.5 MB 1.3 MB/s eta 0:00:11\n",
      "     ----------------------- ---------------- 19.8/33.5 MB 1.3 MB/s eta 0:00:11\n",
      "     ----------------------- ---------------- 19.8/33.5 MB 1.3 MB/s eta 0:00:11\n",
      "     ----------------------- ---------------- 19.9/33.5 MB 1.3 MB/s eta 0:00:11\n",
      "     ----------------------- ---------------- 19.9/33.5 MB 1.3 MB/s eta 0:00:11\n",
      "     ----------------------- ---------------- 20.0/33.5 MB 1.3 MB/s eta 0:00:11\n",
      "     ----------------------- ---------------- 20.1/33.5 MB 1.3 MB/s eta 0:00:11\n",
      "     ------------------------ --------------- 20.1/33.5 MB 1.3 MB/s eta 0:00:11\n",
      "     ------------------------ --------------- 20.2/33.5 MB 1.3 MB/s eta 0:00:11\n",
      "     ------------------------ --------------- 20.3/33.5 MB 1.3 MB/s eta 0:00:11\n",
      "     ------------------------ --------------- 20.3/33.5 MB 1.3 MB/s eta 0:00:11\n",
      "     ------------------------ --------------- 20.4/33.5 MB 1.3 MB/s eta 0:00:11\n",
      "     ------------------------ --------------- 20.5/33.5 MB 1.3 MB/s eta 0:00:11\n",
      "     ------------------------ --------------- 20.5/33.5 MB 1.3 MB/s eta 0:00:11\n",
      "     ------------------------ --------------- 20.6/33.5 MB 1.3 MB/s eta 0:00:10\n",
      "     ------------------------ --------------- 20.6/33.5 MB 1.3 MB/s eta 0:00:10\n",
      "     ------------------------ --------------- 20.7/33.5 MB 1.3 MB/s eta 0:00:10\n",
      "     ------------------------ --------------- 20.8/33.5 MB 1.3 MB/s eta 0:00:10\n",
      "     ------------------------ --------------- 20.8/33.5 MB 1.3 MB/s eta 0:00:10\n",
      "     ------------------------ --------------- 20.9/33.5 MB 1.3 MB/s eta 0:00:10\n",
      "     ------------------------- -------------- 21.0/33.5 MB 1.3 MB/s eta 0:00:10\n",
      "     ------------------------- -------------- 21.0/33.5 MB 1.3 MB/s eta 0:00:10\n",
      "     ------------------------- -------------- 21.1/33.5 MB 1.3 MB/s eta 0:00:10\n",
      "     ------------------------- -------------- 21.1/33.5 MB 1.3 MB/s eta 0:00:10\n",
      "     ------------------------- -------------- 21.2/33.5 MB 1.3 MB/s eta 0:00:10\n",
      "     ------------------------- -------------- 21.2/33.5 MB 1.3 MB/s eta 0:00:10\n",
      "     ------------------------- -------------- 21.3/33.5 MB 1.3 MB/s eta 0:00:10\n",
      "     ------------------------- -------------- 21.4/33.5 MB 1.3 MB/s eta 0:00:10\n",
      "     ------------------------- -------------- 21.4/33.5 MB 1.3 MB/s eta 0:00:10\n",
      "     ------------------------- -------------- 21.5/33.5 MB 1.3 MB/s eta 0:00:10\n",
      "     ------------------------- -------------- 21.6/33.5 MB 1.3 MB/s eta 0:00:10\n",
      "     ------------------------- -------------- 21.6/33.5 MB 1.3 MB/s eta 0:00:10\n",
      "     ------------------------- -------------- 21.7/33.5 MB 1.3 MB/s eta 0:00:10\n",
      "     ------------------------- -------------- 21.7/33.5 MB 1.3 MB/s eta 0:00:10\n",
      "     -------------------------- ------------- 21.8/33.5 MB 1.3 MB/s eta 0:00:10\n",
      "     -------------------------- ------------- 21.9/33.5 MB 1.3 MB/s eta 0:00:09\n",
      "     -------------------------- ------------- 21.9/33.5 MB 1.3 MB/s eta 0:00:09\n",
      "     -------------------------- ------------- 22.0/33.5 MB 1.3 MB/s eta 0:00:09\n",
      "     -------------------------- ------------- 22.0/33.5 MB 1.3 MB/s eta 0:00:09\n",
      "     -------------------------- ------------- 22.1/33.5 MB 1.3 MB/s eta 0:00:09\n",
      "     -------------------------- ------------- 22.2/33.5 MB 1.3 MB/s eta 0:00:09\n",
      "     -------------------------- ------------- 22.2/33.5 MB 1.3 MB/s eta 0:00:09\n",
      "     -------------------------- ------------- 22.3/33.5 MB 1.3 MB/s eta 0:00:09\n",
      "     -------------------------- ------------- 22.3/33.5 MB 1.3 MB/s eta 0:00:09\n",
      "     -------------------------- ------------- 22.4/33.5 MB 1.3 MB/s eta 0:00:09\n",
      "     -------------------------- ------------- 22.5/33.5 MB 1.3 MB/s eta 0:00:09\n",
      "     -------------------------- ------------- 22.5/33.5 MB 1.3 MB/s eta 0:00:09\n",
      "     -------------------------- ------------- 22.6/33.5 MB 1.3 MB/s eta 0:00:09\n",
      "     --------------------------- ------------ 22.6/33.5 MB 1.3 MB/s eta 0:00:09\n",
      "     --------------------------- ------------ 22.7/33.5 MB 1.3 MB/s eta 0:00:09\n",
      "     --------------------------- ------------ 22.8/33.5 MB 1.3 MB/s eta 0:00:09\n",
      "     --------------------------- ------------ 22.8/33.5 MB 1.3 MB/s eta 0:00:09\n",
      "     --------------------------- ------------ 22.9/33.5 MB 1.3 MB/s eta 0:00:09\n",
      "     --------------------------- ------------ 22.9/33.5 MB 1.3 MB/s eta 0:00:09\n",
      "     --------------------------- ------------ 23.0/33.5 MB 1.3 MB/s eta 0:00:09\n",
      "     --------------------------- ------------ 23.1/33.5 MB 1.3 MB/s eta 0:00:09\n",
      "     --------------------------- ------------ 23.1/33.5 MB 1.3 MB/s eta 0:00:08\n",
      "     --------------------------- ------------ 23.2/33.5 MB 1.3 MB/s eta 0:00:08\n",
      "     --------------------------- ------------ 23.3/33.5 MB 1.3 MB/s eta 0:00:08\n",
      "     --------------------------- ------------ 23.3/33.5 MB 1.3 MB/s eta 0:00:08\n",
      "     --------------------------- ------------ 23.4/33.5 MB 1.3 MB/s eta 0:00:08\n",
      "     ---------------------------- ----------- 23.4/33.5 MB 1.3 MB/s eta 0:00:08\n",
      "     ---------------------------- ----------- 23.5/33.5 MB 1.3 MB/s eta 0:00:08\n",
      "     ---------------------------- ----------- 23.6/33.5 MB 1.3 MB/s eta 0:00:08\n",
      "     ---------------------------- ----------- 23.6/33.5 MB 1.3 MB/s eta 0:00:08\n",
      "     ---------------------------- ----------- 23.7/33.5 MB 1.3 MB/s eta 0:00:08\n",
      "     ---------------------------- ----------- 23.8/33.5 MB 1.3 MB/s eta 0:00:08\n",
      "     ---------------------------- ----------- 23.8/33.5 MB 1.3 MB/s eta 0:00:08\n",
      "     ---------------------------- ----------- 23.9/33.5 MB 1.3 MB/s eta 0:00:08\n",
      "     ---------------------------- ----------- 23.9/33.5 MB 1.3 MB/s eta 0:00:08\n",
      "     ---------------------------- ----------- 24.0/33.5 MB 1.3 MB/s eta 0:00:08\n",
      "     ---------------------------- ----------- 24.1/33.5 MB 1.3 MB/s eta 0:00:08\n",
      "     ---------------------------- ----------- 24.1/33.5 MB 1.3 MB/s eta 0:00:08\n",
      "     ---------------------------- ----------- 24.2/33.5 MB 1.3 MB/s eta 0:00:08\n",
      "     ---------------------------- ----------- 24.2/33.5 MB 1.3 MB/s eta 0:00:08\n",
      "     ----------------------------- ---------- 24.3/33.5 MB 1.3 MB/s eta 0:00:08\n",
      "     ----------------------------- ---------- 24.4/33.5 MB 1.3 MB/s eta 0:00:08\n",
      "     ----------------------------- ---------- 24.4/33.5 MB 1.3 MB/s eta 0:00:07\n",
      "     ----------------------------- ---------- 24.5/33.5 MB 1.3 MB/s eta 0:00:07\n",
      "     ----------------------------- ---------- 24.6/33.5 MB 1.3 MB/s eta 0:00:07\n",
      "     ----------------------------- ---------- 24.6/33.5 MB 1.3 MB/s eta 0:00:07\n",
      "     ----------------------------- ---------- 24.7/33.5 MB 1.3 MB/s eta 0:00:07\n",
      "     ----------------------------- ---------- 24.7/33.5 MB 1.3 MB/s eta 0:00:07\n",
      "     ----------------------------- ---------- 24.8/33.5 MB 1.3 MB/s eta 0:00:07\n",
      "     ----------------------------- ---------- 24.9/33.5 MB 1.3 MB/s eta 0:00:07\n",
      "     ----------------------------- ---------- 24.9/33.5 MB 1.3 MB/s eta 0:00:07\n",
      "     ----------------------------- ---------- 25.0/33.5 MB 1.3 MB/s eta 0:00:07\n",
      "     ----------------------------- ---------- 25.0/33.5 MB 1.3 MB/s eta 0:00:07\n",
      "     ----------------------------- ---------- 25.1/33.5 MB 1.3 MB/s eta 0:00:07\n",
      "     ------------------------------ --------- 25.2/33.5 MB 1.3 MB/s eta 0:00:07\n",
      "     ------------------------------ --------- 25.2/33.5 MB 1.3 MB/s eta 0:00:07\n",
      "     ------------------------------ --------- 25.3/33.5 MB 1.3 MB/s eta 0:00:07\n",
      "     ------------------------------ --------- 25.3/33.5 MB 1.3 MB/s eta 0:00:07\n",
      "     ------------------------------ --------- 25.4/33.5 MB 1.3 MB/s eta 0:00:07\n",
      "     ------------------------------ --------- 25.4/33.5 MB 1.3 MB/s eta 0:00:07\n",
      "     ------------------------------ --------- 25.5/33.5 MB 1.3 MB/s eta 0:00:07\n",
      "     ------------------------------ --------- 25.5/33.5 MB 1.3 MB/s eta 0:00:07\n",
      "     ------------------------------ --------- 25.6/33.5 MB 1.3 MB/s eta 0:00:07\n",
      "     ------------------------------ --------- 25.7/33.5 MB 1.3 MB/s eta 0:00:07\n",
      "     ------------------------------ --------- 25.7/33.5 MB 1.3 MB/s eta 0:00:06\n",
      "     ------------------------------ --------- 25.8/33.5 MB 1.3 MB/s eta 0:00:06\n",
      "     ------------------------------ --------- 25.8/33.5 MB 1.3 MB/s eta 0:00:06\n",
      "     ------------------------------ --------- 25.9/33.5 MB 1.3 MB/s eta 0:00:06\n",
      "     ------------------------------- -------- 26.0/33.5 MB 1.3 MB/s eta 0:00:06\n",
      "     ------------------------------- -------- 26.0/33.5 MB 1.3 MB/s eta 0:00:06\n",
      "     ------------------------------- -------- 26.1/33.5 MB 1.3 MB/s eta 0:00:06\n",
      "     ------------------------------- -------- 26.1/33.5 MB 1.3 MB/s eta 0:00:06\n",
      "     ------------------------------- -------- 26.2/33.5 MB 1.3 MB/s eta 0:00:06\n",
      "     ------------------------------- -------- 26.3/33.5 MB 1.3 MB/s eta 0:00:06\n",
      "     ------------------------------- -------- 26.3/33.5 MB 1.3 MB/s eta 0:00:06\n",
      "     ------------------------------- -------- 26.4/33.5 MB 1.3 MB/s eta 0:00:06\n",
      "     ------------------------------- -------- 26.5/33.5 MB 1.3 MB/s eta 0:00:06\n",
      "     ------------------------------- -------- 26.5/33.5 MB 1.3 MB/s eta 0:00:06\n",
      "     ------------------------------- -------- 26.6/33.5 MB 1.3 MB/s eta 0:00:06\n",
      "     ------------------------------- -------- 26.6/33.5 MB 1.3 MB/s eta 0:00:06\n",
      "     ------------------------------- -------- 26.7/33.5 MB 1.3 MB/s eta 0:00:06\n",
      "     ------------------------------- -------- 26.7/33.5 MB 1.3 MB/s eta 0:00:06\n",
      "     ------------------------------- -------- 26.7/33.5 MB 1.3 MB/s eta 0:00:06\n",
      "     -------------------------------- ------- 26.8/33.5 MB 1.3 MB/s eta 0:00:06\n",
      "     -------------------------------- ------- 26.9/33.5 MB 1.3 MB/s eta 0:00:06\n",
      "     -------------------------------- ------- 26.9/33.5 MB 1.3 MB/s eta 0:00:06\n",
      "     -------------------------------- ------- 27.0/33.5 MB 1.3 MB/s eta 0:00:06\n",
      "     -------------------------------- ------- 27.0/33.5 MB 1.3 MB/s eta 0:00:05\n",
      "     -------------------------------- ------- 27.1/33.5 MB 1.3 MB/s eta 0:00:05\n",
      "     -------------------------------- ------- 27.1/33.5 MB 1.3 MB/s eta 0:00:05\n",
      "     -------------------------------- ------- 27.2/33.5 MB 1.3 MB/s eta 0:00:05\n",
      "     -------------------------------- ------- 27.2/33.5 MB 1.3 MB/s eta 0:00:05\n",
      "     -------------------------------- ------- 27.3/33.5 MB 1.3 MB/s eta 0:00:05\n",
      "     -------------------------------- ------- 27.3/33.5 MB 1.3 MB/s eta 0:00:05\n",
      "     -------------------------------- ------- 27.4/33.5 MB 1.3 MB/s eta 0:00:05\n",
      "     -------------------------------- ------- 27.4/33.5 MB 1.3 MB/s eta 0:00:05\n",
      "     -------------------------------- ------- 27.5/33.5 MB 1.3 MB/s eta 0:00:05\n",
      "     -------------------------------- ------- 27.6/33.5 MB 1.3 MB/s eta 0:00:05\n",
      "     -------------------------------- ------- 27.6/33.5 MB 1.3 MB/s eta 0:00:05\n",
      "     --------------------------------- ------ 27.6/33.5 MB 1.3 MB/s eta 0:00:05\n",
      "     --------------------------------- ------ 27.7/33.5 MB 1.3 MB/s eta 0:00:05\n",
      "     --------------------------------- ------ 27.8/33.5 MB 1.3 MB/s eta 0:00:05\n",
      "     --------------------------------- ------ 27.8/33.5 MB 1.3 MB/s eta 0:00:05\n",
      "     --------------------------------- ------ 27.9/33.5 MB 1.3 MB/s eta 0:00:05\n",
      "     --------------------------------- ------ 27.9/33.5 MB 1.3 MB/s eta 0:00:05\n",
      "     --------------------------------- ------ 28.0/33.5 MB 1.3 MB/s eta 0:00:05\n",
      "     --------------------------------- ------ 28.0/33.5 MB 1.3 MB/s eta 0:00:05\n",
      "     --------------------------------- ------ 28.1/33.5 MB 1.3 MB/s eta 0:00:05\n",
      "     --------------------------------- ------ 28.1/33.5 MB 1.3 MB/s eta 0:00:05\n",
      "     --------------------------------- ------ 28.2/33.5 MB 1.3 MB/s eta 0:00:05\n",
      "     --------------------------------- ------ 28.2/33.5 MB 1.3 MB/s eta 0:00:05\n",
      "     --------------------------------- ------ 28.3/33.5 MB 1.3 MB/s eta 0:00:05\n",
      "     --------------------------------- ------ 28.3/33.5 MB 1.3 MB/s eta 0:00:04\n",
      "     --------------------------------- ------ 28.4/33.5 MB 1.3 MB/s eta 0:00:04\n",
      "     --------------------------------- ------ 28.5/33.5 MB 1.3 MB/s eta 0:00:04\n",
      "     ---------------------------------- ----- 28.5/33.5 MB 1.3 MB/s eta 0:00:04\n",
      "     ---------------------------------- ----- 28.5/33.5 MB 1.3 MB/s eta 0:00:04\n",
      "     ---------------------------------- ----- 28.6/33.5 MB 1.3 MB/s eta 0:00:04\n",
      "     ---------------------------------- ----- 28.7/33.5 MB 1.3 MB/s eta 0:00:04\n",
      "     ---------------------------------- ----- 28.7/33.5 MB 1.3 MB/s eta 0:00:04\n",
      "     ---------------------------------- ----- 28.8/33.5 MB 1.3 MB/s eta 0:00:04\n",
      "     ---------------------------------- ----- 28.8/33.5 MB 1.3 MB/s eta 0:00:04\n",
      "     ---------------------------------- ----- 28.9/33.5 MB 1.3 MB/s eta 0:00:04\n",
      "     ---------------------------------- ----- 28.9/33.5 MB 1.3 MB/s eta 0:00:04\n",
      "     ---------------------------------- ----- 29.0/33.5 MB 1.3 MB/s eta 0:00:04\n",
      "     ---------------------------------- ----- 29.0/33.5 MB 1.3 MB/s eta 0:00:04\n",
      "     ---------------------------------- ----- 29.1/33.5 MB 1.3 MB/s eta 0:00:04\n",
      "     ---------------------------------- ----- 29.1/33.5 MB 1.3 MB/s eta 0:00:04\n",
      "     ---------------------------------- ----- 29.2/33.5 MB 1.3 MB/s eta 0:00:04\n",
      "     ---------------------------------- ----- 29.3/33.5 MB 1.3 MB/s eta 0:00:04\n",
      "     ----------------------------------- ---- 29.3/33.5 MB 1.3 MB/s eta 0:00:04\n",
      "     ----------------------------------- ---- 29.4/33.5 MB 1.3 MB/s eta 0:00:04\n",
      "     ----------------------------------- ---- 29.4/33.5 MB 1.3 MB/s eta 0:00:04\n",
      "     ----------------------------------- ---- 29.5/33.5 MB 1.3 MB/s eta 0:00:04\n",
      "     ----------------------------------- ---- 29.5/33.5 MB 1.3 MB/s eta 0:00:04\n",
      "     ----------------------------------- ---- 29.6/33.5 MB 1.3 MB/s eta 0:00:04\n",
      "     ----------------------------------- ---- 29.6/33.5 MB 1.3 MB/s eta 0:00:03\n",
      "     ----------------------------------- ---- 29.7/33.5 MB 1.3 MB/s eta 0:00:03\n",
      "     ----------------------------------- ---- 29.7/33.5 MB 1.3 MB/s eta 0:00:03\n",
      "     ----------------------------------- ---- 29.8/33.5 MB 1.3 MB/s eta 0:00:03\n",
      "     ----------------------------------- ---- 29.8/33.5 MB 1.3 MB/s eta 0:00:03\n",
      "     ----------------------------------- ---- 29.9/33.5 MB 1.3 MB/s eta 0:00:03\n",
      "     ----------------------------------- ---- 29.9/33.5 MB 1.3 MB/s eta 0:00:03\n",
      "     ----------------------------------- ---- 30.0/33.5 MB 1.3 MB/s eta 0:00:03\n",
      "     ----------------------------------- ---- 30.0/33.5 MB 1.3 MB/s eta 0:00:03\n",
      "     ----------------------------------- ---- 30.1/33.5 MB 1.3 MB/s eta 0:00:03\n",
      "     ------------------------------------ --- 30.1/33.5 MB 1.3 MB/s eta 0:00:03\n",
      "     ------------------------------------ --- 30.2/33.5 MB 1.3 MB/s eta 0:00:03\n",
      "     ------------------------------------ --- 30.3/33.5 MB 1.3 MB/s eta 0:00:03\n",
      "     ------------------------------------ --- 30.3/33.5 MB 1.3 MB/s eta 0:00:03\n",
      "     ------------------------------------ --- 30.4/33.5 MB 1.3 MB/s eta 0:00:03\n",
      "     ------------------------------------ --- 30.4/33.5 MB 1.3 MB/s eta 0:00:03\n",
      "     ------------------------------------ --- 30.5/33.5 MB 1.3 MB/s eta 0:00:03\n",
      "     ------------------------------------ --- 30.5/33.5 MB 1.3 MB/s eta 0:00:03\n",
      "     ------------------------------------ --- 30.6/33.5 MB 1.3 MB/s eta 0:00:03\n",
      "     ------------------------------------ --- 30.6/33.5 MB 1.3 MB/s eta 0:00:03\n",
      "     ------------------------------------ --- 30.7/33.5 MB 1.3 MB/s eta 0:00:03\n",
      "     ------------------------------------ --- 30.7/33.5 MB 1.3 MB/s eta 0:00:03\n",
      "     ------------------------------------ --- 30.8/33.5 MB 1.3 MB/s eta 0:00:03\n",
      "     ------------------------------------ --- 30.8/33.5 MB 1.3 MB/s eta 0:00:03\n",
      "     ------------------------------------ --- 30.9/33.5 MB 1.3 MB/s eta 0:00:02\n",
      "     ------------------------------------ --- 30.9/33.5 MB 1.3 MB/s eta 0:00:02\n",
      "     ------------------------------------- -- 31.0/33.5 MB 1.3 MB/s eta 0:00:02\n",
      "     ------------------------------------- -- 31.1/33.5 MB 1.3 MB/s eta 0:00:02\n",
      "     ------------------------------------- -- 31.1/33.5 MB 1.3 MB/s eta 0:00:02\n",
      "     ------------------------------------- -- 31.2/33.5 MB 1.3 MB/s eta 0:00:02\n",
      "     ------------------------------------- -- 31.2/33.5 MB 1.3 MB/s eta 0:00:02\n",
      "     ------------------------------------- -- 31.3/33.5 MB 1.3 MB/s eta 0:00:02\n",
      "     ------------------------------------- -- 31.3/33.5 MB 1.3 MB/s eta 0:00:02\n",
      "     ------------------------------------- -- 31.4/33.5 MB 1.3 MB/s eta 0:00:02\n",
      "     ------------------------------------- -- 31.4/33.5 MB 1.3 MB/s eta 0:00:02\n",
      "     ------------------------------------- -- 31.5/33.5 MB 1.3 MB/s eta 0:00:02\n",
      "     ------------------------------------- -- 31.5/33.5 MB 1.3 MB/s eta 0:00:02\n",
      "     ------------------------------------- -- 31.6/33.5 MB 1.3 MB/s eta 0:00:02\n",
      "     ------------------------------------- -- 31.6/33.5 MB 1.3 MB/s eta 0:00:02\n",
      "     ------------------------------------- -- 31.7/33.5 MB 1.3 MB/s eta 0:00:02\n",
      "     ------------------------------------- -- 31.7/33.5 MB 1.3 MB/s eta 0:00:02\n",
      "     ------------------------------------- -- 31.8/33.5 MB 1.3 MB/s eta 0:00:02\n",
      "     -------------------------------------- - 31.8/33.5 MB 1.3 MB/s eta 0:00:02\n",
      "     -------------------------------------- - 31.9/33.5 MB 1.3 MB/s eta 0:00:02\n",
      "     -------------------------------------- - 32.0/33.5 MB 1.3 MB/s eta 0:00:02\n",
      "     -------------------------------------- - 32.0/33.5 MB 1.3 MB/s eta 0:00:02\n",
      "     -------------------------------------- - 32.1/33.5 MB 1.3 MB/s eta 0:00:02\n",
      "     -------------------------------------- - 32.1/33.5 MB 1.3 MB/s eta 0:00:02\n",
      "     -------------------------------------- - 32.2/33.5 MB 1.3 MB/s eta 0:00:02\n",
      "     -------------------------------------- - 32.2/33.5 MB 1.3 MB/s eta 0:00:01\n",
      "     -------------------------------------- - 32.3/33.5 MB 1.3 MB/s eta 0:00:01\n",
      "     -------------------------------------- - 32.3/33.5 MB 1.3 MB/s eta 0:00:01\n",
      "     -------------------------------------- - 32.4/33.5 MB 1.3 MB/s eta 0:00:01\n",
      "     -------------------------------------- - 32.4/33.5 MB 1.3 MB/s eta 0:00:01\n",
      "     -------------------------------------- - 32.5/33.5 MB 1.3 MB/s eta 0:00:01\n",
      "     -------------------------------------- - 32.6/33.5 MB 1.3 MB/s eta 0:00:01\n",
      "     -------------------------------------- - 32.6/33.5 MB 1.3 MB/s eta 0:00:01\n",
      "     ---------------------------------------  32.6/33.5 MB 1.3 MB/s eta 0:00:01\n",
      "     ---------------------------------------  32.7/33.5 MB 1.3 MB/s eta 0:00:01\n",
      "     ---------------------------------------  32.8/33.5 MB 1.3 MB/s eta 0:00:01\n",
      "     ---------------------------------------  32.8/33.5 MB 1.3 MB/s eta 0:00:01\n",
      "     ---------------------------------------  32.9/33.5 MB 1.3 MB/s eta 0:00:01\n",
      "     ---------------------------------------  32.9/33.5 MB 1.3 MB/s eta 0:00:01\n",
      "     ---------------------------------------  33.0/33.5 MB 1.3 MB/s eta 0:00:01\n",
      "     ---------------------------------------  33.0/33.5 MB 1.3 MB/s eta 0:00:01\n",
      "     ---------------------------------------  33.1/33.5 MB 1.3 MB/s eta 0:00:01\n",
      "     ---------------------------------------  33.1/33.5 MB 1.3 MB/s eta 0:00:01\n",
      "     ---------------------------------------  33.2/33.5 MB 1.3 MB/s eta 0:00:01\n",
      "     ---------------------------------------  33.2/33.5 MB 1.3 MB/s eta 0:00:01\n",
      "     ---------------------------------------  33.3/33.5 MB 1.3 MB/s eta 0:00:01\n",
      "     ---------------------------------------  33.3/33.5 MB 1.3 MB/s eta 0:00:01\n",
      "     ---------------------------------------  33.4/33.5 MB 1.3 MB/s eta 0:00:01\n",
      "     ---------------------------------------  33.5/33.5 MB 1.3 MB/s eta 0:00:01\n",
      "     ---------------------------------------  33.5/33.5 MB 1.3 MB/s eta 0:00:01\n",
      "     ---------------------------------------  33.5/33.5 MB 1.3 MB/s eta 0:00:01\n",
      "     ---------------------------------------  33.5/33.5 MB 1.3 MB/s eta 0:00:01\n",
      "     ---------------------------------------- 33.5/33.5 MB 1.3 MB/s eta 0:00:00\n",
      "\u001b[38;5;2m[+] Download and installation successful\u001b[0m\n",
      "You can now load the package via spacy.load('en_core_web_md')\n"
     ]
    },
    {
     "name": "stderr",
     "output_type": "stream",
     "text": [
      "\n",
      "[notice] A new release of pip is available: 23.2.1 -> 25.0.1\n",
      "[notice] To update, run: python.exe -m pip install --upgrade pip\n"
     ]
    }
   ],
   "source": [
    "!pip install spacy\n",
    "!python -m spacy download en_core_web_md"
   ]
  },
  {
   "cell_type": "code",
   "execution_count": 96,
   "metadata": {},
   "outputs": [
    {
     "name": "stdout",
     "output_type": "stream",
     "text": [
      "Python 3.12.0\n"
     ]
    }
   ],
   "source": [
    "!python --version"
   ]
  },
  {
   "cell_type": "code",
   "execution_count": 97,
   "metadata": {
    "id": "suPH-OqdSnwe"
   },
   "outputs": [],
   "source": [
    "import spacy\n",
    "nlp = spacy.load(\"en_core_web_md\")"
   ]
  },
  {
   "cell_type": "code",
   "execution_count": 98,
   "metadata": {
    "id": "P_qD1Dy9TBEn"
   },
   "outputs": [],
   "source": [
    "def preprocess_text(text):\n",
    "      if isinstance(text, str):\n",
    "        doc = nlp(text)\n",
    "        tokens = [token.lemma_.lower() for token in doc if not token.is_stop and token.is_alpha]\n",
    "        processed_text = ' '.join(tokens)\n",
    "        return processed_text\n",
    "      return np.nan"
   ]
  },
  {
   "cell_type": "markdown",
   "metadata": {
    "id": "19RGoxUtZ_eg"
   },
   "source": [
    "## Summary based system\n",
    "using overview and tagline of the movie to get similar predictions"
   ]
  },
  {
   "cell_type": "markdown",
   "metadata": {
    "id": "XIhgUKnrSbsL"
   },
   "source": [
    "### Apply preprocessing on description"
   ]
  },
  {
   "cell_type": "code",
   "execution_count": 99,
   "metadata": {
    "id": "Z2DtllkSTENR"
   },
   "outputs": [
    {
     "data": {
      "text/plain": [
       "0        Led by Woody, Andy's toys live happily in his ...\n",
       "1        When siblings Judy and Peter discover an encha...\n",
       "2        A family wedding reignites the ancient feud be...\n",
       "3        Cheated on, mistreated and stepped on, the wom...\n",
       "4        Just when George Banks has recovered from his ...\n",
       "                               ...                        \n",
       "39059    Chechen rebels take over a Russian nuclear pla...\n",
       "39063    Orbiting a quiet backwater planet, the massed ...\n",
       "39085    A ruthlessly ambitious Scottish lord siezes th...\n",
       "39098    DEEP WATER is the stunning true story of the f...\n",
       "39099    Holly Rowe's retiring, kissing her callgirl li...\n",
       "Name: description, Length: 14016, dtype: string"
      ]
     },
     "execution_count": 99,
     "metadata": {},
     "output_type": "execute_result"
    }
   ],
   "source": [
    "combined_dataset[\"description\"]"
   ]
  },
  {
   "cell_type": "code",
   "execution_count": 100,
   "metadata": {
    "id": "WqyWvM5HTCCf"
   },
   "outputs": [
    {
     "name": "stderr",
     "output_type": "stream",
     "text": [
      "C:\\Users\\FrostyFjord\\AppData\\Local\\Temp\\ipykernel_19584\\1174493881.py:1: SettingWithCopyWarning: \n",
      "A value is trying to be set on a copy of a slice from a DataFrame.\n",
      "Try using .loc[row_indexer,col_indexer] = value instead\n",
      "\n",
      "See the caveats in the documentation: https://pandas.pydata.org/pandas-docs/stable/user_guide/indexing.html#returning-a-view-versus-a-copy\n",
      "  combined_dataset[\"description\"] = combined_dataset[\"description\"].apply(preprocess_text)\n"
     ]
    },
    {
     "data": {
      "text/plain": [
       "0        lead woody andy toy live happily room andy bir...\n",
       "1        sibling judy peter discover enchanted board ga...\n",
       "2        family wedding reignite ancient feud door neig...\n",
       "3        cheat mistreat step woman hold breath wait elu...\n",
       "4        george banks recover daughter wedding receive ...\n",
       "                               ...                        \n",
       "39059    chechen rebel russian nuclear plant mysterious...\n",
       "39063    orbit quiet backwater planet mass force univer...\n",
       "39085    ruthlessly ambitious scottish lord sieze thron...\n",
       "39098    deep water stunning true story fateful voyage ...\n",
       "39099    holly rowe retiring kiss callgirl life goodbye...\n",
       "Name: description, Length: 14016, dtype: object"
      ]
     },
     "execution_count": 100,
     "metadata": {},
     "output_type": "execute_result"
    }
   ],
   "source": [
    "combined_dataset[\"description\"] = combined_dataset[\"description\"].apply(preprocess_text)\n",
    "combined_dataset[\"description\"]"
   ]
  },
  {
   "cell_type": "markdown",
   "metadata": {
    "id": "cGXwu_nFTTQ4"
   },
   "source": [
    "### making a tfidf model"
   ]
  },
  {
   "cell_type": "code",
   "execution_count": 101,
   "metadata": {
    "id": "_l5nFeqCV1_h"
   },
   "outputs": [
    {
     "name": "stderr",
     "output_type": "stream",
     "text": [
      "C:\\Users\\FrostyFjord\\AppData\\Local\\Temp\\ipykernel_19584\\750205400.py:1: SettingWithCopyWarning: \n",
      "A value is trying to be set on a copy of a slice from a DataFrame.\n",
      "Try using .loc[row_indexer,col_indexer] = value instead\n",
      "\n",
      "See the caveats in the documentation: https://pandas.pydata.org/pandas-docs/stable/user_guide/indexing.html#returning-a-view-versus-a-copy\n",
      "  combined_dataset[\"description\"] = combined_dataset[\"description\"].fillna('')\n"
     ]
    }
   ],
   "source": [
    "combined_dataset[\"description\"] = combined_dataset[\"description\"].fillna('')"
   ]
  },
  {
   "cell_type": "code",
   "execution_count": 102,
   "metadata": {
    "id": "FC3LmHBfTiNP"
   },
   "outputs": [],
   "source": [
    "from sklearn.feature_extraction.text import TfidfVectorizer\n",
    "tv = TfidfVectorizer()\n",
    "X = tv.fit_transform(combined_dataset[\"description\"]).toarray()"
   ]
  },
  {
   "cell_type": "code",
   "execution_count": 103,
   "metadata": {},
   "outputs": [
    {
     "data": {
      "text/plain": [
       "['C:/Users/FrostyFjord/Documents/movie-recommendation-data/dataset/summary_based_tfidf_matrix.pkl']"
      ]
     },
     "execution_count": 103,
     "metadata": {},
     "output_type": "execute_result"
    }
   ],
   "source": [
    "import joblib\n",
    "joblib.dump(tv, \"C:/Users/FrostyFjord/Documents/movie-recommendation-data/models/summary_based_tfidf_vectorizer.pkl\")\n",
    "joblib.dump(X, \"C:/Users/FrostyFjord/Documents/movie-recommendation-data/dataset/summary_based_tfidf_matrix.pkl\")"
   ]
  },
  {
   "cell_type": "markdown",
   "metadata": {
    "id": "ewnwqG1pUPfh"
   },
   "source": [
    "### Using cosine similarity to predict similar movies"
   ]
  },
  {
   "cell_type": "code",
   "execution_count": 104,
   "metadata": {
    "id": "DxlI0o8cUTqK"
   },
   "outputs": [],
   "source": [
    "from sklearn.metrics.pairwise import cosine_similarity\n",
    "def get_similar_article(text, vectorizer, X, df, top_n=5):\n",
    "  if isinstance(text, str):\n",
    "    preprocessed_text = preprocess_text(text)\n",
    "    X_text = vectorizer.transform([preprocessed_text])\n",
    "    similarity_scores = cosine_similarity(X, X_text).flatten()\n",
    "    top_indices = similarity_scores.argsort()[-top_n:][::-1]\n",
    "    return df.iloc[top_indices], similarity_scores[top_indices], similarity_scores"
   ]
  },
  {
   "cell_type": "code",
   "execution_count": 105,
   "metadata": {
    "id": "TBkFefTnUuu5"
   },
   "outputs": [
    {
     "name": "stdout",
     "output_type": "stream",
     "text": [
      "[0.92345099 0.22133993 0.2054015  0.1832714  0.17046748 0.1702312\n",
      " 0.16860097 0.16138394 0.15892901 0.15195642]\n"
     ]
    },
    {
     "data": {
      "text/html": [
       "<div>\n",
       "<style scoped>\n",
       "    .dataframe tbody tr th:only-of-type {\n",
       "        vertical-align: middle;\n",
       "    }\n",
       "\n",
       "    .dataframe tbody tr th {\n",
       "        vertical-align: top;\n",
       "    }\n",
       "\n",
       "    .dataframe thead th {\n",
       "        text-align: right;\n",
       "    }\n",
       "</style>\n",
       "<table border=\"1\" class=\"dataframe\">\n",
       "  <thead>\n",
       "    <tr style=\"text-align: right;\">\n",
       "      <th></th>\n",
       "      <th>movieId</th>\n",
       "      <th>title</th>\n",
       "      <th>imdb_id</th>\n",
       "      <th>poster_path</th>\n",
       "      <th>description</th>\n",
       "      <th>keywords</th>\n",
       "      <th>cast</th>\n",
       "      <th>director</th>\n",
       "      <th>genres</th>\n",
       "    </tr>\n",
       "  </thead>\n",
       "  <tbody>\n",
       "    <tr>\n",
       "      <th>1</th>\n",
       "      <td>2</td>\n",
       "      <td>Jumanji</td>\n",
       "      <td>tt0113497</td>\n",
       "      <td>/vzmL6fP7aPKNKPRTFnZmiUfciyV.jpg</td>\n",
       "      <td>sibling judy peter discover enchanted board ga...</td>\n",
       "      <td>[board game, disappearance, based on children'...</td>\n",
       "      <td>[Robin Williams, Jonathan Hyde, Kirsten Dunst,...</td>\n",
       "      <td>Joe Johnston</td>\n",
       "      <td>[Fantasy, Children, Family, Adventure]</td>\n",
       "    </tr>\n",
       "    <tr>\n",
       "      <th>18170</th>\n",
       "      <td>98122</td>\n",
       "      <td>Indie Game: The Movie</td>\n",
       "      <td>tt1942884</td>\n",
       "      <td>/pjR3TkkbprUKtB4pHdxnyRRkJMa.jpg</td>\n",
       "      <td>indie game movie feature documentary video gam...</td>\n",
       "      <td>[games, woman director, programmers, coding]</td>\n",
       "      <td>[Jonathan Blow, Phil Fish, Edmund McMillen, To...</td>\n",
       "      <td>Lisanne Pajot</td>\n",
       "      <td>[Documentary]</td>\n",
       "    </tr>\n",
       "    <tr>\n",
       "      <th>26097</th>\n",
       "      <td>135137</td>\n",
       "      <td>Pixels</td>\n",
       "      <td>tt2120120</td>\n",
       "      <td>/ktyVmIqfoaJ8w0gDSZyjhhOPpD6.jpg</td>\n",
       "      <td>video game expert recruit military fight era v...</td>\n",
       "      <td>[video game, nerd, alien attack, 3d, pixels]</td>\n",
       "      <td>[Adam Sandler, Michelle Monaghan, Peter Dinkla...</td>\n",
       "      <td>Chris Columbus</td>\n",
       "      <td>[Sci-Fi, Comedy, Action, Science Fiction]</td>\n",
       "    </tr>\n",
       "    <tr>\n",
       "      <th>21138</th>\n",
       "      <td>115534</td>\n",
       "      <td>Ouija</td>\n",
       "      <td>tt1204977</td>\n",
       "      <td>/vHTXN00kJktCbSLV50Vbk9siNiX.jpg</td>\n",
       "      <td>group friend confront terrifying fear awaken d...</td>\n",
       "      <td>[death of a friend, swimming pool, ouija, ouij...</td>\n",
       "      <td>[Olivia Cooke, Ana Coto, Daren Kagasoff, Bianc...</td>\n",
       "      <td>Stiles White</td>\n",
       "      <td>[Horror]</td>\n",
       "    </tr>\n",
       "    <tr>\n",
       "      <th>9860</th>\n",
       "      <td>27884</td>\n",
       "      <td>Word Wars</td>\n",
       "      <td>tt0390632</td>\n",
       "      <td>/bYm622FYzbyKXIGrK8u0CYAbzuq.jpg</td>\n",
       "      <td>classic board game scrabble popular decade add...</td>\n",
       "      <td>[competition, scrabble, documentary, board game]</td>\n",
       "      <td>[Mike Birbiglia, Joe Edley, Matt Graham, Marlo...</td>\n",
       "      <td>Eric Chaikin</td>\n",
       "      <td>[Documentary, Comedy, Drama]</td>\n",
       "    </tr>\n",
       "    <tr>\n",
       "      <th>6698</th>\n",
       "      <td>6304</td>\n",
       "      <td>Brainscan</td>\n",
       "      <td>tt0109327</td>\n",
       "      <td>/mNNJ3bFfthv651n3eOZlM68w1KO.jpg</td>\n",
       "      <td>lonely teenage horror movie fan discover myste...</td>\n",
       "      <td>[video game, pretended murder, hypnosis, virtu...</td>\n",
       "      <td>[Edward Furlong, Frank Langella, T. Ryder Smit...</td>\n",
       "      <td>John Flynn</td>\n",
       "      <td>[Fantasy, Comedy, Thriller, Sci-Fi, Science Fi...</td>\n",
       "    </tr>\n",
       "    <tr>\n",
       "      <th>7379</th>\n",
       "      <td>7006</td>\n",
       "      <td>Knight Moves</td>\n",
       "      <td>tt0104627</td>\n",
       "      <td>/wo521ayNdKhGA42BWyC3AIvXW2d.jpg</td>\n",
       "      <td>psychologist fall world class chess player sus...</td>\n",
       "      <td>[chess, chess champion, suspense]</td>\n",
       "      <td>[Christopher Lambert, Diane Lane, Tom Skerritt...</td>\n",
       "      <td>Carl Schenkel</td>\n",
       "      <td>[Mystery, Thriller]</td>\n",
       "    </tr>\n",
       "    <tr>\n",
       "      <th>11103</th>\n",
       "      <td>44731</td>\n",
       "      <td>Stay Alive</td>\n",
       "      <td>tt0441796</td>\n",
       "      <td>/9iPpBKxpkgxHtsyGcnSlSN5KTu6.jpg</td>\n",
       "      <td>mysterious brutal death old friend group teena...</td>\n",
       "      <td>[video game, hacker, virtual reality, virtual ...</td>\n",
       "      <td>[Jon Foster, Samaire Armstrong, Frankie Muniz,...</td>\n",
       "      <td>William Brent Bell</td>\n",
       "      <td>[Sci-Fi, Horror, Thriller]</td>\n",
       "    </tr>\n",
       "    <tr>\n",
       "      <th>10305</th>\n",
       "      <td>33113</td>\n",
       "      <td>Act of Violence</td>\n",
       "      <td>tt1159985</td>\n",
       "      <td>/oVEygwKmobB2MXHChF3MJlz1ThZ.jpg</td>\n",
       "      <td>finish school group guy girl set spend holiday...</td>\n",
       "      <td>[]</td>\n",
       "      <td>[Vinzenz Kiefer, Tobias Schenke, Anna Bertheau...</td>\n",
       "      <td>Lars Henning Jung</td>\n",
       "      <td>[Film-Noir, Drama, Thriller]</td>\n",
       "    </tr>\n",
       "    <tr>\n",
       "      <th>8286</th>\n",
       "      <td>8395</td>\n",
       "      <td>The Last of Sheila</td>\n",
       "      <td>tt0070291</td>\n",
       "      <td>/t3Zh1kw0mTkvfdCOELrvxS03Hz6.jpg</td>\n",
       "      <td>year sheila kill hit run multimillionaire husb...</td>\n",
       "      <td>[yacht, scavenger hunt, whodunit, ensemble cas...</td>\n",
       "      <td>[Richard Benjamin, Dyan Cannon, James Coburn, ...</td>\n",
       "      <td>Herbert Ross</td>\n",
       "      <td>[Crime, Mystery, Thriller]</td>\n",
       "    </tr>\n",
       "  </tbody>\n",
       "</table>\n",
       "</div>"
      ],
      "text/plain": [
       "       movieId                  title    imdb_id  \\\n",
       "1            2                Jumanji  tt0113497   \n",
       "18170    98122  Indie Game: The Movie  tt1942884   \n",
       "26097   135137                 Pixels  tt2120120   \n",
       "21138   115534                  Ouija  tt1204977   \n",
       "9860     27884              Word Wars  tt0390632   \n",
       "6698      6304              Brainscan  tt0109327   \n",
       "7379      7006           Knight Moves  tt0104627   \n",
       "11103    44731             Stay Alive  tt0441796   \n",
       "10305    33113        Act of Violence  tt1159985   \n",
       "8286      8395     The Last of Sheila  tt0070291   \n",
       "\n",
       "                            poster_path  \\\n",
       "1      /vzmL6fP7aPKNKPRTFnZmiUfciyV.jpg   \n",
       "18170  /pjR3TkkbprUKtB4pHdxnyRRkJMa.jpg   \n",
       "26097  /ktyVmIqfoaJ8w0gDSZyjhhOPpD6.jpg   \n",
       "21138  /vHTXN00kJktCbSLV50Vbk9siNiX.jpg   \n",
       "9860   /bYm622FYzbyKXIGrK8u0CYAbzuq.jpg   \n",
       "6698   /mNNJ3bFfthv651n3eOZlM68w1KO.jpg   \n",
       "7379   /wo521ayNdKhGA42BWyC3AIvXW2d.jpg   \n",
       "11103  /9iPpBKxpkgxHtsyGcnSlSN5KTu6.jpg   \n",
       "10305  /oVEygwKmobB2MXHChF3MJlz1ThZ.jpg   \n",
       "8286   /t3Zh1kw0mTkvfdCOELrvxS03Hz6.jpg   \n",
       "\n",
       "                                             description  \\\n",
       "1      sibling judy peter discover enchanted board ga...   \n",
       "18170  indie game movie feature documentary video gam...   \n",
       "26097  video game expert recruit military fight era v...   \n",
       "21138  group friend confront terrifying fear awaken d...   \n",
       "9860   classic board game scrabble popular decade add...   \n",
       "6698   lonely teenage horror movie fan discover myste...   \n",
       "7379   psychologist fall world class chess player sus...   \n",
       "11103  mysterious brutal death old friend group teena...   \n",
       "10305  finish school group guy girl set spend holiday...   \n",
       "8286   year sheila kill hit run multimillionaire husb...   \n",
       "\n",
       "                                                keywords  \\\n",
       "1      [board game, disappearance, based on children'...   \n",
       "18170       [games, woman director, programmers, coding]   \n",
       "26097       [video game, nerd, alien attack, 3d, pixels]   \n",
       "21138  [death of a friend, swimming pool, ouija, ouij...   \n",
       "9860    [competition, scrabble, documentary, board game]   \n",
       "6698   [video game, pretended murder, hypnosis, virtu...   \n",
       "7379                   [chess, chess champion, suspense]   \n",
       "11103  [video game, hacker, virtual reality, virtual ...   \n",
       "10305                                                 []   \n",
       "8286   [yacht, scavenger hunt, whodunit, ensemble cas...   \n",
       "\n",
       "                                                    cast            director  \\\n",
       "1      [Robin Williams, Jonathan Hyde, Kirsten Dunst,...        Joe Johnston   \n",
       "18170  [Jonathan Blow, Phil Fish, Edmund McMillen, To...       Lisanne Pajot   \n",
       "26097  [Adam Sandler, Michelle Monaghan, Peter Dinkla...      Chris Columbus   \n",
       "21138  [Olivia Cooke, Ana Coto, Daren Kagasoff, Bianc...        Stiles White   \n",
       "9860   [Mike Birbiglia, Joe Edley, Matt Graham, Marlo...        Eric Chaikin   \n",
       "6698   [Edward Furlong, Frank Langella, T. Ryder Smit...          John Flynn   \n",
       "7379   [Christopher Lambert, Diane Lane, Tom Skerritt...       Carl Schenkel   \n",
       "11103  [Jon Foster, Samaire Armstrong, Frankie Muniz,...  William Brent Bell   \n",
       "10305  [Vinzenz Kiefer, Tobias Schenke, Anna Bertheau...   Lars Henning Jung   \n",
       "8286   [Richard Benjamin, Dyan Cannon, James Coburn, ...        Herbert Ross   \n",
       "\n",
       "                                                  genres  \n",
       "1                 [Fantasy, Children, Family, Adventure]  \n",
       "18170                                      [Documentary]  \n",
       "26097          [Sci-Fi, Comedy, Action, Science Fiction]  \n",
       "21138                                           [Horror]  \n",
       "9860                        [Documentary, Comedy, Drama]  \n",
       "6698   [Fantasy, Comedy, Thriller, Sci-Fi, Science Fi...  \n",
       "7379                                 [Mystery, Thriller]  \n",
       "11103                         [Sci-Fi, Horror, Thriller]  \n",
       "10305                       [Film-Noir, Drama, Thriller]  \n",
       "8286                          [Crime, Mystery, Thriller]  "
      ]
     },
     "execution_count": 105,
     "metadata": {},
     "output_type": "execute_result"
    }
   ],
   "source": [
    "similar_movies, scores, similarity_scores = get_similar_article(combined_dataset[\"description\"][1], tv, X, combined_dataset,10)\n",
    "print(scores)\n",
    "similar_movies"
   ]
  },
  {
   "cell_type": "markdown",
   "metadata": {
    "id": "s4w1LMp0WU2_"
   },
   "source": [
    "## cast based content recommendation system\n",
    "using cast, director, genres and keywords to predict similar movies"
   ]
  },
  {
   "cell_type": "markdown",
   "metadata": {
    "id": "6rSDZbnyW0wU"
   },
   "source": [
    "### Making a seperate column consisting of cast, directors, genre and keywords.\n",
    "including director 5 times to give it more weightage"
   ]
  },
  {
   "cell_type": "code",
   "execution_count": 106,
   "metadata": {
    "id": "1hSRdV1IW-0L"
   },
   "outputs": [
    {
     "name": "stderr",
     "output_type": "stream",
     "text": [
      "C:\\Users\\FrostyFjord\\AppData\\Local\\Temp\\ipykernel_19584\\2821678487.py:4: SettingWithCopyWarning: \n",
      "A value is trying to be set on a copy of a slice from a DataFrame.\n",
      "Try using .loc[row_indexer,col_indexer] = value instead\n",
      "\n",
      "See the caveats in the documentation: https://pandas.pydata.org/pandas-docs/stable/user_guide/indexing.html#returning-a-view-versus-a-copy\n",
      "  combined_dataset[\"cast\"] = combined_dataset[\"cast\"].apply(get_string_from_list)\n",
      "C:\\Users\\FrostyFjord\\AppData\\Local\\Temp\\ipykernel_19584\\2821678487.py:5: SettingWithCopyWarning: \n",
      "A value is trying to be set on a copy of a slice from a DataFrame.\n",
      "Try using .loc[row_indexer,col_indexer] = value instead\n",
      "\n",
      "See the caveats in the documentation: https://pandas.pydata.org/pandas-docs/stable/user_guide/indexing.html#returning-a-view-versus-a-copy\n",
      "  combined_dataset[\"genres\"] = combined_dataset[\"genres\"].apply(get_string_from_list)\n",
      "C:\\Users\\FrostyFjord\\AppData\\Local\\Temp\\ipykernel_19584\\2821678487.py:6: SettingWithCopyWarning: \n",
      "A value is trying to be set on a copy of a slice from a DataFrame.\n",
      "Try using .loc[row_indexer,col_indexer] = value instead\n",
      "\n",
      "See the caveats in the documentation: https://pandas.pydata.org/pandas-docs/stable/user_guide/indexing.html#returning-a-view-versus-a-copy\n",
      "  combined_dataset[\"keywords\"] = combined_dataset[\"keywords\"].apply(get_string_from_list)\n",
      "C:\\Users\\FrostyFjord\\AppData\\Local\\Temp\\ipykernel_19584\\2821678487.py:8: SettingWithCopyWarning: \n",
      "A value is trying to be set on a copy of a slice from a DataFrame.\n",
      "Try using .loc[row_indexer,col_indexer] = value instead\n",
      "\n",
      "See the caveats in the documentation: https://pandas.pydata.org/pandas-docs/stable/user_guide/indexing.html#returning-a-view-versus-a-copy\n",
      "  combined_dataset[\"cast_director_genre_keywords\"] = combined_dataset[\"cast\"] + combined_dataset[\"director\"] * 5 + combined_dataset[\"genres\"] + combined_dataset[\"keywords\"]\n"
     ]
    }
   ],
   "source": [
    "def get_string_from_list(list):\n",
    "  return ' '.join(list)\n",
    "\n",
    "combined_dataset[\"cast\"] = combined_dataset[\"cast\"].apply(get_string_from_list)\n",
    "combined_dataset[\"genres\"] = combined_dataset[\"genres\"].apply(get_string_from_list)\n",
    "combined_dataset[\"keywords\"] = combined_dataset[\"keywords\"].apply(get_string_from_list)\n",
    "\n",
    "combined_dataset[\"cast_director_genre_keywords\"] = combined_dataset[\"cast\"] + combined_dataset[\"director\"] * 5 + combined_dataset[\"genres\"] + combined_dataset[\"keywords\"]\n"
   ]
  },
  {
   "cell_type": "code",
   "execution_count": 107,
   "metadata": {
    "id": "8_Qm8pNwXxK2"
   },
   "outputs": [
    {
     "data": {
      "text/plain": [
       "'Tom Hanks Tim Allen Don Rickles Jim Varney Wallace ShawnJohn LasseterJohn LasseterJohn LasseterJohn LasseterJohn LasseterFantasy Children Comedy Animation Family Adventurejealousy toy boy friendship friends rivalry boy next door new toy toy comes to life'"
      ]
     },
     "execution_count": 107,
     "metadata": {},
     "output_type": "execute_result"
    }
   ],
   "source": [
    "combined_dataset[\"cast_director_genre_keywords\"][0]"
   ]
  },
  {
   "cell_type": "code",
   "execution_count": 108,
   "metadata": {
    "id": "SDqPTKI8Y0S-"
   },
   "outputs": [
    {
     "data": {
      "text/plain": [
       "'Tom Hanks Tim Allen Don Rickles Jim Varney Wallace ShawnJohn LasseterJohn LasseterJohn LasseterJohn LasseterJohn LasseterFantasy Children Comedy Animation Family Adventurejealousy toy boy friendship friends rivalry boy next door new toy toy comes to life'"
      ]
     },
     "execution_count": 108,
     "metadata": {},
     "output_type": "execute_result"
    }
   ],
   "source": [
    "combined_dataset['cast_director_genre_keywords'].apply(preprocess_text)\n",
    "combined_dataset[\"cast_director_genre_keywords\"][0]"
   ]
  },
  {
   "cell_type": "code",
   "execution_count": 109,
   "metadata": {},
   "outputs": [
    {
     "name": "stderr",
     "output_type": "stream",
     "text": [
      "C:\\Users\\FrostyFjord\\AppData\\Local\\Temp\\ipykernel_19584\\2571974191.py:1: SettingWithCopyWarning: \n",
      "A value is trying to be set on a copy of a slice from a DataFrame.\n",
      "Try using .loc[row_indexer,col_indexer] = value instead\n",
      "\n",
      "See the caveats in the documentation: https://pandas.pydata.org/pandas-docs/stable/user_guide/indexing.html#returning-a-view-versus-a-copy\n",
      "  combined_dataset[\"cast_director_genre_keywords\"] = combined_dataset[\"cast_director_genre_keywords\"].fillna(\" \")\n"
     ]
    }
   ],
   "source": [
    "combined_dataset[\"cast_director_genre_keywords\"] = combined_dataset[\"cast_director_genre_keywords\"].fillna(\" \")"
   ]
  },
  {
   "cell_type": "markdown",
   "metadata": {
    "id": "MK2lHSh-Yfnk"
   },
   "source": [
    "### Creating a count vectorizer model\n"
   ]
  },
  {
   "cell_type": "code",
   "execution_count": 110,
   "metadata": {
    "id": "eEoDh1nAZPgR"
   },
   "outputs": [],
   "source": [
    "from sklearn.feature_extraction.text import CountVectorizer\n",
    "cv = CountVectorizer()\n",
    "X = cv.fit_transform(combined_dataset[\"cast_director_genre_keywords\"]).toarray()"
   ]
  },
  {
   "cell_type": "code",
   "execution_count": 111,
   "metadata": {},
   "outputs": [
    {
     "data": {
      "text/plain": [
       "['C:/Users/FrostyFjord/Documents/movie-recommendation-data/dataset/cast_based_count_matrix.pkl']"
      ]
     },
     "execution_count": 111,
     "metadata": {},
     "output_type": "execute_result"
    }
   ],
   "source": [
    "import joblib\n",
    "joblib.dump(cv, \"C:/Users/FrostyFjord/Documents/movie-recommendation-data/models/cast_based_count_vectorizer.pkl\")\n",
    "joblib.dump(X, \"C:/Users/FrostyFjord/Documents/movie-recommendation-data/dataset/cast_based_count_matrix.pkl\")"
   ]
  },
  {
   "cell_type": "code",
   "execution_count": 112,
   "metadata": {
    "id": "7xPC9DX3ZaVB"
   },
   "outputs": [
    {
     "name": "stdout",
     "output_type": "stream",
     "text": [
      "[0.9435642  0.5728919  0.49156769 0.44410268 0.42190981]\n"
     ]
    },
    {
     "data": {
      "text/html": [
       "<div>\n",
       "<style scoped>\n",
       "    .dataframe tbody tr th:only-of-type {\n",
       "        vertical-align: middle;\n",
       "    }\n",
       "\n",
       "    .dataframe tbody tr th {\n",
       "        vertical-align: top;\n",
       "    }\n",
       "\n",
       "    .dataframe thead th {\n",
       "        text-align: right;\n",
       "    }\n",
       "</style>\n",
       "<table border=\"1\" class=\"dataframe\">\n",
       "  <thead>\n",
       "    <tr style=\"text-align: right;\">\n",
       "      <th></th>\n",
       "      <th>movieId</th>\n",
       "      <th>title</th>\n",
       "      <th>imdb_id</th>\n",
       "      <th>poster_path</th>\n",
       "      <th>description</th>\n",
       "      <th>keywords</th>\n",
       "      <th>cast</th>\n",
       "      <th>director</th>\n",
       "      <th>genres</th>\n",
       "      <th>cast_director_genre_keywords</th>\n",
       "    </tr>\n",
       "  </thead>\n",
       "  <tbody>\n",
       "    <tr>\n",
       "      <th>0</th>\n",
       "      <td>1</td>\n",
       "      <td>Toy Story</td>\n",
       "      <td>tt0114709</td>\n",
       "      <td>/rhIRbceoE9lR4veEXuwCC2wARtG.jpg</td>\n",
       "      <td>lead woody andy toy live happily room andy bir...</td>\n",
       "      <td>jealousy toy boy friendship friends rivalry bo...</td>\n",
       "      <td>Tom Hanks Tim Allen Don Rickles Jim Varney Wal...</td>\n",
       "      <td>John Lasseter</td>\n",
       "      <td>Fantasy Children Comedy Animation Family Adven...</td>\n",
       "      <td>Tom Hanks Tim Allen Don Rickles Jim Varney Wal...</td>\n",
       "    </tr>\n",
       "    <tr>\n",
       "      <th>3342</th>\n",
       "      <td>3114</td>\n",
       "      <td>Toy Story 2</td>\n",
       "      <td>tt0120363</td>\n",
       "      <td>/3CmK3XurcLeUyMifCR28ibzupbB.jpg</td>\n",
       "      <td>andy head cowboy camp leave toy device thing s...</td>\n",
       "      <td>museum prosecution identity crisis airplane fl...</td>\n",
       "      <td>Tom Hanks Tim Allen Joan Cusack Kelsey Grammer...</td>\n",
       "      <td>John Lasseter</td>\n",
       "      <td>Fantasy Children Comedy Animation Family Adven...</td>\n",
       "      <td>Tom Hanks Tim Allen Joan Cusack Kelsey Grammer...</td>\n",
       "    </tr>\n",
       "    <tr>\n",
       "      <th>17783</th>\n",
       "      <td>95856</td>\n",
       "      <td>Knick Knack</td>\n",
       "      <td>tt0097674</td>\n",
       "      <td>/6bic6H6Tz6b9l31Zm8Hva6vuQu0.jpg</td>\n",
       "      <td>life shelf snowman trap snow globe blizzard we...</td>\n",
       "      <td>snowman snowglobes short pixar animation</td>\n",
       "      <td></td>\n",
       "      <td>John Lasseter</td>\n",
       "      <td>Children Animation</td>\n",
       "      <td>John LasseterJohn LasseterJohn LasseterJohn La...</td>\n",
       "    </tr>\n",
       "    <tr>\n",
       "      <th>16387</th>\n",
       "      <td>87876</td>\n",
       "      <td>Cars 2</td>\n",
       "      <td>tt1216475</td>\n",
       "      <td>/AblhtULOVtrkSnFxRPQ8gBemxw9.jpg</td>\n",
       "      <td>star race car lightning mcqueen pal mater head...</td>\n",
       "      <td>car race sequel comedy anthropomorphism best f...</td>\n",
       "      <td>Owen Wilson Larry the Cable Guy Michael Caine ...</td>\n",
       "      <td>John Lasseter</td>\n",
       "      <td>Children Comedy Animation Family Adventure IMAX</td>\n",
       "      <td>Owen Wilson Larry the Cable Guy Michael Caine ...</td>\n",
       "    </tr>\n",
       "    <tr>\n",
       "      <th>20074</th>\n",
       "      <td>109420</td>\n",
       "      <td>Mater and the Ghostlight</td>\n",
       "      <td>tt0901686</td>\n",
       "      <td>/sQWHFt51t3ZaOskX27OUwBqQilv.jpg</td>\n",
       "      <td>mater rusty trusty tow truck car spend day rad...</td>\n",
       "      <td>cgi tow truck police car short pixar animation</td>\n",
       "      <td>Larry the Cable Guy Owen Wilson Michael Wallis...</td>\n",
       "      <td>John Lasseter</td>\n",
       "      <td>Children Family Comedy Animation</td>\n",
       "      <td>Larry the Cable Guy Owen Wilson Michael Wallis...</td>\n",
       "    </tr>\n",
       "  </tbody>\n",
       "</table>\n",
       "</div>"
      ],
      "text/plain": [
       "       movieId                     title    imdb_id  \\\n",
       "0            1                 Toy Story  tt0114709   \n",
       "3342      3114               Toy Story 2  tt0120363   \n",
       "17783    95856               Knick Knack  tt0097674   \n",
       "16387    87876                    Cars 2  tt1216475   \n",
       "20074   109420  Mater and the Ghostlight  tt0901686   \n",
       "\n",
       "                            poster_path  \\\n",
       "0      /rhIRbceoE9lR4veEXuwCC2wARtG.jpg   \n",
       "3342   /3CmK3XurcLeUyMifCR28ibzupbB.jpg   \n",
       "17783  /6bic6H6Tz6b9l31Zm8Hva6vuQu0.jpg   \n",
       "16387  /AblhtULOVtrkSnFxRPQ8gBemxw9.jpg   \n",
       "20074  /sQWHFt51t3ZaOskX27OUwBqQilv.jpg   \n",
       "\n",
       "                                             description  \\\n",
       "0      lead woody andy toy live happily room andy bir...   \n",
       "3342   andy head cowboy camp leave toy device thing s...   \n",
       "17783  life shelf snowman trap snow globe blizzard we...   \n",
       "16387  star race car lightning mcqueen pal mater head...   \n",
       "20074  mater rusty trusty tow truck car spend day rad...   \n",
       "\n",
       "                                                keywords  \\\n",
       "0      jealousy toy boy friendship friends rivalry bo...   \n",
       "3342   museum prosecution identity crisis airplane fl...   \n",
       "17783           snowman snowglobes short pixar animation   \n",
       "16387  car race sequel comedy anthropomorphism best f...   \n",
       "20074     cgi tow truck police car short pixar animation   \n",
       "\n",
       "                                                    cast       director  \\\n",
       "0      Tom Hanks Tim Allen Don Rickles Jim Varney Wal...  John Lasseter   \n",
       "3342   Tom Hanks Tim Allen Joan Cusack Kelsey Grammer...  John Lasseter   \n",
       "17783                                                     John Lasseter   \n",
       "16387  Owen Wilson Larry the Cable Guy Michael Caine ...  John Lasseter   \n",
       "20074  Larry the Cable Guy Owen Wilson Michael Wallis...  John Lasseter   \n",
       "\n",
       "                                                  genres  \\\n",
       "0      Fantasy Children Comedy Animation Family Adven...   \n",
       "3342   Fantasy Children Comedy Animation Family Adven...   \n",
       "17783                                 Children Animation   \n",
       "16387    Children Comedy Animation Family Adventure IMAX   \n",
       "20074                   Children Family Comedy Animation   \n",
       "\n",
       "                            cast_director_genre_keywords  \n",
       "0      Tom Hanks Tim Allen Don Rickles Jim Varney Wal...  \n",
       "3342   Tom Hanks Tim Allen Joan Cusack Kelsey Grammer...  \n",
       "17783  John LasseterJohn LasseterJohn LasseterJohn La...  \n",
       "16387  Owen Wilson Larry the Cable Guy Michael Caine ...  \n",
       "20074  Larry the Cable Guy Owen Wilson Michael Wallis...  "
      ]
     },
     "execution_count": 112,
     "metadata": {},
     "output_type": "execute_result"
    }
   ],
   "source": [
    "similar_movies, scores, similarity_scores = get_similar_article(combined_dataset[\"cast_director_genre_keywords\"][0],cv, X, combined_dataset)\n",
    "print(scores)\n",
    "similar_movies"
   ]
  },
  {
   "cell_type": "code",
   "execution_count": 116,
   "metadata": {},
   "outputs": [],
   "source": [
    "combined_dataset.to_csv('C:/Users/FrostyFjord/Documents/movie-recommendation-data/dataset/combined_dataset.csv')\n"
   ]
  },
  {
   "cell_type": "markdown",
   "metadata": {
    "id": "z08aQLvDaJkp"
   },
   "source": [
    "## Hybrid content recommendation system"
   ]
  },
  {
   "cell_type": "code",
   "execution_count": 117,
   "metadata": {
    "id": "a7-0PUggaRr3"
   },
   "outputs": [
    {
     "name": "stderr",
     "output_type": "stream",
     "text": [
      "C:\\Users\\FrostyFjord\\AppData\\Local\\Temp\\ipykernel_19584\\2430994360.py:1: SettingWithCopyWarning: \n",
      "A value is trying to be set on a copy of a slice from a DataFrame.\n",
      "Try using .loc[row_indexer,col_indexer] = value instead\n",
      "\n",
      "See the caveats in the documentation: https://pandas.pydata.org/pandas-docs/stable/user_guide/indexing.html#returning-a-view-versus-a-copy\n",
      "  combined_dataset[\"overall_detail\"] = combined_dataset[\"description\"] + combined_dataset[\"cast_director_genre_keywords\"]*2\n"
     ]
    }
   ],
   "source": [
    "combined_dataset[\"overall_detail\"] = combined_dataset[\"description\"] + combined_dataset[\"cast_director_genre_keywords\"]*2"
   ]
  },
  {
   "cell_type": "markdown",
   "metadata": {
    "id": "lM345ndvaywF"
   },
   "source": [
    "### Creating a tfidf vectorizer model\n"
   ]
  },
  {
   "cell_type": "code",
   "execution_count": 118,
   "metadata": {
    "id": "H3pCEdKXaywG"
   },
   "outputs": [
    {
     "ename": "MemoryError",
     "evalue": "Unable to allocate 11.1 GiB for an array with shape (14016, 105830) and data type int64",
     "output_type": "error",
     "traceback": [
      "\u001b[31m---------------------------------------------------------------------------\u001b[39m",
      "\u001b[31mMemoryError\u001b[39m                               Traceback (most recent call last)",
      "\u001b[36mCell\u001b[39m\u001b[36m \u001b[39m\u001b[32mIn[118]\u001b[39m\u001b[32m, line 4\u001b[39m\n\u001b[32m      1\u001b[39m \u001b[38;5;28;01mfrom\u001b[39;00m\u001b[38;5;250m \u001b[39m\u001b[34;01msklearn\u001b[39;00m\u001b[34;01m.\u001b[39;00m\u001b[34;01mfeature_extraction\u001b[39;00m\u001b[34;01m.\u001b[39;00m\u001b[34;01mtext\u001b[39;00m\u001b[38;5;250m \u001b[39m\u001b[38;5;28;01mimport\u001b[39;00m CountVectorizer\n\u001b[32m      3\u001b[39m cv_full = CountVectorizer()\n\u001b[32m----> \u001b[39m\u001b[32m4\u001b[39m X = \u001b[43mcv_full\u001b[49m\u001b[43m.\u001b[49m\u001b[43mfit_transform\u001b[49m\u001b[43m(\u001b[49m\u001b[43mcombined_dataset\u001b[49m\u001b[43m[\u001b[49m\u001b[33;43m\"\u001b[39;49m\u001b[33;43moverall_detail\u001b[39;49m\u001b[33;43m\"\u001b[39;49m\u001b[43m]\u001b[49m\u001b[43m)\u001b[49m\u001b[43m.\u001b[49m\u001b[43mtoarray\u001b[49m\u001b[43m(\u001b[49m\u001b[43m)\u001b[49m\n",
      "\u001b[36mFile \u001b[39m\u001b[32mC:\\Program Files\\Python312\\Lib\\site-packages\\scipy\\sparse\\_compressed.py:1170\u001b[39m, in \u001b[36m_cs_matrix.toarray\u001b[39m\u001b[34m(self, order, out)\u001b[39m\n\u001b[32m   1168\u001b[39m \u001b[38;5;28;01mif\u001b[39;00m out \u001b[38;5;129;01mis\u001b[39;00m \u001b[38;5;28;01mNone\u001b[39;00m \u001b[38;5;129;01mand\u001b[39;00m order \u001b[38;5;129;01mis\u001b[39;00m \u001b[38;5;28;01mNone\u001b[39;00m:\n\u001b[32m   1169\u001b[39m     order = \u001b[38;5;28mself\u001b[39m._swap(\u001b[33m'\u001b[39m\u001b[33mcf\u001b[39m\u001b[33m'\u001b[39m)[\u001b[32m0\u001b[39m]\n\u001b[32m-> \u001b[39m\u001b[32m1170\u001b[39m out = \u001b[38;5;28;43mself\u001b[39;49m\u001b[43m.\u001b[49m\u001b[43m_process_toarray_args\u001b[49m\u001b[43m(\u001b[49m\u001b[43morder\u001b[49m\u001b[43m,\u001b[49m\u001b[43m \u001b[49m\u001b[43mout\u001b[49m\u001b[43m)\u001b[49m\n\u001b[32m   1171\u001b[39m \u001b[38;5;28;01mif\u001b[39;00m \u001b[38;5;129;01mnot\u001b[39;00m (out.flags.c_contiguous \u001b[38;5;129;01mor\u001b[39;00m out.flags.f_contiguous):\n\u001b[32m   1172\u001b[39m     \u001b[38;5;28;01mraise\u001b[39;00m \u001b[38;5;167;01mValueError\u001b[39;00m(\u001b[33m'\u001b[39m\u001b[33mOutput array must be C or F contiguous\u001b[39m\u001b[33m'\u001b[39m)\n",
      "\u001b[36mFile \u001b[39m\u001b[32mC:\\Program Files\\Python312\\Lib\\site-packages\\scipy\\sparse\\_base.py:1367\u001b[39m, in \u001b[36m_spbase._process_toarray_args\u001b[39m\u001b[34m(self, order, out)\u001b[39m\n\u001b[32m   1365\u001b[39m     \u001b[38;5;28;01mreturn\u001b[39;00m out\n\u001b[32m   1366\u001b[39m \u001b[38;5;28;01melse\u001b[39;00m:\n\u001b[32m-> \u001b[39m\u001b[32m1367\u001b[39m     \u001b[38;5;28;01mreturn\u001b[39;00m \u001b[43mnp\u001b[49m\u001b[43m.\u001b[49m\u001b[43mzeros\u001b[49m\u001b[43m(\u001b[49m\u001b[38;5;28;43mself\u001b[39;49m\u001b[43m.\u001b[49m\u001b[43mshape\u001b[49m\u001b[43m,\u001b[49m\u001b[43m \u001b[49m\u001b[43mdtype\u001b[49m\u001b[43m=\u001b[49m\u001b[38;5;28;43mself\u001b[39;49m\u001b[43m.\u001b[49m\u001b[43mdtype\u001b[49m\u001b[43m,\u001b[49m\u001b[43m \u001b[49m\u001b[43morder\u001b[49m\u001b[43m=\u001b[49m\u001b[43morder\u001b[49m\u001b[43m)\u001b[49m\n",
      "\u001b[31mMemoryError\u001b[39m: Unable to allocate 11.1 GiB for an array with shape (14016, 105830) and data type int64"
     ]
    }
   ],
   "source": [
    "from sklearn.feature_extraction.text import CountVectorizer\n",
    "\n",
    "cv_full = CountVectorizer()\n",
    "X = cv_full.fit_transform(combined_dataset[\"overall_detail\"]).toarray()"
   ]
  },
  {
   "cell_type": "code",
   "execution_count": null,
   "metadata": {
    "id": "G7NpdeE9aywG"
   },
   "outputs": [],
   "source": [
    "similar_movies, scores, similarity_scores = get_similar_article(combined_dataset[\"overall_detail\"][1], cv_full, X, combined_dataset)\n",
    "print(scores)\n",
    "similar_movies"
   ]
  },
  {
   "cell_type": "markdown",
   "metadata": {
    "id": "jFBF58Ien7Zj"
   },
   "source": [
    "# Use suprise library (collaborative filtering models) to save space (do not run now)"
   ]
  },
  {
   "cell_type": "code",
   "execution_count": null,
   "metadata": {
    "id": "UICAIUqQoB3H"
   },
   "outputs": [],
   "source": [
    "!pip install surprise"
   ]
  },
  {
   "cell_type": "code",
   "execution_count": null,
   "metadata": {
    "id": "LoxLSgODypH_"
   },
   "outputs": [],
   "source": [
    "from surprise import Reader, Dataset\n",
    "from surprise.model_selection import train_test_split, cross_validate, GridSearchCV\n",
    "from surprise import KNNBasic, KNNWithMeans, KNNWithZScore, KNNBaseline, SVD\n",
    "from surprise import accuracy\n",
    "import random"
   ]
  },
  {
   "cell_type": "markdown",
   "metadata": {
    "id": "0sw-uUHKzebp"
   },
   "source": [
    "## Building the test and train dataset"
   ]
  },
  {
   "cell_type": "code",
   "execution_count": null,
   "metadata": {
    "id": "gb17z0ApyqVv"
   },
   "outputs": [],
   "source": [
    "reader = Reader(rating_scale=(0, 5))\n",
    "data   = Dataset.load_from_df(df[['userId','title','rating']], reader)\n",
    "raw_ratings = data.raw_ratings\n",
    "\n",
    "random.shuffle(raw_ratings)\n",
    "\n",
    "threshold   = int(len(raw_ratings)*0.8)\n",
    "\n",
    "train_raw_ratings = raw_ratings[:threshold]\n",
    "test_raw_ratings  = raw_ratings[threshold:]\n",
    "\n",
    "data.raw_ratings = train_raw_ratings        # data is now the trainset\n",
    "trainset = data.build_full_trainset()\n",
    "testset = data.construct_testset(test_raw_ratings)"
   ]
  },
  {
   "cell_type": "markdown",
   "metadata": {
    "id": "3jrjJ6LBzzeN"
   },
   "source": [
    "## Training 4 models"
   ]
  },
  {
   "cell_type": "code",
   "execution_count": null,
   "metadata": {
    "id": "fDno1DKnzd0q"
   },
   "outputs": [],
   "source": [
    "models=[KNNBasic(),KNNWithMeans(),KNNWithZScore(),SVD()]\n",
    "results = {}\n",
    "\n",
    "for model in models:\n",
    "    CV_scores = cross_validate(model, data, measures=[\"MAE\",\"RMSE\"], cv=5, n_jobs=-1)\n",
    "\n",
    "    result = pd.DataFrame.from_dict(CV_scores).mean(axis=0)\n",
    "    results[str(model).split(\"algorithms.\")[1].split(\"object \")[0]] = result"
   ]
  },
  {
   "cell_type": "code",
   "execution_count": null,
   "metadata": {
    "id": "7frEy7qqzswK"
   },
   "outputs": [],
   "source": [
    "performance_df = pd.DataFrame.from_dict(results)\n",
    "print(\"Model Performance: /n\")\n",
    "performance_df.T.sort_values(by='test_rmse')"
   ]
  },
  {
   "cell_type": "markdown",
   "metadata": {
    "id": "Zx8w3EDnlZa5"
   },
   "source": [
    "### grid search for hyperparameter tuning for knn with mmeans"
   ]
  },
  {
   "cell_type": "code",
   "execution_count": null,
   "metadata": {
    "id": "9NfAb3GFlZBL"
   },
   "outputs": [],
   "source": [
    "param_grid = { 'sim_options' : {'min_support': [3,5],\n",
    "                                'user_based': [False, True]}\n",
    "             }\n",
    "\n",
    "gridsearchKNNWithMeans = GridSearchCV(KNNWithMeans,\n",
    "                                      param_grid = param_grid,\n",
    "                                      measures=['mae', 'rmse'],\n",
    "                                      cv=5,\n",
    "                                      n_jobs=-1)\n",
    "\n",
    "gridsearchKNNWithMeans.fit(data)\n",
    "\n",
    "print(f'MAE Best Parameters:  {gridsearchKNNWithMeans.best_params[\"mae\"]}')\n",
    "print(f'MAE Best Score:       {gridsearchKNNWithMeans.best_score[\"mae\"]}/n')\n",
    "\n",
    "print(f'RMSE Best Parameters: {gridsearchKNNWithMeans.best_params[\"rmse\"]}')\n",
    "print(f'RMSE Best Score:      {gridsearchKNNWithMeans.best_score[\"rmse\"]}/n')\n",
    "best_params_knn = gridsearchKNNWithMeans.best_params[\"rmse\"]"
   ]
  },
  {
   "cell_type": "markdown",
   "metadata": {
    "id": "M6MGOqkbpa1e"
   },
   "source": [
    "### hyperparameter tuning for svd model using gridsearch"
   ]
  },
  {
   "cell_type": "code",
   "execution_count": null,
   "metadata": {
    "id": "hINxyFS_papU"
   },
   "outputs": [],
   "source": [
    "param_grid = {\"n_factors\": range(10,100,20),\n",
    "              \"n_epochs\" : [5, 10, 20],\n",
    "              \"lr_all\"   : [0.002, 0.005],\n",
    "              \"reg_all\"  : [0.2, 0.5]}\n",
    "\n",
    "gridsearchSVD = GridSearchCV(SVD, param_grid, measures=['mae', 'rmse'], cv=5, n_jobs=-1)\n",
    "\n",
    "gridsearchSVD.fit(data)\n",
    "\n",
    "print(f'MAE Best Parameters:  {gridsearchSVD.best_params[\"mae\"]}')\n",
    "print(f'MAE Best Score:       {gridsearchSVD.best_score[\"mae\"]}/n')\n",
    "\n",
    "print(f'RMSE Best Parameters: {gridsearchSVD.best_params[\"rmse\"]}')\n",
    "print(f'RMSE Best Score:      {gridsearchSVD.best_score[\"rmse\"]}/n')\n",
    "best_params_svd = gridsearchSVD.best_params[\"rmse\"]"
   ]
  },
  {
   "cell_type": "markdown",
   "metadata": {
    "id": "LtFsF-XP0YVV"
   },
   "source": [
    "## Getting predictions from svd algorithm"
   ]
  },
  {
   "cell_type": "code",
   "execution_count": null,
   "metadata": {
    "id": "8QIRXAjRqvDe"
   },
   "outputs": [],
   "source": [
    "def generate_recommendationsSVD(userID, get_recommend =10):\n",
    "    model = SVD(**best_params_svd)\n",
    "    model.fit(trainset)\n",
    "    testset = trainset.build_anti_testset()\n",
    "    predictions = model.test(testset)\n",
    "    predictions_df = pd.DataFrame(predictions)\n",
    "    predictions_userID = predictions_df[predictions_df['uid'] == userID].sort_values(by=\"est\", ascending = False).head(get_recommend)\n",
    "\n",
    "    recommendations = []\n",
    "    recommendations.append(list(predictions_userID['iid']))\n",
    "    recommendations = recommendations[0]\n",
    "\n",
    "    return(recommendations)"
   ]
  },
  {
   "cell_type": "code",
   "execution_count": null,
   "metadata": {
    "id": "6Xz4dLS3rUS7"
   },
   "outputs": [],
   "source": [
    "recom = generate_recommendationsSVD(11676)\n",
    "recom"
   ]
  }
 ],
 "metadata": {
  "colab": {
   "collapsed_sections": [
    "qgTgOi0_27Pj",
    "IZFKDpoK3NrT",
    "M2mUGiHoE4Ic",
    "6hVsty_24kBk",
    "SyXF_VUy2HFr",
    "9ZXUpecI2ShC",
    "wxoFXXNbaMiY",
    "Nc8EIXSYcRkW",
    "ID5ZbuBr4lRF",
    "e6zneYDGKqwj",
    "EAPhqiERz9Px",
    "12hxQidogigW",
    "RMgEwRvy0BYJ",
    "oFHQngyJ9GQT",
    "Dq4ktLmh9oFz",
    "OI5FypRZ4nf-",
    "8D1-n-kmi7Iw",
    "DZMIR5lj5dJV",
    "CXOje6d9SGVS",
    "-F98nBvYXeSQ",
    "npmV5kHOFLXL",
    "I9AhOY1gGDcG",
    "lPpdK2jC8Qix",
    "vrtbkFyC-TIg",
    "gNTKbMFNwKvf",
    "boxzOsXu3YO4",
    "t6KloLir9lwM",
    "jFBF58Ien7Zj",
    "Zx8w3EDnlZa5",
    "M6MGOqkbpa1e"
   ],
   "provenance": []
  },
  "kernelspec": {
   "display_name": "Python 3 (ipykernel)",
   "language": "python",
   "name": "python3"
  },
  "language_info": {
   "codemirror_mode": {
    "name": "ipython",
    "version": 3
   },
   "file_extension": ".py",
   "mimetype": "text/x-python",
   "name": "python",
   "nbconvert_exporter": "python",
   "pygments_lexer": "ipython3",
   "version": "3.12.0"
  }
 },
 "nbformat": 4,
 "nbformat_minor": 4
}
